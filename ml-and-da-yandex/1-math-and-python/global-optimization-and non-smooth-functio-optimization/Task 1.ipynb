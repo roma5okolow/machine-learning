import math
import numpy as np
from scipy.optimize import minimize
 

def f (x):
    return math.sin(x / 5) * math.exp(x / 10) + 5 * math.exp(-x / 2)

x0 = np.ndarray([1])
res = minimize(f, x0)
