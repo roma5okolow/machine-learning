{
 "cells": [
  {
   "cell_type": "code",
   "execution_count": 2,
   "id": "3e935320",
   "metadata": {},
   "outputs": [],
   "source": [
    "import re\n",
    "with open (\"sentences.txt\", 'r') as f:\n",
    "    L = []\n",
    "    for line in f:\n",
    "        L.append(re.split('[^a-z]', line.lower()))"
   ]
  },
  {
   "cell_type": "code",
   "execution_count": 3,
   "id": "14cde616",
   "metadata": {},
   "outputs": [
    {
     "name": "stdout",
     "output_type": "stream",
     "text": [
      "[['in', 'comparison', 'to', 'dogs', '', 'cats', 'have', 'not', 'undergone', 'major', 'changes', 'during', 'the', 'domestication', 'process', '', ''], ['as', 'cat', 'simply', 'catenates', 'streams', 'of', 'bytes', '', 'it', 'can', 'be', 'also', 'used', 'to', 'concatenate', 'binary', 'files', '', 'where', 'it', 'will', 'just', 'concatenate', 'sequence', 'of', 'bytes', '', ''], ['a', 'common', 'interactive', 'use', 'of', 'cat', 'for', 'a', 'single', 'file', 'is', 'to', 'output', 'the', 'content', 'of', 'a', 'file', 'to', 'standard', 'output', '', ''], ['cats', 'can', 'hear', 'sounds', 'too', 'faint', 'or', 'too', 'high', 'in', 'frequency', 'for', 'human', 'ears', '', 'such', 'as', 'those', 'made', 'by', 'mice', 'and', 'other', 'small', 'animals', '', ''], ['in', 'one', '', 'people', 'deliberately', 'tamed', 'cats', 'in', 'a', 'process', 'of', 'artificial', 'selection', '', 'as', 'they', 'were', 'useful', 'predators', 'of', 'vermin', '', ''], ['the', 'domesticated', 'cat', 'and', 'its', 'closest', 'wild', 'ancestor', 'are', 'both', 'diploid', 'organisms', 'that', 'possess', '', '', '', 'chromosomes', 'and', 'roughly', '', '', '', '', '', '', '', 'genes', '', ''], ['domestic', 'cats', 'are', 'similar', 'in', 'size', 'to', 'the', 'other', 'members', 'of', 'the', 'genus', 'felis', '', 'typically', 'weighing', 'between', '', '', 'and', '', '', 'kg', '', '', '', '', '', 'and', '', '', '', '', '', 'lb', '', '', ''], ['however', '', 'if', 'the', 'output', 'is', 'piped', 'or', 'redirected', '', 'cat', 'is', 'unnecessary', '', ''], ['cat', 'with', 'one', 'named', 'file', 'is', 'safer', 'where', 'human', 'error', 'is', 'a', 'concern', '', '', 'one', 'wrong', 'use', 'of', 'the', 'default', 'redirection', 'symbol', '', '', '', '', 'instead', 'of', '', '', '', '', '', 'often', 'adjacent', 'on', 'keyboards', '', 'may', 'permanently', 'delete', 'the', 'file', 'you', 'were', 'just', 'needing', 'to', 'read', '', ''], ['in', 'terms', 'of', 'legibility', '', 'a', 'sequence', 'of', 'commands', 'starting', 'with', 'cat', 'and', 'connected', 'by', 'pipes', 'has', 'a', 'clear', 'left', 'to', 'right', 'flow', 'of', 'information', '', ''], ['cat', 'command', 'is', 'one', 'of', 'the', 'basic', 'commands', 'that', 'you', 'learned', 'when', 'you', 'started', 'in', 'the', 'unix', '', '', 'linux', 'world', '', ''], ['using', 'cat', 'command', '', 'the', 'lines', 'received', 'from', 'stdin', 'can', 'be', 'redirected', 'to', 'a', 'new', 'file', 'using', 'redirection', 'symbols', '', ''], ['when', 'you', 'type', 'simply', 'cat', 'command', 'without', 'any', 'arguments', '', 'it', 'just', 'receives', 'the', 'stdin', 'content', 'and', 'displays', 'it', 'in', 'the', 'stdout', '', ''], ['leopard', 'was', 'released', 'on', 'october', '', '', '', '', '', '', '', '', '', 'as', 'the', 'successor', 'of', 'tiger', '', 'version', '', '', '', '', '', '', '', 'and', 'is', 'available', 'in', 'two', 'editions', '', ''], ['according', 'to', 'apple', '', 'leopard', 'contains', 'over', '', '', '', '', 'changes', 'and', 'enhancements', 'over', 'its', 'predecessor', '', 'mac', 'os', 'x', 'tiger', '', ''], ['as', 'of', 'mid', '', '', '', '', '', '', 'some', 'apple', 'computers', 'have', 'firmware', 'factory', 'installed', 'which', 'will', 'no', 'longer', 'allow', 'installation', 'of', 'mac', 'os', 'x', 'leopard', '', ''], ['since', 'apple', 'moved', 'to', 'using', 'intel', 'processors', 'in', 'their', 'computers', '', 'the', 'osx', '', '', 'community', 'has', 'developed', 'and', 'now', 'also', 'allows', 'mac', 'os', 'x', 'tiger', 'and', 'later', 'releases', 'to', 'be', 'installed', 'on', 'non', 'apple', 'x', '', '', 'based', 'computers', '', ''], ['os', 'x', 'mountain', 'lion', 'was', 'released', 'on', 'july', '', '', '', '', '', '', '', '', '', 'for', 'purchase', 'and', 'download', 'through', 'apple', 's', 'mac', 'app', 'store', '', 'as', 'part', 'of', 'a', 'switch', 'to', 'releasing', 'os', 'x', 'versions', 'online', 'and', 'every', 'year', '', ''], ['apple', 'has', 'released', 'a', 'small', 'patch', 'for', 'the', 'three', 'most', 'recent', 'versions', 'of', 'safari', 'running', 'on', 'os', 'x', 'yosemite', '', 'mavericks', '', 'and', 'mountain', 'lion', '', ''], ['the', 'mountain', 'lion', 'release', 'marks', 'the', 'second', 'time', 'apple', 'has', 'offered', 'an', 'incremental', 'upgrade', '', 'rather', 'than', 'releasing', 'a', 'new', 'cat', 'entirely', '', ''], ['mac', 'os', 'x', 'mountain', 'lion', 'installs', 'in', 'place', '', 'so', 'you', 'won', 't', 'need', 'to', 'create', 'a', 'separate', 'disk', 'or', 'run', 'the', 'installation', 'off', 'an', 'external', 'drive', '', ''], ['the', 'fifth', 'major', 'update', 'to', 'mac', 'os', 'x', '', 'leopard', '', 'contains', 'such', 'a', 'mountain', 'of', 'features', '', '', 'more', 'than', '', '', '', '', 'by', 'apple', 's', 'count', '', '']]\n"
     ]
    }
   ],
   "source": [
    "print (L)"
   ]
  },
  {
   "cell_type": "code",
   "execution_count": 4,
   "id": "aa28b357",
   "metadata": {},
   "outputs": [
    {
     "data": {
      "text/plain": [
       "list"
      ]
     },
     "execution_count": 4,
     "metadata": {},
     "output_type": "execute_result"
    }
   ],
   "source": [
    "type(L)"
   ]
  },
  {
   "cell_type": "code",
   "execution_count": 5,
   "id": "af99a0ab",
   "metadata": {},
   "outputs": [],
   "source": [
    "COPY = []\n",
    "for line in L:\n",
    "    copy = []\n",
    "    for str in line:\n",
    "        if (str != ''):\n",
    "            copy.append(str)\n",
    "    COPY.append(copy)\n",
    "L = COPY"
   ]
  },
  {
   "cell_type": "code",
   "execution_count": 6,
   "id": "00925745",
   "metadata": {},
   "outputs": [
    {
     "name": "stdout",
     "output_type": "stream",
     "text": [
      "[['in', 'comparison', 'to', 'dogs', 'cats', 'have', 'not', 'undergone', 'major', 'changes', 'during', 'the', 'domestication', 'process'], ['as', 'cat', 'simply', 'catenates', 'streams', 'of', 'bytes', 'it', 'can', 'be', 'also', 'used', 'to', 'concatenate', 'binary', 'files', 'where', 'it', 'will', 'just', 'concatenate', 'sequence', 'of', 'bytes'], ['a', 'common', 'interactive', 'use', 'of', 'cat', 'for', 'a', 'single', 'file', 'is', 'to', 'output', 'the', 'content', 'of', 'a', 'file', 'to', 'standard', 'output'], ['cats', 'can', 'hear', 'sounds', 'too', 'faint', 'or', 'too', 'high', 'in', 'frequency', 'for', 'human', 'ears', 'such', 'as', 'those', 'made', 'by', 'mice', 'and', 'other', 'small', 'animals'], ['in', 'one', 'people', 'deliberately', 'tamed', 'cats', 'in', 'a', 'process', 'of', 'artificial', 'selection', 'as', 'they', 'were', 'useful', 'predators', 'of', 'vermin'], ['the', 'domesticated', 'cat', 'and', 'its', 'closest', 'wild', 'ancestor', 'are', 'both', 'diploid', 'organisms', 'that', 'possess', 'chromosomes', 'and', 'roughly', 'genes'], ['domestic', 'cats', 'are', 'similar', 'in', 'size', 'to', 'the', 'other', 'members', 'of', 'the', 'genus', 'felis', 'typically', 'weighing', 'between', 'and', 'kg', 'and', 'lb'], ['however', 'if', 'the', 'output', 'is', 'piped', 'or', 'redirected', 'cat', 'is', 'unnecessary'], ['cat', 'with', 'one', 'named', 'file', 'is', 'safer', 'where', 'human', 'error', 'is', 'a', 'concern', 'one', 'wrong', 'use', 'of', 'the', 'default', 'redirection', 'symbol', 'instead', 'of', 'often', 'adjacent', 'on', 'keyboards', 'may', 'permanently', 'delete', 'the', 'file', 'you', 'were', 'just', 'needing', 'to', 'read'], ['in', 'terms', 'of', 'legibility', 'a', 'sequence', 'of', 'commands', 'starting', 'with', 'cat', 'and', 'connected', 'by', 'pipes', 'has', 'a', 'clear', 'left', 'to', 'right', 'flow', 'of', 'information'], ['cat', 'command', 'is', 'one', 'of', 'the', 'basic', 'commands', 'that', 'you', 'learned', 'when', 'you', 'started', 'in', 'the', 'unix', 'linux', 'world'], ['using', 'cat', 'command', 'the', 'lines', 'received', 'from', 'stdin', 'can', 'be', 'redirected', 'to', 'a', 'new', 'file', 'using', 'redirection', 'symbols'], ['when', 'you', 'type', 'simply', 'cat', 'command', 'without', 'any', 'arguments', 'it', 'just', 'receives', 'the', 'stdin', 'content', 'and', 'displays', 'it', 'in', 'the', 'stdout'], ['leopard', 'was', 'released', 'on', 'october', 'as', 'the', 'successor', 'of', 'tiger', 'version', 'and', 'is', 'available', 'in', 'two', 'editions'], ['according', 'to', 'apple', 'leopard', 'contains', 'over', 'changes', 'and', 'enhancements', 'over', 'its', 'predecessor', 'mac', 'os', 'x', 'tiger'], ['as', 'of', 'mid', 'some', 'apple', 'computers', 'have', 'firmware', 'factory', 'installed', 'which', 'will', 'no', 'longer', 'allow', 'installation', 'of', 'mac', 'os', 'x', 'leopard'], ['since', 'apple', 'moved', 'to', 'using', 'intel', 'processors', 'in', 'their', 'computers', 'the', 'osx', 'community', 'has', 'developed', 'and', 'now', 'also', 'allows', 'mac', 'os', 'x', 'tiger', 'and', 'later', 'releases', 'to', 'be', 'installed', 'on', 'non', 'apple', 'x', 'based', 'computers'], ['os', 'x', 'mountain', 'lion', 'was', 'released', 'on', 'july', 'for', 'purchase', 'and', 'download', 'through', 'apple', 's', 'mac', 'app', 'store', 'as', 'part', 'of', 'a', 'switch', 'to', 'releasing', 'os', 'x', 'versions', 'online', 'and', 'every', 'year'], ['apple', 'has', 'released', 'a', 'small', 'patch', 'for', 'the', 'three', 'most', 'recent', 'versions', 'of', 'safari', 'running', 'on', 'os', 'x', 'yosemite', 'mavericks', 'and', 'mountain', 'lion'], ['the', 'mountain', 'lion', 'release', 'marks', 'the', 'second', 'time', 'apple', 'has', 'offered', 'an', 'incremental', 'upgrade', 'rather', 'than', 'releasing', 'a', 'new', 'cat', 'entirely'], ['mac', 'os', 'x', 'mountain', 'lion', 'installs', 'in', 'place', 'so', 'you', 'won', 't', 'need', 'to', 'create', 'a', 'separate', 'disk', 'or', 'run', 'the', 'installation', 'off', 'an', 'external', 'drive'], ['the', 'fifth', 'major', 'update', 'to', 'mac', 'os', 'x', 'leopard', 'contains', 'such', 'a', 'mountain', 'of', 'features', 'more', 'than', 'by', 'apple', 's', 'count']]\n"
     ]
    }
   ],
   "source": [
    "print (L)"
   ]
  },
  {
   "cell_type": "code",
   "execution_count": 12,
   "id": "29026390",
   "metadata": {},
   "outputs": [],
   "source": [
    "words_list = dict()\n",
    "index = 0\n",
    "for line in L:\n",
    "    for word in line:\n",
    "        if word in words_list.keys():\n",
    "             continue\n",
    "        words_list[word] = index\n",
    "        index += 1\n"
   ]
  },
  {
   "cell_type": "code",
   "execution_count": 13,
   "id": "28161672",
   "metadata": {},
   "outputs": [
    {
     "data": {
      "text/plain": [
       "{'in': 0,\n",
       " 'comparison': 1,\n",
       " 'to': 2,\n",
       " 'dogs': 3,\n",
       " 'cats': 4,\n",
       " 'have': 5,\n",
       " 'not': 6,\n",
       " 'undergone': 7,\n",
       " 'major': 8,\n",
       " 'changes': 9,\n",
       " 'during': 10,\n",
       " 'the': 11,\n",
       " 'domestication': 12,\n",
       " 'process': 13,\n",
       " 'as': 14,\n",
       " 'cat': 15,\n",
       " 'simply': 16,\n",
       " 'catenates': 17,\n",
       " 'streams': 18,\n",
       " 'of': 19,\n",
       " 'bytes': 20,\n",
       " 'it': 21,\n",
       " 'can': 22,\n",
       " 'be': 23,\n",
       " 'also': 24,\n",
       " 'used': 25,\n",
       " 'concatenate': 26,\n",
       " 'binary': 27,\n",
       " 'files': 28,\n",
       " 'where': 29,\n",
       " 'will': 30,\n",
       " 'just': 31,\n",
       " 'sequence': 32,\n",
       " 'a': 33,\n",
       " 'common': 34,\n",
       " 'interactive': 35,\n",
       " 'use': 36,\n",
       " 'for': 37,\n",
       " 'single': 38,\n",
       " 'file': 39,\n",
       " 'is': 40,\n",
       " 'output': 41,\n",
       " 'content': 42,\n",
       " 'standard': 43,\n",
       " 'hear': 44,\n",
       " 'sounds': 45,\n",
       " 'too': 46,\n",
       " 'faint': 47,\n",
       " 'or': 48,\n",
       " 'high': 49,\n",
       " 'frequency': 50,\n",
       " 'human': 51,\n",
       " 'ears': 52,\n",
       " 'such': 53,\n",
       " 'those': 54,\n",
       " 'made': 55,\n",
       " 'by': 56,\n",
       " 'mice': 57,\n",
       " 'and': 58,\n",
       " 'other': 59,\n",
       " 'small': 60,\n",
       " 'animals': 61,\n",
       " 'one': 62,\n",
       " 'people': 63,\n",
       " 'deliberately': 64,\n",
       " 'tamed': 65,\n",
       " 'artificial': 66,\n",
       " 'selection': 67,\n",
       " 'they': 68,\n",
       " 'were': 69,\n",
       " 'useful': 70,\n",
       " 'predators': 71,\n",
       " 'vermin': 72,\n",
       " 'domesticated': 73,\n",
       " 'its': 74,\n",
       " 'closest': 75,\n",
       " 'wild': 76,\n",
       " 'ancestor': 77,\n",
       " 'are': 78,\n",
       " 'both': 79,\n",
       " 'diploid': 80,\n",
       " 'organisms': 81,\n",
       " 'that': 82,\n",
       " 'possess': 83,\n",
       " 'chromosomes': 84,\n",
       " 'roughly': 85,\n",
       " 'genes': 86,\n",
       " 'domestic': 87,\n",
       " 'similar': 88,\n",
       " 'size': 89,\n",
       " 'members': 90,\n",
       " 'genus': 91,\n",
       " 'felis': 92,\n",
       " 'typically': 93,\n",
       " 'weighing': 94,\n",
       " 'between': 95,\n",
       " 'kg': 96,\n",
       " 'lb': 97,\n",
       " 'however': 98,\n",
       " 'if': 99,\n",
       " 'piped': 100,\n",
       " 'redirected': 101,\n",
       " 'unnecessary': 102,\n",
       " 'with': 103,\n",
       " 'named': 104,\n",
       " 'safer': 105,\n",
       " 'error': 106,\n",
       " 'concern': 107,\n",
       " 'wrong': 108,\n",
       " 'default': 109,\n",
       " 'redirection': 110,\n",
       " 'symbol': 111,\n",
       " 'instead': 112,\n",
       " 'often': 113,\n",
       " 'adjacent': 114,\n",
       " 'on': 115,\n",
       " 'keyboards': 116,\n",
       " 'may': 117,\n",
       " 'permanently': 118,\n",
       " 'delete': 119,\n",
       " 'you': 120,\n",
       " 'needing': 121,\n",
       " 'read': 122,\n",
       " 'terms': 123,\n",
       " 'legibility': 124,\n",
       " 'commands': 125,\n",
       " 'starting': 126,\n",
       " 'connected': 127,\n",
       " 'pipes': 128,\n",
       " 'has': 129,\n",
       " 'clear': 130,\n",
       " 'left': 131,\n",
       " 'right': 132,\n",
       " 'flow': 133,\n",
       " 'information': 134,\n",
       " 'command': 135,\n",
       " 'basic': 136,\n",
       " 'learned': 137,\n",
       " 'when': 138,\n",
       " 'started': 139,\n",
       " 'unix': 140,\n",
       " 'linux': 141,\n",
       " 'world': 142,\n",
       " 'using': 143,\n",
       " 'lines': 144,\n",
       " 'received': 145,\n",
       " 'from': 146,\n",
       " 'stdin': 147,\n",
       " 'new': 148,\n",
       " 'symbols': 149,\n",
       " 'type': 150,\n",
       " 'without': 151,\n",
       " 'any': 152,\n",
       " 'arguments': 153,\n",
       " 'receives': 154,\n",
       " 'displays': 155,\n",
       " 'stdout': 156,\n",
       " 'leopard': 157,\n",
       " 'was': 158,\n",
       " 'released': 159,\n",
       " 'october': 160,\n",
       " 'successor': 161,\n",
       " 'tiger': 162,\n",
       " 'version': 163,\n",
       " 'available': 164,\n",
       " 'two': 165,\n",
       " 'editions': 166,\n",
       " 'according': 167,\n",
       " 'apple': 168,\n",
       " 'contains': 169,\n",
       " 'over': 170,\n",
       " 'enhancements': 171,\n",
       " 'predecessor': 172,\n",
       " 'mac': 173,\n",
       " 'os': 174,\n",
       " 'x': 175,\n",
       " 'mid': 176,\n",
       " 'some': 177,\n",
       " 'computers': 178,\n",
       " 'firmware': 179,\n",
       " 'factory': 180,\n",
       " 'installed': 181,\n",
       " 'which': 182,\n",
       " 'no': 183,\n",
       " 'longer': 184,\n",
       " 'allow': 185,\n",
       " 'installation': 186,\n",
       " 'since': 187,\n",
       " 'moved': 188,\n",
       " 'intel': 189,\n",
       " 'processors': 190,\n",
       " 'their': 191,\n",
       " 'osx': 192,\n",
       " 'community': 193,\n",
       " 'developed': 194,\n",
       " 'now': 195,\n",
       " 'allows': 196,\n",
       " 'later': 197,\n",
       " 'releases': 198,\n",
       " 'non': 199,\n",
       " 'based': 200,\n",
       " 'mountain': 201,\n",
       " 'lion': 202,\n",
       " 'july': 203,\n",
       " 'purchase': 204,\n",
       " 'download': 205,\n",
       " 'through': 206,\n",
       " 's': 207,\n",
       " 'app': 208,\n",
       " 'store': 209,\n",
       " 'part': 210,\n",
       " 'switch': 211,\n",
       " 'releasing': 212,\n",
       " 'versions': 213,\n",
       " 'online': 214,\n",
       " 'every': 215,\n",
       " 'year': 216,\n",
       " 'patch': 217,\n",
       " 'three': 218,\n",
       " 'most': 219,\n",
       " 'recent': 220,\n",
       " 'safari': 221,\n",
       " 'running': 222,\n",
       " 'yosemite': 223,\n",
       " 'mavericks': 224,\n",
       " 'release': 225,\n",
       " 'marks': 226,\n",
       " 'second': 227,\n",
       " 'time': 228,\n",
       " 'offered': 229,\n",
       " 'an': 230,\n",
       " 'incremental': 231,\n",
       " 'upgrade': 232,\n",
       " 'rather': 233,\n",
       " 'than': 234,\n",
       " 'entirely': 235,\n",
       " 'installs': 236,\n",
       " 'place': 237,\n",
       " 'so': 238,\n",
       " 'won': 239,\n",
       " 't': 240,\n",
       " 'need': 241,\n",
       " 'create': 242,\n",
       " 'separate': 243,\n",
       " 'disk': 244,\n",
       " 'run': 245,\n",
       " 'off': 246,\n",
       " 'external': 247,\n",
       " 'drive': 248,\n",
       " 'fifth': 249,\n",
       " 'update': 250,\n",
       " 'features': 251,\n",
       " 'more': 252,\n",
       " 'count': 253}"
      ]
     },
     "execution_count": 13,
     "metadata": {},
     "output_type": "execute_result"
    }
   ],
   "source": [
    "words_list"
   ]
  },
  {
   "cell_type": "code",
   "execution_count": 14,
   "id": "6236ab6e",
   "metadata": {},
   "outputs": [
    {
     "data": {
      "text/plain": [
       "254"
      ]
     },
     "execution_count": 14,
     "metadata": {},
     "output_type": "execute_result"
    }
   ],
   "source": [
    "len(words_list)"
   ]
  },
  {
   "cell_type": "code",
   "execution_count": 15,
   "id": "09cb63f2",
   "metadata": {},
   "outputs": [
    {
     "data": {
      "text/plain": [
       "22"
      ]
     },
     "execution_count": 15,
     "metadata": {},
     "output_type": "execute_result"
    }
   ],
   "source": [
    "len(L)"
   ]
  },
  {
   "cell_type": "code",
   "execution_count": 49,
   "id": "b5047f34",
   "metadata": {},
   "outputs": [],
   "source": [
    "import numpy as np\n",
    "n = len(L)\n",
    "m = len(words_list)\n",
    "words_freq = np.zeros((n, m))"
   ]
  },
  {
   "cell_type": "code",
   "execution_count": 50,
   "id": "7e9c3350",
   "metadata": {},
   "outputs": [
    {
     "data": {
      "text/plain": [
       "array([[0., 0., 0., ..., 0., 0., 0.],\n",
       "       [0., 0., 0., ..., 0., 0., 0.],\n",
       "       [0., 0., 0., ..., 0., 0., 0.],\n",
       "       ...,\n",
       "       [0., 0., 0., ..., 0., 0., 0.],\n",
       "       [0., 0., 0., ..., 0., 0., 0.],\n",
       "       [0., 0., 0., ..., 0., 0., 0.]])"
      ]
     },
     "execution_count": 50,
     "metadata": {},
     "output_type": "execute_result"
    }
   ],
   "source": [
    "words_freq"
   ]
  },
  {
   "cell_type": "code",
   "execution_count": 51,
   "id": "942ad755",
   "metadata": {},
   "outputs": [
    {
     "name": "stdout",
     "output_type": "stream",
     "text": [
      "[[0. 0. 0. ... 0. 0. 0.]\n",
      " [0. 0. 0. ... 0. 0. 0.]\n",
      " [0. 0. 0. ... 0. 0. 0.]\n",
      " ...\n",
      " [0. 0. 0. ... 0. 0. 0.]\n",
      " [0. 0. 0. ... 0. 0. 0.]\n",
      " [0. 0. 0. ... 0. 0. 0.]]\n"
     ]
    }
   ],
   "source": [
    "print(words_freq)"
   ]
  },
  {
   "cell_type": "code",
   "execution_count": 52,
   "id": "77e9fe5d",
   "metadata": {},
   "outputs": [],
   "source": [
    "i = 0\n",
    "for line in L:\n",
    "    j = 0\n",
    "    for word in words_list.keys():\n",
    "        for k in range (0, len(line)):\n",
    "            if line[k] == word:\n",
    "                words_freq[i, j] += 1\n",
    "        j += 1\n",
    "    i += 1\n",
    "    \n",
    "        \n",
    "        "
   ]
  },
  {
   "cell_type": "code",
   "execution_count": 54,
   "id": "27af720e",
   "metadata": {},
   "outputs": [
    {
     "name": "stdout",
     "output_type": "stream",
     "text": [
      "[[1. 1. 1. ... 0. 0. 0.]\n",
      " [0. 0. 1. ... 0. 0. 0.]\n",
      " [0. 0. 2. ... 0. 0. 0.]\n",
      " ...\n",
      " [0. 0. 0. ... 0. 0. 0.]\n",
      " [1. 0. 1. ... 0. 0. 0.]\n",
      " [0. 0. 1. ... 1. 1. 1.]]\n"
     ]
    }
   ],
   "source": [
    "print(words_freq)"
   ]
  },
  {
   "cell_type": "code",
   "execution_count": 59,
   "id": "81c70fa1",
   "metadata": {},
   "outputs": [
    {
     "data": {
      "text/plain": [
       "array([0., 0., 1., 0., 0., 0., 0., 0., 1., 0., 0., 1., 0., 0., 0., 0., 0.,\n",
       "       0., 0., 1., 0., 0., 0., 0., 0., 0., 0., 0., 0., 0., 0., 0., 0., 1.,\n",
       "       0., 0., 0., 0., 0., 0., 0., 0., 0., 0., 0., 0., 0., 0., 0., 0., 0.,\n",
       "       0., 0., 1., 0., 0., 1., 0., 0., 0., 0., 0., 0., 0., 0., 0., 0., 0.,\n",
       "       0., 0., 0., 0., 0., 0., 0., 0., 0., 0., 0., 0., 0., 0., 0., 0., 0.,\n",
       "       0., 0., 0., 0., 0., 0., 0., 0., 0., 0., 0., 0., 0., 0., 0., 0., 0.,\n",
       "       0., 0., 0., 0., 0., 0., 0., 0., 0., 0., 0., 0., 0., 0., 0., 0., 0.,\n",
       "       0., 0., 0., 0., 0., 0., 0., 0., 0., 0., 0., 0., 0., 0., 0., 0., 0.,\n",
       "       0., 0., 0., 0., 0., 0., 0., 0., 0., 0., 0., 0., 0., 0., 0., 0., 0.,\n",
       "       0., 0., 0., 0., 1., 0., 0., 0., 0., 0., 0., 0., 0., 0., 0., 1., 1.,\n",
       "       0., 0., 0., 1., 1., 1., 0., 0., 0., 0., 0., 0., 0., 0., 0., 0., 0.,\n",
       "       0., 0., 0., 0., 0., 0., 0., 0., 0., 0., 0., 0., 0., 0., 1., 0., 0.,\n",
       "       0., 0., 0., 1., 0., 0., 0., 0., 0., 0., 0., 0., 0., 0., 0., 0., 0.,\n",
       "       0., 0., 0., 0., 0., 0., 0., 0., 0., 0., 0., 0., 0., 1., 0., 0., 0.,\n",
       "       0., 0., 0., 0., 0., 0., 0., 0., 0., 0., 0., 1., 1., 1., 1., 1.])"
      ]
     },
     "execution_count": 59,
     "metadata": {},
     "output_type": "execute_result"
    }
   ],
   "source": []
  },
  {
   "cell_type": "code",
   "execution_count": 69,
   "id": "fc54863c",
   "metadata": {},
   "outputs": [
    {
     "name": "stdout",
     "output_type": "stream",
     "text": [
      "[0.9527544408738466, 0.8644738145642124, 0.8951715163278082, 0.7770887149698589, 0.9402385695332803, 0.7327387580875756, 0.9258750683338899, 0.8842724875284311, 0.9055088817476932, 0.8328165362273942, 0.8804771390665607, 0.8396432548525454, 0.8703592552895671, 0.8740118423302576, 0.9442721787424647, 0.8406361854220809, 0.956644501523794, 0.9442721787424647, 0.8885443574849294, 0.8427572744917122, 0.8250364469440588]\n"
     ]
    }
   ],
   "source": [
    "from scipy.spatial import distance\n",
    "cos_distance = []\n",
    "for i in range (1, n):\n",
    "    dist = distance.cosine(words_freq[0], words_freq[i])\n",
    "    cos_distance.append(dist)\n",
    "print(cos_distance)        "
   ]
  },
  {
   "cell_type": "code",
   "execution_count": 70,
   "id": "890b8b12",
   "metadata": {},
   "outputs": [
    {
     "data": {
      "text/plain": [
       "21"
      ]
     },
     "execution_count": 70,
     "metadata": {},
     "output_type": "execute_result"
    }
   ],
   "source": [
    "len(cos_distance)"
   ]
  },
  {
   "cell_type": "code",
   "execution_count": 71,
   "id": "58e7e3e3",
   "metadata": {},
   "outputs": [
    {
     "data": {
      "text/plain": [
       "0.7327387580875756"
      ]
     },
     "execution_count": 71,
     "metadata": {},
     "output_type": "execute_result"
    }
   ],
   "source": [
    "min(cos_distance)"
   ]
  },
  {
   "cell_type": "code",
   "execution_count": null,
   "id": "762af67e",
   "metadata": {},
   "outputs": [],
   "source": [
    "index_min = np.argmin(cos_distance)"
   ]
  }
 ],
 "metadata": {
  "kernelspec": {
   "display_name": "Python 3",
   "language": "python",
   "name": "python3"
  },
  "language_info": {
   "codemirror_mode": {
    "name": "ipython",
    "version": 3
   },
   "file_extension": ".py",
   "mimetype": "text/x-python",
   "name": "python",
   "nbconvert_exporter": "python",
   "pygments_lexer": "ipython3",
   "version": "3.8.8"
  }
 },
 "nbformat": 4,
 "nbformat_minor": 5
}
