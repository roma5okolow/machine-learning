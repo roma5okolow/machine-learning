{
 "cells": [
  {
   "cell_type": "code",
   "execution_count": 1,
   "id": "0dd6c9a2",
   "metadata": {},
   "outputs": [],
   "source": [
    "import numpy as np"
   ]
  },
  {
   "cell_type": "markdown",
   "id": "de75069c",
   "metadata": {},
   "source": [
    "# Многочлен первой степени"
   ]
  },
  {
   "cell_type": "code",
   "execution_count": 5,
   "id": "4af3d7e0",
   "metadata": {},
   "outputs": [
    {
     "name": "stdout",
     "output_type": "stream",
     "text": [
      "[[ 1  1]\n",
      " [ 1 15]]\n"
     ]
    }
   ],
   "source": [
    "A = np.array([[1, 1], [1, 15]])\n",
    "print(A)"
   ]
  },
  {
   "cell_type": "code",
   "execution_count": 7,
   "id": "7772c5e1",
   "metadata": {},
   "outputs": [],
   "source": [
    "def f (x):\n",
    "    return (np.sin(x / 5) * np.exp(x / 10) + 5 * np.exp(-x / 2))"
   ]
  },
  {
   "cell_type": "code",
   "execution_count": 8,
   "id": "3b4f4900",
   "metadata": {},
   "outputs": [
    {
     "data": {
      "text/plain": [
       "3.252216865271419"
      ]
     },
     "execution_count": 8,
     "metadata": {},
     "output_type": "execute_result"
    }
   ],
   "source": [
    "f(1)"
   ]
  },
  {
   "cell_type": "code",
   "execution_count": 9,
   "id": "59da03bf",
   "metadata": {},
   "outputs": [
    {
     "name": "stdout",
     "output_type": "stream",
     "text": [
      "[3.25221687 0.63522142]\n"
     ]
    }
   ],
   "source": [
    "b = np.array([f(1), f(15)])\n",
    "print(b)"
   ]
  },
  {
   "cell_type": "code",
   "execution_count": 15,
   "id": "964c7820",
   "metadata": {},
   "outputs": [],
   "source": [
    "y = np.linalg.solve(A, b)"
   ]
  },
  {
   "cell_type": "code",
   "execution_count": 16,
   "id": "2e4feb14",
   "metadata": {},
   "outputs": [
    {
     "name": "stdout",
     "output_type": "stream",
     "text": [
      "[ 3.43914511 -0.18692825]\n"
     ]
    }
   ],
   "source": [
    "print(y)"
   ]
  },
  {
   "cell_type": "code",
   "execution_count": 12,
   "id": "00183033",
   "metadata": {},
   "outputs": [],
   "source": [
    "%matplotlib inline"
   ]
  },
  {
   "cell_type": "code",
   "execution_count": 13,
   "id": "a0aa48fb",
   "metadata": {},
   "outputs": [],
   "source": [
    "from matplotlib import pylab as plt"
   ]
  },
  {
   "cell_type": "code",
   "execution_count": 23,
   "id": "f4d12e5b",
   "metadata": {},
   "outputs": [],
   "source": [
    "x = np.linspace(1, 15, 100)\n",
    "f_1 = y[0] + y[1]*x"
   ]
  },
  {
   "cell_type": "code",
   "execution_count": 24,
   "id": "c7ede50b",
   "metadata": {},
   "outputs": [
    {
     "name": "stdout",
     "output_type": "stream",
     "text": [
      "[3.25221687 3.22578257 3.19934827 3.17291397 3.14647968 3.12004538\n",
      " 3.09361108 3.06717678 3.04074249 3.01430819 2.98787389 2.96143959\n",
      " 2.9350053  2.908571   2.8821367  2.8557024  2.82926811 2.80283381\n",
      " 2.77639951 2.74996521 2.72353092 2.69709662 2.67066232 2.64422802\n",
      " 2.61779373 2.59135943 2.56492513 2.53849083 2.51205654 2.48562224\n",
      " 2.45918794 2.43275364 2.40631935 2.37988505 2.35345075 2.32701646\n",
      " 2.30058216 2.27414786 2.24771356 2.22127927 2.19484497 2.16841067\n",
      " 2.14197637 2.11554208 2.08910778 2.06267348 2.03623918 2.00980489\n",
      " 1.98337059 1.95693629 1.93050199 1.9040677  1.8776334  1.8511991\n",
      " 1.8247648  1.79833051 1.77189621 1.74546191 1.71902761 1.69259332\n",
      " 1.66615902 1.63972472 1.61329042 1.58685613 1.56042183 1.53398753\n",
      " 1.50755323 1.48111894 1.45468464 1.42825034 1.40181605 1.37538175\n",
      " 1.34894745 1.32251315 1.29607886 1.26964456 1.24321026 1.21677596\n",
      " 1.19034167 1.16390737 1.13747307 1.11103877 1.08460448 1.05817018\n",
      " 1.03173588 1.00530158 0.97886729 0.95243299 0.92599869 0.89956439\n",
      " 0.8731301  0.8466958  0.8202615  0.7938272  0.76739291 0.74095861\n",
      " 0.71452431 0.68809001 0.66165572 0.63522142]\n"
     ]
    }
   ],
   "source": [
    "print(f_1)"
   ]
  },
  {
   "cell_type": "code",
   "execution_count": 25,
   "id": "7b5db26c",
   "metadata": {},
   "outputs": [
    {
     "data": {
      "image/png": "[encoded data removed]",
      "text/plain": [
       "<Figure size 432x288 with 1 Axes>"
      ]
     },
     "metadata": {
      "needs_background": "light"
     },
     "output_type": "display_data"
    }
   ],
   "source": [
    "plt.plot(x, f_1)\n",
    "plt.show()"
   ]
  },
  {
   "cell_type": "code",
   "execution_count": 26,
   "id": "1c5e4b43",
   "metadata": {},
   "outputs": [],
   "source": [
    "f_0 = f(x)"
   ]
  },
  {
   "cell_type": "code",
   "execution_count": 28,
   "id": "be4886a2",
   "metadata": {},
   "outputs": [
    {
     "name": "stdout",
     "output_type": "stream",
     "text": [
      "[3.25221687 3.07929651 2.92122984 2.77703746 2.6458047  2.5266771\n",
      " 2.41885621 2.32159566 2.23419752 2.15600889 2.08641877 2.02485501\n",
      " 1.97078168 1.9236964  1.88312803 1.8486344  1.81980025 1.7962353\n",
      " 1.77757246 1.76346614 1.75359069 1.74763898 1.74532102 1.74636269\n",
      " 1.75050461 1.75750101 1.76711876 1.77913639 1.79334323 1.80953859\n",
      " 1.82753103 1.84713761 1.86818329 1.8905003  1.91392757 1.93831022\n",
      " 1.96349911 1.98935035 2.0157249  2.04248821 2.06950987 2.09666326\n",
      " 2.12382528 2.15087608 2.17769879 2.20417931 2.23020611 2.25567002\n",
      " 2.28046406 2.30448333 2.32762481 2.34978728 2.37087121 2.39077862\n",
      " 2.40941305 2.42667948 2.44248422 2.45673493 2.46934052 2.48021116\n",
      " 2.48925823 2.49639433 2.50153323 2.50458994 2.50548065 2.5041228\n",
      " 2.50043504 2.49433732 2.48575089 2.47459834 2.46080365 2.44429223\n",
      " 2.42499097 2.40282834 2.37773437 2.34964079 2.31848108 2.28419049\n",
      " 2.24670621 2.20596738 2.16191516 2.1144929  2.06364612 2.00932268\n",
      " 1.95147284 1.89004936 1.82500758 1.75630554 1.68390407 1.60776687\n",
      " 1.52786068 1.44415528 1.35662367 1.26524218 1.16999051 1.07085188\n",
      " 0.96781316 0.86086491 0.75000155 0.63522142]\n"
     ]
    }
   ],
   "source": [
    "print(f_0)"
   ]
  },
  {
   "cell_type": "code",
   "execution_count": 29,
   "id": "58b56054",
   "metadata": {},
   "outputs": [
    {
     "data": {
      "image/png": "[encoded data removed]",
      "text/plain": [
       "<Figure size 432x288 with 1 Axes>"
      ]
     },
     "metadata": {
      "needs_background": "light"
     },
     "output_type": "display_data"
    }
   ],
   "source": [
    "plt.plot(x, f_1)\n",
    "plt.plot(x, f_0)\n",
    "plt.show()"
   ]
  },
  {
   "cell_type": "markdown",
   "id": "b96c22f5",
   "metadata": {},
   "source": [
    "# Многочлен второй степени"
   ]
  },
  {
   "cell_type": "code",
   "execution_count": 31,
   "id": "8335770a",
   "metadata": {},
   "outputs": [
    {
     "name": "stdout",
     "output_type": "stream",
     "text": [
      "[[  1   1   1]\n",
      " [  1   8  64]\n",
      " [  1  15 225]]\n"
     ]
    }
   ],
   "source": [
    "A = np.array([[1, 1, 1], [1, 8, 64], [1, 15, 15*15]])\n",
    "print(A)"
   ]
  },
  {
   "cell_type": "code",
   "execution_count": 37,
   "id": "b9bc6296",
   "metadata": {},
   "outputs": [
    {
     "name": "stdout",
     "output_type": "stream",
     "text": [
      "[3.25221687 2.31617016 0.63522142]\n"
     ]
    }
   ],
   "source": [
    "b = np.array([f(1), f(8), f(15)])\n",
    "print(b)"
   ]
  },
  {
   "cell_type": "code",
   "execution_count": 38,
   "id": "4681c8e8",
   "metadata": {},
   "outputs": [
    {
     "data": {
      "text/plain": [
       "numpy.ndarray"
      ]
     },
     "execution_count": 38,
     "metadata": {},
     "output_type": "execute_result"
    }
   ],
   "source": [
    "type(A)\n",
    "type(b)"
   ]
  },
  {
   "cell_type": "code",
   "execution_count": 39,
   "id": "9f9cec33",
   "metadata": {},
   "outputs": [],
   "source": [
    "y = np.linalg.solve(A, b)"
   ]
  },
  {
   "cell_type": "code",
   "execution_count": 40,
   "id": "94c3870e",
   "metadata": {},
   "outputs": [
    {
     "name": "stdout",
     "output_type": "stream",
     "text": [
      "[ 3.32512949 -0.06531159 -0.00760104]\n"
     ]
    }
   ],
   "source": [
    "print(y)"
   ]
  },
  {
   "cell_type": "code",
   "execution_count": 42,
   "id": "9f3c17f4",
   "metadata": {},
   "outputs": [],
   "source": [
    "x = np.linspace(1, 15, 100)"
   ]
  },
  {
   "cell_type": "code",
   "execution_count": 43,
   "id": "211e2066",
   "metadata": {},
   "outputs": [
    {
     "name": "stdout",
     "output_type": "stream",
     "text": [
      "[ 1.          1.14141414  1.28282828  1.42424242  1.56565657  1.70707071\n",
      "  1.84848485  1.98989899  2.13131313  2.27272727  2.41414141  2.55555556\n",
      "  2.6969697   2.83838384  2.97979798  3.12121212  3.26262626  3.4040404\n",
      "  3.54545455  3.68686869  3.82828283  3.96969697  4.11111111  4.25252525\n",
      "  4.39393939  4.53535354  4.67676768  4.81818182  4.95959596  5.1010101\n",
      "  5.24242424  5.38383838  5.52525253  5.66666667  5.80808081  5.94949495\n",
      "  6.09090909  6.23232323  6.37373737  6.51515152  6.65656566  6.7979798\n",
      "  6.93939394  7.08080808  7.22222222  7.36363636  7.50505051  7.64646465\n",
      "  7.78787879  7.92929293  8.07070707  8.21212121  8.35353535  8.49494949\n",
      "  8.63636364  8.77777778  8.91919192  9.06060606  9.2020202   9.34343434\n",
      "  9.48484848  9.62626263  9.76767677  9.90909091 10.05050505 10.19191919\n",
      " 10.33333333 10.47474747 10.61616162 10.75757576 10.8989899  11.04040404\n",
      " 11.18181818 11.32323232 11.46464646 11.60606061 11.74747475 11.88888889\n",
      " 12.03030303 12.17171717 12.31313131 12.45454545 12.5959596  12.73737374\n",
      " 12.87878788 13.02020202 13.16161616 13.3030303  13.44444444 13.58585859\n",
      " 13.72727273 13.86868687 14.01010101 14.15151515 14.29292929 14.43434343\n",
      " 14.57575758 14.71717172 14.85858586 15.        ]\n"
     ]
    }
   ],
   "source": [
    "print(x)"
   ]
  },
  {
   "cell_type": "code",
   "execution_count": 44,
   "id": "27b6f6e4",
   "metadata": {},
   "outputs": [
    {
     "name": "stdout",
     "output_type": "stream",
     "text": [
      "[3.25221687 3.24067909 3.2288373  3.2166915  3.20424169 3.19148787\n",
      " 3.17843004 3.1650682  3.15140235 3.13743249 3.12315862 3.10858074\n",
      " 3.09369884 3.07851294 3.06302302 3.0472291  3.03113116 3.01472921\n",
      " 2.99802326 2.98101329 2.96369931 2.94608132 2.92815932 2.90993331\n",
      " 2.89140329 2.87256926 2.85343121 2.83398916 2.8142431  2.79419302\n",
      " 2.77383894 2.75318084 2.73221874 2.71095262 2.68938249 2.66750835\n",
      " 2.64533021 2.62284805 2.60006188 2.5769717  2.55357751 2.5298793\n",
      " 2.50587709 2.48157087 2.45696063 2.43204639 2.40682813 2.38130587\n",
      " 2.35547959 2.32934931 2.30291501 2.2761767  2.24913438 2.22178805\n",
      " 2.19413771 2.16618336 2.137925   2.10936263 2.08049625 2.05132585\n",
      " 2.02185145 1.99207304 1.96199061 1.93160418 1.90091373 1.86991927\n",
      " 1.83862081 1.80701833 1.77511184 1.74290134 1.71038683 1.67756831\n",
      " 1.64444578 1.61101924 1.57728868 1.54325412 1.50891555 1.47427296\n",
      " 1.43932637 1.40407576 1.36852115 1.33266252 1.29649988 1.26003323\n",
      " 1.22326257 1.18618791 1.14880923 1.11112653 1.07313983 1.03484912\n",
      " 0.9962544  0.95735567 0.91815292 0.87864617 0.8388354  0.79872063\n",
      " 0.75830184 0.71757905 0.67655224 0.63522142]\n"
     ]
    }
   ],
   "source": [
    "f_2 = y[0] + y[1]*x + y[2]* (x**2)\n",
    "print(f_2)"
   ]
  },
  {
   "cell_type": "code",
   "execution_count": 46,
   "id": "6f0c8256",
   "metadata": {},
   "outputs": [
    {
     "data": {
      "image/png": "[encoded data removed]",
      "text/plain": [
       "<Figure size 432x288 with 1 Axes>"
      ]
     },
     "metadata": {
      "needs_background": "light"
     },
     "output_type": "display_data"
    }
   ],
   "source": [
    "plt.plot(x, f_0)\n",
    "plt.plot(x, f_1)\n",
    "plt.plot(x, f_2)\n",
    "plt.show()"
   ]
  },
  {
   "cell_type": "markdown",
   "id": "e4d705b1",
   "metadata": {},
   "source": [
    "# Многочлен третьей степени"
   ]
  },
  {
   "cell_type": "code",
   "execution_count": 47,
   "id": "13ed1b7b",
   "metadata": {},
   "outputs": [
    {
     "name": "stdout",
     "output_type": "stream",
     "text": [
      "[[   1    1    1    1]\n",
      " [   1    4   16   64]\n",
      " [   1   10  100 1000]\n",
      " [   1   15  225 3375]]\n",
      "[3.25221687 1.74684595 2.50541641 0.63522142]\n"
     ]
    }
   ],
   "source": [
    "A = np.array([[1, 1, 1, 1], [1, 4, 16, 64], [1, 10, 100, 1000], [1, 15, 225, 15**3]])\n",
    "b = np.array([f(1), f(4), f(10), f(15)])\n",
    "print(A)\n",
    "print(b)"
   ]
  },
  {
   "cell_type": "code",
   "execution_count": 48,
   "id": "a21c4d91",
   "metadata": {},
   "outputs": [],
   "source": [
    "y = np.linalg.solve(A, b)"
   ]
  },
  {
   "cell_type": "code",
   "execution_count": 49,
   "id": "6896d1cc",
   "metadata": {},
   "outputs": [
    {
     "name": "stdout",
     "output_type": "stream",
     "text": [
      "[ 4.36264154 -1.29552587  0.19333685 -0.00823565]\n"
     ]
    }
   ],
   "source": [
    "print(y)"
   ]
  },
  {
   "cell_type": "code",
   "execution_count": 50,
   "id": "0dfaf4b8",
   "metadata": {},
   "outputs": [
    {
     "name": "stdout",
     "output_type": "stream",
     "text": [
      "[3.25221687 3.12354737 3.00148263 2.88588292 2.77660849 2.6735196\n",
      " 2.57647651 2.48533947 2.39996874 2.32022458 2.24596725 2.177057\n",
      " 2.11335409 2.05471879 2.00101135 1.95209202 1.90782106 1.86805874\n",
      " 1.8326653  1.80150102 1.77442613 1.75130091 1.73198561 1.71634049\n",
      " 1.70422581 1.69550182 1.69002878 1.68766694 1.68827658 1.69171794\n",
      " 1.69785128 1.70653687 1.71763495 1.73100578 1.74650963 1.76400675\n",
      " 1.7833574  1.80442184 1.82706032 1.85113311 1.87650045 1.90302261\n",
      " 1.93055985 1.95897242 1.98812058 2.01786459 2.0480647  2.07858118\n",
      " 2.10927428 2.14000427 2.17063139 2.2010159  2.23101807 2.26049815\n",
      " 2.28931639 2.31733307 2.34440842 2.37040272 2.39517622 2.41858918\n",
      " 2.44050185 2.46077449 2.47926737 2.49584073 2.51035484 2.52266995\n",
      " 2.53264633 2.54014422 2.54502389 2.54714559 2.54636959 2.54255614\n",
      " 2.5355655  2.52525792 2.51149367 2.49413299 2.47303616 2.44806342\n",
      " 2.41907504 2.38593127 2.34849237 2.3066186  2.26017021 2.20900747\n",
      " 2.15299063 2.09197995 2.02583568 1.95441809 1.87758743 1.79520396\n",
      " 1.70712794 1.61321962 1.51333927 1.40734714 1.29510348 1.17646857\n",
      " 1.05130264 0.91946597 0.78081881 0.63522142]\n"
     ]
    }
   ],
   "source": [
    "f_3 = y[0] + y[1]*x + y[2]*(x**2) + y[3]*(x**3)\n",
    "print(f_3)"
   ]
  },
  {
   "cell_type": "code",
   "execution_count": 51,
   "id": "885bb5b7",
   "metadata": {},
   "outputs": [
    {
     "data": {
      "image/png": "[encoded data removed]",
      "text/plain": [
       "<Figure size 432x288 with 1 Axes>"
      ]
     },
     "metadata": {
      "needs_background": "light"
     },
     "output_type": "display_data"
    }
   ],
   "source": [
    "plt.plot(x, f_0)\n",
    "plt.plot(x, f_1)\n",
    "plt.plot(x, f_2)\n",
    "plt.plot(x, f_3)\n",
    "plt.show()"
   ]
  },
  {
   "cell_type": "markdown",
   "id": "e9d9e30c",
   "metadata": {},
   "source": [
    "# Запись в файл"
   ]
  },
  {
   "cell_type": "code",
   "execution_count": 61,
   "id": "8a5b0995",
   "metadata": {},
   "outputs": [
    {
     "ename": "AttributeError",
     "evalue": "'numpy.ndarray' object has no attribute 'ndarray'",
     "output_type": "error",
     "traceback": [
      "\u001b[1;31m---------------------------------------------------------------------------\u001b[0m",
      "\u001b[1;31mAttributeError\u001b[0m                            Traceback (most recent call last)",
      "\u001b[1;32m<ipython-input-61-12d200c3d877>\u001b[0m in \u001b[0;36m<module>\u001b[1;34m\u001b[0m\n\u001b[0;32m      1\u001b[0m \u001b[0mfin\u001b[0m \u001b[1;33m=\u001b[0m \u001b[1;33m[\u001b[0m\u001b[1;33m]\u001b[0m\u001b[1;33m\u001b[0m\u001b[1;33m\u001b[0m\u001b[0m\n\u001b[0;32m      2\u001b[0m \u001b[0mfin\u001b[0m \u001b[1;33m=\u001b[0m \u001b[0my\u001b[0m\u001b[1;33m\u001b[0m\u001b[1;33m\u001b[0m\u001b[0m\n\u001b[1;32m----> 3\u001b[1;33m \u001b[0mfin\u001b[0m\u001b[1;33m.\u001b[0m\u001b[0mndarray\u001b[0m\u001b[1;33m.\u001b[0m\u001b[0mtostring\u001b[0m\u001b[1;33m(\u001b[0m\u001b[1;33m)\u001b[0m\u001b[1;33m\u001b[0m\u001b[1;33m\u001b[0m\u001b[0m\n\u001b[0m\u001b[0;32m      4\u001b[0m \u001b[0mprint\u001b[0m\u001b[1;33m(\u001b[0m\u001b[0mfin\u001b[0m\u001b[1;33m)\u001b[0m\u001b[1;33m\u001b[0m\u001b[1;33m\u001b[0m\u001b[0m\n\u001b[0;32m      5\u001b[0m \u001b[0mtype\u001b[0m\u001b[1;33m(\u001b[0m\u001b[0mfin\u001b[0m\u001b[1;33m)\u001b[0m\u001b[1;33m\u001b[0m\u001b[1;33m\u001b[0m\u001b[0m\n",
      "\u001b[1;31mAttributeError\u001b[0m: 'numpy.ndarray' object has no attribute 'ndarray'"
     ]
    }
   ],
   "source": [
    "fin = []\n",
    "fin = y\n",
    "fin.ndarray.tostring()\n",
    "print(fin)\n",
    "type(fin)"
   ]
  },
  {
   "cell_type": "code",
   "execution_count": 52,
   "id": "92c901c3",
   "metadata": {},
   "outputs": [
    {
     "ename": "TypeError",
     "evalue": "write() argument must be str, not numpy.ndarray",
     "output_type": "error",
     "traceback": [
      "\u001b[1;31m---------------------------------------------------------------------------\u001b[0m",
      "\u001b[1;31mTypeError\u001b[0m                                 Traceback (most recent call last)",
      "\u001b[1;32m<ipython-input-52-0527cf78760a>\u001b[0m in \u001b[0;36m<module>\u001b[1;34m\u001b[0m\n\u001b[0;32m      1\u001b[0m \u001b[0mfile_obj\u001b[0m \u001b[1;33m=\u001b[0m \u001b[0mopen\u001b[0m\u001b[1;33m(\u001b[0m\u001b[1;34m'submission-2.txt'\u001b[0m\u001b[1;33m,\u001b[0m \u001b[1;34m'a'\u001b[0m\u001b[1;33m)\u001b[0m\u001b[1;33m\u001b[0m\u001b[1;33m\u001b[0m\u001b[0m\n\u001b[1;32m----> 2\u001b[1;33m \u001b[0mfile_obj\u001b[0m\u001b[1;33m.\u001b[0m\u001b[0mwrite\u001b[0m\u001b[1;33m(\u001b[0m\u001b[0my\u001b[0m\u001b[1;33m)\u001b[0m\u001b[1;33m\u001b[0m\u001b[1;33m\u001b[0m\u001b[0m\n\u001b[0m\u001b[0;32m      3\u001b[0m \u001b[0mfile_obj\u001b[0m\u001b[1;33m.\u001b[0m\u001b[0mclose\u001b[0m\u001b[1;33m\u001b[0m\u001b[1;33m\u001b[0m\u001b[0m\n",
      "\u001b[1;31mTypeError\u001b[0m: write() argument must be str, not numpy.ndarray"
     ]
    }
   ],
   "source": [
    "file_obj = open('submission-2.txt', 'a')\n",
    "file_obj.write(y)\n",
    "file_obj.close"
   ]
  }
 ],
 "metadata": {
  "kernelspec": {
   "display_name": "Python 3",
   "language": "python",
   "name": "python3"
  },
  "language_info": {
   "codemirror_mode": {
    "name": "ipython",
    "version": 3
   },
   "file_extension": ".py",
   "mimetype": "text/x-python",
   "name": "python",
   "nbconvert_exporter": "python",
   "pygments_lexer": "ipython3",
   "version": "3.8.8"
  }
 },
 "nbformat": 4,
 "nbformat_minor": 5
}
