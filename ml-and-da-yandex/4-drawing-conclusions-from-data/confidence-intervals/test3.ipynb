{
 "cells": [
  {
   "cell_type": "code",
   "execution_count": 1,
   "metadata": {},
   "outputs": [],
   "source": [
    "import numpy as np\n",
    "from scipy.stats import norm"
   ]
  },
  {
   "cell_type": "code",
   "execution_count": 31,
   "metadata": {},
   "outputs": [
    {
     "data": {
      "text/plain": [
       "2.9677"
      ]
     },
     "execution_count": 31,
     "metadata": {},
     "output_type": "execute_result"
    }
   ],
   "source": [
    "c = norm(0, 1).ppf(1 - 0.0015)\n",
    "np.round(c,4)"
   ]
  },
  {
   "cell_type": "code",
   "execution_count": 32,
   "metadata": {},
   "outputs": [
    {
     "data": {
      "text/plain": [
       "0.0077"
      ]
     },
     "execution_count": 32,
     "metadata": {},
     "output_type": "execute_result"
    }
   ],
   "source": [
    "delta = (189 / 11034) - (104 / 11037)\n",
    "np.round(delta, 4)"
   ]
  },
  {
   "cell_type": "code",
   "execution_count": 33,
   "metadata": {},
   "outputs": [
    {
     "data": {
      "text/plain": [
       "0.0107"
      ]
     },
     "execution_count": 33,
     "metadata": {},
     "output_type": "execute_result"
    }
   ],
   "source": [
    "p1 = 189 / 11034\n",
    "p2 = 104 / 11037\n",
    "z = norm(0, 1).ppf(0.975)\n",
    "top = p1 - p2 + z * np.sqrt(p1 * (1 - p1) / 11034 + p2 * (1 - p2) / 11037)\n",
    "np.round(top, 4)"
   ]
  },
  {
   "cell_type": "code",
   "execution_count": 36,
   "metadata": {},
   "outputs": [
    {
     "data": {
      "text/plain": [
       "1.8321"
      ]
     },
     "execution_count": 36,
     "metadata": {},
     "output_type": "execute_result"
    }
   ],
   "source": [
    "chance_asp = p2 / (1 - p2)\n",
    "chance_plac = p1 / (1 - p1)\n",
    "ratio = chance_plac / chance_asp\n",
    "np.round(ratio, 4)"
   ]
  },
  {
   "cell_type": "code",
   "execution_count": 25,
   "metadata": {},
   "outputs": [],
   "source": [
    "np.random.seed(0)\n",
    "def get_bootstrap_samples (samples, data):\n",
    "    indices = np.random.randint(0, len(data), (samples, len(data)))\n",
    "    samples = data[indices]\n",
    "    return samples\n",
    "\n",
    "def stat_intervals (stat, alpha):\n",
    "    borders = np.percentile(stat, [100 * alpha / 2., 100 * (1.0 - alpha / 2.)])\n",
    "    return borders"
   ]
  },
  {
   "cell_type": "code",
   "execution_count": 26,
   "metadata": {},
   "outputs": [],
   "source": [
    "np.random.seed(0)\n",
    "\n",
    "asp = np.append(np.ones(104), np.zeros(11037 - 104))\n",
    "plac = np.append(np.ones(189), np.zeros(11034 - 189))\n",
    "\n",
    "asp_samples = get_bootstrap_samples(1000, asp)\n",
    "plac_samples = get_bootstrap_samples(1000, plac)\n",
    "\n",
    "asp_chances = list(map(lambda x: x / (1 - x), asp_samples.mean(axis = 1)))\n",
    "plac_chances = list(map(lambda x: x / (1 -x ), plac_samples.mean(axis = 1)))\n",
    "\n",
    "delta_chances = list(map(lambda x: x[0] / x[1], zip(plac_chances, asp_chances)))\n",
    "bounds = stat_intervals(delta_chances, 0.05)\n"
   ]
  },
  {
   "cell_type": "code",
   "execution_count": 30,
   "metadata": {},
   "outputs": [
    {
     "data": {
      "text/plain": [
       "array([1.4442, 2.3432])"
      ]
     },
     "execution_count": 30,
     "metadata": {},
     "output_type": "execute_result"
    }
   ],
   "source": [
    "np.round(bounds, 4)"
   ]
  },
  {
   "cell_type": "code",
   "execution_count": 24,
   "metadata": {},
   "outputs": [
    {
     "name": "stdout",
     "output_type": "stream",
     "text": [
      "[0.010159253157605712, 0.009974377745241582, 0.008866544789762341, 0.008682142204350209, 0.010066806991855037]\n",
      "[0.01686480508708875, 0.017615051185096375, 0.017427385892116183, 0.018272425249169433, 0.017052262881371554]\n",
      "[1.660043787221006, 1.766030085786543, 1.9655216665953714, 2.1045987060674944, 1.693909786406791]\n"
     ]
    }
   ],
   "source": [
    "print(asp_chances[:5])\n",
    "print(plac_chances[:5])\n",
    "print(delta_chances[:5])"
   ]
  },
  {
   "cell_type": "code",
   "execution_count": null,
   "metadata": {},
   "outputs": [],
   "source": []
  }
 ],
 "metadata": {
  "interpreter": {
   "hash": "66192696da2d2b70fb41e7bd0b6d56aa34ef93b78c1c09f382cf8ad7952253ed"
  },
  "kernelspec": {
   "display_name": "Python 3.9.7 64-bit",
   "language": "python",
   "name": "python3"
  },
  "language_info": {
   "codemirror_mode": {
    "name": "ipython",
    "version": 3
   },
   "file_extension": ".py",
   "mimetype": "text/x-python",
   "name": "python",
   "nbconvert_exporter": "python",
   "pygments_lexer": "ipython3",
   "version": "3.9.7"
  },
  "orig_nbformat": 4
 },
 "nbformat": 4,
 "nbformat_minor": 2
}
