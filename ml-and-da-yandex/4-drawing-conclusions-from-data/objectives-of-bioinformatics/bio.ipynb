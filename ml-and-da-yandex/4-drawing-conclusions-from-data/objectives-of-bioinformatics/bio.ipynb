{
 "cells": [
  {
   "cell_type": "code",
   "execution_count": 2,
   "metadata": {},
   "outputs": [],
   "source": [
    "import pandas as pd\n",
    "import numpy as np\n",
    "import scipy.stats as sts\n",
    "from statsmodels.stats.multitest import multipletests"
   ]
  },
  {
   "cell_type": "code",
   "execution_count": 3,
   "metadata": {},
   "outputs": [],
   "source": [
    "genes = pd.read_csv('gene_high_throughput_sequencing.csv')"
   ]
  },
  {
   "cell_type": "code",
   "execution_count": 4,
   "metadata": {},
   "outputs": [
    {
     "data": {
      "text/html": [
       "<div>\n",
       "<style scoped>\n",
       "    .dataframe tbody tr th:only-of-type {\n",
       "        vertical-align: middle;\n",
       "    }\n",
       "\n",
       "    .dataframe tbody tr th {\n",
       "        vertical-align: top;\n",
       "    }\n",
       "\n",
       "    .dataframe thead th {\n",
       "        text-align: right;\n",
       "    }\n",
       "</style>\n",
       "<table border=\"1\" class=\"dataframe\">\n",
       "  <thead>\n",
       "    <tr style=\"text-align: right;\">\n",
       "      <th></th>\n",
       "      <th>Patient_id</th>\n",
       "      <th>Diagnosis</th>\n",
       "      <th>LOC643837</th>\n",
       "      <th>LOC100130417</th>\n",
       "      <th>SAMD11</th>\n",
       "      <th>NOC2L</th>\n",
       "      <th>KLHL17</th>\n",
       "      <th>PLEKHN1</th>\n",
       "      <th>C1orf170</th>\n",
       "      <th>HES4</th>\n",
       "      <th>...</th>\n",
       "      <th>CLIC2</th>\n",
       "      <th>RPS4Y1</th>\n",
       "      <th>ZFY</th>\n",
       "      <th>PRKY</th>\n",
       "      <th>USP9Y</th>\n",
       "      <th>DDX3Y</th>\n",
       "      <th>CD24</th>\n",
       "      <th>CYorf15B</th>\n",
       "      <th>KDM5D</th>\n",
       "      <th>EIF1AY</th>\n",
       "    </tr>\n",
       "  </thead>\n",
       "  <tbody>\n",
       "    <tr>\n",
       "      <th>0</th>\n",
       "      <td>STT5425_Breast_001_normal</td>\n",
       "      <td>normal</td>\n",
       "      <td>1.257614</td>\n",
       "      <td>2.408148</td>\n",
       "      <td>13.368622</td>\n",
       "      <td>9.494779</td>\n",
       "      <td>20.880435</td>\n",
       "      <td>12.722017</td>\n",
       "      <td>9.494779</td>\n",
       "      <td>54.349694</td>\n",
       "      <td>...</td>\n",
       "      <td>4.761250</td>\n",
       "      <td>1.257614</td>\n",
       "      <td>1.257614</td>\n",
       "      <td>1.257614</td>\n",
       "      <td>1.257614</td>\n",
       "      <td>1.257614</td>\n",
       "      <td>23.268694</td>\n",
       "      <td>1.257614</td>\n",
       "      <td>1.257614</td>\n",
       "      <td>1.257614</td>\n",
       "    </tr>\n",
       "    <tr>\n",
       "      <th>1</th>\n",
       "      <td>STT5427_Breast_023_normal</td>\n",
       "      <td>normal</td>\n",
       "      <td>4.567931</td>\n",
       "      <td>16.602734</td>\n",
       "      <td>42.477752</td>\n",
       "      <td>25.562376</td>\n",
       "      <td>23.221137</td>\n",
       "      <td>11.622386</td>\n",
       "      <td>14.330573</td>\n",
       "      <td>72.445474</td>\n",
       "      <td>...</td>\n",
       "      <td>6.871902</td>\n",
       "      <td>1.815112</td>\n",
       "      <td>1.815112</td>\n",
       "      <td>1.815112</td>\n",
       "      <td>1.815112</td>\n",
       "      <td>1.815112</td>\n",
       "      <td>10.427023</td>\n",
       "      <td>1.815112</td>\n",
       "      <td>1.815112</td>\n",
       "      <td>1.815112</td>\n",
       "    </tr>\n",
       "    <tr>\n",
       "      <th>2</th>\n",
       "      <td>STT5430_Breast_002_normal</td>\n",
       "      <td>normal</td>\n",
       "      <td>2.077597</td>\n",
       "      <td>3.978294</td>\n",
       "      <td>12.863214</td>\n",
       "      <td>13.728915</td>\n",
       "      <td>14.543176</td>\n",
       "      <td>14.141907</td>\n",
       "      <td>6.232790</td>\n",
       "      <td>57.011005</td>\n",
       "      <td>...</td>\n",
       "      <td>7.096343</td>\n",
       "      <td>2.077597</td>\n",
       "      <td>2.077597</td>\n",
       "      <td>2.077597</td>\n",
       "      <td>2.077597</td>\n",
       "      <td>2.077597</td>\n",
       "      <td>22.344226</td>\n",
       "      <td>2.077597</td>\n",
       "      <td>2.077597</td>\n",
       "      <td>2.077597</td>\n",
       "    </tr>\n",
       "    <tr>\n",
       "      <th>3</th>\n",
       "      <td>STT5439_Breast_003_normal</td>\n",
       "      <td>normal</td>\n",
       "      <td>2.066576</td>\n",
       "      <td>8.520713</td>\n",
       "      <td>14.466035</td>\n",
       "      <td>7.823932</td>\n",
       "      <td>8.520713</td>\n",
       "      <td>2.066576</td>\n",
       "      <td>10.870009</td>\n",
       "      <td>53.292034</td>\n",
       "      <td>...</td>\n",
       "      <td>5.200770</td>\n",
       "      <td>2.066576</td>\n",
       "      <td>2.066576</td>\n",
       "      <td>2.066576</td>\n",
       "      <td>2.066576</td>\n",
       "      <td>2.066576</td>\n",
       "      <td>49.295538</td>\n",
       "      <td>2.066576</td>\n",
       "      <td>2.066576</td>\n",
       "      <td>2.066576</td>\n",
       "    </tr>\n",
       "    <tr>\n",
       "      <th>4</th>\n",
       "      <td>STT5441_Breast_004_normal</td>\n",
       "      <td>normal</td>\n",
       "      <td>2.613616</td>\n",
       "      <td>3.434965</td>\n",
       "      <td>12.682222</td>\n",
       "      <td>10.543189</td>\n",
       "      <td>26.688686</td>\n",
       "      <td>12.484822</td>\n",
       "      <td>1.364917</td>\n",
       "      <td>67.140393</td>\n",
       "      <td>...</td>\n",
       "      <td>11.227770</td>\n",
       "      <td>1.364917</td>\n",
       "      <td>1.364917</td>\n",
       "      <td>1.364917</td>\n",
       "      <td>1.364917</td>\n",
       "      <td>1.364917</td>\n",
       "      <td>23.627911</td>\n",
       "      <td>1.364917</td>\n",
       "      <td>1.364917</td>\n",
       "      <td>1.364917</td>\n",
       "    </tr>\n",
       "    <tr>\n",
       "      <th>5</th>\n",
       "      <td>STT5446_Breast_005_normal</td>\n",
       "      <td>normal</td>\n",
       "      <td>3.942275</td>\n",
       "      <td>4.488477</td>\n",
       "      <td>8.944837</td>\n",
       "      <td>12.581469</td>\n",
       "      <td>23.543887</td>\n",
       "      <td>8.683617</td>\n",
       "      <td>5.418139</td>\n",
       "      <td>50.525641</td>\n",
       "      <td>...</td>\n",
       "      <td>8.683617</td>\n",
       "      <td>1.314092</td>\n",
       "      <td>1.314092</td>\n",
       "      <td>1.314092</td>\n",
       "      <td>1.314092</td>\n",
       "      <td>1.314092</td>\n",
       "      <td>18.001936</td>\n",
       "      <td>1.314092</td>\n",
       "      <td>1.314092</td>\n",
       "      <td>1.314092</td>\n",
       "    </tr>\n",
       "    <tr>\n",
       "      <th>6</th>\n",
       "      <td>STT5451_Breast_006_normal</td>\n",
       "      <td>normal</td>\n",
       "      <td>1.084113</td>\n",
       "      <td>3.252340</td>\n",
       "      <td>8.917889</td>\n",
       "      <td>11.249037</td>\n",
       "      <td>19.179923</td>\n",
       "      <td>6.712171</td>\n",
       "      <td>12.439778</td>\n",
       "      <td>52.498406</td>\n",
       "      <td>...</td>\n",
       "      <td>9.091914</td>\n",
       "      <td>1.084113</td>\n",
       "      <td>1.084113</td>\n",
       "      <td>1.084113</td>\n",
       "      <td>1.084113</td>\n",
       "      <td>1.084113</td>\n",
       "      <td>11.659470</td>\n",
       "      <td>1.084113</td>\n",
       "      <td>1.084113</td>\n",
       "      <td>1.084113</td>\n",
       "    </tr>\n",
       "    <tr>\n",
       "      <th>7</th>\n",
       "      <td>STT5466_Breast_007_normal</td>\n",
       "      <td>normal</td>\n",
       "      <td>3.153900</td>\n",
       "      <td>1.647070</td>\n",
       "      <td>4.941211</td>\n",
       "      <td>11.529492</td>\n",
       "      <td>13.813151</td>\n",
       "      <td>8.235352</td>\n",
       "      <td>1.647070</td>\n",
       "      <td>44.226216</td>\n",
       "      <td>...</td>\n",
       "      <td>10.546396</td>\n",
       "      <td>1.647070</td>\n",
       "      <td>1.647070</td>\n",
       "      <td>1.647070</td>\n",
       "      <td>1.647070</td>\n",
       "      <td>1.647070</td>\n",
       "      <td>21.071346</td>\n",
       "      <td>1.647070</td>\n",
       "      <td>1.647070</td>\n",
       "      <td>1.647070</td>\n",
       "    </tr>\n",
       "    <tr>\n",
       "      <th>8</th>\n",
       "      <td>STT5472_Breast_008_normal</td>\n",
       "      <td>normal</td>\n",
       "      <td>2.551800</td>\n",
       "      <td>3.838876</td>\n",
       "      <td>16.255376</td>\n",
       "      <td>12.972108</td>\n",
       "      <td>20.169502</td>\n",
       "      <td>7.097877</td>\n",
       "      <td>5.333458</td>\n",
       "      <td>52.003891</td>\n",
       "      <td>...</td>\n",
       "      <td>9.274845</td>\n",
       "      <td>1.013982</td>\n",
       "      <td>1.013982</td>\n",
       "      <td>1.013982</td>\n",
       "      <td>1.013982</td>\n",
       "      <td>1.013982</td>\n",
       "      <td>11.030215</td>\n",
       "      <td>1.013982</td>\n",
       "      <td>1.013982</td>\n",
       "      <td>1.013982</td>\n",
       "    </tr>\n",
       "    <tr>\n",
       "      <th>9</th>\n",
       "      <td>STT5475_Breast_009_normal</td>\n",
       "      <td>normal</td>\n",
       "      <td>3.693128</td>\n",
       "      <td>1.231043</td>\n",
       "      <td>11.079385</td>\n",
       "      <td>12.453221</td>\n",
       "      <td>21.024058</td>\n",
       "      <td>6.780055</td>\n",
       "      <td>6.155214</td>\n",
       "      <td>49.174985</td>\n",
       "      <td>...</td>\n",
       "      <td>8.848678</td>\n",
       "      <td>1.231043</td>\n",
       "      <td>1.231043</td>\n",
       "      <td>1.231043</td>\n",
       "      <td>1.231043</td>\n",
       "      <td>1.231043</td>\n",
       "      <td>24.896300</td>\n",
       "      <td>1.231043</td>\n",
       "      <td>1.231043</td>\n",
       "      <td>1.231043</td>\n",
       "    </tr>\n",
       "  </tbody>\n",
       "</table>\n",
       "<p>10 rows × 15750 columns</p>\n",
       "</div>"
      ],
      "text/plain": [
       "                  Patient_id Diagnosis  LOC643837  LOC100130417     SAMD11  \\\n",
       "0  STT5425_Breast_001_normal    normal   1.257614      2.408148  13.368622   \n",
       "1  STT5427_Breast_023_normal    normal   4.567931     16.602734  42.477752   \n",
       "2  STT5430_Breast_002_normal    normal   2.077597      3.978294  12.863214   \n",
       "3  STT5439_Breast_003_normal    normal   2.066576      8.520713  14.466035   \n",
       "4  STT5441_Breast_004_normal    normal   2.613616      3.434965  12.682222   \n",
       "5  STT5446_Breast_005_normal    normal   3.942275      4.488477   8.944837   \n",
       "6  STT5451_Breast_006_normal    normal   1.084113      3.252340   8.917889   \n",
       "7  STT5466_Breast_007_normal    normal   3.153900      1.647070   4.941211   \n",
       "8  STT5472_Breast_008_normal    normal   2.551800      3.838876  16.255376   \n",
       "9  STT5475_Breast_009_normal    normal   3.693128      1.231043  11.079385   \n",
       "\n",
       "       NOC2L     KLHL17    PLEKHN1   C1orf170       HES4  ...      CLIC2  \\\n",
       "0   9.494779  20.880435  12.722017   9.494779  54.349694  ...   4.761250   \n",
       "1  25.562376  23.221137  11.622386  14.330573  72.445474  ...   6.871902   \n",
       "2  13.728915  14.543176  14.141907   6.232790  57.011005  ...   7.096343   \n",
       "3   7.823932   8.520713   2.066576  10.870009  53.292034  ...   5.200770   \n",
       "4  10.543189  26.688686  12.484822   1.364917  67.140393  ...  11.227770   \n",
       "5  12.581469  23.543887   8.683617   5.418139  50.525641  ...   8.683617   \n",
       "6  11.249037  19.179923   6.712171  12.439778  52.498406  ...   9.091914   \n",
       "7  11.529492  13.813151   8.235352   1.647070  44.226216  ...  10.546396   \n",
       "8  12.972108  20.169502   7.097877   5.333458  52.003891  ...   9.274845   \n",
       "9  12.453221  21.024058   6.780055   6.155214  49.174985  ...   8.848678   \n",
       "\n",
       "     RPS4Y1       ZFY      PRKY     USP9Y     DDX3Y       CD24  CYorf15B  \\\n",
       "0  1.257614  1.257614  1.257614  1.257614  1.257614  23.268694  1.257614   \n",
       "1  1.815112  1.815112  1.815112  1.815112  1.815112  10.427023  1.815112   \n",
       "2  2.077597  2.077597  2.077597  2.077597  2.077597  22.344226  2.077597   \n",
       "3  2.066576  2.066576  2.066576  2.066576  2.066576  49.295538  2.066576   \n",
       "4  1.364917  1.364917  1.364917  1.364917  1.364917  23.627911  1.364917   \n",
       "5  1.314092  1.314092  1.314092  1.314092  1.314092  18.001936  1.314092   \n",
       "6  1.084113  1.084113  1.084113  1.084113  1.084113  11.659470  1.084113   \n",
       "7  1.647070  1.647070  1.647070  1.647070  1.647070  21.071346  1.647070   \n",
       "8  1.013982  1.013982  1.013982  1.013982  1.013982  11.030215  1.013982   \n",
       "9  1.231043  1.231043  1.231043  1.231043  1.231043  24.896300  1.231043   \n",
       "\n",
       "      KDM5D    EIF1AY  \n",
       "0  1.257614  1.257614  \n",
       "1  1.815112  1.815112  \n",
       "2  2.077597  2.077597  \n",
       "3  2.066576  2.066576  \n",
       "4  1.364917  1.364917  \n",
       "5  1.314092  1.314092  \n",
       "6  1.084113  1.084113  \n",
       "7  1.647070  1.647070  \n",
       "8  1.013982  1.013982  \n",
       "9  1.231043  1.231043  \n",
       "\n",
       "[10 rows x 15750 columns]"
      ]
     },
     "execution_count": 4,
     "metadata": {},
     "output_type": "execute_result"
    }
   ],
   "source": [
    "genes.head(10)"
   ]
  },
  {
   "cell_type": "code",
   "execution_count": 5,
   "metadata": {},
   "outputs": [
    {
     "data": {
      "text/plain": [
       "Diagnosis      \n",
       "early neoplasia    25\n",
       "normal             24\n",
       "cancer             23\n",
       "dtype: int64"
      ]
     },
     "execution_count": 5,
     "metadata": {},
     "output_type": "execute_result"
    }
   ],
   "source": [
    "genes[['Diagnosis']].value_counts()"
   ]
  },
  {
   "cell_type": "markdown",
   "metadata": {},
   "source": [
    "# #1"
   ]
  },
  {
   "cell_type": "code",
   "execution_count": 6,
   "metadata": {},
   "outputs": [
    {
     "name": "stdout",
     "output_type": "stream",
     "text": [
      "(24, 15750) (25, 15750) (23, 15750)\n"
     ]
    }
   ],
   "source": [
    "genes_normal = genes[genes.Diagnosis == 'normal']\n",
    "genes_early = genes[genes.Diagnosis == 'early neoplasia']\n",
    "genes_cancer = genes[genes.Diagnosis == 'cancer']\n",
    "print(genes_normal.shape, genes_early.shape, genes_cancer.shape)"
   ]
  },
  {
   "cell_type": "code",
   "execution_count": 7,
   "metadata": {},
   "outputs": [
    {
     "data": {
      "text/plain": [
       "False"
      ]
     },
     "execution_count": 7,
     "metadata": {},
     "output_type": "execute_result"
    }
   ],
   "source": [
    "genes.isnull().all().all()"
   ]
  },
  {
   "cell_type": "code",
   "execution_count": 8,
   "metadata": {},
   "outputs": [],
   "source": [
    "alpha = 0.05\n",
    "p_values = pd.DataFrame(index = ['norm-early', 'early-cancer'], columns = genes.columns[2:])\n",
    "\n",
    "for gene in genes.columns[2:]:\n",
    "    p1 = sts.ttest_ind(genes_normal[gene], genes_early[gene], equal_var = False).pvalue\n",
    "    p_values[gene]['norm-early'] = p1\n",
    "\n",
    "    p2 = sts.ttest_ind(genes_early[gene], genes_cancer[gene], equal_var = False).pvalue\n",
    "    p_values[gene]['early-cancer'] = p2\n"
   ]
  },
  {
   "cell_type": "code",
   "execution_count": 9,
   "metadata": {},
   "outputs": [
    {
     "name": "stdout",
     "output_type": "stream",
     "text": [
      "statistically significant differences between normal and early: 1575\n",
      "statistically significant differences between early and cancer: 3490\n"
     ]
    }
   ],
   "source": [
    "print('statistically significant differences between normal and early: %d' %(p_values.loc['norm-early'] < alpha).sum())\n",
    "print('statistically significant differences between early and cancer: %d' %(p_values.loc['early-cancer'] < alpha).sum())"
   ]
  },
  {
   "cell_type": "code",
   "execution_count": 11,
   "metadata": {},
   "outputs": [],
   "source": [
    "with open(\"bio_anser_1_1.txt\", \"w\") as fout:\n",
    "    fout.write(str((p_values.loc['norm-early'] < alpha).sum()))"
   ]
  },
  {
   "cell_type": "code",
   "execution_count": 16,
   "metadata": {},
   "outputs": [],
   "source": [
    "with open(\"bio_anser_1_2.txt\", \"w\") as fout:\n",
    "    fout.write(str((p_values.loc['early-cancer'] < alpha).sum()))"
   ]
  },
  {
   "cell_type": "markdown",
   "metadata": {},
   "source": [
    "# #2"
   ]
  },
  {
   "cell_type": "code",
   "execution_count": 17,
   "metadata": {},
   "outputs": [],
   "source": [
    "def fold_change(C, T):\n",
    "    return T/C if T > C else -C/T\n"
   ]
  },
  {
   "cell_type": "code",
   "execution_count": 18,
   "metadata": {},
   "outputs": [],
   "source": [
    "alpha_2 = 0.025\n",
    "\n",
    "rejected_1, p_corrected_1, _, _ = multipletests(p_values.loc['norm-early'], alpha_2, method = 'holm')\n",
    "rejected_2, p_corrected_2, _, _ = multipletests(p_values.loc['early-cancer'], alpha_2, method = 'holm')\n"
   ]
  },
  {
   "cell_type": "code",
   "execution_count": 19,
   "metadata": {},
   "outputs": [],
   "source": [
    "indices_1 = np.array([np.abs(fold_change(genes_normal[gene].mean(), genes_early[gene].mean())) > 1.5 \n",
    "             for gene in genes.columns[2:]])\n",
    "indices_2 = np.array([np.abs(fold_change(genes_early[gene].mean(), genes_cancer[gene].mean())) > 1.5 \n",
    "             for gene in genes.columns[2:]])"
   ]
  },
  {
   "cell_type": "code",
   "execution_count": 20,
   "metadata": {},
   "outputs": [
    {
     "name": "stdout",
     "output_type": "stream",
     "text": [
      "statistically significant differences between normal and early with Holm: 2\n",
      "statistically significant differences between early and cancer with Holm: 77\n"
     ]
    }
   ],
   "source": [
    "print('statistically significant differences between normal and early with Holm: %d' %(rejected_1 & indices_1).sum())\n",
    "print('statistically significant differences between early and cancer with Holm: %d' %(rejected_2 & indices_2).sum())"
   ]
  },
  {
   "cell_type": "code",
   "execution_count": 21,
   "metadata": {},
   "outputs": [],
   "source": [
    "with open(\"bio_anser_2_1.txt\", \"w\") as fout:\n",
    "    fout.write(str(rejected_1[indices_1].sum()))"
   ]
  },
  {
   "cell_type": "code",
   "execution_count": 22,
   "metadata": {},
   "outputs": [],
   "source": [
    "with open(\"bio_anser_2_2.txt\", \"w\") as fout:\n",
    "    fout.write(str(rejected_2[indices_2].sum()))"
   ]
  },
  {
   "cell_type": "markdown",
   "metadata": {},
   "source": [
    "# #3"
   ]
  },
  {
   "cell_type": "code",
   "execution_count": 23,
   "metadata": {},
   "outputs": [],
   "source": [
    "rejected_1, p_corrected_1, _, _ = multipletests(p_values.loc['norm-early'], alpha_2, method = 'fdr_bh')\n",
    "rejected_2, p_corrected_2, _, _ = multipletests(p_values.loc['early-cancer'], alpha_2, method = 'fdr_bh')"
   ]
  },
  {
   "cell_type": "code",
   "execution_count": 24,
   "metadata": {},
   "outputs": [
    {
     "name": "stdout",
     "output_type": "stream",
     "text": [
      "statistically significant differences between normal and early with Benjamini/Hochberg: 4\n",
      "statistically significant differences between early and cancer with Benjamini/Hochberg: 524\n"
     ]
    }
   ],
   "source": [
    "print('statistically significant differences between normal and early with Benjamini/Hochberg: %d' %(rejected_1 & indices_1).sum())\n",
    "print('statistically significant differences between early and cancer with Benjamini/Hochberg: %d' %(rejected_2 & indices_2).sum())"
   ]
  },
  {
   "cell_type": "code",
   "execution_count": 25,
   "metadata": {},
   "outputs": [],
   "source": [
    "with open(\"bio_anser_3_1.txt\", \"w\") as fout:\n",
    "    fout.write(str(rejected_1[indices_1].sum()))"
   ]
  },
  {
   "cell_type": "code",
   "execution_count": 26,
   "metadata": {},
   "outputs": [],
   "source": [
    "with open(\"bio_anser_3_2.txt\", \"w\") as fout:\n",
    "    fout.write(str(rejected_2[indices_2].sum()))"
   ]
  }
 ],
 "metadata": {
  "interpreter": {
   "hash": "66192696da2d2b70fb41e7bd0b6d56aa34ef93b78c1c09f382cf8ad7952253ed"
  },
  "kernelspec": {
   "display_name": "Python 3.9.7 64-bit",
   "language": "python",
   "name": "python3"
  },
  "language_info": {
   "codemirror_mode": {
    "name": "ipython",
    "version": 3
   },
   "file_extension": ".py",
   "mimetype": "text/x-python",
   "name": "python",
   "nbconvert_exporter": "python",
   "pygments_lexer": "ipython3",
   "version": "3.9.7"
  },
  "orig_nbformat": 4
 },
 "nbformat": 4,
 "nbformat_minor": 2
}
