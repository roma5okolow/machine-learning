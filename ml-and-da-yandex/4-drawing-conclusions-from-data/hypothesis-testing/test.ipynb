{
 "cells": [
  {
   "cell_type": "code",
   "execution_count": 8,
   "metadata": {},
   "outputs": [],
   "source": [
    "import numpy as np\n",
    "from scipy import stats\n",
    "import pandas as pd"
   ]
  },
  {
   "cell_type": "code",
   "execution_count": 3,
   "metadata": {},
   "outputs": [
    {
     "data": {
      "text/plain": [
       "0.08222258891386612"
      ]
     },
     "execution_count": 3,
     "metadata": {},
     "output_type": "execute_result"
    }
   ],
   "source": [
    "stats.binom_test(67, 100, p = 0.75, alternative = 'two-sided')"
   ]
  },
  {
   "cell_type": "code",
   "execution_count": 5,
   "metadata": {},
   "outputs": [
    {
     "data": {
      "text/plain": [
       "2.916826241403084e-06"
      ]
     },
     "execution_count": 5,
     "metadata": {},
     "output_type": "execute_result"
    }
   ],
   "source": [
    "stats.binom_test(22, 50, p = 0.75, alternative = 'less')"
   ]
  },
  {
   "cell_type": "code",
   "execution_count": 26,
   "metadata": {},
   "outputs": [
    {
     "data": {
      "text/plain": [
       "array([[18., 14., 12.,  8.,  7.],\n",
       "       [26., 12., 24., 19.,  8.],\n",
       "       [29., 22., 15., 31., 37.],\n",
       "       [25., 34., 50., 50., 27.],\n",
       "       [20., 25., 37.,  7., 27.]])"
      ]
     },
     "execution_count": 26,
     "metadata": {},
     "output_type": "execute_result"
    }
   ],
   "source": [
    "data = pd.read_csv('pines.txt', sep = '\\t', header = 0)\n",
    "x = data['we'].values\n",
    "y = data['sn'].values\n",
    "binx = np.linspace(0, 200, 6)\n",
    "biny = np.linspace(0, 200, 6)\n",
    "ret = stats.binned_statistic_2d(x, y, None, bins = [binx, biny], statistic = 'count')\n",
    "ret.statistic"
   ]
  },
  {
   "cell_type": "code",
   "execution_count": 29,
   "metadata": {},
   "outputs": [
    {
     "data": {
      "text/plain": [
       "23.36"
      ]
     },
     "execution_count": 29,
     "metadata": {},
     "output_type": "execute_result"
    }
   ],
   "source": [
    "mean = len(y) / 25.0\n",
    "mean"
   ]
  },
  {
   "cell_type": "code",
   "execution_count": 56,
   "metadata": {},
   "outputs": [
    {
     "name": "stdout",
     "output_type": "stream",
     "text": [
      "[23.36 23.36 23.36 23.36 23.36 23.36 23.36 23.36 23.36 23.36 23.36 23.36\n",
      " 23.36 23.36 23.36 23.36 23.36 23.36 23.36 23.36 23.36 23.36 23.36 23.36\n",
      " 23.36] \n",
      " [18. 14. 12.  8.  7. 26. 12. 24. 19.  8. 29. 22. 15. 31. 37. 25. 34. 50.\n",
      " 50. 27. 20. 25. 37.  7. 27.]\n"
     ]
    },
    {
     "data": {
      "text/plain": [
       "Power_divergenceResult(statistic=150.58904109589042, pvalue=2.574669774967279e-20)"
      ]
     },
     "execution_count": 56,
     "metadata": {},
     "output_type": "execute_result"
    }
   ],
   "source": [
    "observed = ret.statistic.reshape(25)\n",
    "expected = np.ones(25) * mean\n",
    "print(expected, '\\n', observed)\n",
    "stats.chisquare(ret.statistic, ddof = 0, axis = None)"
   ]
  },
  {
   "cell_type": "code",
   "execution_count": null,
   "metadata": {},
   "outputs": [],
   "source": []
  }
 ],
 "metadata": {
  "interpreter": {
   "hash": "66192696da2d2b70fb41e7bd0b6d56aa34ef93b78c1c09f382cf8ad7952253ed"
  },
  "kernelspec": {
   "display_name": "Python 3.9.7 64-bit",
   "language": "python",
   "name": "python3"
  },
  "language_info": {
   "codemirror_mode": {
    "name": "ipython",
    "version": 3
   },
   "file_extension": ".py",
   "mimetype": "text/x-python",
   "name": "python",
   "nbconvert_exporter": "python",
   "pygments_lexer": "ipython3",
   "version": "3.9.7"
  },
  "orig_nbformat": 4
 },
 "nbformat": 4,
 "nbformat_minor": 2
}
