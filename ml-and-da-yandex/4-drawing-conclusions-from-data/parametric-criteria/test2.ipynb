{
 "cells": [
  {
   "cell_type": "code",
   "execution_count": 2,
   "metadata": {},
   "outputs": [],
   "source": [
    "from scipy import stats\n",
    "import numpy as np\n",
    "import pandas as pd\n",
    "from sklearn import model_selection\n",
    "from statsmodels.stats import weightstats \n",
    "from scipy import stats as sts\n",
    "from sklearn.linear_model import LogisticRegression as LR"
   ]
  },
  {
   "cell_type": "markdown",
   "metadata": {},
   "source": [
    "## #3"
   ]
  },
  {
   "cell_type": "code",
   "execution_count": 5,
   "metadata": {},
   "outputs": [
    {
     "data": {
      "text/plain": [
       "0.3729"
      ]
     },
     "execution_count": 5,
     "metadata": {},
     "output_type": "execute_result"
    }
   ],
   "source": [
    "n1 = 34\n",
    "n2 = 16\n",
    "p1 = 10 / n1\n",
    "p2 = 4 / n2\n",
    "\n",
    "P = (p1 * n1 + p2 * n2) / (n1 + n2)\n",
    "Z = (p1 - p2) / np.sqrt((P * (1 - P) * (1 / n1 + 1 / n2)))\n",
    "\n",
    "p_value = (1 - stats.norm.cdf(Z))\n",
    "np.round(p_value, 4)\n"
   ]
  },
  {
   "cell_type": "markdown",
   "metadata": {},
   "source": [
    "## #4"
   ]
  },
  {
   "cell_type": "code",
   "execution_count": 6,
   "metadata": {},
   "outputs": [],
   "source": [
    "data = pd.read_csv('banknotes.txt', header = 0, sep = '\\t')\n",
    "y = data[['real']]\n",
    "X = data.drop(['real'], axis = 1)"
   ]
  },
  {
   "cell_type": "code",
   "execution_count": 7,
   "metadata": {},
   "outputs": [],
   "source": [
    "X_train, X_test, y_train, y_test = model_selection.train_test_split(X.values, y.values, test_size = 0.25, random_state = 1)"
   ]
  },
  {
   "cell_type": "code",
   "execution_count": 8,
   "metadata": {},
   "outputs": [
    {
     "name": "stdout",
     "output_type": "stream",
     "text": [
      "score with features 1, 2, 3 = 0.800000\n",
      "score with features 4, 5, 6 = 0.980000\n"
     ]
    }
   ],
   "source": [
    "y_train = np.ravel(y_train)\n",
    "y_test = np.ravel(y_test)\n",
    "\n",
    "lr1 = LR(solver = 'liblinear', random_state = 1).fit(X_train[:, 0:3], y_train)\n",
    "lr2 = LR(solver = 'liblinear', random_state = 1).fit(X_train[:, 3:6], y_train)\n",
    "\n",
    "y_123 = lr1.predict(X_test[:, 0:3])\n",
    "y_456 = lr2.predict(X_test[:, 3:6])\n",
    "\n",
    "p_123 = lr1.score(X_test[:, 0:3], y_test)\n",
    "p_456 = lr2.score(X_test[:, 3:6], y_test)\n",
    "\n",
    "print('score with features 1, 2, 3 = %f' %p_123)\n",
    "print('score with features 4, 5, 6 = %f' %p_456)"
   ]
  },
  {
   "cell_type": "code",
   "execution_count": 32,
   "metadata": {},
   "outputs": [
    {
     "name": "stdout",
     "output_type": "stream",
     "text": [
      "[1 1 1 0 0 0 1 1 1 0 0 1 1 1 0 0 0 1 0 1]\n",
      "[1 1 1 0 0 0 1 1 1 1 0 1 1 1 0 0 0 0 0 1]\n",
      "[0 0 0 0 0 0 0 0 0 1 0 0 0 0 0 0 0 1 0 0]\n",
      "[1 1 1 0 0 0 1 1 1 0 0 1 1 1 1 0 0 1 0 1]\n",
      "[0 0 0 0 0 0 0 0 0 0 0 0 0 0 1 0 0 0 0 0]\n",
      "0.2 0.02\n"
     ]
    }
   ],
   "source": [
    "res_123 = np.array([int(x1 != x2) for x1, x2 in zip(y_123, y_test)])\n",
    "res_456 = np.array([int(x1 != x2) for x1, x2 in zip(y_456, y_test)])\n",
    "print(y_test[:20], y_123[:20], res_123[:20], y_456[:20], res_456[:20], sep = '\\n')\n",
    "print(res_123.mean(), res_456.mean())\n"
   ]
  },
  {
   "cell_type": "code",
   "execution_count": 41,
   "metadata": {},
   "outputs": [
    {
     "name": "stdout",
     "output_type": "stream",
     "text": [
      "0.2 0.02\n"
     ]
    },
    {
     "data": {
      "text/plain": [
       "0.005647246137813866"
      ]
     },
     "execution_count": 41,
     "metadata": {},
     "output_type": "execute_result"
    }
   ],
   "source": [
    "n = len(res_123)\n",
    "\n",
    "f = sum([1 if (x1 == 1 and x2 == 0) else 0 for x1, x2 in zip(res_123, res_456)])\n",
    "g = sum([1 if (x1 == 0 and x2 == 1) else 0 for x1, x2 in zip(res_123, res_456)])\n",
    "\n",
    "print(f/n, g/n)\n",
    "\n",
    "Z = (f - g) / np.sqrt(f + g + ((f - g) ** 2) / n)\n",
    "p_value = (1 - sts.norm.cdf(Z))\n",
    "p_value\n"
   ]
  },
  {
   "cell_type": "markdown",
   "metadata": {},
   "source": [
    "# #5"
   ]
  },
  {
   "cell_type": "code",
   "execution_count": 36,
   "metadata": {},
   "outputs": [
    {
     "name": "stdout",
     "output_type": "stream",
     "text": [
      "score_456 - score_123 = 0.180000\n",
      "95% confidence interval for score_456 - score_123: [0.059945, 0.300055]\n",
      "0.0599\n"
     ]
    }
   ],
   "source": [
    "z = sts.norm.ppf(0.975)\n",
    "\n",
    "left_boundary = (f - g) / n - z * np.sqrt(float((f + g)) / n**2 - float((f - g)**2) / n**3)\n",
    "right_boundary = (f - g) / n + z * np.sqrt(float((f + g)) / n**2 - float((f - g)**2) / n**3)\n",
    "\n",
    "print(\"score_456 - score_123 = %f\" %((f - g) / n))\n",
    "print(\"95%% confidence interval for score_456 - score_123: [%f, %f]\" %(left_boundary, right_boundary))\n",
    "print(np.round(left_boundary, 4))\n",
    "\n"
   ]
  },
  {
   "cell_type": "markdown",
   "metadata": {},
   "source": [
    "# #6"
   ]
  },
  {
   "cell_type": "code",
   "execution_count": 12,
   "metadata": {},
   "outputs": [
    {
     "data": {
      "text/plain": [
       "0.0505"
      ]
     },
     "execution_count": 12,
     "metadata": {},
     "output_type": "execute_result"
    }
   ],
   "source": [
    "n1 = 200000\n",
    "n2 = 100\n",
    "p1 = 525\n",
    "p2 = 541.4\n",
    "sigma = 100\n",
    "\n",
    "Z1 = (p2 - p1) / (sigma / n2 ** 0.5)\n",
    "p_value1 = 1 - sts.norm.cdf(Z1)\n",
    "np.round(p_value1, 4)"
   ]
  },
  {
   "cell_type": "markdown",
   "metadata": {},
   "source": [
    "# #7"
   ]
  },
  {
   "cell_type": "code",
   "execution_count": 13,
   "metadata": {},
   "outputs": [
    {
     "data": {
      "text/plain": [
       "0.0495"
      ]
     },
     "execution_count": 13,
     "metadata": {},
     "output_type": "execute_result"
    }
   ],
   "source": [
    "n1 = 200000\n",
    "n2 = 100\n",
    "p1 = 525\n",
    "p2 = 541.5\n",
    "sigma = 100\n",
    "\n",
    "Z2 = (p2 - p1) / (sigma / n2 ** 0.5)\n",
    "p_value2 = 1 - sts.norm.cdf(Z2)\n",
    "np.round(p_value2, 4)"
   ]
  },
  {
   "cell_type": "code",
   "execution_count": null,
   "metadata": {},
   "outputs": [],
   "source": []
  }
 ],
 "metadata": {
  "interpreter": {
   "hash": "66192696da2d2b70fb41e7bd0b6d56aa34ef93b78c1c09f382cf8ad7952253ed"
  },
  "kernelspec": {
   "display_name": "Python 3.9.7 64-bit",
   "language": "python",
   "name": "python3"
  },
  "language_info": {
   "codemirror_mode": {
    "name": "ipython",
    "version": 3
   },
   "file_extension": ".py",
   "mimetype": "text/x-python",
   "name": "python",
   "nbconvert_exporter": "python",
   "pygments_lexer": "ipython3",
   "version": "3.9.7"
  },
  "orig_nbformat": 4
 },
 "nbformat": 4,
 "nbformat_minor": 2
}
