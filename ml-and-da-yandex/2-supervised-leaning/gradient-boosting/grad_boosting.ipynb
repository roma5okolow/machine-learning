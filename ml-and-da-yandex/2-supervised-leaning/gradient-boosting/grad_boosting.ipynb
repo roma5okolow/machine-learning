{
 "cells": [
  {
   "cell_type": "markdown",
   "metadata": {},
   "source": [
    "# Градиентный бустинг своими руками\n",
    "\n",
    "**Внимание:** в тексте задания произошли изменения - поменялось число деревьев (теперь 50), правило изменения величины шага в задании 3 и добавился параметр `random_state` у решающего дерева. Правильные ответы не поменялись, но теперь их проще получить. Также исправлена опечатка в функции `gbm_predict`.\n",
    "\n",
    "В этом задании будет использоваться датасет `boston` из `sklearn.datasets`. Оставьте последние 25% объектов для контроля качества, разделив `X` и `y` на `X_train`, `y_train` и `X_test`, `y_test`.\n",
    "\n",
    "Целью задания будет реализовать простой вариант градиентного бустинга над регрессионными деревьями для случая квадратичной функции потерь."
   ]
  },
  {
   "cell_type": "code",
   "execution_count": 18,
   "metadata": {
    "collapsed": true
   },
   "outputs": [],
   "source": [
    "import numpy as np\n",
    "from  sklearn.datasets import load_boston\n",
    "from sklearn.model_selection import train_test_split\n",
    "from sklearn.tree import DecisionTreeRegressor"
   ]
  },
  {
   "cell_type": "code",
   "execution_count": 19,
   "metadata": {},
   "outputs": [],
   "source": [
    "data, target = load_boston(return_X_y = True)\n",
    "X_train, X_test, y_train, y_test = train_test_split(data, target, test_size = 0.25, shuffle = True)"
   ]
  },
  {
   "cell_type": "code",
   "execution_count": 20,
   "metadata": {},
   "outputs": [
    {
     "name": "stdout",
     "output_type": "stream",
     "text": [
      "[19.9 28.7 23.9 28.7 22.6 21.7 36.5 17.6 19.3 17.2 21.7 32.7 20.  27.1\n",
      " 25.2 15.2 20.1 21.5 41.3 36.2 10.2 32.  33.2 50.  17.8 22.9 20.  15.2\n",
      " 43.5 21.  19.9 18.7 17.9 15.6 20.7 19.6 12.7 20.9 28.2 23.  23.1 50.\n",
      " 21.8 37.  16.8 15.6 10.2 14.9 21.4 37.2 19.6 37.9 24.2 17.1 18.5 27.5\n",
      " 22.  13.8 19.5 18.  12.7 20.4 13.4 31.1 19.3 13.5 21.4 17.5 22.  24.5\n",
      " 16.  22.8 30.5 13.5 19.3 24.1 21.2 10.9 14.8 24.4 10.9 13.9 37.3 13.3\n",
      " 22.8 50.  27.5 14.3 22.4 22.4 24.8 23.6  8.5 19.1 50.  13.4 50.   8.3\n",
      " 16.3 27.5 25.3 16.1 50.  22.2 19.3 33.1 33.1 22.8 19.4 17.8 19.6 50.\n",
      " 23.3 22.7 20.  50.  24.3 16.5 21.1 24.5 30.7 17.  23.7 13.1 20.3 48.5\n",
      " 19.7 19.9 31.5 22.  32.4 21.  20.3 13.9 38.7 23.3 23.1 18.2 32.5 23.3\n",
      " 29.  21.1 13.8 10.5 23.3  8.8 22.  21.6 20.5 28.4  5.  21.9 18.3 50.\n",
      " 23.7 19.7 20.2 30.8 17.8 13.  18.9 27.9  9.6 17.5 24.6 50.  21.4 30.1\n",
      " 14.5 26.5 35.4 17.8 23.1 33.8 18.9 44.8 30.1 18.3 19.5 24.1 14.1 17.8\n",
      "  8.4 23.1 19.5  5.6 20.6 23.1 24.7 23.9 15.7 17.2 14.4 26.6 15.2  9.7\n",
      " 19.  29.1 21.7 18.4 26.2 18.5 28.  18.9 50.  29.4 14.  20.6 50.  28.7\n",
      " 12.8 34.9 24.8 21.  22.2 21.7 20.3 15.3  7.2 15.4 24.6 15.4 22.7 45.4\n",
      " 17.2 22.  29.8 31.2 24.  20.6 33.  50.   8.8  8.5 30.3 26.4 12.3 20.2\n",
      " 24.7 20.5 21.4 18.8 23.8 24.8 18.4 32.  22.2 20.6 29.1 42.8 20.3 14.9\n",
      " 26.6 13.8 11.7 29.9 19.6 20.8 11.3 19.2 16.4 31.7  7.  22.9 13.2 19.3\n",
      "  7.2 34.6 36.2 18.5 34.7 13.1 19.8  8.1 15.6 23.9 19.1 20.6 27.5 48.8\n",
      " 22.6 14.1 28.1 21.2 35.2 13.6 11.  18.2 19.2 23.1 48.3 13.3 23.5 12.6\n",
      " 18.1 18.2 19.4 23.  32.9 23.4 29.6 36.1 28.6 19.4 10.5 25.  21.9  7.\n",
      " 21.7 21.4 35.1 23.9 29.6 25.  22.  18.9 22.  34.9 35.4 16.6 11.9 29.\n",
      " 16.2 33.2 14.6 14.9 22.2 12.  14.1 27.1 10.4  9.5 10.2 21.7 24.4 16.5\n",
      "  7.2 12.7 18.7 16.1 13.4 50.  10.4 16.7 20.1 18.7 19.8 20.  21.7 50.\n",
      " 22.6 27.  16.7 18.6 22.6 20.6 43.8 22.6 15.6 25.  23.  24.  22.5 17.3\n",
      " 24.3 25.1 19.1 23.2 17.4 14.5 14.3 25.  19.  19.1 13.8 23.2 31.  23.7\n",
      " 22.9]\n"
     ]
    }
   ],
   "source": [
    "print(y_train)"
   ]
  },
  {
   "cell_type": "markdown",
   "metadata": {},
   "source": [
    "## Задание 1\n",
    "\n",
    "Как вы уже знаете из лекций, **бустинг** - это метод построения композиций базовых алгоритмов с помощью последовательного добавления к текущей композиции нового алгоритма с некоторым коэффициентом. \n",
    "\n",
    "Градиентный бустинг обучает каждый новый алгоритм так, чтобы он приближал антиградиент ошибки по ответам композиции на обучающей выборке. Аналогично минимизации функций методом градиентного спуска, в градиентном бустинге мы подправляем композицию, изменяя алгоритм в направлении антиградиента ошибки.\n",
    "\n",
    "Воспользуйтесь формулой из лекций, задающей ответы на обучающей выборке, на которые нужно обучать новый алгоритм (фактически это лишь чуть более подробно расписанный градиент от ошибки), и получите частный ее случай, если функция потерь `L` - квадрат отклонения ответа композиции `a(x)` от правильного ответа `y` на данном `x`.\n",
    "\n",
    "Если вы давно не считали производную самостоятельно, вам поможет таблица производных элементарных функций (которую несложно найти в интернете) и правило дифференцирования сложной функции. После дифференцирования квадрата у вас возникнет множитель 2 — т.к. нам все равно предстоит выбирать коэффициент, с которым будет добавлен новый базовый алгоритм, проигноируйте этот множитель при дальнейшем построении алгоритма."
   ]
  },
  {
   "cell_type": "code",
   "execution_count": null,
   "metadata": {
    "collapsed": true
   },
   "outputs": [],
   "source": []
  },
  {
   "cell_type": "markdown",
   "metadata": {},
   "source": [
    "## Задание 2\n",
    "\n",
    "Заведите массив для объектов `DecisionTreeRegressor` (будем их использовать в качестве базовых алгоритмов) и для вещественных чисел (это будут коэффициенты перед базовыми алгоритмами). \n",
    "\n",
    "В цикле от обучите последовательно 50 решающих деревьев с параметрами `max_depth=5` и `random_state=42` (остальные параметры - по умолчанию). В бустинге зачастую используются сотни и тысячи деревьев, но мы ограничимся 50, чтобы алгоритм работал быстрее, и его было проще отлаживать (т.к. цель задания разобраться, как работает метод). Каждое дерево должно обучаться на одном и том же множестве объектов, но ответы, которые учится прогнозировать дерево, будут меняться в соответствие с полученным в задании 1 правилом. \n",
    "\n",
    "Попробуйте для начала всегда брать коэффициент равным 0.9. Обычно оправдано выбирать коэффициент значительно меньшим - порядка 0.05 или 0.1, но т.к. в нашем учебном примере на стандартном датасете будет всего 50 деревьев, возьмем для начала шаг побольше.\n",
    "\n",
    "В процессе реализации обучения вам потребуется функция, которая будет вычислять прогноз построенной на данный момент композиции деревьев на выборке `X`:\n",
    "\n",
    "```\n",
    "def gbm_predict(X):\n",
    "    return [sum([coeff * algo.predict([x])[0] for algo, coeff in zip(base_algorithms_list, coefficients_list)]) for x in X]\n",
    "(считаем, что base_algorithms_list - список с базовыми алгоритмами, coefficients_list - список с коэффициентами перед алгоритмами)\n",
    "```\n",
    "\n",
    "Эта же функция поможет вам получить прогноз на контрольной выборке и оценить качество работы вашего алгоритма с помощью `mean_squared_error` в `sklearn.metrics`. \n",
    "\n",
    "Возведите результат в степень 0.5, чтобы получить `RMSE`. Полученное значение `RMSE` — **ответ в пункте 2**."
   ]
  },
  {
   "cell_type": "code",
   "execution_count": 21,
   "metadata": {},
   "outputs": [],
   "source": [
    "from sklearn import metrics"
   ]
  },
  {
   "cell_type": "code",
   "execution_count": 22,
   "metadata": {
    "collapsed": true
   },
   "outputs": [],
   "source": [
    "base_algorithms_list = []\n",
    "coefficients_list = np.full(50, 0.9)\n",
    "s = y_train\n",
    "\n",
    "def gbm_predict(X):\n",
    "    return [sum([coeff * algo.predict([x])[0] for algo, coeff in zip(base_algorithms_list, coefficients_list)]) for x in X]\n",
    "\n",
    "for i in range (50):\n",
    "    tree = DecisionTreeRegressor(max_depth = 5)\n",
    "    tree.fit(X_train, s)\n",
    "    base_algorithms_list.append(tree)\n",
    "    s = y_train - gbm_predict(X_train)\n",
    "\n",
    "score = metrics.mean_squared_error(y_test, gbm_predict(X_test))"
   ]
  },
  {
   "cell_type": "code",
   "execution_count": 23,
   "metadata": {},
   "outputs": [],
   "source": [
    "with open (\"GB_task2.txt\", \"w\") as fout:\n",
    "    fout.write(str(np.sqrt(score)))\n",
    "\n"
   ]
  },
  {
   "cell_type": "markdown",
   "metadata": {},
   "source": [
    "## Задание 3\n",
    "\n",
    "Вас может также беспокоить, что двигаясь с постоянным шагом, вблизи минимума ошибки ответы на обучающей выборке меняются слишком резко, перескакивая через минимум. \n",
    "\n",
    "Попробуйте уменьшать вес перед каждым алгоритмом с каждой следующей итерацией по формуле `0.9 / (1.0 + i)`, где `i` - номер итерации (от 0 до 49). Используйте качество работы алгоритма как **ответ в пункте 3**. \n",
    "\n",
    "В реальности часто применяется следующая стратегия выбора шага: как только выбран алгоритм, подберем коэффициент перед ним численным методом оптимизации таким образом, чтобы отклонение от правильных ответов было минимальным. Мы не будем предлагать вам реализовать это для выполнения задания, но рекомендуем попробовать разобраться с такой стратегией и реализовать ее при случае для себя."
   ]
  },
  {
   "cell_type": "code",
   "execution_count": 24,
   "metadata": {
    "collapsed": true
   },
   "outputs": [],
   "source": [
    "base_algorithms_list = []\n",
    "coefficients_list = np.full(50, 0.9)\n",
    "for i in range(50):\n",
    "    coefficients_list[i] = 0.9 / (1.0 + i)\n",
    "s = y_train\n",
    "\n",
    "for i in range (50):\n",
    "    tree = DecisionTreeRegressor(max_depth = 5)\n",
    "    tree.fit(X_train, s)\n",
    "    base_algorithms_list.append(tree)\n",
    "    s = y_train - gbm_predict(X_train)\n",
    "\n",
    "score = metrics.mean_squared_error(y_test, gbm_predict(X_test))"
   ]
  },
  {
   "cell_type": "code",
   "execution_count": 25,
   "metadata": {},
   "outputs": [],
   "source": [
    "with open (\"GB_task3.txt\", \"w\") as fout:\n",
    "    fout.write(str(np.sqrt(score)))"
   ]
  },
  {
   "cell_type": "markdown",
   "metadata": {},
   "source": [
    "## Задание 4\n",
    "\n",
    "Реализованный вами метод - градиентный бустинг над деревьями - очень популярен в машинном обучении. Он представлен как в самой библиотеке `sklearn`, так и в сторонней библиотеке `XGBoost`, которая имеет свой питоновский интерфейс. На практике `XGBoost` работает заметно лучше `GradientBoostingRegressor` из `sklearn`, но для этого задания вы можете использовать любую реализацию. \n",
    "\n",
    "Исследуйте, переобучается ли градиентный бустинг с ростом числа итераций (и подумайте, почему), а также с ростом глубины деревьев. На основе наблюдений выпишите через пробел номера правильных из приведенных ниже утверждений в порядке возрастания номера (это будет **ответ в п.4**):\n",
    "\n",
    "    1. С увеличением числа деревьев, начиная с некоторого момента, качество работы градиентного бустинга не меняется существенно.\n",
    "\n",
    "    2. С увеличением числа деревьев, начиная с некоторого момента, градиентный бустинг начинает переобучаться.\n",
    "\n",
    "    3. С ростом глубины деревьев, начиная с некоторого момента, качество работы градиентного бустинга на тестовой выборке начинает ухудшаться.\n",
    "\n",
    "    4. С ростом глубины деревьев, начиная с некоторого момента, качество работы градиентного бустинга перестает существенно изменяться"
   ]
  },
  {
   "cell_type": "code",
   "execution_count": 26,
   "metadata": {
    "collapsed": true
   },
   "outputs": [
    {
     "name": "stdout",
     "output_type": "stream",
     "text": [
      "Populating the interactive namespace from numpy and matplotlib\n"
     ]
    }
   ],
   "source": [
    "from sklearn.ensemble import GradientBoostingRegressor\n",
    "%pylab inline "
   ]
  },
  {
   "cell_type": "code",
   "execution_count": 37,
   "metadata": {},
   "outputs": [],
   "source": [
    "depths = np.arange(1, 300, 5)\n",
    "nums_tree = np.arange(10, 5000, 100)\n",
    "scores_depth = np.zeros(len(depths))\n",
    "scores_tree_num = np.zeros(len(nums_tree))"
   ]
  },
  {
   "cell_type": "code",
   "execution_count": 38,
   "metadata": {},
   "outputs": [],
   "source": [
    "for i, depth in enumerate(depths):\n",
    "    tree = GradientBoostingRegressor(max_depth = depth)\n",
    "    tree.fit(X_train, y_train)\n",
    "    pred_depth = tree.predict(X_test)\n",
    "    scores_depth[i] = np.sqrt((metrics.mean_squared_error(y_test, pred_depth)))\n"
   ]
  },
  {
   "cell_type": "code",
   "execution_count": 29,
   "metadata": {},
   "outputs": [
    {
     "data": {
      "text/plain": [
       "Text(0, 0.5, 'mean_square_error')"
      ]
     },
     "execution_count": 29,
     "metadata": {},
     "output_type": "execute_result"
    },
    {
     "data": {
      "image/png": "[encoded data removed]",
      "text/plain": [
       "<Figure size 432x288 with 1 Axes>"
      ]
     },
     "metadata": {
      "needs_background": "light"
     },
     "output_type": "display_data"
    }
   ],
   "source": [
    "pylab.grid(True)\n",
    "pylab.plot(depths, scores_depth)\n",
    "pylab.xlabel(\"max_depth\")\n",
    "pylab.ylabel(\"mean_square_error\")"
   ]
  },
  {
   "cell_type": "code",
   "execution_count": 39,
   "metadata": {},
   "outputs": [],
   "source": [
    "for i, num_tree in enumerate(nums_tree):\n",
    "    tree = GradientBoostingRegressor(n_estimators = num_tree)\n",
    "    tree.fit(X_train, y_train)\n",
    "    pred_num_tree = tree.predict(X_test)\n",
    "    scores_tree_num[i] = np.sqrt((metrics.mean_squared_error(y_test, pred_num_tree)))"
   ]
  },
  {
   "cell_type": "code",
   "execution_count": 40,
   "metadata": {},
   "outputs": [
    {
     "data": {
      "text/plain": [
       "Text(0, 0.5, 'mean_square_error')"
      ]
     },
     "execution_count": 40,
     "metadata": {},
     "output_type": "execute_result"
    },
    {
     "data": {
      "image/png": "[encoded data removed]",
      "text/plain": [
       "<Figure size 432x288 with 1 Axes>"
      ]
     },
     "metadata": {
      "needs_background": "light"
     },
     "output_type": "display_data"
    }
   ],
   "source": [
    "pylab.grid(True)\n",
    "pylab.plot(nums_tree, scores_tree_num)\n",
    "pylab.xlabel(\"n_trees\")\n",
    "pylab.ylabel(\"mean_square_error\")"
   ]
  },
  {
   "cell_type": "code",
   "execution_count": 32,
   "metadata": {},
   "outputs": [],
   "source": [
    "from sklearn.linear_model import LinearRegression"
   ]
  },
  {
   "cell_type": "markdown",
   "metadata": {},
   "source": [
    "## Задание 5\n",
    "\n",
    "Сравните получаемое с помощью градиентного бустинга качество с качеством работы линейной регрессии. \n",
    "\n",
    "Для этого обучите `LinearRegression` из `sklearn.linear_model` (с параметрами по умолчанию) на обучающей выборке и оцените для прогнозов полученного алгоритма на тестовой выборке `RMSE`. Полученное качество - ответ в **пункте 5**. \n",
    "\n",
    "В данном примере качество работы простой модели должно было оказаться хуже, но не стоит забывать, что так бывает не всегда. В заданиях к этому курсу вы еще встретите пример обратной ситуации."
   ]
  },
  {
   "cell_type": "code",
   "execution_count": 33,
   "metadata": {
    "collapsed": true
   },
   "outputs": [],
   "source": [
    "lin_reg = LinearRegression()\n",
    "lin_reg.fit(X_train, y_train)\n",
    "pred = lin_reg.predict(X_test)\n",
    "score = metrics.mean_squared_error(y_test, pred)\n",
    "rmse = np.sqrt(score)"
   ]
  },
  {
   "cell_type": "code",
   "execution_count": 34,
   "metadata": {},
   "outputs": [],
   "source": [
    "with open (\"GB_task5.txt\", \"w\") as fout:\n",
    "    fout.write(str(rmse))"
   ]
  },
  {
   "cell_type": "code",
   "execution_count": null,
   "metadata": {},
   "outputs": [],
   "source": []
  }
 ],
 "metadata": {
  "interpreter": {
   "hash": "66192696da2d2b70fb41e7bd0b6d56aa34ef93b78c1c09f382cf8ad7952253ed"
  },
  "kernelspec": {
   "display_name": "Python 3.9.7 64-bit",
   "name": "python3"
  },
  "language_info": {
   "codemirror_mode": {
    "name": "ipython",
    "version": 3
   },
   "file_extension": ".py",
   "mimetype": "text/x-python",
   "name": "python",
   "nbconvert_exporter": "python",
   "pygments_lexer": "ipython3",
   "version": "3.9.7"
  }
 },
 "nbformat": 4,
 "nbformat_minor": 1
}
