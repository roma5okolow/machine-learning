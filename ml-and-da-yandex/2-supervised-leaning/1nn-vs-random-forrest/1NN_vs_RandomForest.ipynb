{
 "cells": [
  {
   "cell_type": "code",
   "execution_count": 42,
   "metadata": {},
   "outputs": [],
   "source": [
    "import numpy as np\n",
    "from sklearn.ensemble import RandomForestClassifier\n",
    "from sklearn import datasets, model_selection\n",
    "from sklearn import metrics"
   ]
  },
  {
   "cell_type": "code",
   "execution_count": null,
   "metadata": {},
   "outputs": [],
   "source": [
    "data, target = datasets.load_digits(return_X_y = True)\n",
    "X_train, X_test, y_train, y_test = model_selection.train_test_split(data, target, test_size = 0.25, shuffle = False) "
   ]
  },
  {
   "cell_type": "code",
   "execution_count": null,
   "metadata": {},
   "outputs": [],
   "source": [
    "def Distance (dot_1 = [], dot_2 = []):\n",
    "    sum = 0\n",
    "    for i, j in zip(dot_1, dot_2):\n",
    "        sum +=  np.power((i - j), 2)\n",
    "    return sum\n"
   ]
  },
  {
   "cell_type": "code",
   "execution_count": null,
   "metadata": {},
   "outputs": [],
   "source": [
    "dot_1 = [1, 2, 3]\n",
    "dot_2 = [-1, -2, -3]\n",
    "print(Distance(dot_1, dot_2))"
   ]
  },
  {
   "cell_type": "code",
   "execution_count": null,
   "metadata": {},
   "outputs": [],
   "source": [
    "# full sort\n",
    "def OneNN (point, X = [], y = []):\n",
    "    pairs_arr = list ()\n",
    "    for i, neighbour in enumerate (X):\n",
    "        pair = [Distance(point, neighbour), y[i]]\n",
    "        pairs_arr.append(pair)\n",
    "    pairs_arr.sort(key = lambda x: x[0])\n",
    "    return (pairs_arr[0][1])"
   ]
  },
  {
   "cell_type": "code",
   "execution_count": 39,
   "metadata": {},
   "outputs": [],
   "source": [
    "# min elem\n",
    "def MinOneNN (point, X = [], y = []):\n",
    "    pairs_arr = list ()\n",
    "    for i, neighbour in enumerate (X):\n",
    "        pair = [Distance(point, neighbour), y[i]]\n",
    "        pairs_arr.append(pair)\n",
    "    min(pairs_arr, key = lambda x: x[0])\n",
    "    return (pairs_arr[0][1])"
   ]
  },
  {
   "cell_type": "code",
   "execution_count": null,
   "metadata": {},
   "outputs": [],
   "source": [
    "test = OneNN(X_test[1], X_train, y_train)\n",
    "print(test[0][1])"
   ]
  },
  {
   "cell_type": "code",
   "execution_count": null,
   "metadata": {},
   "outputs": [],
   "source": [
    "true_answers = 0\n",
    "for point, label in zip(X_test, y_test):\n",
    "    answer = OneNN(point, X_train, y_train)\n",
    "    if answer == label:\n",
    "        true_answers += 1"
   ]
  },
  {
   "cell_type": "code",
   "execution_count": 33,
   "metadata": {},
   "outputs": [
    {
     "name": "stdout",
     "output_type": "stream",
     "text": [
      "0.0377777777777778\n"
     ]
    }
   ],
   "source": [
    "score = 1 - true_answers / len(y_test)\n",
    "print(score)"
   ]
  },
  {
   "cell_type": "code",
   "execution_count": 34,
   "metadata": {},
   "outputs": [],
   "source": [
    "with open (\"ans1.txt\", \"w\") as f:\n",
    "    f.write(str(score))"
   ]
  },
  {
   "cell_type": "code",
   "execution_count": 43,
   "metadata": {},
   "outputs": [],
   "source": [
    "forrest = RandomForestClassifier(n_estimators = 1000, n_jobs = -1)\n",
    "forrest.fit(X_train, y_train)\n",
    "answers = forrest.predict(X_test)\n"
   ]
  },
  {
   "cell_type": "code",
   "execution_count": 44,
   "metadata": {},
   "outputs": [
    {
     "name": "stdout",
     "output_type": "stream",
     "text": [
      "0.9377777777777778\n"
     ]
    }
   ],
   "source": [
    "score = metrics.accuracy_score(y_test, answers)\n",
    "print(score)"
   ]
  },
  {
   "cell_type": "code",
   "execution_count": 45,
   "metadata": {},
   "outputs": [],
   "source": [
    "with open(\"ans2.txt\", \"w\") as f:\n",
    "    f.write(str(1 - score))"
   ]
  }
 ],
 "metadata": {
  "interpreter": {
   "hash": "66192696da2d2b70fb41e7bd0b6d56aa34ef93b78c1c09f382cf8ad7952253ed"
  },
  "kernelspec": {
   "display_name": "Python 3.9.7 64-bit",
   "name": "python3"
  },
  "language_info": {
   "codemirror_mode": {
    "name": "ipython",
    "version": 3
   },
   "file_extension": ".py",
   "mimetype": "text/x-python",
   "name": "python",
   "nbconvert_exporter": "python",
   "pygments_lexer": "ipython3",
   "version": "3.9.7"
  },
  "orig_nbformat": 4
 },
 "nbformat": 4,
 "nbformat_minor": 2
}
