{
 "cells": [
  {
   "cell_type": "code",
   "execution_count": 1,
   "id": "3faec981",
   "metadata": {
    "_cell_guid": "b1076dfc-b9ad-4769-8c92-a6c4dae69d19",
    "_uuid": "8f2839f25d086af736a60e9eeb907d3b93b6e0e5",
    "execution": {
     "iopub.execute_input": "2022-08-05T11:45:32.405859Z",
     "iopub.status.busy": "2022-08-05T11:45:32.404974Z",
     "iopub.status.idle": "2022-08-05T11:45:34.070819Z",
     "shell.execute_reply": "2022-08-05T11:45:34.069446Z"
    },
    "papermill": {
     "duration": 1.692726,
     "end_time": "2022-08-05T11:45:34.073725",
     "exception": false,
     "start_time": "2022-08-05T11:45:32.380999",
     "status": "completed"
    },
    "tags": []
   },
   "outputs": [],
   "source": [
    "import numpy as np\n",
    "import pandas as pd\n",
    "import seaborn as sns\n",
    "from matplotlib import pyplot as plt\n",
    "from sklearn.tree import DecisionTreeClassifier\n",
    "from scipy.stats import chi2_contingency\n",
    "from sklearn.ensemble import RandomForestRegressor, RandomForestClassifier, ExtraTreesClassifier, \\\n",
    "                             StackingClassifier, VotingClassifier, AdaBoostClassifier, \\\n",
    "                             GradientBoostingClassifier\n",
    "from sklearn.metrics import accuracy_score, precision_score, recall_score, f1_score, roc_auc_score\n",
    "from sklearn.model_selection import cross_validate, KFold, RandomizedSearchCV, GridSearchCV\n",
    "from sklearn.preprocessing import LabelEncoder, StandardScaler\n",
    "from sklearn.neighbors import KNeighborsClassifier\n",
    "from sklearn.naive_bayes import GaussianNB\n",
    "from sklearn.linear_model import LogisticRegression\n",
    "from sklearn.neural_network import MLPClassifier\n",
    "from sklearn.discriminant_analysis import LinearDiscriminantAnalysis\n",
    "from sklearn.svm import SVC\n",
    "import xgboost as xgb\n",
    "\n",
    "sns.set_theme(palette=sns.color_palette(\"Set2\"), rc={'figure.figsize':(15,6)})"
   ]
  },
  {
   "cell_type": "markdown",
   "id": "c2f19082",
   "metadata": {
    "papermill": {
     "duration": 0.019241,
     "end_time": "2022-08-05T11:45:34.114009",
     "exception": false,
     "start_time": "2022-08-05T11:45:34.094768",
     "status": "completed"
    },
    "tags": []
   },
   "source": [
    "# Data processing"
   ]
  },
  {
   "cell_type": "markdown",
   "id": "6290d780",
   "metadata": {
    "papermill": {
     "duration": 0.020268,
     "end_time": "2022-08-05T11:45:34.153775",
     "exception": false,
     "start_time": "2022-08-05T11:45:34.133507",
     "status": "completed"
    },
    "tags": []
   },
   "source": [
    "## Research"
   ]
  },
  {
   "cell_type": "code",
   "execution_count": 2,
   "id": "34022b3e",
   "metadata": {
    "execution": {
     "iopub.execute_input": "2022-08-05T11:45:34.195025Z",
     "iopub.status.busy": "2022-08-05T11:45:34.194181Z",
     "iopub.status.idle": "2022-08-05T11:45:34.236142Z",
     "shell.execute_reply": "2022-08-05T11:45:34.234854Z"
    },
    "papermill": {
     "duration": 0.065877,
     "end_time": "2022-08-05T11:45:34.239351",
     "exception": false,
     "start_time": "2022-08-05T11:45:34.173474",
     "status": "completed"
    },
    "tags": []
   },
   "outputs": [
    {
     "name": "stdout",
     "output_type": "stream",
     "text": [
      "(891, 12)\n"
     ]
    },
    {
     "data": {
      "text/html": [
       "<div>\n",
       "<style scoped>\n",
       "    .dataframe tbody tr th:only-of-type {\n",
       "        vertical-align: middle;\n",
       "    }\n",
       "\n",
       "    .dataframe tbody tr th {\n",
       "        vertical-align: top;\n",
       "    }\n",
       "\n",
       "    .dataframe thead th {\n",
       "        text-align: right;\n",
       "    }\n",
       "</style>\n",
       "<table border=\"1\" class=\"dataframe\">\n",
       "  <thead>\n",
       "    <tr style=\"text-align: right;\">\n",
       "      <th></th>\n",
       "      <th>PassengerId</th>\n",
       "      <th>Survived</th>\n",
       "      <th>Pclass</th>\n",
       "      <th>Name</th>\n",
       "      <th>Sex</th>\n",
       "      <th>Age</th>\n",
       "      <th>SibSp</th>\n",
       "      <th>Parch</th>\n",
       "      <th>Ticket</th>\n",
       "      <th>Fare</th>\n",
       "      <th>Cabin</th>\n",
       "      <th>Embarked</th>\n",
       "    </tr>\n",
       "  </thead>\n",
       "  <tbody>\n",
       "    <tr>\n",
       "      <th>0</th>\n",
       "      <td>1</td>\n",
       "      <td>0</td>\n",
       "      <td>3</td>\n",
       "      <td>Braund, Mr. Owen Harris</td>\n",
       "      <td>male</td>\n",
       "      <td>22.0</td>\n",
       "      <td>1</td>\n",
       "      <td>0</td>\n",
       "      <td>A/5 21171</td>\n",
       "      <td>7.2500</td>\n",
       "      <td>NaN</td>\n",
       "      <td>S</td>\n",
       "    </tr>\n",
       "    <tr>\n",
       "      <th>1</th>\n",
       "      <td>2</td>\n",
       "      <td>1</td>\n",
       "      <td>1</td>\n",
       "      <td>Cumings, Mrs. John Bradley (Florence Briggs Th...</td>\n",
       "      <td>female</td>\n",
       "      <td>38.0</td>\n",
       "      <td>1</td>\n",
       "      <td>0</td>\n",
       "      <td>PC 17599</td>\n",
       "      <td>71.2833</td>\n",
       "      <td>C85</td>\n",
       "      <td>C</td>\n",
       "    </tr>\n",
       "    <tr>\n",
       "      <th>2</th>\n",
       "      <td>3</td>\n",
       "      <td>1</td>\n",
       "      <td>3</td>\n",
       "      <td>Heikkinen, Miss. Laina</td>\n",
       "      <td>female</td>\n",
       "      <td>26.0</td>\n",
       "      <td>0</td>\n",
       "      <td>0</td>\n",
       "      <td>STON/O2. 3101282</td>\n",
       "      <td>7.9250</td>\n",
       "      <td>NaN</td>\n",
       "      <td>S</td>\n",
       "    </tr>\n",
       "    <tr>\n",
       "      <th>3</th>\n",
       "      <td>4</td>\n",
       "      <td>1</td>\n",
       "      <td>1</td>\n",
       "      <td>Futrelle, Mrs. Jacques Heath (Lily May Peel)</td>\n",
       "      <td>female</td>\n",
       "      <td>35.0</td>\n",
       "      <td>1</td>\n",
       "      <td>0</td>\n",
       "      <td>113803</td>\n",
       "      <td>53.1000</td>\n",
       "      <td>C123</td>\n",
       "      <td>S</td>\n",
       "    </tr>\n",
       "    <tr>\n",
       "      <th>4</th>\n",
       "      <td>5</td>\n",
       "      <td>0</td>\n",
       "      <td>3</td>\n",
       "      <td>Allen, Mr. William Henry</td>\n",
       "      <td>male</td>\n",
       "      <td>35.0</td>\n",
       "      <td>0</td>\n",
       "      <td>0</td>\n",
       "      <td>373450</td>\n",
       "      <td>8.0500</td>\n",
       "      <td>NaN</td>\n",
       "      <td>S</td>\n",
       "    </tr>\n",
       "    <tr>\n",
       "      <th>5</th>\n",
       "      <td>6</td>\n",
       "      <td>0</td>\n",
       "      <td>3</td>\n",
       "      <td>Moran, Mr. James</td>\n",
       "      <td>male</td>\n",
       "      <td>NaN</td>\n",
       "      <td>0</td>\n",
       "      <td>0</td>\n",
       "      <td>330877</td>\n",
       "      <td>8.4583</td>\n",
       "      <td>NaN</td>\n",
       "      <td>Q</td>\n",
       "    </tr>\n",
       "    <tr>\n",
       "      <th>6</th>\n",
       "      <td>7</td>\n",
       "      <td>0</td>\n",
       "      <td>1</td>\n",
       "      <td>McCarthy, Mr. Timothy J</td>\n",
       "      <td>male</td>\n",
       "      <td>54.0</td>\n",
       "      <td>0</td>\n",
       "      <td>0</td>\n",
       "      <td>17463</td>\n",
       "      <td>51.8625</td>\n",
       "      <td>E46</td>\n",
       "      <td>S</td>\n",
       "    </tr>\n",
       "    <tr>\n",
       "      <th>7</th>\n",
       "      <td>8</td>\n",
       "      <td>0</td>\n",
       "      <td>3</td>\n",
       "      <td>Palsson, Master. Gosta Leonard</td>\n",
       "      <td>male</td>\n",
       "      <td>2.0</td>\n",
       "      <td>3</td>\n",
       "      <td>1</td>\n",
       "      <td>349909</td>\n",
       "      <td>21.0750</td>\n",
       "      <td>NaN</td>\n",
       "      <td>S</td>\n",
       "    </tr>\n",
       "    <tr>\n",
       "      <th>8</th>\n",
       "      <td>9</td>\n",
       "      <td>1</td>\n",
       "      <td>3</td>\n",
       "      <td>Johnson, Mrs. Oscar W (Elisabeth Vilhelmina Berg)</td>\n",
       "      <td>female</td>\n",
       "      <td>27.0</td>\n",
       "      <td>0</td>\n",
       "      <td>2</td>\n",
       "      <td>347742</td>\n",
       "      <td>11.1333</td>\n",
       "      <td>NaN</td>\n",
       "      <td>S</td>\n",
       "    </tr>\n",
       "    <tr>\n",
       "      <th>9</th>\n",
       "      <td>10</td>\n",
       "      <td>1</td>\n",
       "      <td>2</td>\n",
       "      <td>Nasser, Mrs. Nicholas (Adele Achem)</td>\n",
       "      <td>female</td>\n",
       "      <td>14.0</td>\n",
       "      <td>1</td>\n",
       "      <td>0</td>\n",
       "      <td>237736</td>\n",
       "      <td>30.0708</td>\n",
       "      <td>NaN</td>\n",
       "      <td>C</td>\n",
       "    </tr>\n",
       "  </tbody>\n",
       "</table>\n",
       "</div>"
      ],
      "text/plain": [
       "   PassengerId  Survived  Pclass  \\\n",
       "0            1         0       3   \n",
       "1            2         1       1   \n",
       "2            3         1       3   \n",
       "3            4         1       1   \n",
       "4            5         0       3   \n",
       "5            6         0       3   \n",
       "6            7         0       1   \n",
       "7            8         0       3   \n",
       "8            9         1       3   \n",
       "9           10         1       2   \n",
       "\n",
       "                                                Name     Sex   Age  SibSp  \\\n",
       "0                            Braund, Mr. Owen Harris    male  22.0      1   \n",
       "1  Cumings, Mrs. John Bradley (Florence Briggs Th...  female  38.0      1   \n",
       "2                             Heikkinen, Miss. Laina  female  26.0      0   \n",
       "3       Futrelle, Mrs. Jacques Heath (Lily May Peel)  female  35.0      1   \n",
       "4                           Allen, Mr. William Henry    male  35.0      0   \n",
       "5                                   Moran, Mr. James    male   NaN      0   \n",
       "6                            McCarthy, Mr. Timothy J    male  54.0      0   \n",
       "7                     Palsson, Master. Gosta Leonard    male   2.0      3   \n",
       "8  Johnson, Mrs. Oscar W (Elisabeth Vilhelmina Berg)  female  27.0      0   \n",
       "9                Nasser, Mrs. Nicholas (Adele Achem)  female  14.0      1   \n",
       "\n",
       "   Parch            Ticket     Fare Cabin Embarked  \n",
       "0      0         A/5 21171   7.2500   NaN        S  \n",
       "1      0          PC 17599  71.2833   C85        C  \n",
       "2      0  STON/O2. 3101282   7.9250   NaN        S  \n",
       "3      0            113803  53.1000  C123        S  \n",
       "4      0            373450   8.0500   NaN        S  \n",
       "5      0            330877   8.4583   NaN        Q  \n",
       "6      0             17463  51.8625   E46        S  \n",
       "7      1            349909  21.0750   NaN        S  \n",
       "8      2            347742  11.1333   NaN        S  \n",
       "9      0            237736  30.0708   NaN        C  "
      ]
     },
     "execution_count": 2,
     "metadata": {},
     "output_type": "execute_result"
    }
   ],
   "source": [
    "train = pd.read_csv(\"/kaggle/input/titanic/train.csv\")\n",
    "print(train.shape)\n",
    "train.head(10)"
   ]
  },
  {
   "cell_type": "code",
   "execution_count": 3,
   "id": "e728e78b",
   "metadata": {
    "execution": {
     "iopub.execute_input": "2022-08-05T11:45:34.283417Z",
     "iopub.status.busy": "2022-08-05T11:45:34.282585Z",
     "iopub.status.idle": "2022-08-05T11:45:34.311605Z",
     "shell.execute_reply": "2022-08-05T11:45:34.310346Z"
    },
    "papermill": {
     "duration": 0.053108,
     "end_time": "2022-08-05T11:45:34.313877",
     "exception": false,
     "start_time": "2022-08-05T11:45:34.260769",
     "status": "completed"
    },
    "tags": []
   },
   "outputs": [
    {
     "name": "stdout",
     "output_type": "stream",
     "text": [
      "(418, 11)\n"
     ]
    },
    {
     "data": {
      "text/html": [
       "<div>\n",
       "<style scoped>\n",
       "    .dataframe tbody tr th:only-of-type {\n",
       "        vertical-align: middle;\n",
       "    }\n",
       "\n",
       "    .dataframe tbody tr th {\n",
       "        vertical-align: top;\n",
       "    }\n",
       "\n",
       "    .dataframe thead th {\n",
       "        text-align: right;\n",
       "    }\n",
       "</style>\n",
       "<table border=\"1\" class=\"dataframe\">\n",
       "  <thead>\n",
       "    <tr style=\"text-align: right;\">\n",
       "      <th></th>\n",
       "      <th>PassengerId</th>\n",
       "      <th>Pclass</th>\n",
       "      <th>Name</th>\n",
       "      <th>Sex</th>\n",
       "      <th>Age</th>\n",
       "      <th>SibSp</th>\n",
       "      <th>Parch</th>\n",
       "      <th>Ticket</th>\n",
       "      <th>Fare</th>\n",
       "      <th>Cabin</th>\n",
       "      <th>Embarked</th>\n",
       "    </tr>\n",
       "  </thead>\n",
       "  <tbody>\n",
       "    <tr>\n",
       "      <th>0</th>\n",
       "      <td>892</td>\n",
       "      <td>3</td>\n",
       "      <td>Kelly, Mr. James</td>\n",
       "      <td>male</td>\n",
       "      <td>34.5</td>\n",
       "      <td>0</td>\n",
       "      <td>0</td>\n",
       "      <td>330911</td>\n",
       "      <td>7.8292</td>\n",
       "      <td>NaN</td>\n",
       "      <td>Q</td>\n",
       "    </tr>\n",
       "    <tr>\n",
       "      <th>1</th>\n",
       "      <td>893</td>\n",
       "      <td>3</td>\n",
       "      <td>Wilkes, Mrs. James (Ellen Needs)</td>\n",
       "      <td>female</td>\n",
       "      <td>47.0</td>\n",
       "      <td>1</td>\n",
       "      <td>0</td>\n",
       "      <td>363272</td>\n",
       "      <td>7.0000</td>\n",
       "      <td>NaN</td>\n",
       "      <td>S</td>\n",
       "    </tr>\n",
       "    <tr>\n",
       "      <th>2</th>\n",
       "      <td>894</td>\n",
       "      <td>2</td>\n",
       "      <td>Myles, Mr. Thomas Francis</td>\n",
       "      <td>male</td>\n",
       "      <td>62.0</td>\n",
       "      <td>0</td>\n",
       "      <td>0</td>\n",
       "      <td>240276</td>\n",
       "      <td>9.6875</td>\n",
       "      <td>NaN</td>\n",
       "      <td>Q</td>\n",
       "    </tr>\n",
       "    <tr>\n",
       "      <th>3</th>\n",
       "      <td>895</td>\n",
       "      <td>3</td>\n",
       "      <td>Wirz, Mr. Albert</td>\n",
       "      <td>male</td>\n",
       "      <td>27.0</td>\n",
       "      <td>0</td>\n",
       "      <td>0</td>\n",
       "      <td>315154</td>\n",
       "      <td>8.6625</td>\n",
       "      <td>NaN</td>\n",
       "      <td>S</td>\n",
       "    </tr>\n",
       "    <tr>\n",
       "      <th>4</th>\n",
       "      <td>896</td>\n",
       "      <td>3</td>\n",
       "      <td>Hirvonen, Mrs. Alexander (Helga E Lindqvist)</td>\n",
       "      <td>female</td>\n",
       "      <td>22.0</td>\n",
       "      <td>1</td>\n",
       "      <td>1</td>\n",
       "      <td>3101298</td>\n",
       "      <td>12.2875</td>\n",
       "      <td>NaN</td>\n",
       "      <td>S</td>\n",
       "    </tr>\n",
       "    <tr>\n",
       "      <th>5</th>\n",
       "      <td>897</td>\n",
       "      <td>3</td>\n",
       "      <td>Svensson, Mr. Johan Cervin</td>\n",
       "      <td>male</td>\n",
       "      <td>14.0</td>\n",
       "      <td>0</td>\n",
       "      <td>0</td>\n",
       "      <td>7538</td>\n",
       "      <td>9.2250</td>\n",
       "      <td>NaN</td>\n",
       "      <td>S</td>\n",
       "    </tr>\n",
       "    <tr>\n",
       "      <th>6</th>\n",
       "      <td>898</td>\n",
       "      <td>3</td>\n",
       "      <td>Connolly, Miss. Kate</td>\n",
       "      <td>female</td>\n",
       "      <td>30.0</td>\n",
       "      <td>0</td>\n",
       "      <td>0</td>\n",
       "      <td>330972</td>\n",
       "      <td>7.6292</td>\n",
       "      <td>NaN</td>\n",
       "      <td>Q</td>\n",
       "    </tr>\n",
       "    <tr>\n",
       "      <th>7</th>\n",
       "      <td>899</td>\n",
       "      <td>2</td>\n",
       "      <td>Caldwell, Mr. Albert Francis</td>\n",
       "      <td>male</td>\n",
       "      <td>26.0</td>\n",
       "      <td>1</td>\n",
       "      <td>1</td>\n",
       "      <td>248738</td>\n",
       "      <td>29.0000</td>\n",
       "      <td>NaN</td>\n",
       "      <td>S</td>\n",
       "    </tr>\n",
       "    <tr>\n",
       "      <th>8</th>\n",
       "      <td>900</td>\n",
       "      <td>3</td>\n",
       "      <td>Abrahim, Mrs. Joseph (Sophie Halaut Easu)</td>\n",
       "      <td>female</td>\n",
       "      <td>18.0</td>\n",
       "      <td>0</td>\n",
       "      <td>0</td>\n",
       "      <td>2657</td>\n",
       "      <td>7.2292</td>\n",
       "      <td>NaN</td>\n",
       "      <td>C</td>\n",
       "    </tr>\n",
       "    <tr>\n",
       "      <th>9</th>\n",
       "      <td>901</td>\n",
       "      <td>3</td>\n",
       "      <td>Davies, Mr. John Samuel</td>\n",
       "      <td>male</td>\n",
       "      <td>21.0</td>\n",
       "      <td>2</td>\n",
       "      <td>0</td>\n",
       "      <td>A/4 48871</td>\n",
       "      <td>24.1500</td>\n",
       "      <td>NaN</td>\n",
       "      <td>S</td>\n",
       "    </tr>\n",
       "  </tbody>\n",
       "</table>\n",
       "</div>"
      ],
      "text/plain": [
       "   PassengerId  Pclass                                          Name     Sex  \\\n",
       "0          892       3                              Kelly, Mr. James    male   \n",
       "1          893       3              Wilkes, Mrs. James (Ellen Needs)  female   \n",
       "2          894       2                     Myles, Mr. Thomas Francis    male   \n",
       "3          895       3                              Wirz, Mr. Albert    male   \n",
       "4          896       3  Hirvonen, Mrs. Alexander (Helga E Lindqvist)  female   \n",
       "5          897       3                    Svensson, Mr. Johan Cervin    male   \n",
       "6          898       3                          Connolly, Miss. Kate  female   \n",
       "7          899       2                  Caldwell, Mr. Albert Francis    male   \n",
       "8          900       3     Abrahim, Mrs. Joseph (Sophie Halaut Easu)  female   \n",
       "9          901       3                       Davies, Mr. John Samuel    male   \n",
       "\n",
       "    Age  SibSp  Parch     Ticket     Fare Cabin Embarked  \n",
       "0  34.5      0      0     330911   7.8292   NaN        Q  \n",
       "1  47.0      1      0     363272   7.0000   NaN        S  \n",
       "2  62.0      0      0     240276   9.6875   NaN        Q  \n",
       "3  27.0      0      0     315154   8.6625   NaN        S  \n",
       "4  22.0      1      1    3101298  12.2875   NaN        S  \n",
       "5  14.0      0      0       7538   9.2250   NaN        S  \n",
       "6  30.0      0      0     330972   7.6292   NaN        Q  \n",
       "7  26.0      1      1     248738  29.0000   NaN        S  \n",
       "8  18.0      0      0       2657   7.2292   NaN        C  \n",
       "9  21.0      2      0  A/4 48871  24.1500   NaN        S  "
      ]
     },
     "execution_count": 3,
     "metadata": {},
     "output_type": "execute_result"
    }
   ],
   "source": [
    "test = pd.read_csv(\"/kaggle/input/titanic/test.csv\")\n",
    "print(test.shape)\n",
    "test.head(10)"
   ]
  },
  {
   "cell_type": "markdown",
   "id": "613088ec",
   "metadata": {
    "papermill": {
     "duration": 0.020123,
     "end_time": "2022-08-05T11:45:34.354106",
     "exception": false,
     "start_time": "2022-08-05T11:45:34.333983",
     "status": "completed"
    },
    "tags": []
   },
   "source": [
    "## Handling missing values and data engineering"
   ]
  },
  {
   "cell_type": "code",
   "execution_count": 4,
   "id": "dd2f7fa5",
   "metadata": {
    "execution": {
     "iopub.execute_input": "2022-08-05T11:45:34.396393Z",
     "iopub.status.busy": "2022-08-05T11:45:34.396015Z",
     "iopub.status.idle": "2022-08-05T11:45:34.401123Z",
     "shell.execute_reply": "2022-08-05T11:45:34.399985Z"
    },
    "papermill": {
     "duration": 0.02974,
     "end_time": "2022-08-05T11:45:34.403954",
     "exception": false,
     "start_time": "2022-08-05T11:45:34.374214",
     "status": "completed"
    },
    "tags": []
   },
   "outputs": [],
   "source": [
    "def count_na(column):\n",
    "    print(f\"Train dataset: number of NA in {column} = {train[column].isna().sum()}\")\n",
    "    print(f\"Test dataset: number of NA in {column} = {test[column].isna().sum()}\")"
   ]
  },
  {
   "cell_type": "markdown",
   "id": "dd394004",
   "metadata": {
    "papermill": {
     "duration": 0.020179,
     "end_time": "2022-08-05T11:45:34.445370",
     "exception": false,
     "start_time": "2022-08-05T11:45:34.425191",
     "status": "completed"
    },
    "tags": []
   },
   "source": [
    "### Name"
   ]
  },
  {
   "cell_type": "code",
   "execution_count": 5,
   "id": "fbaa447d",
   "metadata": {
    "execution": {
     "iopub.execute_input": "2022-08-05T11:45:34.489277Z",
     "iopub.status.busy": "2022-08-05T11:45:34.488301Z",
     "iopub.status.idle": "2022-08-05T11:45:34.507408Z",
     "shell.execute_reply": "2022-08-05T11:45:34.505414Z"
    },
    "papermill": {
     "duration": 0.04328,
     "end_time": "2022-08-05T11:45:34.509625",
     "exception": false,
     "start_time": "2022-08-05T11:45:34.466345",
     "status": "completed"
    },
    "tags": []
   },
   "outputs": [
    {
     "name": "stdout",
     "output_type": "stream",
     "text": [
      "Train dataset: number of NA in Name = 0\n",
      "Test dataset: number of NA in Name = 0\n"
     ]
    },
    {
     "data": {
      "text/html": [
       "<div>\n",
       "<style scoped>\n",
       "    .dataframe tbody tr th:only-of-type {\n",
       "        vertical-align: middle;\n",
       "    }\n",
       "\n",
       "    .dataframe tbody tr th {\n",
       "        vertical-align: top;\n",
       "    }\n",
       "\n",
       "    .dataframe thead th {\n",
       "        text-align: right;\n",
       "    }\n",
       "</style>\n",
       "<table border=\"1\" class=\"dataframe\">\n",
       "  <thead>\n",
       "    <tr style=\"text-align: right;\">\n",
       "      <th></th>\n",
       "      <th>Name</th>\n",
       "    </tr>\n",
       "  </thead>\n",
       "  <tbody>\n",
       "    <tr>\n",
       "      <th>0</th>\n",
       "      <td>Braund, Mr. Owen Harris</td>\n",
       "    </tr>\n",
       "    <tr>\n",
       "      <th>1</th>\n",
       "      <td>Cumings, Mrs. John Bradley (Florence Briggs Th...</td>\n",
       "    </tr>\n",
       "    <tr>\n",
       "      <th>2</th>\n",
       "      <td>Heikkinen, Miss. Laina</td>\n",
       "    </tr>\n",
       "    <tr>\n",
       "      <th>3</th>\n",
       "      <td>Futrelle, Mrs. Jacques Heath (Lily May Peel)</td>\n",
       "    </tr>\n",
       "    <tr>\n",
       "      <th>4</th>\n",
       "      <td>Allen, Mr. William Henry</td>\n",
       "    </tr>\n",
       "  </tbody>\n",
       "</table>\n",
       "</div>"
      ],
      "text/plain": [
       "                                                Name\n",
       "0                            Braund, Mr. Owen Harris\n",
       "1  Cumings, Mrs. John Bradley (Florence Briggs Th...\n",
       "2                             Heikkinen, Miss. Laina\n",
       "3       Futrelle, Mrs. Jacques Heath (Lily May Peel)\n",
       "4                           Allen, Mr. William Henry"
      ]
     },
     "execution_count": 5,
     "metadata": {},
     "output_type": "execute_result"
    }
   ],
   "source": [
    "count_na(\"Name\")\n",
    "train[[\"Name\"]].head()"
   ]
  },
  {
   "cell_type": "markdown",
   "id": "289d0063",
   "metadata": {
    "papermill": {
     "duration": 0.021061,
     "end_time": "2022-08-05T11:45:34.551463",
     "exception": false,
     "start_time": "2022-08-05T11:45:34.530402",
     "status": "completed"
    },
    "tags": []
   },
   "source": [
    "Let's get the title from the name and make a new feature with 4 main titles and others(called Rare)"
   ]
  },
  {
   "cell_type": "code",
   "execution_count": 6,
   "id": "75a5e0c4",
   "metadata": {
    "execution": {
     "iopub.execute_input": "2022-08-05T11:45:34.596127Z",
     "iopub.status.busy": "2022-08-05T11:45:34.595470Z",
     "iopub.status.idle": "2022-08-05T11:45:34.621075Z",
     "shell.execute_reply": "2022-08-05T11:45:34.620258Z"
    },
    "papermill": {
     "duration": 0.050553,
     "end_time": "2022-08-05T11:45:34.623132",
     "exception": false,
     "start_time": "2022-08-05T11:45:34.572579",
     "status": "completed"
    },
    "tags": []
   },
   "outputs": [
    {
     "data": {
      "text/plain": [
       "Mr        517\n",
       "Miss      182\n",
       "Mrs       125\n",
       "Master     40\n",
       "Rare       27\n",
       "Name: Title, dtype: int64"
      ]
     },
     "execution_count": 6,
     "metadata": {},
     "output_type": "execute_result"
    }
   ],
   "source": [
    "train['Title'] = train['Name'].str.split(\", \", expand=True)[1].str.split(\".\", expand=True)[0]\n",
    "test['Title'] = test['Name'].str.split(\", \", expand=True)[1].str.split(\".\", expand=True)[0]\n",
    "\n",
    "rare_titles_train = train.Title.value_counts().index[4:]\n",
    "rate_titles_test = test.Title.value_counts().index[4:]\n",
    "\n",
    "train.Title.replace(rare_titles_train, 'Rare', inplace=True)\n",
    "test.Title.replace(rate_titles_test, 'Rare', inplace=True)\n",
    "\n",
    "train.Title.value_counts()"
   ]
  },
  {
   "cell_type": "code",
   "execution_count": 7,
   "id": "362c27e9",
   "metadata": {
    "execution": {
     "iopub.execute_input": "2022-08-05T11:45:34.673450Z",
     "iopub.status.busy": "2022-08-05T11:45:34.672827Z",
     "iopub.status.idle": "2022-08-05T11:45:35.306147Z",
     "shell.execute_reply": "2022-08-05T11:45:35.304948Z"
    },
    "papermill": {
     "duration": 0.660807,
     "end_time": "2022-08-05T11:45:35.308716",
     "exception": false,
     "start_time": "2022-08-05T11:45:34.647909",
     "status": "completed"
    },
    "tags": []
   },
   "outputs": [
    {
     "data": {
      "image/png": "[encoded data removed]",
      "text/plain": [
       "<Figure size 1080x432 with 3 Axes>"
      ]
     },
     "metadata": {},
     "output_type": "display_data"
    }
   ],
   "source": [
    "fig, axes = plt.subplots(1, 3)\n",
    "g = sns.barplot(data=train, x='Title', y='Survived', ax=axes[0])\n",
    "g.set_ylabel(\"Survival proba\")\n",
    "g.set_title(\"Train set\")\n",
    "g = sns.countplot(data=train, x='Title', ax=axes[1])\n",
    "g.set_title(\"Train set\")\n",
    "g = sns.countplot(data=test, x='Title', ax=axes[2])\n",
    "_ = g.set_title('Test set')"
   ]
  },
  {
   "cell_type": "markdown",
   "id": "6a740625",
   "metadata": {
    "papermill": {
     "duration": 0.020458,
     "end_time": "2022-08-05T11:45:35.350949",
     "exception": false,
     "start_time": "2022-08-05T11:45:35.330491",
     "status": "completed"
    },
    "tags": []
   },
   "source": [
    "Summary: \n",
    "* feature distributions is similar in train and test sets\n",
    "* obviously, women have more survival proba"
   ]
  },
  {
   "cell_type": "markdown",
   "id": "b0da0ea3",
   "metadata": {
    "papermill": {
     "duration": 0.020113,
     "end_time": "2022-08-05T11:45:35.391590",
     "exception": false,
     "start_time": "2022-08-05T11:45:35.371477",
     "status": "completed"
    },
    "tags": []
   },
   "source": [
    "### Sex"
   ]
  },
  {
   "cell_type": "code",
   "execution_count": 8,
   "id": "fd15fc47",
   "metadata": {
    "execution": {
     "iopub.execute_input": "2022-08-05T11:45:35.434627Z",
     "iopub.status.busy": "2022-08-05T11:45:35.434245Z",
     "iopub.status.idle": "2022-08-05T11:45:35.440586Z",
     "shell.execute_reply": "2022-08-05T11:45:35.439826Z"
    },
    "papermill": {
     "duration": 0.030558,
     "end_time": "2022-08-05T11:45:35.443022",
     "exception": false,
     "start_time": "2022-08-05T11:45:35.412464",
     "status": "completed"
    },
    "tags": []
   },
   "outputs": [
    {
     "name": "stdout",
     "output_type": "stream",
     "text": [
      "Train dataset: number of NA in Sex = 0\n",
      "Test dataset: number of NA in Sex = 0\n"
     ]
    }
   ],
   "source": [
    "count_na(\"Sex\")"
   ]
  },
  {
   "cell_type": "code",
   "execution_count": 9,
   "id": "4f057e7f",
   "metadata": {
    "execution": {
     "iopub.execute_input": "2022-08-05T11:45:35.486161Z",
     "iopub.status.busy": "2022-08-05T11:45:35.485346Z",
     "iopub.status.idle": "2022-08-05T11:45:35.947660Z",
     "shell.execute_reply": "2022-08-05T11:45:35.946377Z"
    },
    "papermill": {
     "duration": 0.487068,
     "end_time": "2022-08-05T11:45:35.950681",
     "exception": false,
     "start_time": "2022-08-05T11:45:35.463613",
     "status": "completed"
    },
    "tags": []
   },
   "outputs": [
    {
     "data": {
      "image/png": "[encoded data removed]",
      "text/plain": [
       "<Figure size 1080x432 with 3 Axes>"
      ]
     },
     "metadata": {},
     "output_type": "display_data"
    }
   ],
   "source": [
    "fig, axes = plt.subplots(1, 3)\n",
    "g = sns.barplot(data=train, x='Sex', y='Survived', ax=axes[0])\n",
    "g.set_ylabel(\"Survival proba\")\n",
    "g.set_title(\"Train set\")\n",
    "g = sns.countplot(data=train, x='Sex', ax=axes[1])\n",
    "g.set_title(\"Train set\")\n",
    "g = sns.countplot(data=test, x='Sex', ax=axes[2])\n",
    "_ = g.set_title('Test set')"
   ]
  },
  {
   "cell_type": "markdown",
   "id": "7915eb07",
   "metadata": {
    "papermill": {
     "duration": 0.021992,
     "end_time": "2022-08-05T11:45:35.995089",
     "exception": false,
     "start_time": "2022-08-05T11:45:35.973097",
     "status": "completed"
    },
    "tags": []
   },
   "source": [
    "Summary:\n",
    "* as in the previous paragraph, we see high survival prova among women\n",
    "* feauter distribution is similar in train and test sets"
   ]
  },
  {
   "cell_type": "code",
   "execution_count": 10,
   "id": "c60c2d9f",
   "metadata": {
    "execution": {
     "iopub.execute_input": "2022-08-05T11:45:36.040477Z",
     "iopub.status.busy": "2022-08-05T11:45:36.040021Z",
     "iopub.status.idle": "2022-08-05T11:45:36.048279Z",
     "shell.execute_reply": "2022-08-05T11:45:36.047148Z"
    },
    "papermill": {
     "duration": 0.033973,
     "end_time": "2022-08-05T11:45:36.050679",
     "exception": false,
     "start_time": "2022-08-05T11:45:36.016706",
     "status": "completed"
    },
    "tags": []
   },
   "outputs": [],
   "source": [
    "# Applying label encoding\n",
    "train['Sex'] = train['Sex'].map( {'female': 0, 'male': 1} )\n",
    "test['Sex'] = test['Sex'].map( {'female': 0, 'male': 1} )"
   ]
  },
  {
   "cell_type": "markdown",
   "id": "bf7dd7a2",
   "metadata": {
    "papermill": {
     "duration": 0.021986,
     "end_time": "2022-08-05T11:45:36.095733",
     "exception": false,
     "start_time": "2022-08-05T11:45:36.073747",
     "status": "completed"
    },
    "tags": []
   },
   "source": [
    "## Ticket"
   ]
  },
  {
   "cell_type": "code",
   "execution_count": 11,
   "id": "67deba7e",
   "metadata": {
    "execution": {
     "iopub.execute_input": "2022-08-05T11:45:36.142916Z",
     "iopub.status.busy": "2022-08-05T11:45:36.141856Z",
     "iopub.status.idle": "2022-08-05T11:45:36.148666Z",
     "shell.execute_reply": "2022-08-05T11:45:36.147296Z"
    },
    "papermill": {
     "duration": 0.033666,
     "end_time": "2022-08-05T11:45:36.151604",
     "exception": false,
     "start_time": "2022-08-05T11:45:36.117938",
     "status": "completed"
    },
    "tags": []
   },
   "outputs": [
    {
     "name": "stdout",
     "output_type": "stream",
     "text": [
      "Train dataset: number of NA in Ticket = 0\n",
      "Test dataset: number of NA in Ticket = 0\n"
     ]
    }
   ],
   "source": [
    "count_na(\"Ticket\")"
   ]
  },
  {
   "cell_type": "code",
   "execution_count": 12,
   "id": "faffc264",
   "metadata": {
    "execution": {
     "iopub.execute_input": "2022-08-05T11:45:36.199071Z",
     "iopub.status.busy": "2022-08-05T11:45:36.197907Z",
     "iopub.status.idle": "2022-08-05T11:45:36.207823Z",
     "shell.execute_reply": "2022-08-05T11:45:36.206594Z"
    },
    "papermill": {
     "duration": 0.035936,
     "end_time": "2022-08-05T11:45:36.210094",
     "exception": false,
     "start_time": "2022-08-05T11:45:36.174158",
     "status": "completed"
    },
    "tags": []
   },
   "outputs": [],
   "source": [
    "train['Ticket_Frequency'] = train.groupby('Ticket')['Ticket'].transform('count')\n",
    "test['Ticket_Frequency'] = test.groupby('Ticket')['Ticket'].transform('count')"
   ]
  },
  {
   "cell_type": "code",
   "execution_count": 13,
   "id": "2f00ad64",
   "metadata": {
    "execution": {
     "iopub.execute_input": "2022-08-05T11:45:36.255489Z",
     "iopub.status.busy": "2022-08-05T11:45:36.254713Z",
     "iopub.status.idle": "2022-08-05T11:45:36.932925Z",
     "shell.execute_reply": "2022-08-05T11:45:36.931833Z"
    },
    "papermill": {
     "duration": 0.703452,
     "end_time": "2022-08-05T11:45:36.935482",
     "exception": false,
     "start_time": "2022-08-05T11:45:36.232030",
     "status": "completed"
    },
    "tags": []
   },
   "outputs": [
    {
     "data": {
      "image/png": "[encoded data removed]",
      "text/plain": [
       "<Figure size 1080x432 with 3 Axes>"
      ]
     },
     "metadata": {},
     "output_type": "display_data"
    }
   ],
   "source": [
    "fig, axes = plt.subplots(1, 3)\n",
    "g = sns.barplot(data=train, x='Ticket_Frequency', y='Survived', ax=axes[0])\n",
    "g.set_ylabel(\"Survival proba\")\n",
    "g.set_title(\"Train set\")\n",
    "g = sns.countplot(data=train, x='Ticket_Frequency', ax=axes[1])\n",
    "g.set_title(\"Train set\")\n",
    "g = sns.countplot(data=test, x='Ticket_Frequency', ax=axes[2])\n",
    "_=g.set_title('Test set')"
   ]
  },
  {
   "cell_type": "markdown",
   "id": "f381a727",
   "metadata": {
    "papermill": {
     "duration": 0.02107,
     "end_time": "2022-08-05T11:45:36.978107",
     "exception": false,
     "start_time": "2022-08-05T11:45:36.957037",
     "status": "completed"
    },
    "tags": []
   },
   "source": [
    "This feature is created for the reason that it shows how many satellites a person had, in addition to his family. As will be shown later, it does not fully correlate with the size of the family, and therefore carries useful information."
   ]
  },
  {
   "cell_type": "markdown",
   "id": "26b07307",
   "metadata": {
    "papermill": {
     "duration": 0.021552,
     "end_time": "2022-08-05T11:45:37.020979",
     "exception": false,
     "start_time": "2022-08-05T11:45:36.999427",
     "status": "completed"
    },
    "tags": []
   },
   "source": [
    "### SibSp Parch"
   ]
  },
  {
   "cell_type": "code",
   "execution_count": 14,
   "id": "69260fa0",
   "metadata": {
    "execution": {
     "iopub.execute_input": "2022-08-05T11:45:37.065899Z",
     "iopub.status.busy": "2022-08-05T11:45:37.065347Z",
     "iopub.status.idle": "2022-08-05T11:45:37.072786Z",
     "shell.execute_reply": "2022-08-05T11:45:37.071657Z"
    },
    "papermill": {
     "duration": 0.033413,
     "end_time": "2022-08-05T11:45:37.075896",
     "exception": false,
     "start_time": "2022-08-05T11:45:37.042483",
     "status": "completed"
    },
    "tags": []
   },
   "outputs": [
    {
     "name": "stdout",
     "output_type": "stream",
     "text": [
      "Train dataset: number of NA in SibSp = 0\n",
      "Test dataset: number of NA in SibSp = 0\n",
      "Train dataset: number of NA in Parch = 0\n",
      "Test dataset: number of NA in Parch = 0\n"
     ]
    }
   ],
   "source": [
    "count_na(\"SibSp\")\n",
    "count_na(\"Parch\")"
   ]
  },
  {
   "cell_type": "code",
   "execution_count": 15,
   "id": "ef34534b",
   "metadata": {
    "execution": {
     "iopub.execute_input": "2022-08-05T11:45:37.120199Z",
     "iopub.status.busy": "2022-08-05T11:45:37.119321Z",
     "iopub.status.idle": "2022-08-05T11:45:38.269714Z",
     "shell.execute_reply": "2022-08-05T11:45:38.268918Z"
    },
    "papermill": {
     "duration": 1.174854,
     "end_time": "2022-08-05T11:45:38.271796",
     "exception": false,
     "start_time": "2022-08-05T11:45:37.096942",
     "status": "completed"
    },
    "tags": []
   },
   "outputs": [
    {
     "data": {
      "image/png": "[encoded data removed]",
      "text/plain": [
       "<Figure size 1080x432 with 3 Axes>"
      ]
     },
     "metadata": {},
     "output_type": "display_data"
    },
    {
     "data": {
      "image/png": "[encoded data removed]",
      "text/plain": [
       "<Figure size 1080x432 with 3 Axes>"
      ]
     },
     "metadata": {},
     "output_type": "display_data"
    }
   ],
   "source": [
    "fig, axes = plt.subplots(1, 3)\n",
    "g = sns.barplot(data=train, x='Pclass', y='Survived', ax=axes[0])\n",
    "g.set_ylabel(\"Survival proba\")\n",
    "g.set_title(\"Train set\")\n",
    "g = sns.countplot(data=train, x='Pclass', ax=axes[1])\n",
    "g.set_title(\"Train set\")\n",
    "g = sns.countplot(data=test, x='Pclass', ax=axes[2])\n",
    "g.set_title('Test set')\n",
    "plt.suptitle(\"Parch\")\n",
    "\n",
    "fig, axes = plt.subplots(1, 3)\n",
    "g = sns.barplot(data=train, x='SibSp', y='Survived', ax=axes[0])\n",
    "g.set_ylabel(\"Survival proba\")\n",
    "g.set_title(\"Train set\")\n",
    "g = sns.countplot(data=train, x='SibSp', ax=axes[1])\n",
    "g.set_title(\"Train set\")\n",
    "g = sns.countplot(data=test, x='SibSp', ax=axes[2])\n",
    "g.set_title('Test set')\n",
    "_=plt.suptitle(\"SibSp\")"
   ]
  },
  {
   "cell_type": "markdown",
   "id": "a59be7db",
   "metadata": {
    "papermill": {
     "duration": 0.024833,
     "end_time": "2022-08-05T11:45:38.319284",
     "exception": false,
     "start_time": "2022-08-05T11:45:38.294451",
     "status": "completed"
    },
    "tags": []
   },
   "source": [
    "Summary: small families (2-4 persons) had more survival proba. Suppose they were given a priority during evacuation."
   ]
  },
  {
   "cell_type": "code",
   "execution_count": 16,
   "id": "7b0e531a",
   "metadata": {
    "execution": {
     "iopub.execute_input": "2022-08-05T11:45:38.365685Z",
     "iopub.status.busy": "2022-08-05T11:45:38.364692Z",
     "iopub.status.idle": "2022-08-05T11:45:38.371508Z",
     "shell.execute_reply": "2022-08-05T11:45:38.370692Z"
    },
    "papermill": {
     "duration": 0.032482,
     "end_time": "2022-08-05T11:45:38.373668",
     "exception": false,
     "start_time": "2022-08-05T11:45:38.341186",
     "status": "completed"
    },
    "tags": []
   },
   "outputs": [],
   "source": [
    "train['FamilySize'] = train.Parch + train.SibSp + 1\n",
    "test['FamilySize'] = test.Parch + test.SibSp + 1"
   ]
  },
  {
   "cell_type": "code",
   "execution_count": 17,
   "id": "536bec2a",
   "metadata": {
    "execution": {
     "iopub.execute_input": "2022-08-05T11:45:38.419483Z",
     "iopub.status.busy": "2022-08-05T11:45:38.419082Z",
     "iopub.status.idle": "2022-08-05T11:45:38.432922Z",
     "shell.execute_reply": "2022-08-05T11:45:38.432028Z"
    },
    "papermill": {
     "duration": 0.039197,
     "end_time": "2022-08-05T11:45:38.434943",
     "exception": false,
     "start_time": "2022-08-05T11:45:38.395746",
     "status": "completed"
    },
    "tags": []
   },
   "outputs": [
    {
     "data": {
      "text/html": [
       "<div>\n",
       "<style scoped>\n",
       "    .dataframe tbody tr th:only-of-type {\n",
       "        vertical-align: middle;\n",
       "    }\n",
       "\n",
       "    .dataframe tbody tr th {\n",
       "        vertical-align: top;\n",
       "    }\n",
       "\n",
       "    .dataframe thead th {\n",
       "        text-align: right;\n",
       "    }\n",
       "</style>\n",
       "<table border=\"1\" class=\"dataframe\">\n",
       "  <thead>\n",
       "    <tr style=\"text-align: right;\">\n",
       "      <th></th>\n",
       "      <th>Ticket_Frequency</th>\n",
       "      <th>FamilySize</th>\n",
       "    </tr>\n",
       "  </thead>\n",
       "  <tbody>\n",
       "    <tr>\n",
       "      <th>Ticket_Frequency</th>\n",
       "      <td>1.000000</td>\n",
       "      <td>0.748487</td>\n",
       "    </tr>\n",
       "    <tr>\n",
       "      <th>FamilySize</th>\n",
       "      <td>0.748487</td>\n",
       "      <td>1.000000</td>\n",
       "    </tr>\n",
       "  </tbody>\n",
       "</table>\n",
       "</div>"
      ],
      "text/plain": [
       "                  Ticket_Frequency  FamilySize\n",
       "Ticket_Frequency          1.000000    0.748487\n",
       "FamilySize                0.748487    1.000000"
      ]
     },
     "execution_count": 17,
     "metadata": {},
     "output_type": "execute_result"
    }
   ],
   "source": [
    "train[[\"Ticket_Frequency\", \"FamilySize\"]].corr()"
   ]
  },
  {
   "cell_type": "code",
   "execution_count": 18,
   "id": "90f6960b",
   "metadata": {
    "execution": {
     "iopub.execute_input": "2022-08-05T11:45:38.481815Z",
     "iopub.status.busy": "2022-08-05T11:45:38.480707Z",
     "iopub.status.idle": "2022-08-05T11:45:39.361909Z",
     "shell.execute_reply": "2022-08-05T11:45:39.360637Z"
    },
    "papermill": {
     "duration": 0.907027,
     "end_time": "2022-08-05T11:45:39.364423",
     "exception": false,
     "start_time": "2022-08-05T11:45:38.457396",
     "status": "completed"
    },
    "tags": []
   },
   "outputs": [
    {
     "data": {
      "image/png": "[encoded data removed]",
      "text/plain": [
       "<Figure size 1080x432 with 3 Axes>"
      ]
     },
     "metadata": {},
     "output_type": "display_data"
    }
   ],
   "source": [
    "fig, axes = plt.subplots(1, 3)\n",
    "g = sns.barplot(data=train, x='FamilySize', y='Survived', ax=axes[0])\n",
    "g.set_ylabel(\"Survival proba\")\n",
    "g.set_title(\"Train set\")\n",
    "g = sns.countplot(data=train, x='FamilySize', ax=axes[1])\n",
    "g.set_title(\"Train set\")\n",
    "g = sns.countplot(data=test, x='FamilySize', ax=axes[2])\n",
    "_=g.set_title('Test set')\n"
   ]
  },
  {
   "cell_type": "markdown",
   "id": "17e74d6f",
   "metadata": {
    "papermill": {
     "duration": 0.022717,
     "end_time": "2022-08-05T11:45:39.410514",
     "exception": false,
     "start_time": "2022-08-05T11:45:39.387797",
     "status": "completed"
    },
    "tags": []
   },
   "source": [
    "We will bin family size according to plot"
   ]
  },
  {
   "cell_type": "code",
   "execution_count": 19,
   "id": "bb040402",
   "metadata": {
    "execution": {
     "iopub.execute_input": "2022-08-05T11:45:39.457747Z",
     "iopub.status.busy": "2022-08-05T11:45:39.457299Z",
     "iopub.status.idle": "2022-08-05T11:45:39.465344Z",
     "shell.execute_reply": "2022-08-05T11:45:39.464466Z"
    },
    "papermill": {
     "duration": 0.034195,
     "end_time": "2022-08-05T11:45:39.467479",
     "exception": false,
     "start_time": "2022-08-05T11:45:39.433284",
     "status": "completed"
    },
    "tags": []
   },
   "outputs": [],
   "source": [
    "fam_map = {1: \"Alone\", 2: \"Small\", 3: \"Small\", 4: \"Small\", 5: \"Medium\", 6: \"Medium\",\n",
    "           7: \"Large\", 8: \"Large\", 11: \"Large\"}\n",
    "\n",
    "train['FamilySize'] = train['FamilySize'].map(fam_map)\n",
    "test['FamilySize'] = test['FamilySize'].map(fam_map)"
   ]
  },
  {
   "cell_type": "markdown",
   "id": "8d7bc07b",
   "metadata": {
    "papermill": {
     "duration": 0.022836,
     "end_time": "2022-08-05T11:45:39.513541",
     "exception": false,
     "start_time": "2022-08-05T11:45:39.490705",
     "status": "completed"
    },
    "tags": []
   },
   "source": [
    "### Fare"
   ]
  },
  {
   "cell_type": "code",
   "execution_count": 20,
   "id": "4d4c7c29",
   "metadata": {
    "execution": {
     "iopub.execute_input": "2022-08-05T11:45:39.560868Z",
     "iopub.status.busy": "2022-08-05T11:45:39.559913Z",
     "iopub.status.idle": "2022-08-05T11:45:39.566297Z",
     "shell.execute_reply": "2022-08-05T11:45:39.564927Z"
    },
    "papermill": {
     "duration": 0.033395,
     "end_time": "2022-08-05T11:45:39.569758",
     "exception": false,
     "start_time": "2022-08-05T11:45:39.536363",
     "status": "completed"
    },
    "tags": []
   },
   "outputs": [
    {
     "name": "stdout",
     "output_type": "stream",
     "text": [
      "Train dataset: number of NA in Fare = 0\n",
      "Test dataset: number of NA in Fare = 1\n"
     ]
    }
   ],
   "source": [
    "count_na(\"Fare\")"
   ]
  },
  {
   "cell_type": "code",
   "execution_count": 21,
   "id": "39dd0006",
   "metadata": {
    "execution": {
     "iopub.execute_input": "2022-08-05T11:45:39.618617Z",
     "iopub.status.busy": "2022-08-05T11:45:39.617911Z",
     "iopub.status.idle": "2022-08-05T11:45:39.634309Z",
     "shell.execute_reply": "2022-08-05T11:45:39.633227Z"
    },
    "papermill": {
     "duration": 0.042994,
     "end_time": "2022-08-05T11:45:39.636543",
     "exception": false,
     "start_time": "2022-08-05T11:45:39.593549",
     "status": "completed"
    },
    "tags": []
   },
   "outputs": [
    {
     "data": {
      "text/html": [
       "<div>\n",
       "<style scoped>\n",
       "    .dataframe tbody tr th:only-of-type {\n",
       "        vertical-align: middle;\n",
       "    }\n",
       "\n",
       "    .dataframe tbody tr th {\n",
       "        vertical-align: top;\n",
       "    }\n",
       "\n",
       "    .dataframe thead th {\n",
       "        text-align: right;\n",
       "    }\n",
       "</style>\n",
       "<table border=\"1\" class=\"dataframe\">\n",
       "  <thead>\n",
       "    <tr style=\"text-align: right;\">\n",
       "      <th></th>\n",
       "      <th>PassengerId</th>\n",
       "      <th>Pclass</th>\n",
       "      <th>Name</th>\n",
       "      <th>Sex</th>\n",
       "      <th>Age</th>\n",
       "      <th>SibSp</th>\n",
       "      <th>Parch</th>\n",
       "      <th>Ticket</th>\n",
       "      <th>Fare</th>\n",
       "      <th>Cabin</th>\n",
       "      <th>Embarked</th>\n",
       "      <th>Title</th>\n",
       "      <th>Ticket_Frequency</th>\n",
       "      <th>FamilySize</th>\n",
       "    </tr>\n",
       "  </thead>\n",
       "  <tbody>\n",
       "    <tr>\n",
       "      <th>152</th>\n",
       "      <td>1044</td>\n",
       "      <td>3</td>\n",
       "      <td>Storey, Mr. Thomas</td>\n",
       "      <td>1</td>\n",
       "      <td>60.5</td>\n",
       "      <td>0</td>\n",
       "      <td>0</td>\n",
       "      <td>3701</td>\n",
       "      <td>NaN</td>\n",
       "      <td>NaN</td>\n",
       "      <td>S</td>\n",
       "      <td>Mr</td>\n",
       "      <td>1</td>\n",
       "      <td>Alone</td>\n",
       "    </tr>\n",
       "  </tbody>\n",
       "</table>\n",
       "</div>"
      ],
      "text/plain": [
       "     PassengerId  Pclass                Name  Sex   Age  SibSp  Parch Ticket  \\\n",
       "152         1044       3  Storey, Mr. Thomas    1  60.5      0      0   3701   \n",
       "\n",
       "     Fare Cabin Embarked Title  Ticket_Frequency FamilySize  \n",
       "152   NaN   NaN        S    Mr                 1      Alone  "
      ]
     },
     "execution_count": 21,
     "metadata": {},
     "output_type": "execute_result"
    }
   ],
   "source": [
    "test[test.Fare.isna()]"
   ]
  },
  {
   "cell_type": "code",
   "execution_count": 22,
   "id": "d575c3cc",
   "metadata": {
    "execution": {
     "iopub.execute_input": "2022-08-05T11:45:39.684846Z",
     "iopub.status.busy": "2022-08-05T11:45:39.684425Z",
     "iopub.status.idle": "2022-08-05T11:45:39.695684Z",
     "shell.execute_reply": "2022-08-05T11:45:39.694454Z"
    },
    "papermill": {
     "duration": 0.037989,
     "end_time": "2022-08-05T11:45:39.697904",
     "exception": false,
     "start_time": "2022-08-05T11:45:39.659915",
     "status": "completed"
    },
    "tags": []
   },
   "outputs": [],
   "source": [
    "med_fare = test.groupby(['Pclass', 'Parch', 'SibSp']).Fare.median()[3][0][0]\n",
    "# Filling the missing value in Fare with the median Fare of 3rd class alone passenger\n",
    "test['Fare'] = test['Fare'].fillna(med_fare)"
   ]
  },
  {
   "cell_type": "code",
   "execution_count": 23,
   "id": "87776da2",
   "metadata": {
    "execution": {
     "iopub.execute_input": "2022-08-05T11:45:39.745542Z",
     "iopub.status.busy": "2022-08-05T11:45:39.745121Z",
     "iopub.status.idle": "2022-08-05T11:45:40.172302Z",
     "shell.execute_reply": "2022-08-05T11:45:40.171441Z"
    },
    "papermill": {
     "duration": 0.453727,
     "end_time": "2022-08-05T11:45:40.174304",
     "exception": false,
     "start_time": "2022-08-05T11:45:39.720577",
     "status": "completed"
    },
    "tags": []
   },
   "outputs": [
    {
     "data": {
      "text/plain": [
       "<AxesSubplot:xlabel='Survived', ylabel='Fare'>"
      ]
     },
     "execution_count": 23,
     "metadata": {},
     "output_type": "execute_result"
    },
    {
     "data": {
      "image/png": "[encoded data removed]",
      "text/plain": [
       "<Figure size 1080x432 with 2 Axes>"
      ]
     },
     "metadata": {},
     "output_type": "display_data"
    }
   ],
   "source": [
    "fig, axes = plt.subplots(1, 2)\n",
    "axes[1].set_ylim(0, 300)\n",
    "sns.kdeplot(train[\"Fare\"], label=\"Skewness : %.2f\"%(train[\"Fare\"].skew()), ax=axes[0])\n",
    "sns.kdeplot(test[\"Fare\"], label=\"Skewness : %.2f\"%(test[\"Fare\"].skew()), ax=axes[0])\n",
    "axes[0].legend()\n",
    "sns.boxplot(data=train, x='Survived', ax=axes[1], y='Fare')"
   ]
  },
  {
   "cell_type": "markdown",
   "id": "751b4570",
   "metadata": {
    "papermill": {
     "duration": 0.023211,
     "end_time": "2022-08-05T11:45:40.221386",
     "exception": false,
     "start_time": "2022-08-05T11:45:40.198175",
     "status": "completed"
    },
    "tags": []
   },
   "source": [
    "The distribution is very skewed, so this feature also needs binning ."
   ]
  },
  {
   "cell_type": "code",
   "execution_count": 24,
   "id": "68de143f",
   "metadata": {
    "execution": {
     "iopub.execute_input": "2022-08-05T11:45:40.270358Z",
     "iopub.status.busy": "2022-08-05T11:45:40.269389Z",
     "iopub.status.idle": "2022-08-05T11:45:40.286191Z",
     "shell.execute_reply": "2022-08-05T11:45:40.285320Z"
    },
    "papermill": {
     "duration": 0.043949,
     "end_time": "2022-08-05T11:45:40.288424",
     "exception": false,
     "start_time": "2022-08-05T11:45:40.244475",
     "status": "completed"
    },
    "tags": []
   },
   "outputs": [],
   "source": [
    "train[\"Fare\"] = pd.qcut(train[\"Fare\"], 13)\n",
    "test[\"Fare\"] = pd.qcut(test[\"Fare\"], 13)"
   ]
  },
  {
   "cell_type": "code",
   "execution_count": 25,
   "id": "d7e374aa",
   "metadata": {
    "execution": {
     "iopub.execute_input": "2022-08-05T11:45:40.338026Z",
     "iopub.status.busy": "2022-08-05T11:45:40.336949Z",
     "iopub.status.idle": "2022-08-05T11:45:40.954487Z",
     "shell.execute_reply": "2022-08-05T11:45:40.953364Z"
    },
    "papermill": {
     "duration": 0.644779,
     "end_time": "2022-08-05T11:45:40.957077",
     "exception": false,
     "start_time": "2022-08-05T11:45:40.312298",
     "status": "completed"
    },
    "tags": []
   },
   "outputs": [
    {
     "data": {
      "image/png": "[encoded data removed]",
      "text/plain": [
       "<Figure size 1080x432 with 1 Axes>"
      ]
     },
     "metadata": {},
     "output_type": "display_data"
    }
   ],
   "source": [
    "fig, axes = plt.subplots(1, 1)\n",
    "g = sns.barplot(data=train, x='Fare', y='Survived', ax=axes)\n",
    "g.set_ylabel(\"Survival proba\")\n",
    "_=plt.xticks(rotation=30)"
   ]
  },
  {
   "cell_type": "code",
   "execution_count": 26,
   "id": "9f923684",
   "metadata": {
    "execution": {
     "iopub.execute_input": "2022-08-05T11:45:41.007645Z",
     "iopub.status.busy": "2022-08-05T11:45:41.007274Z",
     "iopub.status.idle": "2022-08-05T11:45:41.017186Z",
     "shell.execute_reply": "2022-08-05T11:45:41.016124Z"
    },
    "papermill": {
     "duration": 0.03822,
     "end_time": "2022-08-05T11:45:41.019734",
     "exception": false,
     "start_time": "2022-08-05T11:45:40.981514",
     "status": "completed"
    },
    "tags": []
   },
   "outputs": [],
   "source": [
    "train[\"Fare\"] = LabelEncoder().fit_transform(train[\"Fare\"])\n",
    "test[\"Fare\"] = LabelEncoder().fit_transform(test[\"Fare\"])"
   ]
  },
  {
   "cell_type": "markdown",
   "id": "e4b34122",
   "metadata": {
    "papermill": {
     "duration": 0.02424,
     "end_time": "2022-08-05T11:45:41.068294",
     "exception": false,
     "start_time": "2022-08-05T11:45:41.044054",
     "status": "completed"
    },
    "tags": []
   },
   "source": [
    "### Cabin"
   ]
  },
  {
   "cell_type": "code",
   "execution_count": 27,
   "id": "a9596ab0",
   "metadata": {
    "execution": {
     "iopub.execute_input": "2022-08-05T11:45:41.118435Z",
     "iopub.status.busy": "2022-08-05T11:45:41.118076Z",
     "iopub.status.idle": "2022-08-05T11:45:41.125262Z",
     "shell.execute_reply": "2022-08-05T11:45:41.124101Z"
    },
    "papermill": {
     "duration": 0.035103,
     "end_time": "2022-08-05T11:45:41.127610",
     "exception": false,
     "start_time": "2022-08-05T11:45:41.092507",
     "status": "completed"
    },
    "tags": []
   },
   "outputs": [
    {
     "name": "stdout",
     "output_type": "stream",
     "text": [
      "Train dataset: number of NA in Cabin = 687\n",
      "Test dataset: number of NA in Cabin = 327\n"
     ]
    }
   ],
   "source": [
    "count_na(\"Cabin\")"
   ]
  },
  {
   "cell_type": "markdown",
   "id": "3584dde5",
   "metadata": {
    "papermill": {
     "duration": 0.023661,
     "end_time": "2022-08-05T11:45:41.176370",
     "exception": false,
     "start_time": "2022-08-05T11:45:41.152709",
     "status": "completed"
    },
    "tags": []
   },
   "source": [
    "Skipped values are replaced my new value \"X\""
   ]
  },
  {
   "cell_type": "code",
   "execution_count": 28,
   "id": "1def1286",
   "metadata": {
    "execution": {
     "iopub.execute_input": "2022-08-05T11:45:41.227786Z",
     "iopub.status.busy": "2022-08-05T11:45:41.226567Z",
     "iopub.status.idle": "2022-08-05T11:45:41.234550Z",
     "shell.execute_reply": "2022-08-05T11:45:41.233757Z"
    },
    "papermill": {
     "duration": 0.036007,
     "end_time": "2022-08-05T11:45:41.236778",
     "exception": false,
     "start_time": "2022-08-05T11:45:41.200771",
     "status": "completed"
    },
    "tags": []
   },
   "outputs": [],
   "source": [
    "train[\"Cabin\"] = pd.Series([i[0] if not pd.isnull(i) else 'X' for i in train['Cabin'] ])\n",
    "test[\"Cabin\"] = pd.Series([i[0] if not pd.isnull(i) else 'X' for i in test['Cabin'] ])"
   ]
  },
  {
   "cell_type": "code",
   "execution_count": 29,
   "id": "b7dd37e8",
   "metadata": {
    "execution": {
     "iopub.execute_input": "2022-08-05T11:45:41.288789Z",
     "iopub.status.busy": "2022-08-05T11:45:41.287655Z",
     "iopub.status.idle": "2022-08-05T11:45:42.024532Z",
     "shell.execute_reply": "2022-08-05T11:45:42.023406Z"
    },
    "papermill": {
     "duration": 0.765085,
     "end_time": "2022-08-05T11:45:42.026845",
     "exception": false,
     "start_time": "2022-08-05T11:45:41.261760",
     "status": "completed"
    },
    "tags": []
   },
   "outputs": [
    {
     "data": {
      "image/png": "[encoded data removed]",
      "text/plain": [
       "<Figure size 1080x432 with 3 Axes>"
      ]
     },
     "metadata": {},
     "output_type": "display_data"
    }
   ],
   "source": [
    "fig, axes = plt.subplots(1, 3)\n",
    "g = sns.barplot(data=train, x='Cabin', y='Survived', ax=axes[0], order=['A','B','C','D','E','F','G','T','X'])\n",
    "g.set_ylabel(\"Survival proba\")\n",
    "g.set_title(\"Train set\")\n",
    "g = sns.countplot(data=train, x='Cabin', ax=axes[1], order=['A','B','C','D','E','F','G','T','X'])\n",
    "g.set_title(\"Train set\")\n",
    "g = sns.countplot(data=test, x='Cabin', ax=axes[2], order=['A','B','C','D','E','F','G','T','X'])\n",
    "_=g.set_title('Test set')"
   ]
  },
  {
   "cell_type": "code",
   "execution_count": 30,
   "id": "56cc6f6f",
   "metadata": {
    "execution": {
     "iopub.execute_input": "2022-08-05T11:45:42.079846Z",
     "iopub.status.busy": "2022-08-05T11:45:42.079278Z",
     "iopub.status.idle": "2022-08-05T11:45:42.101336Z",
     "shell.execute_reply": "2022-08-05T11:45:42.099848Z"
    },
    "papermill": {
     "duration": 0.051697,
     "end_time": "2022-08-05T11:45:42.104235",
     "exception": false,
     "start_time": "2022-08-05T11:45:42.052538",
     "status": "completed"
    },
    "tags": []
   },
   "outputs": [],
   "source": [
    "cabin_dist = pd.crosstab(train['Cabin'], train['Pclass'])\n",
    "cabin_sum = cabin_dist.sum(axis=1)\n",
    "cabin_dist = cabin_dist.apply(lambda x: x / cabin_sum)\n"
   ]
  },
  {
   "cell_type": "code",
   "execution_count": 31,
   "id": "46613107",
   "metadata": {
    "execution": {
     "iopub.execute_input": "2022-08-05T11:45:42.156011Z",
     "iopub.status.busy": "2022-08-05T11:45:42.155600Z",
     "iopub.status.idle": "2022-08-05T11:45:42.546229Z",
     "shell.execute_reply": "2022-08-05T11:45:42.544758Z"
    },
    "papermill": {
     "duration": 0.419433,
     "end_time": "2022-08-05T11:45:42.548897",
     "exception": false,
     "start_time": "2022-08-05T11:45:42.129464",
     "status": "completed"
    },
    "tags": []
   },
   "outputs": [
    {
     "data": {
      "text/plain": [
       "<matplotlib.legend.Legend at 0x7f3807f9ab50>"
      ]
     },
     "execution_count": 31,
     "metadata": {},
     "output_type": "execute_result"
    },
    {
     "data": {
      "image/png": "[encoded data removed]",
      "text/plain": [
       "<Figure size 1080x432 with 1 Axes>"
      ]
     },
     "metadata": {},
     "output_type": "display_data"
    }
   ],
   "source": [
    "sns.barplot(x=cabin_dist.index, y=cabin_dist[1], label = \"Pclass = 1\", color='#b5ffb9', edgecolor='white')\n",
    "sns.barplot(x=cabin_dist.index, y=cabin_dist[2], label = \"Pclass = 2\", bottom=cabin_dist[1], color='#f9bc86', edgecolor='white')\n",
    "sns.barplot(x=cabin_dist.index, y=cabin_dist[3], label = \"Pclass = 3\", bottom=cabin_dist[1] + cabin_dist[2], color='#a3acff', edgecolor='white')\n",
    "plt.ylabel(\"Passenger class percentage\")\n",
    "plt.legend(bbox_to_anchor=(1, 1))"
   ]
  },
  {
   "cell_type": "markdown",
   "id": "e11cce20",
   "metadata": {
    "papermill": {
     "duration": 0.024996,
     "end_time": "2022-08-05T11:45:42.599456",
     "exception": false,
     "start_time": "2022-08-05T11:45:42.574460",
     "status": "completed"
    },
    "tags": []
   },
   "source": [
    "As \"A\", \"B\", \"C\" fully consist of 1 class passengers, we will connect them. For similar reasons, we will replace the remaining values. And we will replace the only deck T with A, since they are next to each other on the ship."
   ]
  },
  {
   "cell_type": "code",
   "execution_count": 32,
   "id": "56151d28",
   "metadata": {
    "execution": {
     "iopub.execute_input": "2022-08-05T11:45:42.652422Z",
     "iopub.status.busy": "2022-08-05T11:45:42.651963Z",
     "iopub.status.idle": "2022-08-05T11:45:42.658229Z",
     "shell.execute_reply": "2022-08-05T11:45:42.657114Z"
    },
    "papermill": {
     "duration": 0.035854,
     "end_time": "2022-08-05T11:45:42.660760",
     "exception": false,
     "start_time": "2022-08-05T11:45:42.624906",
     "status": "completed"
    },
    "tags": []
   },
   "outputs": [],
   "source": [
    "# Passenger in the T deck is changed to A\n",
    "train.loc[train['Cabin'] == 'T', 'Cabin'] = 'A'"
   ]
  },
  {
   "cell_type": "code",
   "execution_count": 33,
   "id": "b7e7f7f9",
   "metadata": {
    "execution": {
     "iopub.execute_input": "2022-08-05T11:45:42.713579Z",
     "iopub.status.busy": "2022-08-05T11:45:42.712774Z",
     "iopub.status.idle": "2022-08-05T11:45:42.728728Z",
     "shell.execute_reply": "2022-08-05T11:45:42.727792Z"
    },
    "papermill": {
     "duration": 0.044856,
     "end_time": "2022-08-05T11:45:42.730995",
     "exception": false,
     "start_time": "2022-08-05T11:45:42.686139",
     "status": "completed"
    },
    "tags": []
   },
   "outputs": [
    {
     "data": {
      "text/plain": [
       "X      687\n",
       "ABC    122\n",
       "DE      65\n",
       "FG      17\n",
       "Name: Cabin, dtype: int64"
      ]
     },
     "execution_count": 33,
     "metadata": {},
     "output_type": "execute_result"
    }
   ],
   "source": [
    "train['Cabin'] = train['Cabin'].replace(['A', 'B', 'C'], 'ABC')\n",
    "train['Cabin'] = train['Cabin'].replace(['D', 'E'], 'DE')\n",
    "train['Cabin'] = train['Cabin'].replace(['F', 'G'], 'FG')\n",
    "\n",
    "test['Cabin'] = test['Cabin'].replace(['A', 'B', 'C'], 'ABC')\n",
    "test['Cabin'] = test['Cabin'].replace(['D', 'E'], 'DE')\n",
    "test['Cabin'] = test['Cabin'].replace(['F', 'G'], 'FG')\n",
    "\n",
    "train['Cabin'].value_counts()"
   ]
  },
  {
   "cell_type": "markdown",
   "id": "5f9419d7",
   "metadata": {
    "papermill": {
     "duration": 0.025604,
     "end_time": "2022-08-05T11:45:42.781766",
     "exception": false,
     "start_time": "2022-08-05T11:45:42.756162",
     "status": "completed"
    },
    "tags": []
   },
   "source": [
    "From this table we can understand, that the fact of having or not having cabin is important feature"
   ]
  },
  {
   "cell_type": "markdown",
   "id": "16962c1e",
   "metadata": {
    "papermill": {
     "duration": 0.025326,
     "end_time": "2022-08-05T11:45:42.833527",
     "exception": false,
     "start_time": "2022-08-05T11:45:42.808201",
     "status": "completed"
    },
    "tags": []
   },
   "source": [
    "### Embarked"
   ]
  },
  {
   "cell_type": "code",
   "execution_count": 34,
   "id": "0c2baf95",
   "metadata": {
    "execution": {
     "iopub.execute_input": "2022-08-05T11:45:42.886934Z",
     "iopub.status.busy": "2022-08-05T11:45:42.886498Z",
     "iopub.status.idle": "2022-08-05T11:45:42.892797Z",
     "shell.execute_reply": "2022-08-05T11:45:42.891665Z"
    },
    "papermill": {
     "duration": 0.037144,
     "end_time": "2022-08-05T11:45:42.896390",
     "exception": false,
     "start_time": "2022-08-05T11:45:42.859246",
     "status": "completed"
    },
    "tags": []
   },
   "outputs": [
    {
     "name": "stdout",
     "output_type": "stream",
     "text": [
      "Train dataset: number of NA in Embarked = 2\n",
      "Test dataset: number of NA in Embarked = 0\n"
     ]
    }
   ],
   "source": [
    "count_na(\"Embarked\")"
   ]
  },
  {
   "cell_type": "code",
   "execution_count": 35,
   "id": "8bcd28e2",
   "metadata": {
    "execution": {
     "iopub.execute_input": "2022-08-05T11:45:42.950897Z",
     "iopub.status.busy": "2022-08-05T11:45:42.950151Z",
     "iopub.status.idle": "2022-08-05T11:45:43.480647Z",
     "shell.execute_reply": "2022-08-05T11:45:43.479606Z"
    },
    "papermill": {
     "duration": 0.55989,
     "end_time": "2022-08-05T11:45:43.483215",
     "exception": false,
     "start_time": "2022-08-05T11:45:42.923325",
     "status": "completed"
    },
    "tags": []
   },
   "outputs": [
    {
     "data": {
      "text/plain": [
       "<AxesSubplot:xlabel='Pclass', ylabel='count'>"
      ]
     },
     "execution_count": 35,
     "metadata": {},
     "output_type": "execute_result"
    },
    {
     "data": {
      "image/png": "[encoded data removed]",
      "text/plain": [
       "<Figure size 1080x432 with 3 Axes>"
      ]
     },
     "metadata": {},
     "output_type": "display_data"
    }
   ],
   "source": [
    "fig, axes = plt.subplots(1, 3)\n",
    "sns.countplot(data=train, x='Embarked', ax=axes[0])\n",
    "sns.barplot(data=train, x='Embarked', y='Survived', ax=axes[1])\n",
    "sns.countplot(data=train, x='Pclass', hue='Embarked', ax=axes[2])"
   ]
  },
  {
   "cell_type": "code",
   "execution_count": 36,
   "id": "cdd9bb06",
   "metadata": {
    "execution": {
     "iopub.execute_input": "2022-08-05T11:45:43.544583Z",
     "iopub.status.busy": "2022-08-05T11:45:43.543907Z",
     "iopub.status.idle": "2022-08-05T11:45:43.550846Z",
     "shell.execute_reply": "2022-08-05T11:45:43.550011Z"
    },
    "papermill": {
     "duration": 0.038613,
     "end_time": "2022-08-05T11:45:43.552999",
     "exception": false,
     "start_time": "2022-08-05T11:45:43.514386",
     "status": "completed"
    },
    "tags": []
   },
   "outputs": [],
   "source": [
    "train.Embarked.fillna(train.Embarked.mode()[0], inplace=True)"
   ]
  },
  {
   "cell_type": "markdown",
   "id": "0a658487",
   "metadata": {
    "papermill": {
     "duration": 0.025519,
     "end_time": "2022-08-05T11:45:43.605172",
     "exception": false,
     "start_time": "2022-08-05T11:45:43.579653",
     "status": "completed"
    },
    "tags": []
   },
   "source": [
    "Suppose, that high survival rate among embarked \"C\" is caused by correlation of this feature with Passenger class"
   ]
  },
  {
   "cell_type": "markdown",
   "id": "d3d541fb",
   "metadata": {
    "papermill": {
     "duration": 0.025012,
     "end_time": "2022-08-05T11:45:43.656213",
     "exception": false,
     "start_time": "2022-08-05T11:45:43.631201",
     "status": "completed"
    },
    "tags": []
   },
   "source": [
    "### Age"
   ]
  },
  {
   "cell_type": "code",
   "execution_count": 37,
   "id": "4823bf87",
   "metadata": {
    "execution": {
     "iopub.execute_input": "2022-08-05T11:45:43.711763Z",
     "iopub.status.busy": "2022-08-05T11:45:43.709772Z",
     "iopub.status.idle": "2022-08-05T11:45:43.723585Z",
     "shell.execute_reply": "2022-08-05T11:45:43.721948Z"
    },
    "papermill": {
     "duration": 0.044141,
     "end_time": "2022-08-05T11:45:43.726364",
     "exception": false,
     "start_time": "2022-08-05T11:45:43.682223",
     "status": "completed"
    },
    "tags": []
   },
   "outputs": [
    {
     "name": "stdout",
     "output_type": "stream",
     "text": [
      "count    714.000000\n",
      "mean      29.699118\n",
      "std       14.526497\n",
      "min        0.420000\n",
      "25%       20.125000\n",
      "50%       28.000000\n",
      "75%       38.000000\n",
      "max       80.000000\n",
      "Name: Age, dtype: float64\n",
      "------------------------------\n",
      "count    332.000000\n",
      "mean      30.272590\n",
      "std       14.181209\n",
      "min        0.170000\n",
      "25%       21.000000\n",
      "50%       27.000000\n",
      "75%       39.000000\n",
      "max       76.000000\n",
      "Name: Age, dtype: float64\n"
     ]
    }
   ],
   "source": [
    "print(train.Age.describe())\n",
    "print(\"-\" * 30)\n",
    "print(test.Age.describe())"
   ]
  },
  {
   "cell_type": "code",
   "execution_count": 38,
   "id": "2e923f27",
   "metadata": {
    "execution": {
     "iopub.execute_input": "2022-08-05T11:45:43.781641Z",
     "iopub.status.busy": "2022-08-05T11:45:43.780854Z",
     "iopub.status.idle": "2022-08-05T11:45:43.787305Z",
     "shell.execute_reply": "2022-08-05T11:45:43.786267Z"
    },
    "papermill": {
     "duration": 0.036591,
     "end_time": "2022-08-05T11:45:43.789896",
     "exception": false,
     "start_time": "2022-08-05T11:45:43.753305",
     "status": "completed"
    },
    "tags": []
   },
   "outputs": [
    {
     "name": "stdout",
     "output_type": "stream",
     "text": [
      "Train dataset: number of NA in Age = 177\n",
      "Test dataset: number of NA in Age = 86\n"
     ]
    }
   ],
   "source": [
    "count_na(\"Age\")"
   ]
  },
  {
   "cell_type": "code",
   "execution_count": 39,
   "id": "42f9c273",
   "metadata": {
    "execution": {
     "iopub.execute_input": "2022-08-05T11:45:43.845841Z",
     "iopub.status.busy": "2022-08-05T11:45:43.844674Z",
     "iopub.status.idle": "2022-08-05T11:45:45.834169Z",
     "shell.execute_reply": "2022-08-05T11:45:45.833245Z"
    },
    "papermill": {
     "duration": 2.019048,
     "end_time": "2022-08-05T11:45:45.836397",
     "exception": false,
     "start_time": "2022-08-05T11:45:43.817349",
     "status": "completed"
    },
    "tags": []
   },
   "outputs": [
    {
     "data": {
      "text/plain": [
       "<AxesSubplot:xlabel='Cabin', ylabel='Age'>"
      ]
     },
     "execution_count": 39,
     "metadata": {},
     "output_type": "execute_result"
    },
    {
     "data": {
      "image/png": "[encoded data removed]",
      "text/plain": [
       "<Figure size 1080x1080 with 8 Axes>"
      ]
     },
     "metadata": {},
     "output_type": "display_data"
    }
   ],
   "source": [
    "fig, axes = plt.subplots(4, 2, figsize=(15, 15))\n",
    "sns.histplot(data=train, x='Age',ax=axes[0, 0], multiple=\"stack\", hue='Survived', bins=80)\n",
    "sns.boxplot(data=train, x='Parch', ax=axes[0, 1], y='Age')\n",
    "sns.boxplot(data=train, x='Pclass', ax=axes[1, 0], y='Age')\n",
    "sns.boxplot(data=train, x='SibSp', ax=axes[1, 1], y='Age')\n",
    "sns.boxplot(data=train, x='Fare', ax=axes[2, 0], y='Age')\n",
    "sns.boxplot(data=train, x='Sex', ax=axes[2, 1], y='Age')\n",
    "sns.boxplot(data=train, x='Embarked', ax=axes[3, 0], y='Age')\n",
    "sns.boxplot(data=train, x='Cabin', ax=axes[3, 1], y='Age')"
   ]
  },
  {
   "cell_type": "code",
   "execution_count": 40,
   "id": "3197ff9a",
   "metadata": {
    "execution": {
     "iopub.execute_input": "2022-08-05T11:45:45.891916Z",
     "iopub.status.busy": "2022-08-05T11:45:45.891477Z",
     "iopub.status.idle": "2022-08-05T11:45:45.908975Z",
     "shell.execute_reply": "2022-08-05T11:45:45.907803Z"
    },
    "papermill": {
     "duration": 0.047826,
     "end_time": "2022-08-05T11:45:45.911242",
     "exception": false,
     "start_time": "2022-08-05T11:45:45.863416",
     "status": "completed"
    },
    "tags": []
   },
   "outputs": [
    {
     "data": {
      "text/html": [
       "<div>\n",
       "<style scoped>\n",
       "    .dataframe tbody tr th:only-of-type {\n",
       "        vertical-align: middle;\n",
       "    }\n",
       "\n",
       "    .dataframe tbody tr th {\n",
       "        vertical-align: top;\n",
       "    }\n",
       "\n",
       "    .dataframe thead th {\n",
       "        text-align: right;\n",
       "    }\n",
       "</style>\n",
       "<table border=\"1\" class=\"dataframe\">\n",
       "  <thead>\n",
       "    <tr style=\"text-align: right;\">\n",
       "      <th></th>\n",
       "      <th>Age</th>\n",
       "      <th>Parch</th>\n",
       "      <th>SibSp</th>\n",
       "      <th>Fare</th>\n",
       "      <th>Pclass</th>\n",
       "      <th>Sex</th>\n",
       "    </tr>\n",
       "  </thead>\n",
       "  <tbody>\n",
       "    <tr>\n",
       "      <th>Age</th>\n",
       "      <td>1.000000</td>\n",
       "      <td>-0.189119</td>\n",
       "      <td>-0.308247</td>\n",
       "      <td>0.106712</td>\n",
       "      <td>-0.369226</td>\n",
       "      <td>0.093254</td>\n",
       "    </tr>\n",
       "    <tr>\n",
       "      <th>Parch</th>\n",
       "      <td>-0.189119</td>\n",
       "      <td>1.000000</td>\n",
       "      <td>0.414838</td>\n",
       "      <td>0.370985</td>\n",
       "      <td>0.018443</td>\n",
       "      <td>-0.245489</td>\n",
       "    </tr>\n",
       "    <tr>\n",
       "      <th>SibSp</th>\n",
       "      <td>-0.308247</td>\n",
       "      <td>0.414838</td>\n",
       "      <td>1.000000</td>\n",
       "      <td>0.366899</td>\n",
       "      <td>0.083081</td>\n",
       "      <td>-0.114631</td>\n",
       "    </tr>\n",
       "    <tr>\n",
       "      <th>Fare</th>\n",
       "      <td>0.106712</td>\n",
       "      <td>0.370985</td>\n",
       "      <td>0.366899</td>\n",
       "      <td>1.000000</td>\n",
       "      <td>-0.691988</td>\n",
       "      <td>-0.257943</td>\n",
       "    </tr>\n",
       "    <tr>\n",
       "      <th>Pclass</th>\n",
       "      <td>-0.369226</td>\n",
       "      <td>0.018443</td>\n",
       "      <td>0.083081</td>\n",
       "      <td>-0.691988</td>\n",
       "      <td>1.000000</td>\n",
       "      <td>0.131900</td>\n",
       "    </tr>\n",
       "    <tr>\n",
       "      <th>Sex</th>\n",
       "      <td>0.093254</td>\n",
       "      <td>-0.245489</td>\n",
       "      <td>-0.114631</td>\n",
       "      <td>-0.257943</td>\n",
       "      <td>0.131900</td>\n",
       "      <td>1.000000</td>\n",
       "    </tr>\n",
       "  </tbody>\n",
       "</table>\n",
       "</div>"
      ],
      "text/plain": [
       "             Age     Parch     SibSp      Fare    Pclass       Sex\n",
       "Age     1.000000 -0.189119 -0.308247  0.106712 -0.369226  0.093254\n",
       "Parch  -0.189119  1.000000  0.414838  0.370985  0.018443 -0.245489\n",
       "SibSp  -0.308247  0.414838  1.000000  0.366899  0.083081 -0.114631\n",
       "Fare    0.106712  0.370985  0.366899  1.000000 -0.691988 -0.257943\n",
       "Pclass -0.369226  0.018443  0.083081 -0.691988  1.000000  0.131900\n",
       "Sex     0.093254 -0.245489 -0.114631 -0.257943  0.131900  1.000000"
      ]
     },
     "execution_count": 40,
     "metadata": {},
     "output_type": "execute_result"
    }
   ],
   "source": [
    "train[['Age', 'Parch', 'SibSp', 'Fare', 'Pclass', 'Cabin', 'Sex']].corr()"
   ]
  },
  {
   "cell_type": "markdown",
   "id": "0bdd5293",
   "metadata": {
    "papermill": {
     "duration": 0.026141,
     "end_time": "2022-08-05T11:45:45.964381",
     "exception": false,
     "start_time": "2022-08-05T11:45:45.938240",
     "status": "completed"
    },
    "tags": []
   },
   "source": [
    "Let's fill missing values of age with median among Pclass and Sex"
   ]
  },
  {
   "cell_type": "code",
   "execution_count": 41,
   "id": "66d4f80e",
   "metadata": {
    "execution": {
     "iopub.execute_input": "2022-08-05T11:45:46.020028Z",
     "iopub.status.busy": "2022-08-05T11:45:46.019274Z",
     "iopub.status.idle": "2022-08-05T11:45:46.036219Z",
     "shell.execute_reply": "2022-08-05T11:45:46.035166Z"
    },
    "papermill": {
     "duration": 0.047316,
     "end_time": "2022-08-05T11:45:46.038593",
     "exception": false,
     "start_time": "2022-08-05T11:45:45.991277",
     "status": "completed"
    },
    "tags": []
   },
   "outputs": [],
   "source": [
    "train['Age'] = train.groupby(['Sex', 'Pclass'])['Age'].apply(lambda x: x.fillna(x.median()))\n",
    "test['Age'] = test.groupby(['Sex', 'Pclass'])['Age'].apply(lambda x: x.fillna(x.median()))"
   ]
  },
  {
   "cell_type": "markdown",
   "id": "c14a6dc3",
   "metadata": {
    "papermill": {
     "duration": 0.026317,
     "end_time": "2022-08-05T11:45:46.091632",
     "exception": false,
     "start_time": "2022-08-05T11:45:46.065315",
     "status": "completed"
    },
    "tags": []
   },
   "source": [
    "And also bin it"
   ]
  },
  {
   "cell_type": "code",
   "execution_count": 42,
   "id": "21c88803",
   "metadata": {
    "execution": {
     "iopub.execute_input": "2022-08-05T11:45:46.147325Z",
     "iopub.status.busy": "2022-08-05T11:45:46.146662Z",
     "iopub.status.idle": "2022-08-05T11:45:46.157488Z",
     "shell.execute_reply": "2022-08-05T11:45:46.156696Z"
    },
    "papermill": {
     "duration": 0.04136,
     "end_time": "2022-08-05T11:45:46.159668",
     "exception": false,
     "start_time": "2022-08-05T11:45:46.118308",
     "status": "completed"
    },
    "tags": []
   },
   "outputs": [],
   "source": [
    "train['Age'] = pd.qcut(train['Age'], 10)\n",
    "test['Age'] = pd.qcut(test['Age'], 10)"
   ]
  },
  {
   "cell_type": "code",
   "execution_count": 43,
   "id": "4b7f6af6",
   "metadata": {
    "execution": {
     "iopub.execute_input": "2022-08-05T11:45:46.215131Z",
     "iopub.status.busy": "2022-08-05T11:45:46.214723Z",
     "iopub.status.idle": "2022-08-05T11:45:46.730679Z",
     "shell.execute_reply": "2022-08-05T11:45:46.729902Z"
    },
    "papermill": {
     "duration": 0.546392,
     "end_time": "2022-08-05T11:45:46.732969",
     "exception": false,
     "start_time": "2022-08-05T11:45:46.186577",
     "status": "completed"
    },
    "tags": []
   },
   "outputs": [
    {
     "data": {
      "image/png": "[encoded data removed]",
      "text/plain": [
       "<Figure size 1080x432 with 1 Axes>"
      ]
     },
     "metadata": {},
     "output_type": "display_data"
    }
   ],
   "source": [
    "fig, axes = plt.subplots(1, 1)\n",
    "g = sns.barplot(data=train, x='Age', y='Survived', ax=axes)\n",
    "g.set_ylabel(\"Survival proba\")\n",
    "_=plt.xticks(rotation=30)"
   ]
  },
  {
   "cell_type": "code",
   "execution_count": 44,
   "id": "0b9cc250",
   "metadata": {
    "execution": {
     "iopub.execute_input": "2022-08-05T11:45:46.791092Z",
     "iopub.status.busy": "2022-08-05T11:45:46.790406Z",
     "iopub.status.idle": "2022-08-05T11:45:46.800170Z",
     "shell.execute_reply": "2022-08-05T11:45:46.799197Z"
    },
    "papermill": {
     "duration": 0.04147,
     "end_time": "2022-08-05T11:45:46.802409",
     "exception": false,
     "start_time": "2022-08-05T11:45:46.760939",
     "status": "completed"
    },
    "tags": []
   },
   "outputs": [],
   "source": [
    "train[\"Age\"] = LabelEncoder().fit_transform(train[\"Age\"])\n",
    "test[\"Age\"] = LabelEncoder().fit_transform(test[\"Age\"])"
   ]
  },
  {
   "cell_type": "markdown",
   "id": "ec660d77",
   "metadata": {
    "papermill": {
     "duration": 0.027693,
     "end_time": "2022-08-05T11:45:46.858359",
     "exception": false,
     "start_time": "2022-08-05T11:45:46.830666",
     "status": "completed"
    },
    "tags": []
   },
   "source": [
    "### Result"
   ]
  },
  {
   "cell_type": "code",
   "execution_count": 45,
   "id": "9a4ac749",
   "metadata": {
    "execution": {
     "iopub.execute_input": "2022-08-05T11:45:46.915698Z",
     "iopub.status.busy": "2022-08-05T11:45:46.915076Z",
     "iopub.status.idle": "2022-08-05T11:45:46.931213Z",
     "shell.execute_reply": "2022-08-05T11:45:46.930172Z"
    },
    "papermill": {
     "duration": 0.047096,
     "end_time": "2022-08-05T11:45:46.933241",
     "exception": false,
     "start_time": "2022-08-05T11:45:46.886145",
     "status": "completed"
    },
    "tags": []
   },
   "outputs": [
    {
     "data": {
      "text/html": [
       "<div>\n",
       "<style scoped>\n",
       "    .dataframe tbody tr th:only-of-type {\n",
       "        vertical-align: middle;\n",
       "    }\n",
       "\n",
       "    .dataframe tbody tr th {\n",
       "        vertical-align: top;\n",
       "    }\n",
       "\n",
       "    .dataframe thead th {\n",
       "        text-align: right;\n",
       "    }\n",
       "</style>\n",
       "<table border=\"1\" class=\"dataframe\">\n",
       "  <thead>\n",
       "    <tr style=\"text-align: right;\">\n",
       "      <th></th>\n",
       "      <th>PassengerId</th>\n",
       "      <th>Survived</th>\n",
       "      <th>Pclass</th>\n",
       "      <th>Name</th>\n",
       "      <th>Sex</th>\n",
       "      <th>Age</th>\n",
       "      <th>SibSp</th>\n",
       "      <th>Parch</th>\n",
       "      <th>Ticket</th>\n",
       "      <th>Fare</th>\n",
       "      <th>Cabin</th>\n",
       "      <th>Embarked</th>\n",
       "      <th>Title</th>\n",
       "      <th>Ticket_Frequency</th>\n",
       "      <th>FamilySize</th>\n",
       "    </tr>\n",
       "  </thead>\n",
       "  <tbody>\n",
       "    <tr>\n",
       "      <th>0</th>\n",
       "      <td>1</td>\n",
       "      <td>0</td>\n",
       "      <td>3</td>\n",
       "      <td>Braund, Mr. Owen Harris</td>\n",
       "      <td>1</td>\n",
       "      <td>2</td>\n",
       "      <td>1</td>\n",
       "      <td>0</td>\n",
       "      <td>A/5 21171</td>\n",
       "      <td>1</td>\n",
       "      <td>X</td>\n",
       "      <td>S</td>\n",
       "      <td>Mr</td>\n",
       "      <td>1</td>\n",
       "      <td>Small</td>\n",
       "    </tr>\n",
       "    <tr>\n",
       "      <th>1</th>\n",
       "      <td>2</td>\n",
       "      <td>1</td>\n",
       "      <td>1</td>\n",
       "      <td>Cumings, Mrs. John Bradley (Florence Briggs Th...</td>\n",
       "      <td>0</td>\n",
       "      <td>7</td>\n",
       "      <td>1</td>\n",
       "      <td>0</td>\n",
       "      <td>PC 17599</td>\n",
       "      <td>11</td>\n",
       "      <td>ABC</td>\n",
       "      <td>C</td>\n",
       "      <td>Mrs</td>\n",
       "      <td>1</td>\n",
       "      <td>Small</td>\n",
       "    </tr>\n",
       "    <tr>\n",
       "      <th>2</th>\n",
       "      <td>3</td>\n",
       "      <td>1</td>\n",
       "      <td>3</td>\n",
       "      <td>Heikkinen, Miss. Laina</td>\n",
       "      <td>0</td>\n",
       "      <td>4</td>\n",
       "      <td>0</td>\n",
       "      <td>0</td>\n",
       "      <td>STON/O2. 3101282</td>\n",
       "      <td>3</td>\n",
       "      <td>X</td>\n",
       "      <td>S</td>\n",
       "      <td>Miss</td>\n",
       "      <td>1</td>\n",
       "      <td>Alone</td>\n",
       "    </tr>\n",
       "    <tr>\n",
       "      <th>3</th>\n",
       "      <td>4</td>\n",
       "      <td>1</td>\n",
       "      <td>1</td>\n",
       "      <td>Futrelle, Mrs. Jacques Heath (Lily May Peel)</td>\n",
       "      <td>0</td>\n",
       "      <td>7</td>\n",
       "      <td>1</td>\n",
       "      <td>0</td>\n",
       "      <td>113803</td>\n",
       "      <td>10</td>\n",
       "      <td>ABC</td>\n",
       "      <td>S</td>\n",
       "      <td>Mrs</td>\n",
       "      <td>2</td>\n",
       "      <td>Small</td>\n",
       "    </tr>\n",
       "    <tr>\n",
       "      <th>4</th>\n",
       "      <td>5</td>\n",
       "      <td>0</td>\n",
       "      <td>3</td>\n",
       "      <td>Allen, Mr. William Henry</td>\n",
       "      <td>1</td>\n",
       "      <td>7</td>\n",
       "      <td>0</td>\n",
       "      <td>0</td>\n",
       "      <td>373450</td>\n",
       "      <td>3</td>\n",
       "      <td>X</td>\n",
       "      <td>S</td>\n",
       "      <td>Mr</td>\n",
       "      <td>1</td>\n",
       "      <td>Alone</td>\n",
       "    </tr>\n",
       "  </tbody>\n",
       "</table>\n",
       "</div>"
      ],
      "text/plain": [
       "   PassengerId  Survived  Pclass  \\\n",
       "0            1         0       3   \n",
       "1            2         1       1   \n",
       "2            3         1       3   \n",
       "3            4         1       1   \n",
       "4            5         0       3   \n",
       "\n",
       "                                                Name  Sex  Age  SibSp  Parch  \\\n",
       "0                            Braund, Mr. Owen Harris    1    2      1      0   \n",
       "1  Cumings, Mrs. John Bradley (Florence Briggs Th...    0    7      1      0   \n",
       "2                             Heikkinen, Miss. Laina    0    4      0      0   \n",
       "3       Futrelle, Mrs. Jacques Heath (Lily May Peel)    0    7      1      0   \n",
       "4                           Allen, Mr. William Henry    1    7      0      0   \n",
       "\n",
       "             Ticket  Fare Cabin Embarked Title  Ticket_Frequency FamilySize  \n",
       "0         A/5 21171     1     X        S    Mr                 1      Small  \n",
       "1          PC 17599    11   ABC        C   Mrs                 1      Small  \n",
       "2  STON/O2. 3101282     3     X        S  Miss                 1      Alone  \n",
       "3            113803    10   ABC        S   Mrs                 2      Small  \n",
       "4            373450     3     X        S    Mr                 1      Alone  "
      ]
     },
     "execution_count": 45,
     "metadata": {},
     "output_type": "execute_result"
    }
   ],
   "source": [
    "train.head()"
   ]
  },
  {
   "cell_type": "code",
   "execution_count": 46,
   "id": "f522a3a7",
   "metadata": {
    "execution": {
     "iopub.execute_input": "2022-08-05T11:45:46.991266Z",
     "iopub.status.busy": "2022-08-05T11:45:46.990604Z",
     "iopub.status.idle": "2022-08-05T11:45:46.998812Z",
     "shell.execute_reply": "2022-08-05T11:45:46.997959Z"
    },
    "papermill": {
     "duration": 0.039992,
     "end_time": "2022-08-05T11:45:47.001175",
     "exception": false,
     "start_time": "2022-08-05T11:45:46.961183",
     "status": "completed"
    },
    "tags": []
   },
   "outputs": [],
   "source": [
    "PassengerId = test['PassengerId']\n",
    "drop_feat = ['PassengerId', 'Ticket', 'Name', 'SibSp', 'Parch']\n",
    "\n",
    "train.drop(drop_feat, axis=1, inplace=True)\n",
    "test.drop(drop_feat, axis=1, inplace=True)"
   ]
  },
  {
   "cell_type": "code",
   "execution_count": 47,
   "id": "9186f7c8",
   "metadata": {
    "execution": {
     "iopub.execute_input": "2022-08-05T11:45:47.061806Z",
     "iopub.status.busy": "2022-08-05T11:45:47.061168Z",
     "iopub.status.idle": "2022-08-05T11:45:47.075184Z",
     "shell.execute_reply": "2022-08-05T11:45:47.074018Z"
    },
    "papermill": {
     "duration": 0.046341,
     "end_time": "2022-08-05T11:45:47.077373",
     "exception": false,
     "start_time": "2022-08-05T11:45:47.031032",
     "status": "completed"
    },
    "tags": []
   },
   "outputs": [
    {
     "data": {
      "text/html": [
       "<div>\n",
       "<style scoped>\n",
       "    .dataframe tbody tr th:only-of-type {\n",
       "        vertical-align: middle;\n",
       "    }\n",
       "\n",
       "    .dataframe tbody tr th {\n",
       "        vertical-align: top;\n",
       "    }\n",
       "\n",
       "    .dataframe thead th {\n",
       "        text-align: right;\n",
       "    }\n",
       "</style>\n",
       "<table border=\"1\" class=\"dataframe\">\n",
       "  <thead>\n",
       "    <tr style=\"text-align: right;\">\n",
       "      <th></th>\n",
       "      <th>Survived</th>\n",
       "      <th>Pclass</th>\n",
       "      <th>Sex</th>\n",
       "      <th>Age</th>\n",
       "      <th>Fare</th>\n",
       "      <th>Cabin</th>\n",
       "      <th>Embarked</th>\n",
       "      <th>Title</th>\n",
       "      <th>Ticket_Frequency</th>\n",
       "      <th>FamilySize</th>\n",
       "    </tr>\n",
       "  </thead>\n",
       "  <tbody>\n",
       "    <tr>\n",
       "      <th>0</th>\n",
       "      <td>0</td>\n",
       "      <td>3</td>\n",
       "      <td>1</td>\n",
       "      <td>2</td>\n",
       "      <td>1</td>\n",
       "      <td>X</td>\n",
       "      <td>S</td>\n",
       "      <td>Mr</td>\n",
       "      <td>1</td>\n",
       "      <td>Small</td>\n",
       "    </tr>\n",
       "    <tr>\n",
       "      <th>1</th>\n",
       "      <td>1</td>\n",
       "      <td>1</td>\n",
       "      <td>0</td>\n",
       "      <td>7</td>\n",
       "      <td>11</td>\n",
       "      <td>ABC</td>\n",
       "      <td>C</td>\n",
       "      <td>Mrs</td>\n",
       "      <td>1</td>\n",
       "      <td>Small</td>\n",
       "    </tr>\n",
       "    <tr>\n",
       "      <th>2</th>\n",
       "      <td>1</td>\n",
       "      <td>3</td>\n",
       "      <td>0</td>\n",
       "      <td>4</td>\n",
       "      <td>3</td>\n",
       "      <td>X</td>\n",
       "      <td>S</td>\n",
       "      <td>Miss</td>\n",
       "      <td>1</td>\n",
       "      <td>Alone</td>\n",
       "    </tr>\n",
       "    <tr>\n",
       "      <th>3</th>\n",
       "      <td>1</td>\n",
       "      <td>1</td>\n",
       "      <td>0</td>\n",
       "      <td>7</td>\n",
       "      <td>10</td>\n",
       "      <td>ABC</td>\n",
       "      <td>S</td>\n",
       "      <td>Mrs</td>\n",
       "      <td>2</td>\n",
       "      <td>Small</td>\n",
       "    </tr>\n",
       "    <tr>\n",
       "      <th>4</th>\n",
       "      <td>0</td>\n",
       "      <td>3</td>\n",
       "      <td>1</td>\n",
       "      <td>7</td>\n",
       "      <td>3</td>\n",
       "      <td>X</td>\n",
       "      <td>S</td>\n",
       "      <td>Mr</td>\n",
       "      <td>1</td>\n",
       "      <td>Alone</td>\n",
       "    </tr>\n",
       "  </tbody>\n",
       "</table>\n",
       "</div>"
      ],
      "text/plain": [
       "   Survived  Pclass  Sex  Age  Fare Cabin Embarked Title  Ticket_Frequency  \\\n",
       "0         0       3    1    2     1     X        S    Mr                 1   \n",
       "1         1       1    0    7    11   ABC        C   Mrs                 1   \n",
       "2         1       3    0    4     3     X        S  Miss                 1   \n",
       "3         1       1    0    7    10   ABC        S   Mrs                 2   \n",
       "4         0       3    1    7     3     X        S    Mr                 1   \n",
       "\n",
       "  FamilySize  \n",
       "0      Small  \n",
       "1      Small  \n",
       "2      Alone  \n",
       "3      Small  \n",
       "4      Alone  "
      ]
     },
     "execution_count": 47,
     "metadata": {},
     "output_type": "execute_result"
    }
   ],
   "source": [
    "train.head()"
   ]
  },
  {
   "cell_type": "markdown",
   "id": "d824feb5",
   "metadata": {
    "papermill": {
     "duration": 0.027344,
     "end_time": "2022-08-05T11:45:47.133138",
     "exception": false,
     "start_time": "2022-08-05T11:45:47.105794",
     "status": "completed"
    },
    "tags": []
   },
   "source": [
    "# Training"
   ]
  },
  {
   "cell_type": "code",
   "execution_count": 48,
   "id": "a19edb4d",
   "metadata": {
    "execution": {
     "iopub.execute_input": "2022-08-05T11:45:47.191065Z",
     "iopub.status.busy": "2022-08-05T11:45:47.190639Z",
     "iopub.status.idle": "2022-08-05T11:45:47.197499Z",
     "shell.execute_reply": "2022-08-05T11:45:47.196443Z"
    },
    "papermill": {
     "duration": 0.038465,
     "end_time": "2022-08-05T11:45:47.199676",
     "exception": false,
     "start_time": "2022-08-05T11:45:47.161211",
     "status": "completed"
    },
    "tags": []
   },
   "outputs": [],
   "source": [
    "train[\"FamilySize\"] = LabelEncoder().fit_transform(train[\"FamilySize\"])\n",
    "test[\"FamilySize\"] = LabelEncoder().fit_transform(test[\"FamilySize\"])"
   ]
  },
  {
   "cell_type": "code",
   "execution_count": 49,
   "id": "34d9ecd9",
   "metadata": {
    "execution": {
     "iopub.execute_input": "2022-08-05T11:45:47.260012Z",
     "iopub.status.busy": "2022-08-05T11:45:47.259312Z",
     "iopub.status.idle": "2022-08-05T11:45:47.273201Z",
     "shell.execute_reply": "2022-08-05T11:45:47.272139Z"
    },
    "papermill": {
     "duration": 0.046655,
     "end_time": "2022-08-05T11:45:47.275820",
     "exception": false,
     "start_time": "2022-08-05T11:45:47.229165",
     "status": "completed"
    },
    "tags": []
   },
   "outputs": [],
   "source": [
    "X_train = pd.get_dummies(train.drop('Survived', axis=1), columns=['Cabin', 'Embarked', 'Title'])\n",
    "X_test = pd.get_dummies(test, columns=['Cabin', 'Embarked', 'Title'])\n",
    "\n",
    "y_train = train['Survived']"
   ]
  },
  {
   "cell_type": "code",
   "execution_count": 50,
   "id": "60edfde3",
   "metadata": {
    "execution": {
     "iopub.execute_input": "2022-08-05T11:45:47.336008Z",
     "iopub.status.busy": "2022-08-05T11:45:47.335487Z",
     "iopub.status.idle": "2022-08-05T11:45:47.351448Z",
     "shell.execute_reply": "2022-08-05T11:45:47.350279Z"
    },
    "papermill": {
     "duration": 0.049019,
     "end_time": "2022-08-05T11:45:47.353706",
     "exception": false,
     "start_time": "2022-08-05T11:45:47.304687",
     "status": "completed"
    },
    "tags": []
   },
   "outputs": [
    {
     "data": {
      "text/html": [
       "<div>\n",
       "<style scoped>\n",
       "    .dataframe tbody tr th:only-of-type {\n",
       "        vertical-align: middle;\n",
       "    }\n",
       "\n",
       "    .dataframe tbody tr th {\n",
       "        vertical-align: top;\n",
       "    }\n",
       "\n",
       "    .dataframe thead th {\n",
       "        text-align: right;\n",
       "    }\n",
       "</style>\n",
       "<table border=\"1\" class=\"dataframe\">\n",
       "  <thead>\n",
       "    <tr style=\"text-align: right;\">\n",
       "      <th></th>\n",
       "      <th>Pclass</th>\n",
       "      <th>Sex</th>\n",
       "      <th>Age</th>\n",
       "      <th>Fare</th>\n",
       "      <th>Ticket_Frequency</th>\n",
       "      <th>FamilySize</th>\n",
       "      <th>Cabin_ABC</th>\n",
       "      <th>Cabin_DE</th>\n",
       "      <th>Cabin_FG</th>\n",
       "      <th>Cabin_X</th>\n",
       "      <th>Embarked_C</th>\n",
       "      <th>Embarked_Q</th>\n",
       "      <th>Embarked_S</th>\n",
       "      <th>Title_Master</th>\n",
       "      <th>Title_Miss</th>\n",
       "      <th>Title_Mr</th>\n",
       "      <th>Title_Mrs</th>\n",
       "      <th>Title_Rare</th>\n",
       "    </tr>\n",
       "  </thead>\n",
       "  <tbody>\n",
       "    <tr>\n",
       "      <th>0</th>\n",
       "      <td>3</td>\n",
       "      <td>1</td>\n",
       "      <td>2</td>\n",
       "      <td>1</td>\n",
       "      <td>1</td>\n",
       "      <td>3</td>\n",
       "      <td>0</td>\n",
       "      <td>0</td>\n",
       "      <td>0</td>\n",
       "      <td>1</td>\n",
       "      <td>0</td>\n",
       "      <td>0</td>\n",
       "      <td>1</td>\n",
       "      <td>0</td>\n",
       "      <td>0</td>\n",
       "      <td>1</td>\n",
       "      <td>0</td>\n",
       "      <td>0</td>\n",
       "    </tr>\n",
       "    <tr>\n",
       "      <th>1</th>\n",
       "      <td>1</td>\n",
       "      <td>0</td>\n",
       "      <td>7</td>\n",
       "      <td>11</td>\n",
       "      <td>1</td>\n",
       "      <td>3</td>\n",
       "      <td>1</td>\n",
       "      <td>0</td>\n",
       "      <td>0</td>\n",
       "      <td>0</td>\n",
       "      <td>1</td>\n",
       "      <td>0</td>\n",
       "      <td>0</td>\n",
       "      <td>0</td>\n",
       "      <td>0</td>\n",
       "      <td>0</td>\n",
       "      <td>1</td>\n",
       "      <td>0</td>\n",
       "    </tr>\n",
       "    <tr>\n",
       "      <th>2</th>\n",
       "      <td>3</td>\n",
       "      <td>0</td>\n",
       "      <td>4</td>\n",
       "      <td>3</td>\n",
       "      <td>1</td>\n",
       "      <td>0</td>\n",
       "      <td>0</td>\n",
       "      <td>0</td>\n",
       "      <td>0</td>\n",
       "      <td>1</td>\n",
       "      <td>0</td>\n",
       "      <td>0</td>\n",
       "      <td>1</td>\n",
       "      <td>0</td>\n",
       "      <td>1</td>\n",
       "      <td>0</td>\n",
       "      <td>0</td>\n",
       "      <td>0</td>\n",
       "    </tr>\n",
       "    <tr>\n",
       "      <th>3</th>\n",
       "      <td>1</td>\n",
       "      <td>0</td>\n",
       "      <td>7</td>\n",
       "      <td>10</td>\n",
       "      <td>2</td>\n",
       "      <td>3</td>\n",
       "      <td>1</td>\n",
       "      <td>0</td>\n",
       "      <td>0</td>\n",
       "      <td>0</td>\n",
       "      <td>0</td>\n",
       "      <td>0</td>\n",
       "      <td>1</td>\n",
       "      <td>0</td>\n",
       "      <td>0</td>\n",
       "      <td>0</td>\n",
       "      <td>1</td>\n",
       "      <td>0</td>\n",
       "    </tr>\n",
       "    <tr>\n",
       "      <th>4</th>\n",
       "      <td>3</td>\n",
       "      <td>1</td>\n",
       "      <td>7</td>\n",
       "      <td>3</td>\n",
       "      <td>1</td>\n",
       "      <td>0</td>\n",
       "      <td>0</td>\n",
       "      <td>0</td>\n",
       "      <td>0</td>\n",
       "      <td>1</td>\n",
       "      <td>0</td>\n",
       "      <td>0</td>\n",
       "      <td>1</td>\n",
       "      <td>0</td>\n",
       "      <td>0</td>\n",
       "      <td>1</td>\n",
       "      <td>0</td>\n",
       "      <td>0</td>\n",
       "    </tr>\n",
       "  </tbody>\n",
       "</table>\n",
       "</div>"
      ],
      "text/plain": [
       "   Pclass  Sex  Age  Fare  Ticket_Frequency  FamilySize  Cabin_ABC  Cabin_DE  \\\n",
       "0       3    1    2     1                 1           3          0         0   \n",
       "1       1    0    7    11                 1           3          1         0   \n",
       "2       3    0    4     3                 1           0          0         0   \n",
       "3       1    0    7    10                 2           3          1         0   \n",
       "4       3    1    7     3                 1           0          0         0   \n",
       "\n",
       "   Cabin_FG  Cabin_X  Embarked_C  Embarked_Q  Embarked_S  Title_Master  \\\n",
       "0         0        1           0           0           1             0   \n",
       "1         0        0           1           0           0             0   \n",
       "2         0        1           0           0           1             0   \n",
       "3         0        0           0           0           1             0   \n",
       "4         0        1           0           0           1             0   \n",
       "\n",
       "   Title_Miss  Title_Mr  Title_Mrs  Title_Rare  \n",
       "0           0         1          0           0  \n",
       "1           0         0          1           0  \n",
       "2           1         0          0           0  \n",
       "3           0         0          1           0  \n",
       "4           0         1          0           0  "
      ]
     },
     "execution_count": 50,
     "metadata": {},
     "output_type": "execute_result"
    }
   ],
   "source": [
    "X_train.head()"
   ]
  },
  {
   "cell_type": "code",
   "execution_count": 51,
   "id": "97075fcc",
   "metadata": {
    "execution": {
     "iopub.execute_input": "2022-08-05T11:45:47.413024Z",
     "iopub.status.busy": "2022-08-05T11:45:47.412566Z",
     "iopub.status.idle": "2022-08-05T11:45:47.429368Z",
     "shell.execute_reply": "2022-08-05T11:45:47.428341Z"
    },
    "papermill": {
     "duration": 0.049454,
     "end_time": "2022-08-05T11:45:47.431646",
     "exception": false,
     "start_time": "2022-08-05T11:45:47.382192",
     "status": "completed"
    },
    "tags": []
   },
   "outputs": [
    {
     "data": {
      "text/plain": [
       "array([[ 0.82737724,  0.73769513, -0.80682091, -1.29985522, -0.57916179,\n",
       "         1.36604236, -0.39830591, -0.28052182, -0.13946613,  0.54492498,\n",
       "        -0.48204268, -0.30756234,  0.61583843, -0.21680296, -0.50665528,\n",
       "         0.85053175, -0.4039621 , -0.1767767 ],\n",
       "       [-1.56610693, -1.35557354,  0.93043726,  1.34678783, -0.57916179,\n",
       "         1.36604236,  2.51063313, -0.28052182, -0.13946613, -1.835115  ,\n",
       "         2.0745051 , -0.30756234, -1.62380254, -0.21680296, -0.50665528,\n",
       "        -1.17573506,  2.47547975, -0.1767767 ],\n",
       "       [ 0.82737724, -1.35557354, -0.11191764, -0.77052661, -0.57916179,\n",
       "        -0.78438828, -0.39830591, -0.28052182, -0.13946613,  0.54492498,\n",
       "        -0.48204268, -0.30756234,  0.61583843, -0.21680296,  1.97372855,\n",
       "        -1.17573506, -0.4039621 , -0.1767767 ],\n",
       "       [-1.56610693, -1.35557354,  0.93043726,  1.08212353,  0.15592818,\n",
       "         1.36604236,  2.51063313, -0.28052182, -0.13946613, -1.835115  ,\n",
       "        -0.48204268, -0.30756234,  0.61583843, -0.21680296, -0.50665528,\n",
       "        -1.17573506,  2.47547975, -0.1767767 ],\n",
       "       [ 0.82737724,  0.73769513,  0.93043726, -0.77052661, -0.57916179,\n",
       "        -0.78438828, -0.39830591, -0.28052182, -0.13946613,  0.54492498,\n",
       "        -0.48204268, -0.30756234,  0.61583843, -0.21680296, -0.50665528,\n",
       "         0.85053175, -0.4039621 , -0.1767767 ]])"
      ]
     },
     "execution_count": 51,
     "metadata": {},
     "output_type": "execute_result"
    }
   ],
   "source": [
    "X_train = StandardScaler().fit_transform(X_train)\n",
    "X_test = StandardScaler().fit_transform(X_test)\n",
    "X_train[:5]"
   ]
  },
  {
   "cell_type": "code",
   "execution_count": 52,
   "id": "0035c09e",
   "metadata": {
    "execution": {
     "iopub.execute_input": "2022-08-05T11:45:47.491260Z",
     "iopub.status.busy": "2022-08-05T11:45:47.490603Z",
     "iopub.status.idle": "2022-08-05T11:45:47.496057Z",
     "shell.execute_reply": "2022-08-05T11:45:47.495287Z"
    },
    "papermill": {
     "duration": 0.037999,
     "end_time": "2022-08-05T11:45:47.498166",
     "exception": false,
     "start_time": "2022-08-05T11:45:47.460167",
     "status": "completed"
    },
    "tags": []
   },
   "outputs": [],
   "source": [
    "def evaluate(clf, X, y):\n",
    "    cv_results = cross_validate(clf, X, y, cv=3, scoring=['accuracy', 'precision', 'recall', 'f1', 'roc_auc'])\n",
    "    print(f'accuracy = {np.mean(cv_results[\"test_accuracy\"]):.4f}')\n",
    "    print(f'precision = {np.mean(cv_results[\"test_precision\"]):.4f}')\n",
    "    print(f'recall = {np.mean(cv_results[\"test_recall\"]):.4f}')\n",
    "    print(f'f1 = {np.mean(cv_results[\"test_f1\"]):.4f}')\n",
    "    print(f'roc_auc = {np.mean(cv_results[\"test_roc_auc\"]):.4f}')"
   ]
  },
  {
   "cell_type": "code",
   "execution_count": 53,
   "id": "d8daaf83",
   "metadata": {
    "execution": {
     "iopub.execute_input": "2022-08-05T11:45:47.558526Z",
     "iopub.status.busy": "2022-08-05T11:45:47.557393Z",
     "iopub.status.idle": "2022-08-05T11:45:47.562770Z",
     "shell.execute_reply": "2022-08-05T11:45:47.561974Z"
    },
    "papermill": {
     "duration": 0.038024,
     "end_time": "2022-08-05T11:45:47.565067",
     "exception": false,
     "start_time": "2022-08-05T11:45:47.527043",
     "status": "completed"
    },
    "tags": []
   },
   "outputs": [],
   "source": [
    "def save_result(predictions, sub_name):\n",
    "    output = pd.DataFrame({'PassengerId': PassengerId, 'Survived': predictions})\n",
    "    output.to_csv('submission' + sub_name + '.csv', index=False)\n",
    "    print(\"Your submission was successfully saved!\")"
   ]
  },
  {
   "cell_type": "code",
   "execution_count": 54,
   "id": "e9a191e4",
   "metadata": {
    "execution": {
     "iopub.execute_input": "2022-08-05T11:45:47.626110Z",
     "iopub.status.busy": "2022-08-05T11:45:47.625401Z",
     "iopub.status.idle": "2022-08-05T11:45:47.632031Z",
     "shell.execute_reply": "2022-08-05T11:45:47.631283Z"
    },
    "papermill": {
     "duration": 0.039278,
     "end_time": "2022-08-05T11:45:47.634027",
     "exception": false,
     "start_time": "2022-08-05T11:45:47.594749",
     "status": "completed"
    },
    "tags": []
   },
   "outputs": [],
   "source": [
    "def add_stats(df, clf, X, y, name):\n",
    "    cv_results = cross_validate(clf, X, y, cv=5, scoring=['accuracy', 'precision', 'recall', 'f1', 'roc_auc'])\n",
    "    \n",
    "    acc = np.mean(cv_results[\"test_accuracy\"]).round(4)\n",
    "    prec = np.mean(cv_results[\"test_precision\"]).round(4)\n",
    "    rec = np.mean(cv_results[\"test_recall\"]).round(4)\n",
    "    f1 = np.mean(cv_results[\"test_f1\"]).round(4)\n",
    "    roc_auc = np.mean(cv_results[\"test_roc_auc\"]).round(4)\n",
    "    df[name] = [acc, prec, rec, f1, roc_auc]\n",
    "    return df\n"
   ]
  },
  {
   "cell_type": "markdown",
   "id": "b66be4a0",
   "metadata": {
    "papermill": {
     "duration": 0.027912,
     "end_time": "2022-08-05T11:45:47.690897",
     "exception": false,
     "start_time": "2022-08-05T11:45:47.662985",
     "status": "completed"
    },
    "tags": []
   },
   "source": [
    "### Models overview"
   ]
  },
  {
   "cell_type": "code",
   "execution_count": 55,
   "id": "f60271b2",
   "metadata": {
    "execution": {
     "iopub.execute_input": "2022-08-05T11:45:47.749449Z",
     "iopub.status.busy": "2022-08-05T11:45:47.748730Z",
     "iopub.status.idle": "2022-08-05T11:45:54.837983Z",
     "shell.execute_reply": "2022-08-05T11:45:54.837075Z"
    },
    "papermill": {
     "duration": 7.121563,
     "end_time": "2022-08-05T11:45:54.840595",
     "exception": false,
     "start_time": "2022-08-05T11:45:47.719032",
     "status": "completed"
    },
    "tags": []
   },
   "outputs": [],
   "source": [
    "classifiers = [DecisionTreeClassifier(), RandomForestClassifier(), ExtraTreesClassifier(),\n",
    "               KNeighborsClassifier(), GaussianNB(), LogisticRegression(solver='liblinear'), AdaBoostClassifier(),\n",
    "               GradientBoostingClassifier(), LinearDiscriminantAnalysis(), SVC(),\n",
    "               xgb.XGBClassifier()]\n",
    "\n",
    "names = ['DecisionTree', 'RandomForest', 'ExtraTrees',\n",
    "         'KNeighbors', 'GaussianNB', 'LogisticRegression', 'AdaBoost',\n",
    "         'GradientBoosting', 'LDA', 'SVC', 'XGBoost']\n",
    "\n",
    "model_compar_base = pd.DataFrame(index = ['Accuracy', 'Precision', 'Recall', 'F1', 'AUC'])\n",
    "\n",
    "for clf, clf_name in zip(classifiers, names):\n",
    "    clf.fit(X_train, y_train)\n",
    "    model_compar_base = add_stats(model_compar_base, clf, X_train, y_train,clf_name)\n",
    "    "
   ]
  },
  {
   "cell_type": "code",
   "execution_count": 56,
   "id": "b760c56a",
   "metadata": {
    "execution": {
     "iopub.execute_input": "2022-08-05T11:45:54.901905Z",
     "iopub.status.busy": "2022-08-05T11:45:54.901501Z",
     "iopub.status.idle": "2022-08-05T11:45:55.748636Z",
     "shell.execute_reply": "2022-08-05T11:45:55.747568Z"
    },
    "papermill": {
     "duration": 0.879818,
     "end_time": "2022-08-05T11:45:55.751080",
     "exception": false,
     "start_time": "2022-08-05T11:45:54.871262",
     "status": "completed"
    },
    "tags": []
   },
   "outputs": [
    {
     "data": {
      "text/plain": [
       "<AxesSubplot:xlabel='AUC'>"
      ]
     },
     "execution_count": 56,
     "metadata": {},
     "output_type": "execute_result"
    },
    {
     "data": {
      "image/png": "[encoded data removed]",
      "text/plain": [
       "<Figure size 864x576 with 4 Axes>"
      ]
     },
     "metadata": {},
     "output_type": "display_data"
    }
   ],
   "source": [
    "fig, axes = plt.subplots(2, 2, sharey=True, figsize=(12, 8))\n",
    "sns.barplot(data=model_compar_base.T, y=model_compar_base.columns.values, x='Accuracy', orient='horizont', ax=axes[0][0])\n",
    "axes[0][0].set_xlim(0.6, 0.9)\n",
    "sns.barplot(data=model_compar_base.T, y=model_compar_base.columns.values, x='Precision', orient='horizont', ax=axes[0][1])\n",
    "sns.barplot(data=model_compar_base.T, y=model_compar_base.columns.values, x='F1', orient='horizont', ax=axes[1][0])\n",
    "sns.barplot(data=model_compar_base.T, y=model_compar_base.columns.values, x='AUC', orient='horizont', ax=axes[1][1])"
   ]
  },
  {
   "cell_type": "markdown",
   "id": "f64aa371",
   "metadata": {
    "papermill": {
     "duration": 0.029163,
     "end_time": "2022-08-05T11:45:55.809509",
     "exception": false,
     "start_time": "2022-08-05T11:45:55.780346",
     "status": "completed"
    },
    "tags": []
   },
   "source": [
    "It seems that Gradient Boosting and Logistic Regresstion are good choices but in practise they give low ressult on test even after tuning (this can be said for many models). Finally I choosed Random Forest. And AdaBoost with LR for ensembling."
   ]
  },
  {
   "cell_type": "markdown",
   "id": "b7c1121a",
   "metadata": {
    "papermill": {
     "duration": 0.028769,
     "end_time": "2022-08-05T11:45:55.868389",
     "exception": false,
     "start_time": "2022-08-05T11:45:55.839620",
     "status": "completed"
    },
    "tags": []
   },
   "source": [
    "## Random Forrest"
   ]
  },
  {
   "cell_type": "code",
   "execution_count": 57,
   "id": "7c023763",
   "metadata": {
    "execution": {
     "iopub.execute_input": "2022-08-05T11:45:55.929000Z",
     "iopub.status.busy": "2022-08-05T11:45:55.928231Z",
     "iopub.status.idle": "2022-08-05T11:45:55.937089Z",
     "shell.execute_reply": "2022-08-05T11:45:55.936320Z"
    },
    "papermill": {
     "duration": 0.041614,
     "end_time": "2022-08-05T11:45:55.939305",
     "exception": false,
     "start_time": "2022-08-05T11:45:55.897691",
     "status": "completed"
    },
    "tags": []
   },
   "outputs": [],
   "source": [
    "model_compar = pd.DataFrame(index = ['Accuracy', 'Precision', 'Recall', 'F1', 'AUC'])\n",
    "\n",
    "TRAIN = False\n",
    "if TRAIN:\n",
    "    param_grid = { \n",
    "        'n_estimators': [100, 300, 500, 700, 1000],\n",
    "        'max_features': ['auto', 'log2'],\n",
    "        'max_depth': [5, 7, 9, 11, 13, 15],\n",
    "        'criterion': ['gini', 'entropy'],\n",
    "        'bootstrap': [True, False],\n",
    "    }\n",
    "\n",
    "    model = RandomForestClassifier()\n",
    "    rscv = RandomizedSearchCV(estimator=model, param_distributions=param_grid, n_iter=50, cv=5, n_jobs=-1,\n",
    "                              scoring='accuracy', refit=True, verbose=10)\n",
    "    rscv.fit(X_train, y_train)\n",
    "\n",
    "    rf_params = rscv.best_params_\n",
    "    print(rscv.best_params_)\n",
    "    print(rscv.best_score_)\n",
    "\n",
    "    model_compar = add_stats(model_compar, rscv.best_estimator_, X_train, y_train, 'RandomForrest')"
   ]
  },
  {
   "cell_type": "code",
   "execution_count": 58,
   "id": "5d48e5aa",
   "metadata": {
    "execution": {
     "iopub.execute_input": "2022-08-05T11:45:55.998843Z",
     "iopub.status.busy": "2022-08-05T11:45:55.998100Z",
     "iopub.status.idle": "2022-08-05T11:45:56.003955Z",
     "shell.execute_reply": "2022-08-05T11:45:56.003213Z"
    },
    "papermill": {
     "duration": 0.038154,
     "end_time": "2022-08-05T11:45:56.006135",
     "exception": false,
     "start_time": "2022-08-05T11:45:55.967981",
     "status": "completed"
    },
    "tags": []
   },
   "outputs": [],
   "source": [
    "SEED = 42\n",
    "single_best_model = RandomForestClassifier(criterion='gini', \n",
    "                                           n_estimators=1100,\n",
    "                                           max_depth=5,\n",
    "                                           min_samples_split=4,\n",
    "                                           min_samples_leaf=5,\n",
    "                                           max_features='auto',\n",
    "                                           oob_score=True,\n",
    "                                           random_state=SEED,\n",
    "                                           n_jobs=-1,\n",
    "                                           verbose=0)"
   ]
  },
  {
   "cell_type": "markdown",
   "id": "ebc8e64d",
   "metadata": {
    "papermill": {
     "duration": 0.028442,
     "end_time": "2022-08-05T11:45:56.063554",
     "exception": false,
     "start_time": "2022-08-05T11:45:56.035112",
     "status": "completed"
    },
    "tags": []
   },
   "source": [
    "## AdaBoost parameters"
   ]
  },
  {
   "cell_type": "code",
   "execution_count": 59,
   "id": "6387639a",
   "metadata": {
    "execution": {
     "iopub.execute_input": "2022-08-05T11:45:56.123964Z",
     "iopub.status.busy": "2022-08-05T11:45:56.123538Z",
     "iopub.status.idle": "2022-08-05T11:45:56.130254Z",
     "shell.execute_reply": "2022-08-05T11:45:56.129093Z"
    },
    "papermill": {
     "duration": 0.039825,
     "end_time": "2022-08-05T11:45:56.132605",
     "exception": false,
     "start_time": "2022-08-05T11:45:56.092780",
     "status": "completed"
    },
    "tags": []
   },
   "outputs": [],
   "source": [
    "if TRAIN:\n",
    "    param_grid = { \n",
    "        'n_estimators': [100, 500, 1000, 1250, 1500, 1750, 2000],\n",
    "        'learning_rate': np.arange(0.1, 1.05, 0.05),\n",
    "    }\n",
    "\n",
    "    model = AdaBoostClassifier()\n",
    "    rscv = RandomizedSearchCV(estimator=model, param_distributions=param_grid, n_iter=50, cv=5, n_jobs=-1,\n",
    "                              scoring='auc', refit=True)\n",
    "    rscv.fit(X_train, y_train)\n",
    "\n",
    "    ada_params = rscv.best_params_\n",
    "    print(rscv.best_params_)\n",
    "    print(rscv.best_score_)"
   ]
  },
  {
   "cell_type": "code",
   "execution_count": 60,
   "id": "9b631a3f",
   "metadata": {
    "execution": {
     "iopub.execute_input": "2022-08-05T11:45:56.192607Z",
     "iopub.status.busy": "2022-08-05T11:45:56.191829Z",
     "iopub.status.idle": "2022-08-05T11:45:56.409013Z",
     "shell.execute_reply": "2022-08-05T11:45:56.407570Z"
    },
    "papermill": {
     "duration": 0.250105,
     "end_time": "2022-08-05T11:45:56.411635",
     "exception": false,
     "start_time": "2022-08-05T11:45:56.161530",
     "status": "completed"
    },
    "tags": []
   },
   "outputs": [
    {
     "name": "stdout",
     "output_type": "stream",
     "text": [
      "Your submission was successfully saved!\n"
     ]
    }
   ],
   "source": [
    "ada_params = {'n_estimators': 100, 'learning_rate': 0.65}\n",
    "preds = AdaBoostClassifier(**ada_params).fit(X_train, y_train).predict(X_test)\n",
    "save_result(preds, 'Ada')"
   ]
  },
  {
   "cell_type": "markdown",
   "id": "dd3e093c",
   "metadata": {
    "papermill": {
     "duration": 0.028859,
     "end_time": "2022-08-05T11:45:56.469664",
     "exception": false,
     "start_time": "2022-08-05T11:45:56.440805",
     "status": "completed"
    },
    "tags": []
   },
   "source": [
    "## Logistic regression"
   ]
  },
  {
   "cell_type": "code",
   "execution_count": 61,
   "id": "e43d50b3",
   "metadata": {
    "execution": {
     "iopub.execute_input": "2022-08-05T11:45:56.530127Z",
     "iopub.status.busy": "2022-08-05T11:45:56.529400Z",
     "iopub.status.idle": "2022-08-05T11:45:58.444552Z",
     "shell.execute_reply": "2022-08-05T11:45:58.442835Z"
    },
    "papermill": {
     "duration": 1.948613,
     "end_time": "2022-08-05T11:45:58.447411",
     "exception": false,
     "start_time": "2022-08-05T11:45:56.498798",
     "status": "completed"
    },
    "tags": []
   },
   "outputs": [
    {
     "name": "stdout",
     "output_type": "stream",
     "text": [
      "{'C': 0.5, 'penalty': 'l1', 'solver': 'liblinear'}\n",
      "0.8659800810849052\n"
     ]
    }
   ],
   "source": [
    "param_grid = {\n",
    "    'penalty': ['l1', 'l2'],\n",
    "    'C' : [0.001, 0.01, 0.025, 0.05, 0.1, 0.5, 1],\n",
    "    'solver' : ['liblinear']\n",
    "}\n",
    "\n",
    "model = LogisticRegression()\n",
    "gs = GridSearchCV(estimator=model, param_grid=param_grid, cv=5, n_jobs=-1,\n",
    "                  scoring='roc_auc', refit=True)\n",
    "gs.fit(X_train, y_train)\n",
    "\n",
    "logreg_params = gs.best_params_\n",
    "print(gs.best_params_)\n",
    "print(gs.best_score_)\n",
    "model_compar_base = add_stats(model_compar_base, gs.best_estimator_, X_train, y_train, 'LogReg')"
   ]
  },
  {
   "cell_type": "markdown",
   "id": "83ed2aec",
   "metadata": {
    "papermill": {
     "duration": 0.029262,
     "end_time": "2022-08-05T11:45:58.506506",
     "exception": false,
     "start_time": "2022-08-05T11:45:58.477244",
     "status": "completed"
    },
    "tags": []
   },
   "source": [
    "## Voting Classifier"
   ]
  },
  {
   "cell_type": "code",
   "execution_count": 62,
   "id": "e4b9dd0f",
   "metadata": {
    "execution": {
     "iopub.execute_input": "2022-08-05T11:45:58.568244Z",
     "iopub.status.busy": "2022-08-05T11:45:58.567448Z",
     "iopub.status.idle": "2022-08-05T11:46:27.725089Z",
     "shell.execute_reply": "2022-08-05T11:46:27.723603Z"
    },
    "papermill": {
     "duration": 29.195231,
     "end_time": "2022-08-05T11:46:27.731330",
     "exception": false,
     "start_time": "2022-08-05T11:45:58.536099",
     "status": "completed"
    },
    "tags": []
   },
   "outputs": [
    {
     "name": "stdout",
     "output_type": "stream",
     "text": [
      "0.8451178451178452\n",
      "0.8406285072951739\n"
     ]
    }
   ],
   "source": [
    "estimators = [('rf', single_best_model),\n",
    "              ('logreg', LogisticRegression(**logreg_params)),\n",
    "              ('ada', AdaBoostClassifier(**ada_params))]\n",
    "\n",
    "voter_hard = VotingClassifier(estimators=estimators, voting='hard', n_jobs=-1)\n",
    "voter_soft = VotingClassifier(estimators=estimators, voting='soft', n_jobs=-1)\n",
    "\n",
    "voter_soft.fit(X_train, y_train)\n",
    "voter_hard.fit(X_train, y_train)\n",
    "\n",
    "preds_soft = voter_soft.predict(X_test)\n",
    "preds_hard = voter_hard.predict(X_test)\n",
    "\n",
    "model_compar_base = add_stats(model_compar_base, voter_soft, X_train, y_train, 'Voter_soft')\n",
    "\n",
    "print(voter_soft.score(X_train, y_train))\n",
    "print(voter_hard.score(X_train, y_train))"
   ]
  },
  {
   "cell_type": "code",
   "execution_count": 63,
   "id": "06726ab3",
   "metadata": {
    "execution": {
     "iopub.execute_input": "2022-08-05T11:46:27.815939Z",
     "iopub.status.busy": "2022-08-05T11:46:27.815496Z",
     "iopub.status.idle": "2022-08-05T11:46:28.686232Z",
     "shell.execute_reply": "2022-08-05T11:46:28.684921Z"
    },
    "papermill": {
     "duration": 0.904611,
     "end_time": "2022-08-05T11:46:28.689083",
     "exception": false,
     "start_time": "2022-08-05T11:46:27.784472",
     "status": "completed"
    },
    "tags": []
   },
   "outputs": [
    {
     "name": "stdout",
     "output_type": "stream",
     "text": [
      "Your submission was successfully saved!\n",
      "Your submission was successfully saved!\n"
     ]
    }
   ],
   "source": [
    "preds = voter_soft.predict(X_test)\n",
    "save_result(preds, 'Soft')\n",
    "preds = voter_hard.predict(X_test)\n",
    "save_result(preds, 'Hard')"
   ]
  },
  {
   "cell_type": "markdown",
   "id": "6817f45e",
   "metadata": {
    "papermill": {
     "duration": 0.029069,
     "end_time": "2022-08-05T11:46:28.748301",
     "exception": false,
     "start_time": "2022-08-05T11:46:28.719232",
     "status": "completed"
    },
    "tags": []
   },
   "source": [
    "## Stacking"
   ]
  },
  {
   "cell_type": "code",
   "execution_count": 64,
   "id": "12053c76",
   "metadata": {
    "execution": {
     "iopub.execute_input": "2022-08-05T11:46:28.809950Z",
     "iopub.status.busy": "2022-08-05T11:46:28.809287Z",
     "iopub.status.idle": "2022-08-05T11:46:28.819269Z",
     "shell.execute_reply": "2022-08-05T11:46:28.817835Z"
    },
    "papermill": {
     "duration": 0.043268,
     "end_time": "2022-08-05T11:46:28.821523",
     "exception": false,
     "start_time": "2022-08-05T11:46:28.778255",
     "status": "completed"
    },
    "tags": []
   },
   "outputs": [],
   "source": [
    "if TRAIN:\n",
    "    estimators = [('rf', RandomForestClassifier(**rf_params)),\n",
    "                  ('ada', AdaBoostClassifier(**ada_params)), \n",
    "                  ('lda', LinearDiscriminantAnalysis()),\n",
    "                  ('xgb', xgb.XGBClassifier())]\n",
    "\n",
    "    clf_stack = StackingClassifier(estimators=estimators, \n",
    "                                   final_estimator = LogisticRegression(solver='liblinear'), \n",
    "                                   stack_method = 'predict_proba', passthrough = True)\n",
    "\n",
    "    param_grid = {\n",
    "        'passthrough': [True, False],\n",
    "        'final_estimator__penalty': ['l1', 'l2'],\n",
    "        'final_estimator__fit_intercept': [True, False],\n",
    "        'final_estimator__C' : [0.001, 0.01, 0.1, 0.5, 1]\n",
    "\n",
    "    }\n",
    "\n",
    "    gs = GridSearchCV(estimator=clf_stack, param_grid=param_grid, cv=3, n_jobs=-1,\n",
    "                      scoring='accuracy', refit=True)\n",
    "\n",
    "    gs.fit(X_train, y_train)\n",
    "    preds = gs.best_estimator_.predict(X_test)\n",
    "\n",
    "    model_compar = add_stats(model_compar, gs.best_estimator_, X_train, y_train, 'LogRegStack')\n",
    "    evaluate(gs.best_estimator_, X_train, y_train)\n",
    "    save_result(preds, 'LogReg stack')"
   ]
  },
  {
   "cell_type": "markdown",
   "id": "04b40f35",
   "metadata": {
    "papermill": {
     "duration": 0.030597,
     "end_time": "2022-08-05T11:46:28.882375",
     "exception": false,
     "start_time": "2022-08-05T11:46:28.851778",
     "status": "completed"
    },
    "tags": []
   },
   "source": [
    "This model gave too bad results, unfortunately"
   ]
  }
 ],
 "metadata": {
  "kernelspec": {
   "display_name": "Python 3",
   "language": "python",
   "name": "python3"
  },
  "language_info": {
   "codemirror_mode": {
    "name": "ipython",
    "version": 3
   },
   "file_extension": ".py",
   "mimetype": "text/x-python",
   "name": "python",
   "nbconvert_exporter": "python",
   "pygments_lexer": "ipython3",
   "version": "3.7.12"
  },
  "papermill": {
   "default_parameters": {},
   "duration": 68.268241,
   "end_time": "2022-08-05T11:46:31.533977",
   "environment_variables": {},
   "exception": null,
   "input_path": "__notebook__.ipynb",
   "output_path": "__notebook__.ipynb",
   "parameters": {},
   "start_time": "2022-08-05T11:45:23.265736",
   "version": "2.3.4"
  }
 },
 "nbformat": 4,
 "nbformat_minor": 5
}
