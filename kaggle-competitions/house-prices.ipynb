{
 "cells": [
  {
   "cell_type": "markdown",
   "id": "e2127349",
   "metadata": {
    "papermill": {
     "duration": 0.021987,
     "end_time": "2022-08-17T19:09:26.339181",
     "exception": false,
     "start_time": "2022-08-17T19:09:26.317194",
     "status": "completed"
    },
    "tags": []
   },
   "source": [
    "# Data Research"
   ]
  },
  {
   "cell_type": "code",
   "execution_count": 1,
   "id": "3570a812",
   "metadata": {
    "execution": {
     "iopub.execute_input": "2022-08-17T19:09:26.381042Z",
     "iopub.status.busy": "2022-08-17T19:09:26.380291Z",
     "iopub.status.idle": "2022-08-17T19:09:29.658340Z",
     "shell.execute_reply": "2022-08-17T19:09:29.657156Z"
    },
    "papermill": {
     "duration": 3.302941,
     "end_time": "2022-08-17T19:09:29.661708",
     "exception": false,
     "start_time": "2022-08-17T19:09:26.358767",
     "status": "completed"
    },
    "tags": []
   },
   "outputs": [
    {
     "data": {
      "text/html": [
       "<style type='text/css'>\n",
       ".datatable table.frame { margin-bottom: 0; }\n",
       ".datatable table.frame thead { border-bottom: none; }\n",
       ".datatable table.frame tr.coltypes td {  color: #FFFFFF;  line-height: 6px;  padding: 0 0.5em;}\n",
       ".datatable .bool    { background: #DDDD99; }\n",
       ".datatable .object  { background: #565656; }\n",
       ".datatable .int     { background: #5D9E5D; }\n",
       ".datatable .float   { background: #4040CC; }\n",
       ".datatable .str     { background: #CC4040; }\n",
       ".datatable .time    { background: #40CC40; }\n",
       ".datatable .row_index {  background: var(--jp-border-color3);  border-right: 1px solid var(--jp-border-color0);  color: var(--jp-ui-font-color3);  font-size: 9px;}\n",
       ".datatable .frame tbody td { text-align: left; }\n",
       ".datatable .frame tr.coltypes .row_index {  background: var(--jp-border-color0);}\n",
       ".datatable th:nth-child(2) { padding-left: 12px; }\n",
       ".datatable .hellipsis {  color: var(--jp-cell-editor-border-color);}\n",
       ".datatable .vellipsis {  background: var(--jp-layout-color0);  color: var(--jp-cell-editor-border-color);}\n",
       ".datatable .na {  color: var(--jp-cell-editor-border-color);  font-size: 80%;}\n",
       ".datatable .sp {  opacity: 0.25;}\n",
       ".datatable .footer { font-size: 9px; }\n",
       ".datatable .frame_dimensions {  background: var(--jp-border-color3);  border-top: 1px solid var(--jp-border-color0);  color: var(--jp-ui-font-color3);  display: inline-block;  opacity: 0.6;  padding: 1px 10px 1px 5px;}\n",
       "</style>\n"
      ],
      "text/plain": [
       "<IPython.core.display.HTML object>"
      ]
     },
     "metadata": {},
     "output_type": "display_data"
    }
   ],
   "source": [
    "import pandas as pd\n",
    "import numpy as np\n",
    "import sklearn as sk\n",
    "import seaborn as sns\n",
    "from sklearn.preprocessing import StandardScaler, LabelEncoder, OrdinalEncoder, RobustScaler\n",
    "from sklearn.linear_model import ElasticNet, Lasso,  BayesianRidge, LassoLarsIC\n",
    "from sklearn.ensemble import RandomForestRegressor,  GradientBoostingRegressor, VotingRegressor, StackingRegressor\n",
    "from sklearn.kernel_ridge import KernelRidge\n",
    "from sklearn.pipeline import make_pipeline\n",
    "from sklearn.base import BaseEstimator, TransformerMixin, RegressorMixin, clone\n",
    "from sklearn.model_selection import KFold, cross_val_score, train_test_split, GridSearchCV, RandomizedSearchCV\n",
    "from sklearn.metrics import mean_squared_error\n",
    "from matplotlib import pyplot as plt\n",
    "import plotly.express as px\n",
    "from scipy.stats import norm, skew\n",
    "from scipy.special import boxcox1p\n",
    "from scipy import stats\n",
    "import xgboost as xgb\n",
    "import lightgbm as lgb\n",
    "\n",
    "pd.set_option('max_columns', None)\n",
    "sns.set_theme(palette=sns.color_palette(\"Set2\"), rc={'figure.figsize':(15,6)})"
   ]
  },
  {
   "cell_type": "markdown",
   "id": "7c940a30",
   "metadata": {
    "papermill": {
     "duration": 0.019022,
     "end_time": "2022-08-17T19:09:29.701077",
     "exception": false,
     "start_time": "2022-08-17T19:09:29.682055",
     "status": "completed"
    },
    "tags": []
   },
   "source": [
    "## Feature description"
   ]
  },
  {
   "cell_type": "code",
   "execution_count": 2,
   "id": "7c711738",
   "metadata": {
    "execution": {
     "iopub.execute_input": "2022-08-17T19:09:29.742513Z",
     "iopub.status.busy": "2022-08-17T19:09:29.741401Z",
     "iopub.status.idle": "2022-08-17T19:09:29.874720Z",
     "shell.execute_reply": "2022-08-17T19:09:29.873184Z"
    },
    "papermill": {
     "duration": 0.157581,
     "end_time": "2022-08-17T19:09:29.877947",
     "exception": false,
     "start_time": "2022-08-17T19:09:29.720366",
     "status": "completed"
    },
    "tags": []
   },
   "outputs": [
    {
     "name": "stdout",
     "output_type": "stream",
     "text": [
      "Train shape: (1460, 81)\n",
      "Test shape: (1459, 80)\n"
     ]
    },
    {
     "data": {
      "text/html": [
       "<div>\n",
       "<style scoped>\n",
       "    .dataframe tbody tr th:only-of-type {\n",
       "        vertical-align: middle;\n",
       "    }\n",
       "\n",
       "    .dataframe tbody tr th {\n",
       "        vertical-align: top;\n",
       "    }\n",
       "\n",
       "    .dataframe thead th {\n",
       "        text-align: right;\n",
       "    }\n",
       "</style>\n",
       "<table border=\"1\" class=\"dataframe\">\n",
       "  <thead>\n",
       "    <tr style=\"text-align: right;\">\n",
       "      <th></th>\n",
       "      <th>Id</th>\n",
       "      <th>MSSubClass</th>\n",
       "      <th>MSZoning</th>\n",
       "      <th>LotFrontage</th>\n",
       "      <th>LotArea</th>\n",
       "      <th>Street</th>\n",
       "      <th>Alley</th>\n",
       "      <th>LotShape</th>\n",
       "      <th>LandContour</th>\n",
       "      <th>Utilities</th>\n",
       "      <th>LotConfig</th>\n",
       "      <th>LandSlope</th>\n",
       "      <th>Neighborhood</th>\n",
       "      <th>Condition1</th>\n",
       "      <th>Condition2</th>\n",
       "      <th>BldgType</th>\n",
       "      <th>HouseStyle</th>\n",
       "      <th>OverallQual</th>\n",
       "      <th>OverallCond</th>\n",
       "      <th>YearBuilt</th>\n",
       "      <th>YearRemodAdd</th>\n",
       "      <th>RoofStyle</th>\n",
       "      <th>RoofMatl</th>\n",
       "      <th>Exterior1st</th>\n",
       "      <th>Exterior2nd</th>\n",
       "      <th>MasVnrType</th>\n",
       "      <th>MasVnrArea</th>\n",
       "      <th>ExterQual</th>\n",
       "      <th>ExterCond</th>\n",
       "      <th>Foundation</th>\n",
       "      <th>BsmtQual</th>\n",
       "      <th>BsmtCond</th>\n",
       "      <th>BsmtExposure</th>\n",
       "      <th>BsmtFinType1</th>\n",
       "      <th>BsmtFinSF1</th>\n",
       "      <th>BsmtFinType2</th>\n",
       "      <th>BsmtFinSF2</th>\n",
       "      <th>BsmtUnfSF</th>\n",
       "      <th>TotalBsmtSF</th>\n",
       "      <th>Heating</th>\n",
       "      <th>HeatingQC</th>\n",
       "      <th>CentralAir</th>\n",
       "      <th>Electrical</th>\n",
       "      <th>1stFlrSF</th>\n",
       "      <th>2ndFlrSF</th>\n",
       "      <th>LowQualFinSF</th>\n",
       "      <th>GrLivArea</th>\n",
       "      <th>BsmtFullBath</th>\n",
       "      <th>BsmtHalfBath</th>\n",
       "      <th>FullBath</th>\n",
       "      <th>HalfBath</th>\n",
       "      <th>BedroomAbvGr</th>\n",
       "      <th>KitchenAbvGr</th>\n",
       "      <th>KitchenQual</th>\n",
       "      <th>TotRmsAbvGrd</th>\n",
       "      <th>Functional</th>\n",
       "      <th>Fireplaces</th>\n",
       "      <th>FireplaceQu</th>\n",
       "      <th>GarageType</th>\n",
       "      <th>GarageYrBlt</th>\n",
       "      <th>GarageFinish</th>\n",
       "      <th>GarageCars</th>\n",
       "      <th>GarageArea</th>\n",
       "      <th>GarageQual</th>\n",
       "      <th>GarageCond</th>\n",
       "      <th>PavedDrive</th>\n",
       "      <th>WoodDeckSF</th>\n",
       "      <th>OpenPorchSF</th>\n",
       "      <th>EnclosedPorch</th>\n",
       "      <th>3SsnPorch</th>\n",
       "      <th>ScreenPorch</th>\n",
       "      <th>PoolArea</th>\n",
       "      <th>PoolQC</th>\n",
       "      <th>Fence</th>\n",
       "      <th>MiscFeature</th>\n",
       "      <th>MiscVal</th>\n",
       "      <th>MoSold</th>\n",
       "      <th>YrSold</th>\n",
       "      <th>SaleType</th>\n",
       "      <th>SaleCondition</th>\n",
       "      <th>SalePrice</th>\n",
       "    </tr>\n",
       "  </thead>\n",
       "  <tbody>\n",
       "    <tr>\n",
       "      <th>0</th>\n",
       "      <td>1</td>\n",
       "      <td>60</td>\n",
       "      <td>RL</td>\n",
       "      <td>65.0</td>\n",
       "      <td>8450</td>\n",
       "      <td>Pave</td>\n",
       "      <td>NaN</td>\n",
       "      <td>Reg</td>\n",
       "      <td>Lvl</td>\n",
       "      <td>AllPub</td>\n",
       "      <td>Inside</td>\n",
       "      <td>Gtl</td>\n",
       "      <td>CollgCr</td>\n",
       "      <td>Norm</td>\n",
       "      <td>Norm</td>\n",
       "      <td>1Fam</td>\n",
       "      <td>2Story</td>\n",
       "      <td>7</td>\n",
       "      <td>5</td>\n",
       "      <td>2003</td>\n",
       "      <td>2003</td>\n",
       "      <td>Gable</td>\n",
       "      <td>CompShg</td>\n",
       "      <td>VinylSd</td>\n",
       "      <td>VinylSd</td>\n",
       "      <td>BrkFace</td>\n",
       "      <td>196.0</td>\n",
       "      <td>Gd</td>\n",
       "      <td>TA</td>\n",
       "      <td>PConc</td>\n",
       "      <td>Gd</td>\n",
       "      <td>TA</td>\n",
       "      <td>No</td>\n",
       "      <td>GLQ</td>\n",
       "      <td>706</td>\n",
       "      <td>Unf</td>\n",
       "      <td>0</td>\n",
       "      <td>150</td>\n",
       "      <td>856</td>\n",
       "      <td>GasA</td>\n",
       "      <td>Ex</td>\n",
       "      <td>Y</td>\n",
       "      <td>SBrkr</td>\n",
       "      <td>856</td>\n",
       "      <td>854</td>\n",
       "      <td>0</td>\n",
       "      <td>1710</td>\n",
       "      <td>1</td>\n",
       "      <td>0</td>\n",
       "      <td>2</td>\n",
       "      <td>1</td>\n",
       "      <td>3</td>\n",
       "      <td>1</td>\n",
       "      <td>Gd</td>\n",
       "      <td>8</td>\n",
       "      <td>Typ</td>\n",
       "      <td>0</td>\n",
       "      <td>NaN</td>\n",
       "      <td>Attchd</td>\n",
       "      <td>2003.0</td>\n",
       "      <td>RFn</td>\n",
       "      <td>2</td>\n",
       "      <td>548</td>\n",
       "      <td>TA</td>\n",
       "      <td>TA</td>\n",
       "      <td>Y</td>\n",
       "      <td>0</td>\n",
       "      <td>61</td>\n",
       "      <td>0</td>\n",
       "      <td>0</td>\n",
       "      <td>0</td>\n",
       "      <td>0</td>\n",
       "      <td>NaN</td>\n",
       "      <td>NaN</td>\n",
       "      <td>NaN</td>\n",
       "      <td>0</td>\n",
       "      <td>2</td>\n",
       "      <td>2008</td>\n",
       "      <td>WD</td>\n",
       "      <td>Normal</td>\n",
       "      <td>208500</td>\n",
       "    </tr>\n",
       "    <tr>\n",
       "      <th>1</th>\n",
       "      <td>2</td>\n",
       "      <td>20</td>\n",
       "      <td>RL</td>\n",
       "      <td>80.0</td>\n",
       "      <td>9600</td>\n",
       "      <td>Pave</td>\n",
       "      <td>NaN</td>\n",
       "      <td>Reg</td>\n",
       "      <td>Lvl</td>\n",
       "      <td>AllPub</td>\n",
       "      <td>FR2</td>\n",
       "      <td>Gtl</td>\n",
       "      <td>Veenker</td>\n",
       "      <td>Feedr</td>\n",
       "      <td>Norm</td>\n",
       "      <td>1Fam</td>\n",
       "      <td>1Story</td>\n",
       "      <td>6</td>\n",
       "      <td>8</td>\n",
       "      <td>1976</td>\n",
       "      <td>1976</td>\n",
       "      <td>Gable</td>\n",
       "      <td>CompShg</td>\n",
       "      <td>MetalSd</td>\n",
       "      <td>MetalSd</td>\n",
       "      <td>None</td>\n",
       "      <td>0.0</td>\n",
       "      <td>TA</td>\n",
       "      <td>TA</td>\n",
       "      <td>CBlock</td>\n",
       "      <td>Gd</td>\n",
       "      <td>TA</td>\n",
       "      <td>Gd</td>\n",
       "      <td>ALQ</td>\n",
       "      <td>978</td>\n",
       "      <td>Unf</td>\n",
       "      <td>0</td>\n",
       "      <td>284</td>\n",
       "      <td>1262</td>\n",
       "      <td>GasA</td>\n",
       "      <td>Ex</td>\n",
       "      <td>Y</td>\n",
       "      <td>SBrkr</td>\n",
       "      <td>1262</td>\n",
       "      <td>0</td>\n",
       "      <td>0</td>\n",
       "      <td>1262</td>\n",
       "      <td>0</td>\n",
       "      <td>1</td>\n",
       "      <td>2</td>\n",
       "      <td>0</td>\n",
       "      <td>3</td>\n",
       "      <td>1</td>\n",
       "      <td>TA</td>\n",
       "      <td>6</td>\n",
       "      <td>Typ</td>\n",
       "      <td>1</td>\n",
       "      <td>TA</td>\n",
       "      <td>Attchd</td>\n",
       "      <td>1976.0</td>\n",
       "      <td>RFn</td>\n",
       "      <td>2</td>\n",
       "      <td>460</td>\n",
       "      <td>TA</td>\n",
       "      <td>TA</td>\n",
       "      <td>Y</td>\n",
       "      <td>298</td>\n",
       "      <td>0</td>\n",
       "      <td>0</td>\n",
       "      <td>0</td>\n",
       "      <td>0</td>\n",
       "      <td>0</td>\n",
       "      <td>NaN</td>\n",
       "      <td>NaN</td>\n",
       "      <td>NaN</td>\n",
       "      <td>0</td>\n",
       "      <td>5</td>\n",
       "      <td>2007</td>\n",
       "      <td>WD</td>\n",
       "      <td>Normal</td>\n",
       "      <td>181500</td>\n",
       "    </tr>\n",
       "    <tr>\n",
       "      <th>2</th>\n",
       "      <td>3</td>\n",
       "      <td>60</td>\n",
       "      <td>RL</td>\n",
       "      <td>68.0</td>\n",
       "      <td>11250</td>\n",
       "      <td>Pave</td>\n",
       "      <td>NaN</td>\n",
       "      <td>IR1</td>\n",
       "      <td>Lvl</td>\n",
       "      <td>AllPub</td>\n",
       "      <td>Inside</td>\n",
       "      <td>Gtl</td>\n",
       "      <td>CollgCr</td>\n",
       "      <td>Norm</td>\n",
       "      <td>Norm</td>\n",
       "      <td>1Fam</td>\n",
       "      <td>2Story</td>\n",
       "      <td>7</td>\n",
       "      <td>5</td>\n",
       "      <td>2001</td>\n",
       "      <td>2002</td>\n",
       "      <td>Gable</td>\n",
       "      <td>CompShg</td>\n",
       "      <td>VinylSd</td>\n",
       "      <td>VinylSd</td>\n",
       "      <td>BrkFace</td>\n",
       "      <td>162.0</td>\n",
       "      <td>Gd</td>\n",
       "      <td>TA</td>\n",
       "      <td>PConc</td>\n",
       "      <td>Gd</td>\n",
       "      <td>TA</td>\n",
       "      <td>Mn</td>\n",
       "      <td>GLQ</td>\n",
       "      <td>486</td>\n",
       "      <td>Unf</td>\n",
       "      <td>0</td>\n",
       "      <td>434</td>\n",
       "      <td>920</td>\n",
       "      <td>GasA</td>\n",
       "      <td>Ex</td>\n",
       "      <td>Y</td>\n",
       "      <td>SBrkr</td>\n",
       "      <td>920</td>\n",
       "      <td>866</td>\n",
       "      <td>0</td>\n",
       "      <td>1786</td>\n",
       "      <td>1</td>\n",
       "      <td>0</td>\n",
       "      <td>2</td>\n",
       "      <td>1</td>\n",
       "      <td>3</td>\n",
       "      <td>1</td>\n",
       "      <td>Gd</td>\n",
       "      <td>6</td>\n",
       "      <td>Typ</td>\n",
       "      <td>1</td>\n",
       "      <td>TA</td>\n",
       "      <td>Attchd</td>\n",
       "      <td>2001.0</td>\n",
       "      <td>RFn</td>\n",
       "      <td>2</td>\n",
       "      <td>608</td>\n",
       "      <td>TA</td>\n",
       "      <td>TA</td>\n",
       "      <td>Y</td>\n",
       "      <td>0</td>\n",
       "      <td>42</td>\n",
       "      <td>0</td>\n",
       "      <td>0</td>\n",
       "      <td>0</td>\n",
       "      <td>0</td>\n",
       "      <td>NaN</td>\n",
       "      <td>NaN</td>\n",
       "      <td>NaN</td>\n",
       "      <td>0</td>\n",
       "      <td>9</td>\n",
       "      <td>2008</td>\n",
       "      <td>WD</td>\n",
       "      <td>Normal</td>\n",
       "      <td>223500</td>\n",
       "    </tr>\n",
       "    <tr>\n",
       "      <th>3</th>\n",
       "      <td>4</td>\n",
       "      <td>70</td>\n",
       "      <td>RL</td>\n",
       "      <td>60.0</td>\n",
       "      <td>9550</td>\n",
       "      <td>Pave</td>\n",
       "      <td>NaN</td>\n",
       "      <td>IR1</td>\n",
       "      <td>Lvl</td>\n",
       "      <td>AllPub</td>\n",
       "      <td>Corner</td>\n",
       "      <td>Gtl</td>\n",
       "      <td>Crawfor</td>\n",
       "      <td>Norm</td>\n",
       "      <td>Norm</td>\n",
       "      <td>1Fam</td>\n",
       "      <td>2Story</td>\n",
       "      <td>7</td>\n",
       "      <td>5</td>\n",
       "      <td>1915</td>\n",
       "      <td>1970</td>\n",
       "      <td>Gable</td>\n",
       "      <td>CompShg</td>\n",
       "      <td>Wd Sdng</td>\n",
       "      <td>Wd Shng</td>\n",
       "      <td>None</td>\n",
       "      <td>0.0</td>\n",
       "      <td>TA</td>\n",
       "      <td>TA</td>\n",
       "      <td>BrkTil</td>\n",
       "      <td>TA</td>\n",
       "      <td>Gd</td>\n",
       "      <td>No</td>\n",
       "      <td>ALQ</td>\n",
       "      <td>216</td>\n",
       "      <td>Unf</td>\n",
       "      <td>0</td>\n",
       "      <td>540</td>\n",
       "      <td>756</td>\n",
       "      <td>GasA</td>\n",
       "      <td>Gd</td>\n",
       "      <td>Y</td>\n",
       "      <td>SBrkr</td>\n",
       "      <td>961</td>\n",
       "      <td>756</td>\n",
       "      <td>0</td>\n",
       "      <td>1717</td>\n",
       "      <td>1</td>\n",
       "      <td>0</td>\n",
       "      <td>1</td>\n",
       "      <td>0</td>\n",
       "      <td>3</td>\n",
       "      <td>1</td>\n",
       "      <td>Gd</td>\n",
       "      <td>7</td>\n",
       "      <td>Typ</td>\n",
       "      <td>1</td>\n",
       "      <td>Gd</td>\n",
       "      <td>Detchd</td>\n",
       "      <td>1998.0</td>\n",
       "      <td>Unf</td>\n",
       "      <td>3</td>\n",
       "      <td>642</td>\n",
       "      <td>TA</td>\n",
       "      <td>TA</td>\n",
       "      <td>Y</td>\n",
       "      <td>0</td>\n",
       "      <td>35</td>\n",
       "      <td>272</td>\n",
       "      <td>0</td>\n",
       "      <td>0</td>\n",
       "      <td>0</td>\n",
       "      <td>NaN</td>\n",
       "      <td>NaN</td>\n",
       "      <td>NaN</td>\n",
       "      <td>0</td>\n",
       "      <td>2</td>\n",
       "      <td>2006</td>\n",
       "      <td>WD</td>\n",
       "      <td>Abnorml</td>\n",
       "      <td>140000</td>\n",
       "    </tr>\n",
       "    <tr>\n",
       "      <th>4</th>\n",
       "      <td>5</td>\n",
       "      <td>60</td>\n",
       "      <td>RL</td>\n",
       "      <td>84.0</td>\n",
       "      <td>14260</td>\n",
       "      <td>Pave</td>\n",
       "      <td>NaN</td>\n",
       "      <td>IR1</td>\n",
       "      <td>Lvl</td>\n",
       "      <td>AllPub</td>\n",
       "      <td>FR2</td>\n",
       "      <td>Gtl</td>\n",
       "      <td>NoRidge</td>\n",
       "      <td>Norm</td>\n",
       "      <td>Norm</td>\n",
       "      <td>1Fam</td>\n",
       "      <td>2Story</td>\n",
       "      <td>8</td>\n",
       "      <td>5</td>\n",
       "      <td>2000</td>\n",
       "      <td>2000</td>\n",
       "      <td>Gable</td>\n",
       "      <td>CompShg</td>\n",
       "      <td>VinylSd</td>\n",
       "      <td>VinylSd</td>\n",
       "      <td>BrkFace</td>\n",
       "      <td>350.0</td>\n",
       "      <td>Gd</td>\n",
       "      <td>TA</td>\n",
       "      <td>PConc</td>\n",
       "      <td>Gd</td>\n",
       "      <td>TA</td>\n",
       "      <td>Av</td>\n",
       "      <td>GLQ</td>\n",
       "      <td>655</td>\n",
       "      <td>Unf</td>\n",
       "      <td>0</td>\n",
       "      <td>490</td>\n",
       "      <td>1145</td>\n",
       "      <td>GasA</td>\n",
       "      <td>Ex</td>\n",
       "      <td>Y</td>\n",
       "      <td>SBrkr</td>\n",
       "      <td>1145</td>\n",
       "      <td>1053</td>\n",
       "      <td>0</td>\n",
       "      <td>2198</td>\n",
       "      <td>1</td>\n",
       "      <td>0</td>\n",
       "      <td>2</td>\n",
       "      <td>1</td>\n",
       "      <td>4</td>\n",
       "      <td>1</td>\n",
       "      <td>Gd</td>\n",
       "      <td>9</td>\n",
       "      <td>Typ</td>\n",
       "      <td>1</td>\n",
       "      <td>TA</td>\n",
       "      <td>Attchd</td>\n",
       "      <td>2000.0</td>\n",
       "      <td>RFn</td>\n",
       "      <td>3</td>\n",
       "      <td>836</td>\n",
       "      <td>TA</td>\n",
       "      <td>TA</td>\n",
       "      <td>Y</td>\n",
       "      <td>192</td>\n",
       "      <td>84</td>\n",
       "      <td>0</td>\n",
       "      <td>0</td>\n",
       "      <td>0</td>\n",
       "      <td>0</td>\n",
       "      <td>NaN</td>\n",
       "      <td>NaN</td>\n",
       "      <td>NaN</td>\n",
       "      <td>0</td>\n",
       "      <td>12</td>\n",
       "      <td>2008</td>\n",
       "      <td>WD</td>\n",
       "      <td>Normal</td>\n",
       "      <td>250000</td>\n",
       "    </tr>\n",
       "  </tbody>\n",
       "</table>\n",
       "</div>"
      ],
      "text/plain": [
       "   Id  MSSubClass MSZoning  LotFrontage  LotArea Street Alley LotShape  \\\n",
       "0   1          60       RL         65.0     8450   Pave   NaN      Reg   \n",
       "1   2          20       RL         80.0     9600   Pave   NaN      Reg   \n",
       "2   3          60       RL         68.0    11250   Pave   NaN      IR1   \n",
       "3   4          70       RL         60.0     9550   Pave   NaN      IR1   \n",
       "4   5          60       RL         84.0    14260   Pave   NaN      IR1   \n",
       "\n",
       "  LandContour Utilities LotConfig LandSlope Neighborhood Condition1  \\\n",
       "0         Lvl    AllPub    Inside       Gtl      CollgCr       Norm   \n",
       "1         Lvl    AllPub       FR2       Gtl      Veenker      Feedr   \n",
       "2         Lvl    AllPub    Inside       Gtl      CollgCr       Norm   \n",
       "3         Lvl    AllPub    Corner       Gtl      Crawfor       Norm   \n",
       "4         Lvl    AllPub       FR2       Gtl      NoRidge       Norm   \n",
       "\n",
       "  Condition2 BldgType HouseStyle  OverallQual  OverallCond  YearBuilt  \\\n",
       "0       Norm     1Fam     2Story            7            5       2003   \n",
       "1       Norm     1Fam     1Story            6            8       1976   \n",
       "2       Norm     1Fam     2Story            7            5       2001   \n",
       "3       Norm     1Fam     2Story            7            5       1915   \n",
       "4       Norm     1Fam     2Story            8            5       2000   \n",
       "\n",
       "   YearRemodAdd RoofStyle RoofMatl Exterior1st Exterior2nd MasVnrType  \\\n",
       "0          2003     Gable  CompShg     VinylSd     VinylSd    BrkFace   \n",
       "1          1976     Gable  CompShg     MetalSd     MetalSd       None   \n",
       "2          2002     Gable  CompShg     VinylSd     VinylSd    BrkFace   \n",
       "3          1970     Gable  CompShg     Wd Sdng     Wd Shng       None   \n",
       "4          2000     Gable  CompShg     VinylSd     VinylSd    BrkFace   \n",
       "\n",
       "   MasVnrArea ExterQual ExterCond Foundation BsmtQual BsmtCond BsmtExposure  \\\n",
       "0       196.0        Gd        TA      PConc       Gd       TA           No   \n",
       "1         0.0        TA        TA     CBlock       Gd       TA           Gd   \n",
       "2       162.0        Gd        TA      PConc       Gd       TA           Mn   \n",
       "3         0.0        TA        TA     BrkTil       TA       Gd           No   \n",
       "4       350.0        Gd        TA      PConc       Gd       TA           Av   \n",
       "\n",
       "  BsmtFinType1  BsmtFinSF1 BsmtFinType2  BsmtFinSF2  BsmtUnfSF  TotalBsmtSF  \\\n",
       "0          GLQ         706          Unf           0        150          856   \n",
       "1          ALQ         978          Unf           0        284         1262   \n",
       "2          GLQ         486          Unf           0        434          920   \n",
       "3          ALQ         216          Unf           0        540          756   \n",
       "4          GLQ         655          Unf           0        490         1145   \n",
       "\n",
       "  Heating HeatingQC CentralAir Electrical  1stFlrSF  2ndFlrSF  LowQualFinSF  \\\n",
       "0    GasA        Ex          Y      SBrkr       856       854             0   \n",
       "1    GasA        Ex          Y      SBrkr      1262         0             0   \n",
       "2    GasA        Ex          Y      SBrkr       920       866             0   \n",
       "3    GasA        Gd          Y      SBrkr       961       756             0   \n",
       "4    GasA        Ex          Y      SBrkr      1145      1053             0   \n",
       "\n",
       "   GrLivArea  BsmtFullBath  BsmtHalfBath  FullBath  HalfBath  BedroomAbvGr  \\\n",
       "0       1710             1             0         2         1             3   \n",
       "1       1262             0             1         2         0             3   \n",
       "2       1786             1             0         2         1             3   \n",
       "3       1717             1             0         1         0             3   \n",
       "4       2198             1             0         2         1             4   \n",
       "\n",
       "   KitchenAbvGr KitchenQual  TotRmsAbvGrd Functional  Fireplaces FireplaceQu  \\\n",
       "0             1          Gd             8        Typ           0         NaN   \n",
       "1             1          TA             6        Typ           1          TA   \n",
       "2             1          Gd             6        Typ           1          TA   \n",
       "3             1          Gd             7        Typ           1          Gd   \n",
       "4             1          Gd             9        Typ           1          TA   \n",
       "\n",
       "  GarageType  GarageYrBlt GarageFinish  GarageCars  GarageArea GarageQual  \\\n",
       "0     Attchd       2003.0          RFn           2         548         TA   \n",
       "1     Attchd       1976.0          RFn           2         460         TA   \n",
       "2     Attchd       2001.0          RFn           2         608         TA   \n",
       "3     Detchd       1998.0          Unf           3         642         TA   \n",
       "4     Attchd       2000.0          RFn           3         836         TA   \n",
       "\n",
       "  GarageCond PavedDrive  WoodDeckSF  OpenPorchSF  EnclosedPorch  3SsnPorch  \\\n",
       "0         TA          Y           0           61              0          0   \n",
       "1         TA          Y         298            0              0          0   \n",
       "2         TA          Y           0           42              0          0   \n",
       "3         TA          Y           0           35            272          0   \n",
       "4         TA          Y         192           84              0          0   \n",
       "\n",
       "   ScreenPorch  PoolArea PoolQC Fence MiscFeature  MiscVal  MoSold  YrSold  \\\n",
       "0            0         0    NaN   NaN         NaN        0       2    2008   \n",
       "1            0         0    NaN   NaN         NaN        0       5    2007   \n",
       "2            0         0    NaN   NaN         NaN        0       9    2008   \n",
       "3            0         0    NaN   NaN         NaN        0       2    2006   \n",
       "4            0         0    NaN   NaN         NaN        0      12    2008   \n",
       "\n",
       "  SaleType SaleCondition  SalePrice  \n",
       "0       WD        Normal     208500  \n",
       "1       WD        Normal     181500  \n",
       "2       WD        Normal     223500  \n",
       "3       WD       Abnorml     140000  \n",
       "4       WD        Normal     250000  "
      ]
     },
     "execution_count": 2,
     "metadata": {},
     "output_type": "execute_result"
    }
   ],
   "source": [
    "train = pd.read_csv('../input/house-prices-advanced-regression-techniques/train.csv')\n",
    "test = pd.read_csv('../input/house-prices-advanced-regression-techniques/test.csv')\n",
    "print(f'Train shape: {train.shape}')\n",
    "print(f'Test shape: {test.shape}')\n",
    "train.head()"
   ]
  },
  {
   "cell_type": "markdown",
   "id": "af13e756",
   "metadata": {
    "papermill": {
     "duration": 0.019555,
     "end_time": "2022-08-17T19:09:29.919047",
     "exception": false,
     "start_time": "2022-08-17T19:09:29.899492",
     "status": "completed"
    },
    "tags": []
   },
   "source": [
    "## SalePrice"
   ]
  },
  {
   "cell_type": "code",
   "execution_count": 3,
   "id": "fbd38dfa",
   "metadata": {
    "execution": {
     "iopub.execute_input": "2022-08-17T19:09:29.962514Z",
     "iopub.status.busy": "2022-08-17T19:09:29.961894Z",
     "iopub.status.idle": "2022-08-17T19:09:29.978066Z",
     "shell.execute_reply": "2022-08-17T19:09:29.977025Z"
    },
    "papermill": {
     "duration": 0.041358,
     "end_time": "2022-08-17T19:09:29.980372",
     "exception": false,
     "start_time": "2022-08-17T19:09:29.939014",
     "status": "completed"
    },
    "tags": []
   },
   "outputs": [
    {
     "data": {
      "text/plain": [
       "count      1460.000000\n",
       "mean     180921.195890\n",
       "std       79442.502883\n",
       "min       34900.000000\n",
       "25%      129975.000000\n",
       "50%      163000.000000\n",
       "75%      214000.000000\n",
       "max      755000.000000\n",
       "Name: SalePrice, dtype: float64"
      ]
     },
     "execution_count": 3,
     "metadata": {},
     "output_type": "execute_result"
    }
   ],
   "source": [
    "train['SalePrice'].describe()"
   ]
  },
  {
   "cell_type": "code",
   "execution_count": 4,
   "id": "fffd6f9f",
   "metadata": {
    "execution": {
     "iopub.execute_input": "2022-08-17T19:09:30.025574Z",
     "iopub.status.busy": "2022-08-17T19:09:30.024850Z",
     "iopub.status.idle": "2022-08-17T19:09:30.364872Z",
     "shell.execute_reply": "2022-08-17T19:09:30.363305Z"
    },
    "papermill": {
     "duration": 0.366969,
     "end_time": "2022-08-17T19:09:30.367392",
     "exception": false,
     "start_time": "2022-08-17T19:09:30.000423",
     "status": "completed"
    },
    "tags": []
   },
   "outputs": [
    {
     "data": {
      "text/plain": [
       "<matplotlib.legend.Legend at 0x7efded473fd0>"
      ]
     },
     "execution_count": 4,
     "metadata": {},
     "output_type": "execute_result"
    },
    {
     "data": {
      "image/png": "[encoded data removed]",
      "text/plain": [
       "<Figure size 1080x432 with 1 Axes>"
      ]
     },
     "metadata": {},
     "output_type": "display_data"
    }
   ],
   "source": [
    "fig, axes = plt.subplots()\n",
    "sns.kdeplot(x=train['SalePrice'], shade=True, ax=axes, label=f'skewness = {train[\"SalePrice\"].skew():.2f}')\n",
    "axes.legend()"
   ]
  },
  {
   "cell_type": "markdown",
   "id": "daeae249",
   "metadata": {
    "papermill": {
     "duration": 0.019945,
     "end_time": "2022-08-17T19:09:30.407691",
     "exception": false,
     "start_time": "2022-08-17T19:09:30.387746",
     "status": "completed"
    },
    "tags": []
   },
   "source": [
    "## Correlation matrix"
   ]
  },
  {
   "cell_type": "code",
   "execution_count": 5,
   "id": "4d36b6df",
   "metadata": {
    "execution": {
     "iopub.execute_input": "2022-08-17T19:09:30.450860Z",
     "iopub.status.busy": "2022-08-17T19:09:30.449991Z",
     "iopub.status.idle": "2022-08-17T19:09:31.682025Z",
     "shell.execute_reply": "2022-08-17T19:09:31.680708Z"
    },
    "papermill": {
     "duration": 1.257893,
     "end_time": "2022-08-17T19:09:31.685594",
     "exception": false,
     "start_time": "2022-08-17T19:09:30.427701",
     "status": "completed"
    },
    "tags": []
   },
   "outputs": [
    {
     "data": {
      "text/html": [
       "        <script type=\"text/javascript\">\n",
       "        window.PlotlyConfig = {MathJaxConfig: 'local'};\n",
       "        if (window.MathJax && window.MathJax.Hub && window.MathJax.Hub.Config) {window.MathJax.Hub.Config({SVG: {font: \"STIX-Web\"}});}\n",
       "        if (typeof require !== 'undefined') {\n",
       "        require.undef(\"plotly\");\n",
       "        requirejs.config({\n",
       "            paths: {\n",
       "                'plotly': ['https://cdn.plot.ly/plotly-2.12.1.min']\n",
       "            }\n",
       "        });\n",
       "        require(['plotly'], function(Plotly) {\n",
       "            window._Plotly = Plotly;\n",
       "        });\n",
       "        }\n",
       "        </script>\n",
       "        "
      ]
     },
     "metadata": {},
     "output_type": "display_data"
    },
    {
     "data": {
      "text/html": [
       "<div>                            <div id=\"2b1ca79f-34c1-42e1-9420-03a146ba7b27\" class=\"plotly-graph-div\" style=\"height:525px; width:100%;\"></div>            <script type=\"text/javascript\">                require([\"plotly\"], function(Plotly) {                    window.PLOTLYENV=window.PLOTLYENV || {};                                    if (document.getElementById(\"2b1ca79f-34c1-42e1-9420-03a146ba7b27\")) {                    Plotly.newPlot(                        \"2b1ca79f-34c1-42e1-9420-03a146ba7b27\",                        [{\"coloraxis\":\"coloraxis\",\"name\":\"0\",\"x\":[\"Id\",\"MSSubClass\",\"LotFrontage\",\"LotArea\",\"OverallQual\",\"OverallCond\",\"YearBuilt\",\"YearRemodAdd\",\"MasVnrArea\",\"BsmtFinSF1\",\"BsmtFinSF2\",\"BsmtUnfSF\",\"TotalBsmtSF\",\"1stFlrSF\",\"2ndFlrSF\",\"LowQualFinSF\",\"GrLivArea\",\"BsmtFullBath\",\"BsmtHalfBath\",\"FullBath\",\"HalfBath\",\"BedroomAbvGr\",\"KitchenAbvGr\",\"TotRmsAbvGrd\",\"Fireplaces\",\"GarageYrBlt\",\"GarageCars\",\"GarageArea\",\"WoodDeckSF\",\"OpenPorchSF\",\"EnclosedPorch\",\"3SsnPorch\",\"ScreenPorch\",\"PoolArea\",\"MiscVal\",\"MoSold\",\"YrSold\",\"SalePrice\"],\"y\":[\"Id\",\"MSSubClass\",\"LotFrontage\",\"LotArea\",\"OverallQual\",\"OverallCond\",\"YearBuilt\",\"YearRemodAdd\",\"MasVnrArea\",\"BsmtFinSF1\",\"BsmtFinSF2\",\"BsmtUnfSF\",\"TotalBsmtSF\",\"1stFlrSF\",\"2ndFlrSF\",\"LowQualFinSF\",\"GrLivArea\",\"BsmtFullBath\",\"BsmtHalfBath\",\"FullBath\",\"HalfBath\",\"BedroomAbvGr\",\"KitchenAbvGr\",\"TotRmsAbvGrd\",\"Fireplaces\",\"GarageYrBlt\",\"GarageCars\",\"GarageArea\",\"WoodDeckSF\",\"OpenPorchSF\",\"EnclosedPorch\",\"3SsnPorch\",\"ScreenPorch\",\"PoolArea\",\"MiscVal\",\"MoSold\",\"YrSold\",\"SalePrice\"],\"z\":[[1.0,0.01115647820138266,-0.010600688552398043,-0.03322551858568492,-0.028364753937534147,0.012608924775955575,-0.012712715387864951,-0.021997641857531825,-0.050297795171704615,-0.0050240490416607175,-0.005967671960281643,-0.007939703357717539,-0.0154145661079109,0.010496040954084946,0.005589848886159626,-0.044229958086591345,0.008272757661808138,0.002288555600834358,-0.02015474521553416,0.0055874529073555,0.0067838112842973225,0.03771855422321228,0.0029512363577296613,0.02723872440945831,-0.019771632442393293,0.00007239023604314056,0.016569677112146127,0.017633778453767103,-0.029643197156402474,-0.0004769113247911827,0.002889217865750164,-0.046634788867427585,0.0013302086301727988,0.057043904789252316,-0.006242404848302426,0.021172176550393457,0.0007117940172075226,-0.021916719443430967],[0.01115647820138266,1.0,-0.3863468853449291,-0.13978108172014597,0.032627707521842034,-0.059315817084104695,0.027850136946705798,0.04058104478406425,0.022936285894197328,-0.06983574916710049,-0.06564857918852389,-0.14075948083501172,-0.23851840931511895,-0.25175835187837925,0.30788572075985926,0.046473755899517154,0.0748531796577994,0.003491025779044692,-0.0023325345518022773,0.13160822241028108,0.17735438864391687,-0.02343802846062706,0.2817210402648814,0.04038006478367613,-0.04556934027456939,0.08507186950664718,-0.040109793135783604,-0.09867154319256435,-0.012579358249219592,-0.006100121231942238,-0.012036621902094771,-0.04382454917560846,-0.026030176699806666,0.008282707579624416,-0.007683291329865976,-0.013584643238322348,-0.02140703785109821,-0.08428413512659509],[-0.010600688552398043,-0.3863468853449291,1.0,0.4260950187718081,0.2516457754806124,-0.059213450005246894,0.12334946703331619,0.08886557249206646,0.19345806055826867,0.233633167019755,0.0498996766909894,0.13264374162493364,0.3920745763791721,0.45718100199465517,0.08017727062420475,0.038468534328959476,0.40279741408531955,0.10094856694926875,-0.007234304524918128,0.19876867789737823,0.05353185497960593,0.263169915881059,-0.0060688301613090875,0.3520959476602243,0.26663948256030306,0.0702497819166165,0.2856909246851005,0.3449967241064819,0.0885209332894081,0.15197222768060642,0.01070033663888244,0.07002922773085365,0.04138279067500582,0.2061667752760768,0.003367556596191435,0.011199954759134238,0.007449589209750463,0.35179909657067737],[-0.03322551858568492,-0.13978108172014597,0.4260950187718081,1.0,0.10580574175496422,-0.005636270274099278,0.014227651757025093,0.013788427078155424,0.10415982154021264,0.21410313070557713,0.11116974549624871,-0.00261835995009543,0.2608331345451572,0.29947457850776266,0.05098594829349377,0.004778969866349555,0.26311616716714803,0.15815453106001476,0.04804557088829686,0.1260306265196436,0.014259468566431947,0.11968990815131542,-0.017783870504841995,0.190014777625409,0.2713640096245418,-0.02494741866564254,0.15487073975354076,0.1804027551511169,0.17169768725711246,0.08477380884021642,-0.018339733672212328,0.020422829586133416,0.04316037769525204,0.07767239188017444,0.03806769201918336,0.0012049882225877268,-0.01426140729855021,0.2638433538714051],[-0.028364753937534147,0.032627707521842034,0.2516457754806124,0.10580574175496422,1.0,-0.09193234263907182,0.5723227689623621,0.5506839241941717,0.4118756672776833,0.23966596617889105,-0.05911869267068986,0.30815892690564284,0.5378084986123907,0.4762238290781779,0.29549287919970985,-0.030429283979605037,0.5930074300286512,0.11109778614230235,-0.04015015766998829,0.5505997093682543,0.2734580986427702,0.1016763562417855,-0.18388223454922156,0.42745234327798975,0.39676503795208906,0.5477658448351629,0.6006707165907149,0.5620217566126083,0.23892339224918593,0.3088188233594523,-0.11393685859568162,0.03037056713526452,0.06488636049351544,0.06516584360589199,-0.031406210500746504,0.07081517178517327,-0.027346708327825386,0.7909816005838053],[0.012608924775955575,-0.059315817084104695,-0.059213450005246894,-0.005636270274099278,-0.09193234263907182,1.0,-0.37598319560698945,0.07374149814528905,-0.1281011991656896,-0.04623085591822496,0.040229169899767575,-0.13684056989352233,-0.1710975146249218,-0.1442027840490591,0.028942115965816882,0.025494319914213383,-0.07968586538833815,-0.05494151543295185,0.11782091508139253,-0.1941494887493024,-0.06076932676159483,0.012980060094550628,-0.08700085543638039,-0.057583166112865375,-0.02381997776166212,-0.32429673252939795,-0.18575751057836357,-0.15152137057022985,-0.0033336992893856225,-0.03258881352158505,0.07035618448230374,0.025503660024132138,0.05481052878611526,-0.0019849422681841354,0.0687768060572499,-0.003510838599939743,0.043949745692488544,-0.07785589404867797],[-0.012712715387864951,0.027850136946705798,0.12334946703331619,0.014227651757025093,0.5723227689623621,-0.37598319560698945,1.0,0.5928549763436519,0.3157070624361963,0.24950319668479728,-0.049106831196239174,0.14904039195440058,0.3914520020660952,0.2819858586998021,0.010307659584364078,-0.18378434437372046,0.19900971367645826,0.1875985499971434,-0.03816180567123349,0.4682707871726737,0.2426559102410641,-0.07065121690473103,-0.17480024561497706,0.09558912829795185,0.14771639941245646,0.8256674841743408,0.5378500917111052,0.4789538198934904,0.22488014230399744,0.188685840001731,-0.3872677829280785,0.03135451306436603,-0.05036443453861205,0.004949727615942999,-0.03438313873672287,0.012398470595440986,-0.01361768000183213,0.5228973328794967],[-0.021997641857531825,0.04058104478406425,0.08886557249206646,0.013788427078155424,0.5506839241941717,0.07374149814528905,0.5928549763436519,1.0,0.17961837073552223,0.12845054712828866,-0.06775851356598699,0.18113308705016903,0.2910655826041661,0.24037926760355463,0.14002377880486447,-0.06241910007833181,0.2873885196503327,0.11946987911123993,-0.012337032127797673,0.4390464838723479,0.1833306117185349,-0.040580928067749454,-0.14959752104274646,0.1917398162928069,0.11258131843947561,0.6422767797035356,0.42062215494321714,0.3715998094973092,0.20572592049010355,0.22629763268298944,-0.1939191470992078,0.045285809814976964,-0.038740010742610125,0.005829372037106204,-0.010286248783081431,0.02149000222687611,0.03574324712127364,0.5071009671113866],[-0.050297795171704615,0.022936285894197328,0.19345806055826867,0.10415982154021264,0.4118756672776833,-0.1281011991656896,0.3157070624361963,0.17961837073552223,1.0,0.2647362647138685,-0.0723188482033582,0.11444206231380821,0.3639362217744723,0.3445007468899248,0.1745614734574279,-0.06907085606589286,0.39085663973843854,0.08530982868972814,0.026672828155103145,0.27683284723698837,0.20144394692967832,0.10282115127801787,-0.03761025181986861,0.2806816946085068,0.24906961283714313,0.2526907749903342,0.3642036400698656,0.37306648160023664,0.15971813436595433,0.1257027966825031,-0.11020383387243517,0.018795515294914033,0.06146554318732188,0.01172306121326672,-0.02981539358527878,-0.005964715509114298,-0.008201030967080006,0.47749304709571444],[-0.0050240490416607175,-0.06983574916710049,0.233633167019755,0.21410313070557713,0.23966596617889105,-0.04623085591822496,0.24950319668479728,0.12845054712828866,0.2647362647138685,1.0,-0.0501174000471511,-0.49525146925701125,0.5223960519923867,0.4458626560920054,-0.13707898608005356,-0.06450259692146844,0.20817113014532704,0.6492117535742649,0.06741847791011696,0.058543136861595194,0.004262424384486936,-0.10735467682307034,-0.08100685077857439,0.044315623912920654,0.2600109202350403,0.1534840980267781,0.22405352239399068,0.2969703853445138,0.20430614523740265,0.11176061335675101,-0.10230330550073197,0.026450506189898953,0.06202062266534991,0.1404912862549568,0.003571473474954695,-0.015726948262154667,0.014358922393909302,0.3864198062421535],[-0.005967671960281643,-0.06564857918852389,0.0498996766909894,0.11116974549624871,-0.05911869267068986,0.040229169899767575,-0.049106831196239174,-0.06775851356598699,-0.0723188482033582,-0.0501174000471511,1.0,-0.20929449241994497,0.10480953760636813,0.0971174484566702,-0.09926031602264425,0.01480699794683367,-0.009639891551805443,0.15867806078170135,0.07094813365590413,-0.07644386196518269,-0.032147837468965886,-0.015728113626581035,-0.04075123644840764,-0.03522654794752336,0.04692070882601213,-0.08801081541220088,-0.038263512869251545,-0.018226591907316552,0.06789832641361218,0.003092562209894399,0.036543339448210164,-0.029993397993921023,0.08887125137339073,0.041709054681333575,0.004939781228437705,-0.015210737972006668,0.03170563698487945,-0.011378121450215146],[-0.007939703357717539,-0.14075948083501172,0.13264374162493364,-0.00261835995009543,0.30815892690564284,-0.13684056989352233,0.14904039195440058,0.18113308705016903,0.11444206231380821,-0.49525146925701125,-0.20929449241994497,1.0,0.4153596051815893,0.3179874383527259,0.004469092144542392,0.028166688132741206,0.240257268349935,-0.42290047738321335,-0.09580428815248283,0.2888860554869108,-0.04111753014455172,0.16664331698696289,0.030085868314000126,0.25064706137624926,0.0515748822895418,0.19070827345893257,0.2141751897502169,0.18330269774258412,-0.005316424333062066,0.12900541461542128,-0.002537854589751547,0.02076400569654798,-0.012579273444256824,-0.035092240793657914,-0.023836645134507763,0.03488844300908206,-0.04125819493876721,0.21447910554696928],[-0.0154145661079109,-0.23851840931511895,0.3920745763791721,0.2608331345451572,0.5378084986123907,-0.1710975146249218,0.3914520020660952,0.2910655826041661,0.3639362217744723,0.5223960519923867,0.10480953760636813,0.4153596051815893,1.0,0.8195299750050339,-0.17451195013496046,-0.0332453873474563,0.45486820254790317,0.30735055373550346,-0.00031458181983374725,0.3237224136066502,-0.04880373863521248,0.05044995551267818,-0.06890064264201659,0.28557256372579454,0.33951932389865597,0.3224451736794739,0.43458483429168865,0.4866654637737961,0.23201860912901803,0.2472637462881078,-0.09547773670640776,0.03738372726300508,0.08448898591431157,0.12605313210083768,-0.018478922431472124,0.013196178616778433,-0.014968648018762356,0.6135805515591943],[0.010496040954084946,-0.25175835187837925,0.45718100199465517,0.29947457850776266,0.4762238290781779,-0.1442027840490591,0.2819858586998021,0.24037926760355463,0.3445007468899248,0.4458626560920054,0.0971174484566702,0.3179874383527259,0.8195299750050339,1.0,-0.20264618100232087,-0.014240672666431285,0.5660239689357486,0.24467110424771052,0.001955653582048656,0.3806374949735071,-0.11991590879396136,0.12740074939236454,0.06810058817691335,0.40951597886683183,0.41053108465984556,0.23344909271486267,0.4393168079906709,0.4897816541041918,0.23545862278369778,0.2116712254979847,-0.0652917009103091,0.05610437448487508,0.08875807262015682,0.13152497564028254,-0.021095719463122223,0.03137156035207926,-0.01360377050464661,0.6058521846919153],[0.005589848886159626,0.30788572075985926,0.08017727062420475,0.05098594829349377,0.29549287919970985,0.028942115965816882,0.010307659584364078,0.14002377880486447,0.1745614734574279,-0.13707898608005356,-0.09926031602264425,0.004469092144542392,-0.17451195013496046,-0.20264618100232087,1.0,0.06335295010932271,0.6875010641666033,-0.16949395173099896,-0.023854783937045255,0.4213779828759713,0.6097073002717436,0.5029006133459056,0.05930575264821624,0.6164226354915431,0.19456089224132392,0.0708323397173792,0.18392558307638002,0.13834695857186657,0.09216541758603868,0.2080260631813579,0.06198869077325203,-0.02435764842204794,0.040606447641001006,0.08148687804909954,0.016196874604388505,0.035164427361791005,-0.02869991393529755,0.31933380283206736],[-0.044229958086591345,0.046473755899517154,0.038468534328959476,0.004778969866349555,-0.030429283979605037,0.025494319914213383,-0.18378434437372046,-0.06241910007833181,-0.06907085606589286,-0.06450259692146844,0.01480699794683367,0.028166688132741206,-0.0332453873474563,-0.014240672666431285,0.06335295010932271,1.0,0.13468281300660076,-0.047143421898259166,-0.005841504819311643,-0.0007095096206731084,-0.02708004931716945,0.10560656854090526,0.007521744344233734,0.13118477598954745,-0.02127214341393874,-0.03636323404234127,-0.09447952015593257,-0.06760141323952208,-0.025443647988791077,0.018251039053999052,0.06108123777122687,-0.004295610410300094,0.02679941302177244,0.06215737226918922,-0.003792870779996453,-0.02217396057953783,-0.028920879782296086,-0.02560613000067955],[0.008272757661808138,0.0748531796577994,0.40279741408531955,0.26311616716714803,0.5930074300286512,-0.07968586538833815,0.19900971367645826,0.2873885196503327,0.39085663973843854,0.20817113014532704,-0.009639891551805443,0.240257268349935,0.45486820254790317,0.5660239689357486,0.6875010641666033,0.13468281300660076,1.0,0.03483604954490554,-0.0189184831706347,0.6300116462511148,0.4157716361052652,0.5212695109189948,0.10006316473775474,0.8254893743088425,0.46167913376144704,0.23119674063336224,0.4672474187951873,0.4689974773229655,0.24743282051884846,0.33022396171200064,0.009113210326003087,0.020643189710186576,0.10151039568208567,0.1702053360005616,-0.0024156395502935623,0.05023968081827284,-0.03652581962473121,0.7086244776126515],[0.002288555600834358,0.003491025779044692,0.10094856694926875,0.15815453106001476,0.11109778614230235,-0.05494151543295185,0.1875985499971434,0.11946987911123993,0.08530982868972814,0.6492117535742649,0.15867806078170135,-0.42290047738321335,0.30735055373550346,0.24467110424771052,-0.16949395173099896,-0.047143421898259166,0.03483604954490554,1.0,-0.14787096054760138,-0.06451204863131507,-0.030904959142533293,-0.15067280920795623,-0.041502546431482885,-0.0532752361233972,0.1379277084271981,0.12455252442364974,0.13188122440619438,0.179189480420231,0.17531519007972224,0.06734146137698176,-0.049910649083753186,-0.00010609153998400853,0.023147725763573802,0.06761555618047507,-0.02304702486861695,-0.025360894315259907,0.06704913767140361,0.22712223313149427],[-0.02015474521553416,-0.0023325345518022773,-0.007234304524918128,0.04804557088829686,-0.04015015766998829,0.11782091508139253,-0.03816180567123349,-0.012337032127797673,0.026672828155103145,0.06741847791011696,0.07094813365590413,-0.09580428815248283,-0.00031458181983374725,0.001955653582048656,-0.023854783937045255,-0.005841504819311643,-0.0189184831706347,-0.14787096054760138,1.0,-0.054535811983635524,-0.012339900052275487,0.046518848389950684,-0.03794435022720086,-0.023836341262220544,0.028975586646259963,-0.07746361238070294,-0.02089105899687853,-0.02453557957887923,0.04016122325953452,-0.02532375788905772,-0.008555333868578032,0.035113630886772336,0.03212140720908338,0.02002462983851695,-0.007366524543625446,0.03287270523409066,-0.04652388177400862,-0.01684415429735895],[0.0055874529073555,0.13160822241028108,0.19876867789737823,0.1260306265196436,0.5505997093682543,-0.1941494887493024,0.4682707871726737,0.4390464838723479,0.27683284723698837,0.058543136861595194,-0.07644386196518269,0.2888860554869108,0.3237224136066502,0.3806374949735071,0.4213779828759713,-0.0007095096206731084,0.6300116462511148,-0.06451204863131507,-0.054535811983635524,1.0,0.13638058874914522,0.36325198302327694,0.1331152141960393,0.5547842535334836,0.2436705030799116,0.4845573867195222,0.469672043267628,0.4056562084540099,0.18770321383582822,0.25997742546824865,-0.11509296346134239,0.03535301658385297,-0.00810609332811188,0.04960382558403366,-0.014289844970848111,0.055872128991723384,-0.019668840691520386,0.5606637627484453],[0.0067838112842973225,0.17735438864391687,0.05353185497960593,0.014259468566431947,0.2734580986427702,-0.06076932676159483,0.2426559102410641,0.1833306117185349,0.20144394692967832,0.004262424384486936,-0.032147837468965886,-0.04111753014455172,-0.04880373863521248,-0.11991590879396136,0.6097073002717436,-0.02708004931716945,0.4157716361052652,-0.030904959142533293,-0.012339900052275487,0.13638058874914522,1.0,0.22665148415094508,-0.06826254889694101,0.3434148575409178,0.20364850809521917,0.19678517580586272,0.21917815216716094,0.1635493640166073,0.10808030267536337,0.19974014751279254,-0.09531652573608992,-0.0049724884173161,0.0724258451703809,0.0223814980554099,0.0012901448492839542,-0.009049888212650292,-0.010268668868105917,0.28410767559478256],[0.03771855422321228,-0.02343802846062706,0.263169915881059,0.11968990815131542,0.1016763562417855,0.012980060094550628,-0.07065121690473103,-0.040580928067749454,0.10282115127801787,-0.10735467682307034,-0.015728113626581035,0.16664331698696289,0.05044995551267818,0.12740074939236454,0.5029006133459056,0.10560656854090526,0.5212695109189948,-0.15067280920795623,0.046518848389950684,0.36325198302327694,0.22665148415094508,1.0,0.1985967577071338,0.676619935742649,0.10756968099132388,-0.06451843698438452,0.08610643768835287,0.06525252989881626,0.04685377306989394,0.09380957160591452,0.04157043451959824,-0.02447779636611455,0.044299691127134826,0.07070258356547471,0.007766971998717607,0.04654385993628238,-0.03601389283370446,0.16821315430073963],[0.0029512363577296613,0.2817210402648814,-0.0060688301613090875,-0.017783870504841995,-0.18388223454922156,-0.08700085543638039,-0.17480024561497706,-0.14959752104274646,-0.03761025181986861,-0.08100685077857439,-0.04075123644840764,0.030085868314000126,-0.06890064264201659,0.06810058817691335,0.05930575264821624,0.007521744344233734,0.10006316473775474,-0.041502546431482885,-0.03794435022720086,0.1331152141960393,-0.06826254889694101,0.1985967577071338,1.0,0.2560454085359489,-0.12393623529689729,-0.12441140157001684,-0.05063389240221729,-0.06443304718314395,-0.09013027267903444,-0.07009060989258609,0.03731238503296963,-0.024600358690531954,-0.05161336606147979,-0.014525116015980777,0.062340724004379115,0.026588907230915452,0.031687206500669154,-0.13590737084214105],[0.02723872440945831,0.04038006478367613,0.3520959476602243,0.190014777625409,0.42745234327798975,-0.057583166112865375,0.09558912829795185,0.1917398162928069,0.2806816946085068,0.044315623912920654,-0.03522654794752336,0.25064706137624926,0.28557256372579454,0.40951597886683183,0.6164226354915431,0.13118477598954745,0.8254893743088425,-0.0532752361233972,-0.023836341262220544,0.5547842535334836,0.3434148575409178,0.676619935742649,0.2560454085359489,1.0,0.3261144801772001,0.1481117155859651,0.3622885708147746,0.33782212063683786,0.16598388371493233,0.2341915878315988,0.004151299023856323,-0.006683241010939702,0.059382599559410935,0.0837573495149245,0.024762884163584138,0.036907077159844405,-0.03451635430218269,0.5337231555820284],[-0.019771632442393293,-0.04556934027456939,0.26663948256030306,0.2713640096245418,0.39676503795208906,-0.02381997776166212,0.14771639941245646,0.11258131843947561,0.24906961283714313,0.2600109202350403,0.04692070882601213,0.0515748822895418,0.33951932389865597,0.41053108465984556,0.19456089224132392,-0.02127214341393874,0.46167913376144704,0.1379277084271981,0.028975586646259963,0.2436705030799116,0.20364850809521917,0.10756968099132388,-0.12393623529689729,0.3261144801772001,1.0,0.04682164840190421,0.3007887663013562,0.2691412380738719,0.20001879575902368,0.16940532713120185,-0.02482186853706847,0.011257238992774959,0.18453026951684842,0.09507352203619863,0.0014086054430451757,0.04635710249771968,-0.024095564980725313,0.46692883675152763],[0.00007239023604314056,0.08507186950664718,0.0702497819166165,-0.02494741866564254,0.5477658448351629,-0.32429673252939795,0.8256674841743408,0.6422767797035356,0.2526907749903342,0.1534840980267781,-0.08801081541220088,0.19070827345893257,0.3224451736794739,0.23344909271486267,0.0708323397173792,-0.03636323404234127,0.23119674063336224,0.12455252442364974,-0.07746361238070294,0.4845573867195222,0.19678517580586272,-0.06451843698438452,-0.12441140157001684,0.1481117155859651,0.04682164840190421,1.0,0.5889200070047002,0.5645670607230577,0.22457699198793213,0.22842457877198022,-0.2970026030557314,0.023543689573665077,-0.07541751376190593,-0.01450067856370222,-0.032417457821261826,0.0053370257603695135,-0.0010142778712734348,0.4863616774878596],[0.016569677112146127,-0.040109793135783604,0.2856909246851005,0.15487073975354076,0.6006707165907149,-0.18575751057836357,0.5378500917111052,0.42062215494321714,0.3642036400698656,0.22405352239399068,-0.038263512869251545,0.2141751897502169,0.43458483429168865,0.4393168079906709,0.18392558307638002,-0.09447952015593257,0.4672474187951873,0.13188122440619438,-0.02089105899687853,0.469672043267628,0.21917815216716094,0.08610643768835287,-0.05063389240221729,0.3622885708147746,0.3007887663013562,0.5889200070047002,1.0,0.882475414281462,0.2263421384698597,0.21356944558969115,-0.15143416002683724,0.035765285146453774,0.05049379192719834,0.020933531041465454,-0.04308012810223063,0.040521730128251755,-0.039116904112831495,0.6404091972583519],[0.017633778453767103,-0.09867154319256435,0.3449967241064819,0.1804027551511169,0.5620217566126083,-0.15152137057022985,0.4789538198934904,0.3715998094973092,0.37306648160023664,0.2969703853445138,-0.018226591907316552,0.18330269774258412,0.4866654637737961,0.4897816541041918,0.13834695857186657,-0.06760141323952208,0.4689974773229655,0.179189480420231,-0.02453557957887923,0.4056562084540099,0.1635493640166073,0.06525252989881626,-0.06443304718314395,0.33782212063683786,0.2691412380738719,0.5645670607230577,0.882475414281462,1.0,0.2246663071787637,0.2414346721380881,-0.1217767195610043,0.03508670020815975,0.05141176244520852,0.061047271702060014,-0.02739991441262488,0.02797379982354057,-0.027377940418545084,0.6234314389183622],[-0.029643197156402474,-0.012579358249219592,0.0885209332894081,0.17169768725711246,0.23892339224918593,-0.0033336992893856225,0.22488014230399744,0.20572592049010355,0.15971813436595433,0.20430614523740265,0.06789832641361218,-0.005316424333062066,0.23201860912901803,0.23545862278369778,0.09216541758603868,-0.025443647988791077,0.24743282051884846,0.17531519007972224,0.04016122325953452,0.18770321383582822,0.10808030267536337,0.04685377306989394,-0.09013027267903444,0.16598388371493233,0.20001879575902368,0.22457699198793213,0.2263421384698597,0.2246663071787637,1.0,0.058660608565887375,-0.1259888880376007,-0.03277063359357436,-0.07418135123983237,0.07337820695645396,-0.009551228238372468,0.021011044294297315,0.022270451009253036,0.32441344456812926],[-0.0004769113247911827,-0.006100121231942238,0.15197222768060642,0.08477380884021642,0.3088188233594523,-0.03258881352158505,0.188685840001731,0.22629763268298944,0.1257027966825031,0.11176061335675101,0.003092562209894399,0.12900541461542128,0.2472637462881078,0.2116712254979847,0.2080260631813579,0.018251039053999052,0.33022396171200064,0.06734146137698176,-0.02532375788905772,0.25997742546824865,0.19974014751279254,0.09380957160591452,-0.07009060989258609,0.2341915878315988,0.16940532713120185,0.22842457877198022,0.21356944558969115,0.2414346721380881,0.058660608565887375,1.0,-0.09307931750864903,-0.005842499340135753,0.07430394385024312,0.060762111489925795,-0.018583738987649336,0.07125488475868938,-0.057619360142091326,0.31585622711605504],[0.002889217865750164,-0.012036621902094771,0.01070033663888244,-0.018339733672212328,-0.11393685859568162,0.07035618448230374,-0.3872677829280785,-0.1939191470992078,-0.11020383387243517,-0.10230330550073197,0.036543339448210164,-0.002537854589751547,-0.09547773670640776,-0.0652917009103091,0.06198869077325203,0.06108123777122687,0.009113210326003087,-0.049910649083753186,-0.008555333868578032,-0.11509296346134239,-0.09531652573608992,0.04157043451959824,0.03731238503296963,0.004151299023856323,-0.02482186853706847,-0.2970026030557314,-0.15143416002683724,-0.1217767195610043,-0.1259888880376007,-0.09307931750864903,1.0,-0.03730528278804611,-0.08286424483260343,0.05420256229213969,0.018360600139447715,-0.028887265707142493,-0.009915936955524396,-0.1285779579259566],[-0.046634788867427585,-0.04382454917560846,0.07002922773085365,0.020422829586133416,0.03037056713526452,0.025503660024132138,0.03135451306436603,0.045285809814976964,0.018795515294914033,0.026450506189898953,-0.029993397993921023,0.02076400569654798,0.03738372726300508,0.05610437448487508,-0.02435764842204794,-0.004295610410300094,0.020643189710186576,-0.00010609153998400853,0.035113630886772336,0.03535301658385297,-0.0049724884173161,-0.02447779636611455,-0.024600358690531954,-0.006683241010939702,0.011257238992774959,0.023543689573665077,0.035765285146453774,0.03508670020815975,-0.03277063359357436,-0.005842499340135753,-0.03730528278804611,1.0,-0.03143584703909575,-0.00799154887286895,0.00035396527793940183,0.02947379524994019,0.01864492540475066,0.04458366533574838],[0.0013302086301727988,-0.026030176699806666,0.04138279067500582,0.04316037769525204,0.06488636049351544,0.05481052878611526,-0.05036443453861205,-0.038740010742610125,0.06146554318732188,0.06202062266534991,0.08887125137339073,-0.012579273444256824,0.08448898591431157,0.08875807262015682,0.040606447641001006,0.02679941302177244,0.10151039568208567,0.023147725763573802,0.03212140720908338,-0.00810609332811188,0.0724258451703809,0.044299691127134826,-0.05161336606147979,0.059382599559410935,0.18453026951684842,-0.07541751376190593,0.05049379192719834,0.05141176244520852,-0.07418135123983237,0.07430394385024312,-0.08286424483260343,-0.03143584703909575,1.0,0.05130739451790554,0.03194576077490817,0.023216991793307076,0.01069410600377114,0.11144657114291112],[0.057043904789252316,0.008282707579624416,0.2061667752760768,0.07767239188017444,0.06516584360589199,-0.0019849422681841354,0.004949727615942999,0.005829372037106204,0.01172306121326672,0.1404912862549568,0.041709054681333575,-0.035092240793657914,0.12605313210083768,0.13152497564028254,0.08148687804909954,0.06215737226918922,0.1702053360005616,0.06761555618047507,0.02002462983851695,0.04960382558403366,0.0223814980554099,0.07070258356547471,-0.014525116015980777,0.0837573495149245,0.09507352203619863,-0.01450067856370222,0.020933531041465454,0.061047271702060014,0.07337820695645396,0.060762111489925795,0.05420256229213969,-0.00799154887286895,0.05130739451790554,1.0,0.02966865085402175,-0.033736640262791315,-0.0596889316752469,0.09240354949187318],[-0.006242404848302426,-0.007683291329865976,0.003367556596191435,0.03806769201918336,-0.031406210500746504,0.0687768060572499,-0.03438313873672287,-0.010286248783081431,-0.02981539358527878,0.003571473474954695,0.004939781228437705,-0.023836645134507763,-0.018478922431472124,-0.021095719463122223,0.016196874604388505,-0.003792870779996453,-0.0024156395502935623,-0.02304702486861695,-0.007366524543625446,-0.014289844970848111,0.0012901448492839542,0.007766971998717607,0.062340724004379115,0.024762884163584138,0.0014086054430451757,-0.032417457821261826,-0.04308012810223063,-0.02739991441262488,-0.009551228238372468,-0.018583738987649336,0.018360600139447715,0.00035396527793940183,0.03194576077490817,0.02966865085402175,1.0,-0.006494550221282175,0.004906262452651876,-0.021189579640303213],[0.021172176550393457,-0.013584643238322348,0.011199954759134238,0.0012049882225877268,0.07081517178517327,-0.003510838599939743,0.012398470595440986,0.02149000222687611,-0.005964715509114298,-0.015726948262154667,-0.015210737972006668,0.03488844300908206,0.013196178616778433,0.03137156035207926,0.035164427361791005,-0.02217396057953783,0.05023968081827284,-0.025360894315259907,0.03287270523409066,0.055872128991723384,-0.009049888212650292,0.04654385993628238,0.026588907230915452,0.036907077159844405,0.04635710249771968,0.0053370257603695135,0.040521730128251755,0.02797379982354057,0.021011044294297315,0.07125488475868938,-0.028887265707142493,0.02947379524994019,0.023216991793307076,-0.033736640262791315,-0.006494550221282175,1.0,-0.1457214126753949,0.046432245223819446],[0.0007117940172075226,-0.02140703785109821,0.007449589209750463,-0.01426140729855021,-0.027346708327825386,0.043949745692488544,-0.01361768000183213,0.03574324712127364,-0.008201030967080006,0.014358922393909302,0.03170563698487945,-0.04125819493876721,-0.014968648018762356,-0.01360377050464661,-0.02869991393529755,-0.028920879782296086,-0.03652581962473121,0.06704913767140361,-0.04652388177400862,-0.019668840691520386,-0.010268668868105917,-0.03601389283370446,0.031687206500669154,-0.03451635430218269,-0.024095564980725313,-0.0010142778712734348,-0.039116904112831495,-0.027377940418545084,0.022270451009253036,-0.057619360142091326,-0.009915936955524396,0.01864492540475066,0.01069410600377114,-0.0596889316752469,0.004906262452651876,-0.1457214126753949,1.0,-0.028922585168736813],[-0.021916719443430967,-0.08428413512659509,0.35179909657067737,0.2638433538714051,0.7909816005838053,-0.07785589404867797,0.5228973328794967,0.5071009671113866,0.47749304709571444,0.3864198062421535,-0.011378121450215146,0.21447910554696928,0.6135805515591943,0.6058521846919153,0.31933380283206736,-0.02560613000067955,0.7086244776126515,0.22712223313149427,-0.01684415429735895,0.5606637627484453,0.28410767559478256,0.16821315430073963,-0.13590737084214105,0.5337231555820284,0.46692883675152763,0.4863616774878596,0.6404091972583519,0.6234314389183622,0.32441344456812926,0.31585622711605504,-0.1285779579259566,0.04458366533574838,0.11144657114291112,0.09240354949187318,-0.021189579640303213,0.046432245223819446,-0.028922585168736813,1.0]],\"type\":\"heatmap\",\"xaxis\":\"x\",\"yaxis\":\"y\",\"hovertemplate\":\"x: %{x}<br>y: %{y}<br>color: %{z}<extra></extra>\"}],                        {\"template\":{\"data\":{\"histogram2dcontour\":[{\"type\":\"histogram2dcontour\",\"colorbar\":{\"outlinewidth\":0,\"ticks\":\"\"},\"colorscale\":[[0.0,\"#0d0887\"],[0.1111111111111111,\"#46039f\"],[0.2222222222222222,\"#7201a8\"],[0.3333333333333333,\"#9c179e\"],[0.4444444444444444,\"#bd3786\"],[0.5555555555555556,\"#d8576b\"],[0.6666666666666666,\"#ed7953\"],[0.7777777777777778,\"#fb9f3a\"],[0.8888888888888888,\"#fdca26\"],[1.0,\"#f0f921\"]]}],\"choropleth\":[{\"type\":\"choropleth\",\"colorbar\":{\"outlinewidth\":0,\"ticks\":\"\"}}],\"histogram2d\":[{\"type\":\"histogram2d\",\"colorbar\":{\"outlinewidth\":0,\"ticks\":\"\"},\"colorscale\":[[0.0,\"#0d0887\"],[0.1111111111111111,\"#46039f\"],[0.2222222222222222,\"#7201a8\"],[0.3333333333333333,\"#9c179e\"],[0.4444444444444444,\"#bd3786\"],[0.5555555555555556,\"#d8576b\"],[0.6666666666666666,\"#ed7953\"],[0.7777777777777778,\"#fb9f3a\"],[0.8888888888888888,\"#fdca26\"],[1.0,\"#f0f921\"]]}],\"heatmap\":[{\"type\":\"heatmap\",\"colorbar\":{\"outlinewidth\":0,\"ticks\":\"\"},\"colorscale\":[[0.0,\"#0d0887\"],[0.1111111111111111,\"#46039f\"],[0.2222222222222222,\"#7201a8\"],[0.3333333333333333,\"#9c179e\"],[0.4444444444444444,\"#bd3786\"],[0.5555555555555556,\"#d8576b\"],[0.6666666666666666,\"#ed7953\"],[0.7777777777777778,\"#fb9f3a\"],[0.8888888888888888,\"#fdca26\"],[1.0,\"#f0f921\"]]}],\"heatmapgl\":[{\"type\":\"heatmapgl\",\"colorbar\":{\"outlinewidth\":0,\"ticks\":\"\"},\"colorscale\":[[0.0,\"#0d0887\"],[0.1111111111111111,\"#46039f\"],[0.2222222222222222,\"#7201a8\"],[0.3333333333333333,\"#9c179e\"],[0.4444444444444444,\"#bd3786\"],[0.5555555555555556,\"#d8576b\"],[0.6666666666666666,\"#ed7953\"],[0.7777777777777778,\"#fb9f3a\"],[0.8888888888888888,\"#fdca26\"],[1.0,\"#f0f921\"]]}],\"contourcarpet\":[{\"type\":\"contourcarpet\",\"colorbar\":{\"outlinewidth\":0,\"ticks\":\"\"}}],\"contour\":[{\"type\":\"contour\",\"colorbar\":{\"outlinewidth\":0,\"ticks\":\"\"},\"colorscale\":[[0.0,\"#0d0887\"],[0.1111111111111111,\"#46039f\"],[0.2222222222222222,\"#7201a8\"],[0.3333333333333333,\"#9c179e\"],[0.4444444444444444,\"#bd3786\"],[0.5555555555555556,\"#d8576b\"],[0.6666666666666666,\"#ed7953\"],[0.7777777777777778,\"#fb9f3a\"],[0.8888888888888888,\"#fdca26\"],[1.0,\"#f0f921\"]]}],\"surface\":[{\"type\":\"surface\",\"colorbar\":{\"outlinewidth\":0,\"ticks\":\"\"},\"colorscale\":[[0.0,\"#0d0887\"],[0.1111111111111111,\"#46039f\"],[0.2222222222222222,\"#7201a8\"],[0.3333333333333333,\"#9c179e\"],[0.4444444444444444,\"#bd3786\"],[0.5555555555555556,\"#d8576b\"],[0.6666666666666666,\"#ed7953\"],[0.7777777777777778,\"#fb9f3a\"],[0.8888888888888888,\"#fdca26\"],[1.0,\"#f0f921\"]]}],\"mesh3d\":[{\"type\":\"mesh3d\",\"colorbar\":{\"outlinewidth\":0,\"ticks\":\"\"}}],\"scatter\":[{\"fillpattern\":{\"fillmode\":\"overlay\",\"size\":10,\"solidity\":0.2},\"type\":\"scatter\"}],\"parcoords\":[{\"type\":\"parcoords\",\"line\":{\"colorbar\":{\"outlinewidth\":0,\"ticks\":\"\"}}}],\"scatterpolargl\":[{\"type\":\"scatterpolargl\",\"marker\":{\"colorbar\":{\"outlinewidth\":0,\"ticks\":\"\"}}}],\"bar\":[{\"error_x\":{\"color\":\"#2a3f5f\"},\"error_y\":{\"color\":\"#2a3f5f\"},\"marker\":{\"line\":{\"color\":\"#E5ECF6\",\"width\":0.5},\"pattern\":{\"fillmode\":\"overlay\",\"size\":10,\"solidity\":0.2}},\"type\":\"bar\"}],\"scattergeo\":[{\"type\":\"scattergeo\",\"marker\":{\"colorbar\":{\"outlinewidth\":0,\"ticks\":\"\"}}}],\"scatterpolar\":[{\"type\":\"scatterpolar\",\"marker\":{\"colorbar\":{\"outlinewidth\":0,\"ticks\":\"\"}}}],\"histogram\":[{\"marker\":{\"pattern\":{\"fillmode\":\"overlay\",\"size\":10,\"solidity\":0.2}},\"type\":\"histogram\"}],\"scattergl\":[{\"type\":\"scattergl\",\"marker\":{\"colorbar\":{\"outlinewidth\":0,\"ticks\":\"\"}}}],\"scatter3d\":[{\"type\":\"scatter3d\",\"line\":{\"colorbar\":{\"outlinewidth\":0,\"ticks\":\"\"}},\"marker\":{\"colorbar\":{\"outlinewidth\":0,\"ticks\":\"\"}}}],\"scattermapbox\":[{\"type\":\"scattermapbox\",\"marker\":{\"colorbar\":{\"outlinewidth\":0,\"ticks\":\"\"}}}],\"scatterternary\":[{\"type\":\"scatterternary\",\"marker\":{\"colorbar\":{\"outlinewidth\":0,\"ticks\":\"\"}}}],\"scattercarpet\":[{\"type\":\"scattercarpet\",\"marker\":{\"colorbar\":{\"outlinewidth\":0,\"ticks\":\"\"}}}],\"carpet\":[{\"aaxis\":{\"endlinecolor\":\"#2a3f5f\",\"gridcolor\":\"white\",\"linecolor\":\"white\",\"minorgridcolor\":\"white\",\"startlinecolor\":\"#2a3f5f\"},\"baxis\":{\"endlinecolor\":\"#2a3f5f\",\"gridcolor\":\"white\",\"linecolor\":\"white\",\"minorgridcolor\":\"white\",\"startlinecolor\":\"#2a3f5f\"},\"type\":\"carpet\"}],\"table\":[{\"cells\":{\"fill\":{\"color\":\"#EBF0F8\"},\"line\":{\"color\":\"white\"}},\"header\":{\"fill\":{\"color\":\"#C8D4E3\"},\"line\":{\"color\":\"white\"}},\"type\":\"table\"}],\"barpolar\":[{\"marker\":{\"line\":{\"color\":\"#E5ECF6\",\"width\":0.5},\"pattern\":{\"fillmode\":\"overlay\",\"size\":10,\"solidity\":0.2}},\"type\":\"barpolar\"}],\"pie\":[{\"automargin\":true,\"type\":\"pie\"}]},\"layout\":{\"autotypenumbers\":\"strict\",\"colorway\":[\"#636efa\",\"#EF553B\",\"#00cc96\",\"#ab63fa\",\"#FFA15A\",\"#19d3f3\",\"#FF6692\",\"#B6E880\",\"#FF97FF\",\"#FECB52\"],\"font\":{\"color\":\"#2a3f5f\"},\"hovermode\":\"closest\",\"hoverlabel\":{\"align\":\"left\"},\"paper_bgcolor\":\"white\",\"plot_bgcolor\":\"#E5ECF6\",\"polar\":{\"bgcolor\":\"#E5ECF6\",\"angularaxis\":{\"gridcolor\":\"white\",\"linecolor\":\"white\",\"ticks\":\"\"},\"radialaxis\":{\"gridcolor\":\"white\",\"linecolor\":\"white\",\"ticks\":\"\"}},\"ternary\":{\"bgcolor\":\"#E5ECF6\",\"aaxis\":{\"gridcolor\":\"white\",\"linecolor\":\"white\",\"ticks\":\"\"},\"baxis\":{\"gridcolor\":\"white\",\"linecolor\":\"white\",\"ticks\":\"\"},\"caxis\":{\"gridcolor\":\"white\",\"linecolor\":\"white\",\"ticks\":\"\"}},\"coloraxis\":{\"colorbar\":{\"outlinewidth\":0,\"ticks\":\"\"}},\"colorscale\":{\"sequential\":[[0.0,\"#0d0887\"],[0.1111111111111111,\"#46039f\"],[0.2222222222222222,\"#7201a8\"],[0.3333333333333333,\"#9c179e\"],[0.4444444444444444,\"#bd3786\"],[0.5555555555555556,\"#d8576b\"],[0.6666666666666666,\"#ed7953\"],[0.7777777777777778,\"#fb9f3a\"],[0.8888888888888888,\"#fdca26\"],[1.0,\"#f0f921\"]],\"sequentialminus\":[[0.0,\"#0d0887\"],[0.1111111111111111,\"#46039f\"],[0.2222222222222222,\"#7201a8\"],[0.3333333333333333,\"#9c179e\"],[0.4444444444444444,\"#bd3786\"],[0.5555555555555556,\"#d8576b\"],[0.6666666666666666,\"#ed7953\"],[0.7777777777777778,\"#fb9f3a\"],[0.8888888888888888,\"#fdca26\"],[1.0,\"#f0f921\"]],\"diverging\":[[0,\"#8e0152\"],[0.1,\"#c51b7d\"],[0.2,\"#de77ae\"],[0.3,\"#f1b6da\"],[0.4,\"#fde0ef\"],[0.5,\"#f7f7f7\"],[0.6,\"#e6f5d0\"],[0.7,\"#b8e186\"],[0.8,\"#7fbc41\"],[0.9,\"#4d9221\"],[1,\"#276419\"]]},\"xaxis\":{\"gridcolor\":\"white\",\"linecolor\":\"white\",\"ticks\":\"\",\"title\":{\"standoff\":15},\"zerolinecolor\":\"white\",\"automargin\":true,\"zerolinewidth\":2},\"yaxis\":{\"gridcolor\":\"white\",\"linecolor\":\"white\",\"ticks\":\"\",\"title\":{\"standoff\":15},\"zerolinecolor\":\"white\",\"automargin\":true,\"zerolinewidth\":2},\"scene\":{\"xaxis\":{\"backgroundcolor\":\"#E5ECF6\",\"gridcolor\":\"white\",\"linecolor\":\"white\",\"showbackground\":true,\"ticks\":\"\",\"zerolinecolor\":\"white\",\"gridwidth\":2},\"yaxis\":{\"backgroundcolor\":\"#E5ECF6\",\"gridcolor\":\"white\",\"linecolor\":\"white\",\"showbackground\":true,\"ticks\":\"\",\"zerolinecolor\":\"white\",\"gridwidth\":2},\"zaxis\":{\"backgroundcolor\":\"#E5ECF6\",\"gridcolor\":\"white\",\"linecolor\":\"white\",\"showbackground\":true,\"ticks\":\"\",\"zerolinecolor\":\"white\",\"gridwidth\":2}},\"shapedefaults\":{\"line\":{\"color\":\"#2a3f5f\"}},\"annotationdefaults\":{\"arrowcolor\":\"#2a3f5f\",\"arrowhead\":0,\"arrowwidth\":1},\"geo\":{\"bgcolor\":\"white\",\"landcolor\":\"#E5ECF6\",\"subunitcolor\":\"white\",\"showland\":true,\"showlakes\":true,\"lakecolor\":\"white\"},\"title\":{\"x\":0.05},\"mapbox\":{\"style\":\"light\"}}},\"xaxis\":{\"anchor\":\"y\",\"domain\":[0.0,1.0],\"scaleanchor\":\"y\",\"constrain\":\"domain\"},\"yaxis\":{\"anchor\":\"x\",\"domain\":[0.0,1.0],\"autorange\":\"reversed\",\"constrain\":\"domain\"},\"coloraxis\":{\"colorscale\":[[0.0,\"#0d0887\"],[0.1111111111111111,\"#46039f\"],[0.2222222222222222,\"#7201a8\"],[0.3333333333333333,\"#9c179e\"],[0.4444444444444444,\"#bd3786\"],[0.5555555555555556,\"#d8576b\"],[0.6666666666666666,\"#ed7953\"],[0.7777777777777778,\"#fb9f3a\"],[0.8888888888888888,\"#fdca26\"],[1.0,\"#f0f921\"]]},\"margin\":{\"t\":60}},                        {\"responsive\": true}                    ).then(function(){\n",
       "                            \n",
       "var gd = document.getElementById('2b1ca79f-34c1-42e1-9420-03a146ba7b27');\n",
       "var x = new MutationObserver(function (mutations, observer) {{\n",
       "        var display = window.getComputedStyle(gd).display;\n",
       "        if (!display || display === 'none') {{\n",
       "            console.log([gd, 'removed!']);\n",
       "            Plotly.purge(gd);\n",
       "            observer.disconnect();\n",
       "        }}\n",
       "}});\n",
       "\n",
       "// Listen for the removal of the full notebook cells\n",
       "var notebookContainer = gd.closest('#notebook-container');\n",
       "if (notebookContainer) {{\n",
       "    x.observe(notebookContainer, {childList: true});\n",
       "}}\n",
       "\n",
       "// Listen for the clearing of the current output cell\n",
       "var outputEl = gd.closest('.output');\n",
       "if (outputEl) {{\n",
       "    x.observe(outputEl, {childList: true});\n",
       "}}\n",
       "\n",
       "                        })                };                });            </script>        </div>"
      ]
     },
     "metadata": {},
     "output_type": "display_data"
    }
   ],
   "source": [
    "fig = px.imshow(img=train.corr())\n",
    "fig.show()"
   ]
  },
  {
   "cell_type": "markdown",
   "id": "f2943cb1",
   "metadata": {
    "papermill": {
     "duration": 0.020731,
     "end_time": "2022-08-17T19:09:31.728468",
     "exception": false,
     "start_time": "2022-08-17T19:09:31.707737",
     "status": "completed"
    },
    "tags": []
   },
   "source": [
    "The most correlated features are (>0.8):\n",
    "* TotalBsmtSF and 1stFlrSF\n",
    "* GarageArea and GarageCars\n",
    "* YrBuilt and GarageYrBuilt\n",
    "* TotRmsAbvGrd and GrLivArea"
   ]
  },
  {
   "cell_type": "markdown",
   "id": "17d5d6b6",
   "metadata": {
    "papermill": {
     "duration": 0.021363,
     "end_time": "2022-08-17T19:09:31.771009",
     "exception": false,
     "start_time": "2022-08-17T19:09:31.749646",
     "status": "completed"
    },
    "tags": []
   },
   "source": [
    "## Target correlations"
   ]
  },
  {
   "cell_type": "code",
   "execution_count": 6,
   "id": "18968d32",
   "metadata": {
    "execution": {
     "iopub.execute_input": "2022-08-17T19:09:31.819494Z",
     "iopub.status.busy": "2022-08-17T19:09:31.819040Z",
     "iopub.status.idle": "2022-08-17T19:09:31.839837Z",
     "shell.execute_reply": "2022-08-17T19:09:31.838507Z"
    },
    "papermill": {
     "duration": 0.047534,
     "end_time": "2022-08-17T19:09:31.842251",
     "exception": false,
     "start_time": "2022-08-17T19:09:31.794717",
     "status": "completed"
    },
    "tags": []
   },
   "outputs": [
    {
     "data": {
      "text/plain": [
       "SalePrice       1.000000\n",
       "OverallQual     0.790982\n",
       "GrLivArea       0.708624\n",
       "GarageCars      0.640409\n",
       "GarageArea      0.623431\n",
       "TotalBsmtSF     0.613581\n",
       "1stFlrSF        0.605852\n",
       "FullBath        0.560664\n",
       "TotRmsAbvGrd    0.533723\n",
       "YearBuilt       0.522897\n",
       "Name: SalePrice, dtype: float64"
      ]
     },
     "execution_count": 6,
     "metadata": {},
     "output_type": "execute_result"
    }
   ],
   "source": [
    "train.corr().nlargest(10, columns='SalePrice')['SalePrice']"
   ]
  },
  {
   "cell_type": "markdown",
   "id": "4aa2b1c5",
   "metadata": {
    "papermill": {
     "duration": 0.020316,
     "end_time": "2022-08-17T19:09:31.883315",
     "exception": false,
     "start_time": "2022-08-17T19:09:31.862999",
     "status": "completed"
    },
    "tags": []
   },
   "source": [
    "TotRmsAbvGrd, GarageArea, 1stFlrSF will be dropped beacause they are twins with their pairs discussed earlier"
   ]
  },
  {
   "cell_type": "code",
   "execution_count": 7,
   "id": "8658b082",
   "metadata": {
    "execution": {
     "iopub.execute_input": "2022-08-17T19:09:31.928116Z",
     "iopub.status.busy": "2022-08-17T19:09:31.926986Z",
     "iopub.status.idle": "2022-08-17T19:09:41.228295Z",
     "shell.execute_reply": "2022-08-17T19:09:41.226780Z"
    },
    "papermill": {
     "duration": 9.329948,
     "end_time": "2022-08-17T19:09:41.234537",
     "exception": false,
     "start_time": "2022-08-17T19:09:31.904589",
     "status": "completed"
    },
    "tags": []
   },
   "outputs": [
    {
     "data": {
      "text/plain": [
       "<seaborn.axisgrid.PairGrid at 0x7efded467910>"
      ]
     },
     "execution_count": 7,
     "metadata": {},
     "output_type": "execute_result"
    },
    {
     "data": {
      "image/png": "[encoded data removed]",
      "text/plain": [
       "<Figure size 1260x1260 with 56 Axes>"
      ]
     },
     "metadata": {},
     "output_type": "display_data"
    }
   ],
   "source": [
    "cols = ['SalePrice', 'OverallQual', 'GrLivArea', 'GarageCars', 'TotalBsmtSF', 'FullBath', 'YearBuilt']\n",
    "sns.pairplot(train[cols])\n"
   ]
  },
  {
   "cell_type": "markdown",
   "id": "ab4a2449",
   "metadata": {
    "papermill": {
     "duration": 0.025706,
     "end_time": "2022-08-17T19:09:41.286521",
     "exception": false,
     "start_time": "2022-08-17T19:09:41.260815",
     "status": "completed"
    },
    "tags": []
   },
   "source": [
    "## Missing values"
   ]
  },
  {
   "cell_type": "code",
   "execution_count": 8,
   "id": "e7d7c952",
   "metadata": {
    "execution": {
     "iopub.execute_input": "2022-08-17T19:09:41.340613Z",
     "iopub.status.busy": "2022-08-17T19:09:41.340133Z",
     "iopub.status.idle": "2022-08-17T19:09:41.347244Z",
     "shell.execute_reply": "2022-08-17T19:09:41.346173Z"
    },
    "papermill": {
     "duration": 0.036877,
     "end_time": "2022-08-17T19:09:41.349348",
     "exception": false,
     "start_time": "2022-08-17T19:09:41.312471",
     "status": "completed"
    },
    "tags": []
   },
   "outputs": [],
   "source": [
    "def count_na(df):\n",
    "    na_series = df.isna().sum()[df.isna().sum() != 0].sort_values(ascending=False)\n",
    "    percentage = na_series / df.shape[0]\n",
    "    miss_df = pd.concat([na_series, percentage], axis=1, keys=['Total', 'Ratio'])\n",
    "    print(f'The number of features with NA: {len(na_series)}')\n",
    "    return miss_df"
   ]
  },
  {
   "cell_type": "code",
   "execution_count": 9,
   "id": "1455cb22",
   "metadata": {
    "execution": {
     "iopub.execute_input": "2022-08-17T19:09:41.404434Z",
     "iopub.status.busy": "2022-08-17T19:09:41.403541Z",
     "iopub.status.idle": "2022-08-17T19:09:41.428910Z",
     "shell.execute_reply": "2022-08-17T19:09:41.427918Z"
    },
    "papermill": {
     "duration": 0.055511,
     "end_time": "2022-08-17T19:09:41.431013",
     "exception": false,
     "start_time": "2022-08-17T19:09:41.375502",
     "status": "completed"
    },
    "tags": []
   },
   "outputs": [
    {
     "name": "stdout",
     "output_type": "stream",
     "text": [
      "The number of features with NA: 19\n"
     ]
    },
    {
     "data": {
      "text/html": [
       "<div>\n",
       "<style scoped>\n",
       "    .dataframe tbody tr th:only-of-type {\n",
       "        vertical-align: middle;\n",
       "    }\n",
       "\n",
       "    .dataframe tbody tr th {\n",
       "        vertical-align: top;\n",
       "    }\n",
       "\n",
       "    .dataframe thead th {\n",
       "        text-align: right;\n",
       "    }\n",
       "</style>\n",
       "<table border=\"1\" class=\"dataframe\">\n",
       "  <thead>\n",
       "    <tr style=\"text-align: right;\">\n",
       "      <th></th>\n",
       "      <th>Total</th>\n",
       "      <th>Ratio</th>\n",
       "    </tr>\n",
       "  </thead>\n",
       "  <tbody>\n",
       "    <tr>\n",
       "      <th>PoolQC</th>\n",
       "      <td>1453</td>\n",
       "      <td>0.995205</td>\n",
       "    </tr>\n",
       "    <tr>\n",
       "      <th>MiscFeature</th>\n",
       "      <td>1406</td>\n",
       "      <td>0.963014</td>\n",
       "    </tr>\n",
       "    <tr>\n",
       "      <th>Alley</th>\n",
       "      <td>1369</td>\n",
       "      <td>0.937671</td>\n",
       "    </tr>\n",
       "    <tr>\n",
       "      <th>Fence</th>\n",
       "      <td>1179</td>\n",
       "      <td>0.807534</td>\n",
       "    </tr>\n",
       "    <tr>\n",
       "      <th>FireplaceQu</th>\n",
       "      <td>690</td>\n",
       "      <td>0.472603</td>\n",
       "    </tr>\n",
       "    <tr>\n",
       "      <th>LotFrontage</th>\n",
       "      <td>259</td>\n",
       "      <td>0.177397</td>\n",
       "    </tr>\n",
       "    <tr>\n",
       "      <th>GarageType</th>\n",
       "      <td>81</td>\n",
       "      <td>0.055479</td>\n",
       "    </tr>\n",
       "    <tr>\n",
       "      <th>GarageYrBlt</th>\n",
       "      <td>81</td>\n",
       "      <td>0.055479</td>\n",
       "    </tr>\n",
       "    <tr>\n",
       "      <th>GarageFinish</th>\n",
       "      <td>81</td>\n",
       "      <td>0.055479</td>\n",
       "    </tr>\n",
       "    <tr>\n",
       "      <th>GarageQual</th>\n",
       "      <td>81</td>\n",
       "      <td>0.055479</td>\n",
       "    </tr>\n",
       "    <tr>\n",
       "      <th>GarageCond</th>\n",
       "      <td>81</td>\n",
       "      <td>0.055479</td>\n",
       "    </tr>\n",
       "    <tr>\n",
       "      <th>BsmtExposure</th>\n",
       "      <td>38</td>\n",
       "      <td>0.026027</td>\n",
       "    </tr>\n",
       "    <tr>\n",
       "      <th>BsmtFinType2</th>\n",
       "      <td>38</td>\n",
       "      <td>0.026027</td>\n",
       "    </tr>\n",
       "    <tr>\n",
       "      <th>BsmtFinType1</th>\n",
       "      <td>37</td>\n",
       "      <td>0.025342</td>\n",
       "    </tr>\n",
       "    <tr>\n",
       "      <th>BsmtCond</th>\n",
       "      <td>37</td>\n",
       "      <td>0.025342</td>\n",
       "    </tr>\n",
       "    <tr>\n",
       "      <th>BsmtQual</th>\n",
       "      <td>37</td>\n",
       "      <td>0.025342</td>\n",
       "    </tr>\n",
       "    <tr>\n",
       "      <th>MasVnrArea</th>\n",
       "      <td>8</td>\n",
       "      <td>0.005479</td>\n",
       "    </tr>\n",
       "    <tr>\n",
       "      <th>MasVnrType</th>\n",
       "      <td>8</td>\n",
       "      <td>0.005479</td>\n",
       "    </tr>\n",
       "    <tr>\n",
       "      <th>Electrical</th>\n",
       "      <td>1</td>\n",
       "      <td>0.000685</td>\n",
       "    </tr>\n",
       "  </tbody>\n",
       "</table>\n",
       "</div>"
      ],
      "text/plain": [
       "              Total     Ratio\n",
       "PoolQC         1453  0.995205\n",
       "MiscFeature    1406  0.963014\n",
       "Alley          1369  0.937671\n",
       "Fence          1179  0.807534\n",
       "FireplaceQu     690  0.472603\n",
       "LotFrontage     259  0.177397\n",
       "GarageType       81  0.055479\n",
       "GarageYrBlt      81  0.055479\n",
       "GarageFinish     81  0.055479\n",
       "GarageQual       81  0.055479\n",
       "GarageCond       81  0.055479\n",
       "BsmtExposure     38  0.026027\n",
       "BsmtFinType2     38  0.026027\n",
       "BsmtFinType1     37  0.025342\n",
       "BsmtCond         37  0.025342\n",
       "BsmtQual         37  0.025342\n",
       "MasVnrArea        8  0.005479\n",
       "MasVnrType        8  0.005479\n",
       "Electrical        1  0.000685"
      ]
     },
     "execution_count": 9,
     "metadata": {},
     "output_type": "execute_result"
    }
   ],
   "source": [
    "count_na(train)"
   ]
  },
  {
   "cell_type": "code",
   "execution_count": 10,
   "id": "8a15bc3e",
   "metadata": {
    "execution": {
     "iopub.execute_input": "2022-08-17T19:09:41.486314Z",
     "iopub.status.busy": "2022-08-17T19:09:41.485451Z",
     "iopub.status.idle": "2022-08-17T19:09:41.513342Z",
     "shell.execute_reply": "2022-08-17T19:09:41.510956Z"
    },
    "papermill": {
     "duration": 0.060059,
     "end_time": "2022-08-17T19:09:41.517010",
     "exception": false,
     "start_time": "2022-08-17T19:09:41.456951",
     "status": "completed"
    },
    "tags": []
   },
   "outputs": [
    {
     "name": "stdout",
     "output_type": "stream",
     "text": [
      "The number of features with NA: 33\n"
     ]
    },
    {
     "data": {
      "text/html": [
       "<div>\n",
       "<style scoped>\n",
       "    .dataframe tbody tr th:only-of-type {\n",
       "        vertical-align: middle;\n",
       "    }\n",
       "\n",
       "    .dataframe tbody tr th {\n",
       "        vertical-align: top;\n",
       "    }\n",
       "\n",
       "    .dataframe thead th {\n",
       "        text-align: right;\n",
       "    }\n",
       "</style>\n",
       "<table border=\"1\" class=\"dataframe\">\n",
       "  <thead>\n",
       "    <tr style=\"text-align: right;\">\n",
       "      <th></th>\n",
       "      <th>Total</th>\n",
       "      <th>Ratio</th>\n",
       "    </tr>\n",
       "  </thead>\n",
       "  <tbody>\n",
       "    <tr>\n",
       "      <th>PoolQC</th>\n",
       "      <td>1456</td>\n",
       "      <td>0.997944</td>\n",
       "    </tr>\n",
       "    <tr>\n",
       "      <th>MiscFeature</th>\n",
       "      <td>1408</td>\n",
       "      <td>0.965045</td>\n",
       "    </tr>\n",
       "    <tr>\n",
       "      <th>Alley</th>\n",
       "      <td>1352</td>\n",
       "      <td>0.926662</td>\n",
       "    </tr>\n",
       "    <tr>\n",
       "      <th>Fence</th>\n",
       "      <td>1169</td>\n",
       "      <td>0.801234</td>\n",
       "    </tr>\n",
       "    <tr>\n",
       "      <th>FireplaceQu</th>\n",
       "      <td>730</td>\n",
       "      <td>0.500343</td>\n",
       "    </tr>\n",
       "    <tr>\n",
       "      <th>LotFrontage</th>\n",
       "      <td>227</td>\n",
       "      <td>0.155586</td>\n",
       "    </tr>\n",
       "    <tr>\n",
       "      <th>GarageCond</th>\n",
       "      <td>78</td>\n",
       "      <td>0.053461</td>\n",
       "    </tr>\n",
       "    <tr>\n",
       "      <th>GarageYrBlt</th>\n",
       "      <td>78</td>\n",
       "      <td>0.053461</td>\n",
       "    </tr>\n",
       "    <tr>\n",
       "      <th>GarageQual</th>\n",
       "      <td>78</td>\n",
       "      <td>0.053461</td>\n",
       "    </tr>\n",
       "    <tr>\n",
       "      <th>GarageFinish</th>\n",
       "      <td>78</td>\n",
       "      <td>0.053461</td>\n",
       "    </tr>\n",
       "    <tr>\n",
       "      <th>GarageType</th>\n",
       "      <td>76</td>\n",
       "      <td>0.052090</td>\n",
       "    </tr>\n",
       "    <tr>\n",
       "      <th>BsmtCond</th>\n",
       "      <td>45</td>\n",
       "      <td>0.030843</td>\n",
       "    </tr>\n",
       "    <tr>\n",
       "      <th>BsmtExposure</th>\n",
       "      <td>44</td>\n",
       "      <td>0.030158</td>\n",
       "    </tr>\n",
       "    <tr>\n",
       "      <th>BsmtQual</th>\n",
       "      <td>44</td>\n",
       "      <td>0.030158</td>\n",
       "    </tr>\n",
       "    <tr>\n",
       "      <th>BsmtFinType1</th>\n",
       "      <td>42</td>\n",
       "      <td>0.028787</td>\n",
       "    </tr>\n",
       "    <tr>\n",
       "      <th>BsmtFinType2</th>\n",
       "      <td>42</td>\n",
       "      <td>0.028787</td>\n",
       "    </tr>\n",
       "    <tr>\n",
       "      <th>MasVnrType</th>\n",
       "      <td>16</td>\n",
       "      <td>0.010966</td>\n",
       "    </tr>\n",
       "    <tr>\n",
       "      <th>MasVnrArea</th>\n",
       "      <td>15</td>\n",
       "      <td>0.010281</td>\n",
       "    </tr>\n",
       "    <tr>\n",
       "      <th>MSZoning</th>\n",
       "      <td>4</td>\n",
       "      <td>0.002742</td>\n",
       "    </tr>\n",
       "    <tr>\n",
       "      <th>BsmtFullBath</th>\n",
       "      <td>2</td>\n",
       "      <td>0.001371</td>\n",
       "    </tr>\n",
       "    <tr>\n",
       "      <th>BsmtHalfBath</th>\n",
       "      <td>2</td>\n",
       "      <td>0.001371</td>\n",
       "    </tr>\n",
       "    <tr>\n",
       "      <th>Functional</th>\n",
       "      <td>2</td>\n",
       "      <td>0.001371</td>\n",
       "    </tr>\n",
       "    <tr>\n",
       "      <th>Utilities</th>\n",
       "      <td>2</td>\n",
       "      <td>0.001371</td>\n",
       "    </tr>\n",
       "    <tr>\n",
       "      <th>GarageCars</th>\n",
       "      <td>1</td>\n",
       "      <td>0.000685</td>\n",
       "    </tr>\n",
       "    <tr>\n",
       "      <th>GarageArea</th>\n",
       "      <td>1</td>\n",
       "      <td>0.000685</td>\n",
       "    </tr>\n",
       "    <tr>\n",
       "      <th>TotalBsmtSF</th>\n",
       "      <td>1</td>\n",
       "      <td>0.000685</td>\n",
       "    </tr>\n",
       "    <tr>\n",
       "      <th>KitchenQual</th>\n",
       "      <td>1</td>\n",
       "      <td>0.000685</td>\n",
       "    </tr>\n",
       "    <tr>\n",
       "      <th>BsmtUnfSF</th>\n",
       "      <td>1</td>\n",
       "      <td>0.000685</td>\n",
       "    </tr>\n",
       "    <tr>\n",
       "      <th>BsmtFinSF2</th>\n",
       "      <td>1</td>\n",
       "      <td>0.000685</td>\n",
       "    </tr>\n",
       "    <tr>\n",
       "      <th>BsmtFinSF1</th>\n",
       "      <td>1</td>\n",
       "      <td>0.000685</td>\n",
       "    </tr>\n",
       "    <tr>\n",
       "      <th>Exterior2nd</th>\n",
       "      <td>1</td>\n",
       "      <td>0.000685</td>\n",
       "    </tr>\n",
       "    <tr>\n",
       "      <th>Exterior1st</th>\n",
       "      <td>1</td>\n",
       "      <td>0.000685</td>\n",
       "    </tr>\n",
       "    <tr>\n",
       "      <th>SaleType</th>\n",
       "      <td>1</td>\n",
       "      <td>0.000685</td>\n",
       "    </tr>\n",
       "  </tbody>\n",
       "</table>\n",
       "</div>"
      ],
      "text/plain": [
       "              Total     Ratio\n",
       "PoolQC         1456  0.997944\n",
       "MiscFeature    1408  0.965045\n",
       "Alley          1352  0.926662\n",
       "Fence          1169  0.801234\n",
       "FireplaceQu     730  0.500343\n",
       "LotFrontage     227  0.155586\n",
       "GarageCond       78  0.053461\n",
       "GarageYrBlt      78  0.053461\n",
       "GarageQual       78  0.053461\n",
       "GarageFinish     78  0.053461\n",
       "GarageType       76  0.052090\n",
       "BsmtCond         45  0.030843\n",
       "BsmtExposure     44  0.030158\n",
       "BsmtQual         44  0.030158\n",
       "BsmtFinType1     42  0.028787\n",
       "BsmtFinType2     42  0.028787\n",
       "MasVnrType       16  0.010966\n",
       "MasVnrArea       15  0.010281\n",
       "MSZoning          4  0.002742\n",
       "BsmtFullBath      2  0.001371\n",
       "BsmtHalfBath      2  0.001371\n",
       "Functional        2  0.001371\n",
       "Utilities         2  0.001371\n",
       "GarageCars        1  0.000685\n",
       "GarageArea        1  0.000685\n",
       "TotalBsmtSF       1  0.000685\n",
       "KitchenQual       1  0.000685\n",
       "BsmtUnfSF         1  0.000685\n",
       "BsmtFinSF2        1  0.000685\n",
       "BsmtFinSF1        1  0.000685\n",
       "Exterior2nd       1  0.000685\n",
       "Exterior1st       1  0.000685\n",
       "SaleType          1  0.000685"
      ]
     },
     "execution_count": 10,
     "metadata": {},
     "output_type": "execute_result"
    }
   ],
   "source": [
    "count_na(test)"
   ]
  },
  {
   "cell_type": "markdown",
   "id": "ec68d3e6",
   "metadata": {
    "papermill": {
     "duration": 0.02706,
     "end_time": "2022-08-17T19:09:41.572854",
     "exception": false,
     "start_time": "2022-08-17T19:09:41.545794",
     "status": "completed"
    },
    "tags": []
   },
   "source": [
    "### PoolQC, MiscFeature, Alley, Fence, FireplaceQu\n",
    "According to description NA means the absence of the specified feature"
   ]
  },
  {
   "cell_type": "code",
   "execution_count": 11,
   "id": "a8595337",
   "metadata": {
    "execution": {
     "iopub.execute_input": "2022-08-17T19:09:41.631050Z",
     "iopub.status.busy": "2022-08-17T19:09:41.630645Z",
     "iopub.status.idle": "2022-08-17T19:09:41.643465Z",
     "shell.execute_reply": "2022-08-17T19:09:41.641993Z"
    },
    "papermill": {
     "duration": 0.045287,
     "end_time": "2022-08-17T19:09:41.646475",
     "exception": false,
     "start_time": "2022-08-17T19:09:41.601188",
     "status": "completed"
    },
    "tags": []
   },
   "outputs": [],
   "source": [
    "for feat in ['PoolQC', 'MiscFeature', 'Alley', 'Fence', 'FireplaceQu']:\n",
    "    train[feat].fillna('None', inplace=True)\n",
    "    test[feat].fillna('None', inplace=True)"
   ]
  },
  {
   "cell_type": "markdown",
   "id": "128c4cd8",
   "metadata": {
    "papermill": {
     "duration": 0.029446,
     "end_time": "2022-08-17T19:09:41.705330",
     "exception": false,
     "start_time": "2022-08-17T19:09:41.675884",
     "status": "completed"
    },
    "tags": []
   },
   "source": [
    "### LotFrontage\n",
    "Since the area of each street connected to the house property most likely have a similar area to other houses in its neighborhood , we can fill in missing values by the median LotFrontage of the neighborhood."
   ]
  },
  {
   "cell_type": "code",
   "execution_count": 12,
   "id": "c26f4798",
   "metadata": {
    "execution": {
     "iopub.execute_input": "2022-08-17T19:09:41.762657Z",
     "iopub.status.busy": "2022-08-17T19:09:41.762264Z",
     "iopub.status.idle": "2022-08-17T19:09:42.025816Z",
     "shell.execute_reply": "2022-08-17T19:09:42.024442Z"
    },
    "papermill": {
     "duration": 0.295669,
     "end_time": "2022-08-17T19:09:42.029114",
     "exception": false,
     "start_time": "2022-08-17T19:09:41.733445",
     "status": "completed"
    },
    "tags": []
   },
   "outputs": [],
   "source": [
    "train['LotFrontage'] = train.groupby(\"Neighborhood\")[\"LotFrontage\"].transform(lambda x: x.fillna(x.median()))\n",
    "test['LotFrontage'] = test.groupby(\"Neighborhood\")[\"LotFrontage\"].transform(lambda x: x.fillna(x.median()))"
   ]
  },
  {
   "cell_type": "markdown",
   "id": "e084fe9f",
   "metadata": {
    "papermill": {
     "duration": 0.029234,
     "end_time": "2022-08-17T19:09:42.087016",
     "exception": false,
     "start_time": "2022-08-17T19:09:42.057782",
     "status": "completed"
    },
    "tags": []
   },
   "source": [
    "### GarageType, GarageFinish, GarageQual and GarageCond\n",
    "Filling with None which means no garage"
   ]
  },
  {
   "cell_type": "code",
   "execution_count": 13,
   "id": "31e62707",
   "metadata": {
    "execution": {
     "iopub.execute_input": "2022-08-17T19:09:42.147956Z",
     "iopub.status.busy": "2022-08-17T19:09:42.147434Z",
     "iopub.status.idle": "2022-08-17T19:09:42.161825Z",
     "shell.execute_reply": "2022-08-17T19:09:42.159991Z"
    },
    "papermill": {
     "duration": 0.046881,
     "end_time": "2022-08-17T19:09:42.164478",
     "exception": false,
     "start_time": "2022-08-17T19:09:42.117597",
     "status": "completed"
    },
    "tags": []
   },
   "outputs": [],
   "source": [
    "for feat in ['GarageType', 'GarageFinish', 'GarageQual', 'GarageCond']:\n",
    "    train[feat].fillna('None', inplace=True)\n",
    "    test[feat].fillna('None', inplace=True)"
   ]
  },
  {
   "cell_type": "markdown",
   "id": "3792cc32",
   "metadata": {
    "papermill": {
     "duration": 0.026554,
     "end_time": "2022-08-17T19:09:42.217937",
     "exception": false,
     "start_time": "2022-08-17T19:09:42.191383",
     "status": "completed"
    },
    "tags": []
   },
   "source": [
    "### GarageYrBlt, GarageArea and GarageCars\n",
    "Filling with 0 since no garage means no cars and etc."
   ]
  },
  {
   "cell_type": "code",
   "execution_count": 14,
   "id": "6fa5d332",
   "metadata": {
    "execution": {
     "iopub.execute_input": "2022-08-17T19:09:42.273045Z",
     "iopub.status.busy": "2022-08-17T19:09:42.272542Z",
     "iopub.status.idle": "2022-08-17T19:09:42.282446Z",
     "shell.execute_reply": "2022-08-17T19:09:42.281037Z"
    },
    "papermill": {
     "duration": 0.0405,
     "end_time": "2022-08-17T19:09:42.285004",
     "exception": false,
     "start_time": "2022-08-17T19:09:42.244504",
     "status": "completed"
    },
    "tags": []
   },
   "outputs": [],
   "source": [
    "for feat in ['GarageYrBlt', 'GarageArea', 'GarageCars']:\n",
    "    train[feat].fillna(0, inplace=True)\n",
    "    test[feat].fillna(0, inplace=True)"
   ]
  },
  {
   "cell_type": "markdown",
   "id": "168a1405",
   "metadata": {
    "papermill": {
     "duration": 0.026265,
     "end_time": "2022-08-17T19:09:42.337901",
     "exception": false,
     "start_time": "2022-08-17T19:09:42.311636",
     "status": "completed"
    },
    "tags": []
   },
   "source": [
    "### BsmtQual, BsmtCond, BsmtExposure, BsmtFinType1 and BsmtFinType2\n",
    "NA means no basement"
   ]
  },
  {
   "cell_type": "code",
   "execution_count": 15,
   "id": "50affd07",
   "metadata": {
    "execution": {
     "iopub.execute_input": "2022-08-17T19:09:42.394218Z",
     "iopub.status.busy": "2022-08-17T19:09:42.393738Z",
     "iopub.status.idle": "2022-08-17T19:09:42.405870Z",
     "shell.execute_reply": "2022-08-17T19:09:42.404277Z"
    },
    "papermill": {
     "duration": 0.043984,
     "end_time": "2022-08-17T19:09:42.408475",
     "exception": false,
     "start_time": "2022-08-17T19:09:42.364491",
     "status": "completed"
    },
    "tags": []
   },
   "outputs": [],
   "source": [
    "for feat in ['BsmtQual', 'BsmtCond', 'BsmtExposure', 'BsmtFinType1', 'BsmtFinType2']:\n",
    "    train[feat].fillna('None', inplace=True)\n",
    "    test[feat].fillna('None', inplace=True)"
   ]
  },
  {
   "cell_type": "markdown",
   "id": "411d07a5",
   "metadata": {
    "papermill": {
     "duration": 0.026294,
     "end_time": "2022-08-17T19:09:42.461294",
     "exception": false,
     "start_time": "2022-08-17T19:09:42.435000",
     "status": "completed"
    },
    "tags": []
   },
   "source": [
    "### BsmtFinSF1, BsmtFinSF2, BsmtUnfSF, TotalBsmtSF, BsmtFullBath and BsmtHalfBath\n",
    "Since there is no basement we will replace NA with 0"
   ]
  },
  {
   "cell_type": "code",
   "execution_count": 16,
   "id": "f761cca8",
   "metadata": {
    "execution": {
     "iopub.execute_input": "2022-08-17T19:09:42.516081Z",
     "iopub.status.busy": "2022-08-17T19:09:42.515671Z",
     "iopub.status.idle": "2022-08-17T19:09:42.526643Z",
     "shell.execute_reply": "2022-08-17T19:09:42.525020Z"
    },
    "papermill": {
     "duration": 0.041851,
     "end_time": "2022-08-17T19:09:42.529540",
     "exception": false,
     "start_time": "2022-08-17T19:09:42.487689",
     "status": "completed"
    },
    "tags": []
   },
   "outputs": [],
   "source": [
    "for feat in ['BsmtFinSF1', 'BsmtFinSF2', 'BsmtUnfSF', 'TotalBsmtSF', 'BsmtFullBath', 'BsmtHalfBath']:\n",
    "    train[feat].fillna(0, inplace=True)\n",
    "    test[feat].fillna(0, inplace=True)"
   ]
  },
  {
   "cell_type": "markdown",
   "id": "1ab4099b",
   "metadata": {
    "papermill": {
     "duration": 0.027454,
     "end_time": "2022-08-17T19:09:42.584613",
     "exception": false,
     "start_time": "2022-08-17T19:09:42.557159",
     "status": "completed"
    },
    "tags": []
   },
   "source": [
    "### MasVnrArea and MasVnrType\n",
    "NA most likely means no masonry veneer for these houses. We can fill 0 for the area and None for the type."
   ]
  },
  {
   "cell_type": "code",
   "execution_count": 17,
   "id": "6030a8b7",
   "metadata": {
    "execution": {
     "iopub.execute_input": "2022-08-17T19:09:42.647612Z",
     "iopub.status.busy": "2022-08-17T19:09:42.646098Z",
     "iopub.status.idle": "2022-08-17T19:09:42.654034Z",
     "shell.execute_reply": "2022-08-17T19:09:42.653165Z"
    },
    "papermill": {
     "duration": 0.041844,
     "end_time": "2022-08-17T19:09:42.656758",
     "exception": false,
     "start_time": "2022-08-17T19:09:42.614914",
     "status": "completed"
    },
    "tags": []
   },
   "outputs": [],
   "source": [
    "train['MasVnrType'].fillna('None', inplace=True)\n",
    "test['MasVnrType'].fillna('None', inplace=True)\n",
    "\n",
    "train['MasVnrArea'].fillna(0, inplace=True)\n",
    "test['MasVnrArea'].fillna(0, inplace=True)"
   ]
  },
  {
   "cell_type": "markdown",
   "id": "1f7aae72",
   "metadata": {
    "papermill": {
     "duration": 0.027358,
     "end_time": "2022-08-17T19:09:42.712120",
     "exception": false,
     "start_time": "2022-08-17T19:09:42.684762",
     "status": "completed"
    },
    "tags": []
   },
   "source": [
    "### MSZoning \n",
    "As this feature has only several missing values, we will fill it with mode - RL"
   ]
  },
  {
   "cell_type": "code",
   "execution_count": 18,
   "id": "30b4c0a4",
   "metadata": {
    "execution": {
     "iopub.execute_input": "2022-08-17T19:09:42.771912Z",
     "iopub.status.busy": "2022-08-17T19:09:42.770721Z",
     "iopub.status.idle": "2022-08-17T19:09:42.777256Z",
     "shell.execute_reply": "2022-08-17T19:09:42.776463Z"
    },
    "papermill": {
     "duration": 0.039929,
     "end_time": "2022-08-17T19:09:42.779818",
     "exception": false,
     "start_time": "2022-08-17T19:09:42.739889",
     "status": "completed"
    },
    "tags": []
   },
   "outputs": [],
   "source": [
    "test['MSZoning'].fillna(test.MSZoning.mode()[0], inplace=True)"
   ]
  },
  {
   "cell_type": "markdown",
   "id": "13e73819",
   "metadata": {
    "papermill": {
     "duration": 0.027666,
     "end_time": "2022-08-17T19:09:42.836017",
     "exception": false,
     "start_time": "2022-08-17T19:09:42.808351",
     "status": "completed"
    },
    "tags": []
   },
   "source": [
    "### Utilities"
   ]
  },
  {
   "cell_type": "code",
   "execution_count": 19,
   "id": "51c50f0f",
   "metadata": {
    "execution": {
     "iopub.execute_input": "2022-08-17T19:09:42.897691Z",
     "iopub.status.busy": "2022-08-17T19:09:42.896888Z",
     "iopub.status.idle": "2022-08-17T19:09:42.905589Z",
     "shell.execute_reply": "2022-08-17T19:09:42.904019Z"
    },
    "papermill": {
     "duration": 0.043624,
     "end_time": "2022-08-17T19:09:42.908451",
     "exception": false,
     "start_time": "2022-08-17T19:09:42.864827",
     "status": "completed"
    },
    "tags": []
   },
   "outputs": [
    {
     "data": {
      "text/plain": [
       "AllPub    1459\n",
       "NoSeWa       1\n",
       "Name: Utilities, dtype: int64"
      ]
     },
     "execution_count": 19,
     "metadata": {},
     "output_type": "execute_result"
    }
   ],
   "source": [
    "train.Utilities.value_counts()"
   ]
  },
  {
   "cell_type": "code",
   "execution_count": 20,
   "id": "08efe2d6",
   "metadata": {
    "execution": {
     "iopub.execute_input": "2022-08-17T19:09:42.967364Z",
     "iopub.status.busy": "2022-08-17T19:09:42.966375Z",
     "iopub.status.idle": "2022-08-17T19:09:42.975291Z",
     "shell.execute_reply": "2022-08-17T19:09:42.974475Z"
    },
    "papermill": {
     "duration": 0.041366,
     "end_time": "2022-08-17T19:09:42.977408",
     "exception": false,
     "start_time": "2022-08-17T19:09:42.936042",
     "status": "completed"
    },
    "tags": []
   },
   "outputs": [
    {
     "data": {
      "text/plain": [
       "AllPub    1457\n",
       "Name: Utilities, dtype: int64"
      ]
     },
     "execution_count": 20,
     "metadata": {},
     "output_type": "execute_result"
    }
   ],
   "source": [
    "test.Utilities.value_counts()"
   ]
  },
  {
   "cell_type": "markdown",
   "id": "a1facfaa",
   "metadata": {
    "papermill": {
     "duration": 0.029757,
     "end_time": "2022-08-17T19:09:43.036119",
     "exception": false,
     "start_time": "2022-08-17T19:09:43.006362",
     "status": "completed"
    },
    "tags": []
   },
   "source": [
    "Test set has constant feature, so it will be removed"
   ]
  },
  {
   "cell_type": "code",
   "execution_count": 21,
   "id": "8f800e7c",
   "metadata": {
    "execution": {
     "iopub.execute_input": "2022-08-17T19:09:43.094691Z",
     "iopub.status.busy": "2022-08-17T19:09:43.093540Z",
     "iopub.status.idle": "2022-08-17T19:09:43.102686Z",
     "shell.execute_reply": "2022-08-17T19:09:43.101794Z"
    },
    "papermill": {
     "duration": 0.041336,
     "end_time": "2022-08-17T19:09:43.105382",
     "exception": false,
     "start_time": "2022-08-17T19:09:43.064046",
     "status": "completed"
    },
    "tags": []
   },
   "outputs": [],
   "source": [
    "train.drop('Utilities', axis=1, inplace=True)\n",
    "test.drop('Utilities', axis=1, inplace=True)"
   ]
  },
  {
   "cell_type": "markdown",
   "id": "4469dcfa",
   "metadata": {
    "papermill": {
     "duration": 0.028435,
     "end_time": "2022-08-17T19:09:43.163773",
     "exception": false,
     "start_time": "2022-08-17T19:09:43.135338",
     "status": "completed"
    },
    "tags": []
   },
   "source": [
    "### Functional\n",
    "data description says NA means typical\n"
   ]
  },
  {
   "cell_type": "code",
   "execution_count": 22,
   "id": "9d0582b9",
   "metadata": {
    "execution": {
     "iopub.execute_input": "2022-08-17T19:09:43.221436Z",
     "iopub.status.busy": "2022-08-17T19:09:43.220562Z",
     "iopub.status.idle": "2022-08-17T19:09:43.227264Z",
     "shell.execute_reply": "2022-08-17T19:09:43.225680Z"
    },
    "papermill": {
     "duration": 0.037796,
     "end_time": "2022-08-17T19:09:43.229587",
     "exception": false,
     "start_time": "2022-08-17T19:09:43.191791",
     "status": "completed"
    },
    "tags": []
   },
   "outputs": [],
   "source": [
    "test['Functional'].fillna('Typ', inplace=True)"
   ]
  },
  {
   "cell_type": "markdown",
   "id": "67adfd7c",
   "metadata": {
    "papermill": {
     "duration": 0.026734,
     "end_time": "2022-08-17T19:09:43.283314",
     "exception": false,
     "start_time": "2022-08-17T19:09:43.256580",
     "status": "completed"
    },
    "tags": []
   },
   "source": [
    "### Electrical, KitchenQual, Exterior1st, Exterior2nd, SaleType \n",
    "These have only several NA value. We can set the mode for the missing value."
   ]
  },
  {
   "cell_type": "code",
   "execution_count": 23,
   "id": "206f2c79",
   "metadata": {
    "execution": {
     "iopub.execute_input": "2022-08-17T19:09:43.339552Z",
     "iopub.status.busy": "2022-08-17T19:09:43.339006Z",
     "iopub.status.idle": "2022-08-17T19:09:43.357495Z",
     "shell.execute_reply": "2022-08-17T19:09:43.356036Z"
    },
    "papermill": {
     "duration": 0.05007,
     "end_time": "2022-08-17T19:09:43.360134",
     "exception": false,
     "start_time": "2022-08-17T19:09:43.310064",
     "status": "completed"
    },
    "tags": []
   },
   "outputs": [],
   "source": [
    "for feat in ['Electrical', 'KitchenQual', 'Exterior1st', 'Exterior2nd', 'SaleType']:\n",
    "    train[feat].fillna(train[feat].mode()[0], inplace=True)\n",
    "    test[feat].fillna(test[feat].mode()[0], inplace=True)"
   ]
  },
  {
   "cell_type": "markdown",
   "id": "67dba89f",
   "metadata": {
    "papermill": {
     "duration": 0.027595,
     "end_time": "2022-08-17T19:09:43.414826",
     "exception": false,
     "start_time": "2022-08-17T19:09:43.387231",
     "status": "completed"
    },
    "tags": []
   },
   "source": [
    "### MSSubClass\n",
    "Na most likely means No building class. We can replace missing values with None"
   ]
  },
  {
   "cell_type": "code",
   "execution_count": 24,
   "id": "74799c48",
   "metadata": {
    "execution": {
     "iopub.execute_input": "2022-08-17T19:09:43.471132Z",
     "iopub.status.busy": "2022-08-17T19:09:43.470630Z",
     "iopub.status.idle": "2022-08-17T19:09:43.477811Z",
     "shell.execute_reply": "2022-08-17T19:09:43.476336Z"
    },
    "papermill": {
     "duration": 0.03866,
     "end_time": "2022-08-17T19:09:43.480217",
     "exception": false,
     "start_time": "2022-08-17T19:09:43.441557",
     "status": "completed"
    },
    "tags": []
   },
   "outputs": [],
   "source": [
    "test['MSSubClass'].fillna('None', inplace=True)"
   ]
  },
  {
   "cell_type": "markdown",
   "id": "e71ec53e",
   "metadata": {
    "papermill": {
     "duration": 0.027021,
     "end_time": "2022-08-17T19:09:43.534094",
     "exception": false,
     "start_time": "2022-08-17T19:09:43.507073",
     "status": "completed"
    },
    "tags": []
   },
   "source": [
    "## Feature engineering"
   ]
  },
  {
   "cell_type": "code",
   "execution_count": 25,
   "id": "be3ca044",
   "metadata": {
    "execution": {
     "iopub.execute_input": "2022-08-17T19:09:43.590374Z",
     "iopub.status.busy": "2022-08-17T19:09:43.589835Z",
     "iopub.status.idle": "2022-08-17T19:09:43.691887Z",
     "shell.execute_reply": "2022-08-17T19:09:43.690604Z"
    },
    "papermill": {
     "duration": 0.134207,
     "end_time": "2022-08-17T19:09:43.695056",
     "exception": false,
     "start_time": "2022-08-17T19:09:43.560849",
     "status": "completed"
    },
    "tags": []
   },
   "outputs": [],
   "source": [
    "orders= {'ExterQual': ['Po', 'Fa','TA','Gd','Ex'], 'LotShape': ['Reg','IR1' ,'IR2','IR3'], \n",
    "         'BsmtQual': ['None', 'Po', 'Fa','TA','Gd','Ex'], 'BsmtCond': ['None','Po','Fa','TA','Gd','Ex'], \n",
    "         'BsmtExposure': ['None','No','Mn','Av','Gd'],'BsmtFinType1': ['None','Unf','LwQ', 'Rec','BLQ','ALQ', 'GLQ' ], \n",
    "         'BsmtFinType2': ['None','Unf','LwQ', 'Rec','BLQ','ALQ', 'GLQ' ], 'HeatingQC': ['Po','Fa','TA','Gd','Ex'],\n",
    "         'Functional': ['Sal', 'Sev','Maj2','Maj1','Mod','Min2','Min1','Typ'], \n",
    "         'FireplaceQu': ['None','Po','Fa','TA','Gd','Ex'], 'KitchenQual': ['Po', 'Fa','TA','Gd','Ex'], \n",
    "         'GarageFinish': ['None','Unf','RFn','Fin'], 'GarageQual': ['None','Po','Fa','TA','Gd','Ex'], \n",
    "         'GarageCond': ['None','Po','Fa','TA','Gd','Ex'], 'PoolQC': ['None','Fa', 'TA', 'Gd','Ex'], \n",
    "         'Fence': ['None','MnWw','GdWo','MnPrv','GdPrv']}\n",
    "\n",
    "for field, order in orders.items(): \n",
    "    ord_enc = OrdinalEncoder(categories=[order]) \n",
    "    train[field] = ord_enc.fit_transform(train[[field]])\n",
    "    test[field] = ord_enc.fit_transform(test[[field]])"
   ]
  },
  {
   "cell_type": "code",
   "execution_count": 26,
   "id": "0ec18913",
   "metadata": {
    "execution": {
     "iopub.execute_input": "2022-08-17T19:09:43.752703Z",
     "iopub.status.busy": "2022-08-17T19:09:43.752305Z",
     "iopub.status.idle": "2022-08-17T19:09:43.762515Z",
     "shell.execute_reply": "2022-08-17T19:09:43.761192Z"
    },
    "papermill": {
     "duration": 0.042423,
     "end_time": "2022-08-17T19:09:43.765225",
     "exception": false,
     "start_time": "2022-08-17T19:09:43.722802",
     "status": "completed"
    },
    "tags": []
   },
   "outputs": [],
   "source": [
    "for feat in ['MSSubClass', 'OverallCond', 'YrSold', 'MoSold']:\n",
    "    train[feat] = LabelEncoder().fit_transform(train[feat])\n",
    "    test[feat] = LabelEncoder().fit_transform(test[feat])"
   ]
  },
  {
   "cell_type": "code",
   "execution_count": 27,
   "id": "dd117cb2",
   "metadata": {
    "execution": {
     "iopub.execute_input": "2022-08-17T19:09:43.824111Z",
     "iopub.status.busy": "2022-08-17T19:09:43.823670Z",
     "iopub.status.idle": "2022-08-17T19:09:43.890541Z",
     "shell.execute_reply": "2022-08-17T19:09:43.889256Z"
    },
    "papermill": {
     "duration": 0.099795,
     "end_time": "2022-08-17T19:09:43.893620",
     "exception": false,
     "start_time": "2022-08-17T19:09:43.793825",
     "status": "completed"
    },
    "tags": []
   },
   "outputs": [
    {
     "data": {
      "text/html": [
       "<div>\n",
       "<style scoped>\n",
       "    .dataframe tbody tr th:only-of-type {\n",
       "        vertical-align: middle;\n",
       "    }\n",
       "\n",
       "    .dataframe tbody tr th {\n",
       "        vertical-align: top;\n",
       "    }\n",
       "\n",
       "    .dataframe thead th {\n",
       "        text-align: right;\n",
       "    }\n",
       "</style>\n",
       "<table border=\"1\" class=\"dataframe\">\n",
       "  <thead>\n",
       "    <tr style=\"text-align: right;\">\n",
       "      <th></th>\n",
       "      <th>Id</th>\n",
       "      <th>MSSubClass</th>\n",
       "      <th>MSZoning</th>\n",
       "      <th>LotFrontage</th>\n",
       "      <th>LotArea</th>\n",
       "      <th>Street</th>\n",
       "      <th>Alley</th>\n",
       "      <th>LotShape</th>\n",
       "      <th>LandContour</th>\n",
       "      <th>LotConfig</th>\n",
       "      <th>LandSlope</th>\n",
       "      <th>Neighborhood</th>\n",
       "      <th>Condition1</th>\n",
       "      <th>Condition2</th>\n",
       "      <th>BldgType</th>\n",
       "      <th>HouseStyle</th>\n",
       "      <th>OverallQual</th>\n",
       "      <th>OverallCond</th>\n",
       "      <th>YearBuilt</th>\n",
       "      <th>YearRemodAdd</th>\n",
       "      <th>RoofStyle</th>\n",
       "      <th>RoofMatl</th>\n",
       "      <th>Exterior1st</th>\n",
       "      <th>Exterior2nd</th>\n",
       "      <th>MasVnrType</th>\n",
       "      <th>MasVnrArea</th>\n",
       "      <th>ExterQual</th>\n",
       "      <th>ExterCond</th>\n",
       "      <th>Foundation</th>\n",
       "      <th>BsmtQual</th>\n",
       "      <th>BsmtCond</th>\n",
       "      <th>BsmtExposure</th>\n",
       "      <th>BsmtFinType1</th>\n",
       "      <th>BsmtFinSF1</th>\n",
       "      <th>BsmtFinType2</th>\n",
       "      <th>BsmtFinSF2</th>\n",
       "      <th>BsmtUnfSF</th>\n",
       "      <th>TotalBsmtSF</th>\n",
       "      <th>Heating</th>\n",
       "      <th>HeatingQC</th>\n",
       "      <th>CentralAir</th>\n",
       "      <th>Electrical</th>\n",
       "      <th>1stFlrSF</th>\n",
       "      <th>2ndFlrSF</th>\n",
       "      <th>LowQualFinSF</th>\n",
       "      <th>GrLivArea</th>\n",
       "      <th>BsmtFullBath</th>\n",
       "      <th>BsmtHalfBath</th>\n",
       "      <th>FullBath</th>\n",
       "      <th>HalfBath</th>\n",
       "      <th>BedroomAbvGr</th>\n",
       "      <th>KitchenAbvGr</th>\n",
       "      <th>KitchenQual</th>\n",
       "      <th>TotRmsAbvGrd</th>\n",
       "      <th>Functional</th>\n",
       "      <th>Fireplaces</th>\n",
       "      <th>FireplaceQu</th>\n",
       "      <th>GarageType</th>\n",
       "      <th>GarageYrBlt</th>\n",
       "      <th>GarageFinish</th>\n",
       "      <th>GarageCars</th>\n",
       "      <th>GarageArea</th>\n",
       "      <th>GarageQual</th>\n",
       "      <th>GarageCond</th>\n",
       "      <th>PavedDrive</th>\n",
       "      <th>WoodDeckSF</th>\n",
       "      <th>OpenPorchSF</th>\n",
       "      <th>EnclosedPorch</th>\n",
       "      <th>3SsnPorch</th>\n",
       "      <th>ScreenPorch</th>\n",
       "      <th>PoolArea</th>\n",
       "      <th>PoolQC</th>\n",
       "      <th>Fence</th>\n",
       "      <th>MiscFeature</th>\n",
       "      <th>MiscVal</th>\n",
       "      <th>MoSold</th>\n",
       "      <th>YrSold</th>\n",
       "      <th>SaleType</th>\n",
       "      <th>SaleCondition</th>\n",
       "      <th>SalePrice</th>\n",
       "    </tr>\n",
       "  </thead>\n",
       "  <tbody>\n",
       "    <tr>\n",
       "      <th>0</th>\n",
       "      <td>1</td>\n",
       "      <td>5</td>\n",
       "      <td>RL</td>\n",
       "      <td>65.0</td>\n",
       "      <td>8450</td>\n",
       "      <td>Pave</td>\n",
       "      <td>None</td>\n",
       "      <td>0.0</td>\n",
       "      <td>Lvl</td>\n",
       "      <td>Inside</td>\n",
       "      <td>Gtl</td>\n",
       "      <td>CollgCr</td>\n",
       "      <td>Norm</td>\n",
       "      <td>Norm</td>\n",
       "      <td>1Fam</td>\n",
       "      <td>2Story</td>\n",
       "      <td>7</td>\n",
       "      <td>4</td>\n",
       "      <td>2003</td>\n",
       "      <td>2003</td>\n",
       "      <td>Gable</td>\n",
       "      <td>CompShg</td>\n",
       "      <td>VinylSd</td>\n",
       "      <td>VinylSd</td>\n",
       "      <td>BrkFace</td>\n",
       "      <td>196.0</td>\n",
       "      <td>3.0</td>\n",
       "      <td>TA</td>\n",
       "      <td>PConc</td>\n",
       "      <td>4.0</td>\n",
       "      <td>3.0</td>\n",
       "      <td>1.0</td>\n",
       "      <td>6.0</td>\n",
       "      <td>706</td>\n",
       "      <td>1.0</td>\n",
       "      <td>0</td>\n",
       "      <td>150</td>\n",
       "      <td>856</td>\n",
       "      <td>GasA</td>\n",
       "      <td>4.0</td>\n",
       "      <td>Y</td>\n",
       "      <td>SBrkr</td>\n",
       "      <td>856</td>\n",
       "      <td>854</td>\n",
       "      <td>0</td>\n",
       "      <td>1710</td>\n",
       "      <td>1</td>\n",
       "      <td>0</td>\n",
       "      <td>2</td>\n",
       "      <td>1</td>\n",
       "      <td>3</td>\n",
       "      <td>1</td>\n",
       "      <td>3.0</td>\n",
       "      <td>8</td>\n",
       "      <td>7.0</td>\n",
       "      <td>0</td>\n",
       "      <td>0.0</td>\n",
       "      <td>Attchd</td>\n",
       "      <td>2003.0</td>\n",
       "      <td>2.0</td>\n",
       "      <td>2</td>\n",
       "      <td>548</td>\n",
       "      <td>3.0</td>\n",
       "      <td>3.0</td>\n",
       "      <td>Y</td>\n",
       "      <td>0</td>\n",
       "      <td>61</td>\n",
       "      <td>0</td>\n",
       "      <td>0</td>\n",
       "      <td>0</td>\n",
       "      <td>0</td>\n",
       "      <td>0.0</td>\n",
       "      <td>0.0</td>\n",
       "      <td>None</td>\n",
       "      <td>0</td>\n",
       "      <td>1</td>\n",
       "      <td>2</td>\n",
       "      <td>WD</td>\n",
       "      <td>Normal</td>\n",
       "      <td>208500</td>\n",
       "    </tr>\n",
       "    <tr>\n",
       "      <th>1</th>\n",
       "      <td>2</td>\n",
       "      <td>0</td>\n",
       "      <td>RL</td>\n",
       "      <td>80.0</td>\n",
       "      <td>9600</td>\n",
       "      <td>Pave</td>\n",
       "      <td>None</td>\n",
       "      <td>0.0</td>\n",
       "      <td>Lvl</td>\n",
       "      <td>FR2</td>\n",
       "      <td>Gtl</td>\n",
       "      <td>Veenker</td>\n",
       "      <td>Feedr</td>\n",
       "      <td>Norm</td>\n",
       "      <td>1Fam</td>\n",
       "      <td>1Story</td>\n",
       "      <td>6</td>\n",
       "      <td>7</td>\n",
       "      <td>1976</td>\n",
       "      <td>1976</td>\n",
       "      <td>Gable</td>\n",
       "      <td>CompShg</td>\n",
       "      <td>MetalSd</td>\n",
       "      <td>MetalSd</td>\n",
       "      <td>None</td>\n",
       "      <td>0.0</td>\n",
       "      <td>2.0</td>\n",
       "      <td>TA</td>\n",
       "      <td>CBlock</td>\n",
       "      <td>4.0</td>\n",
       "      <td>3.0</td>\n",
       "      <td>4.0</td>\n",
       "      <td>5.0</td>\n",
       "      <td>978</td>\n",
       "      <td>1.0</td>\n",
       "      <td>0</td>\n",
       "      <td>284</td>\n",
       "      <td>1262</td>\n",
       "      <td>GasA</td>\n",
       "      <td>4.0</td>\n",
       "      <td>Y</td>\n",
       "      <td>SBrkr</td>\n",
       "      <td>1262</td>\n",
       "      <td>0</td>\n",
       "      <td>0</td>\n",
       "      <td>1262</td>\n",
       "      <td>0</td>\n",
       "      <td>1</td>\n",
       "      <td>2</td>\n",
       "      <td>0</td>\n",
       "      <td>3</td>\n",
       "      <td>1</td>\n",
       "      <td>2.0</td>\n",
       "      <td>6</td>\n",
       "      <td>7.0</td>\n",
       "      <td>1</td>\n",
       "      <td>3.0</td>\n",
       "      <td>Attchd</td>\n",
       "      <td>1976.0</td>\n",
       "      <td>2.0</td>\n",
       "      <td>2</td>\n",
       "      <td>460</td>\n",
       "      <td>3.0</td>\n",
       "      <td>3.0</td>\n",
       "      <td>Y</td>\n",
       "      <td>298</td>\n",
       "      <td>0</td>\n",
       "      <td>0</td>\n",
       "      <td>0</td>\n",
       "      <td>0</td>\n",
       "      <td>0</td>\n",
       "      <td>0.0</td>\n",
       "      <td>0.0</td>\n",
       "      <td>None</td>\n",
       "      <td>0</td>\n",
       "      <td>4</td>\n",
       "      <td>1</td>\n",
       "      <td>WD</td>\n",
       "      <td>Normal</td>\n",
       "      <td>181500</td>\n",
       "    </tr>\n",
       "    <tr>\n",
       "      <th>2</th>\n",
       "      <td>3</td>\n",
       "      <td>5</td>\n",
       "      <td>RL</td>\n",
       "      <td>68.0</td>\n",
       "      <td>11250</td>\n",
       "      <td>Pave</td>\n",
       "      <td>None</td>\n",
       "      <td>1.0</td>\n",
       "      <td>Lvl</td>\n",
       "      <td>Inside</td>\n",
       "      <td>Gtl</td>\n",
       "      <td>CollgCr</td>\n",
       "      <td>Norm</td>\n",
       "      <td>Norm</td>\n",
       "      <td>1Fam</td>\n",
       "      <td>2Story</td>\n",
       "      <td>7</td>\n",
       "      <td>4</td>\n",
       "      <td>2001</td>\n",
       "      <td>2002</td>\n",
       "      <td>Gable</td>\n",
       "      <td>CompShg</td>\n",
       "      <td>VinylSd</td>\n",
       "      <td>VinylSd</td>\n",
       "      <td>BrkFace</td>\n",
       "      <td>162.0</td>\n",
       "      <td>3.0</td>\n",
       "      <td>TA</td>\n",
       "      <td>PConc</td>\n",
       "      <td>4.0</td>\n",
       "      <td>3.0</td>\n",
       "      <td>2.0</td>\n",
       "      <td>6.0</td>\n",
       "      <td>486</td>\n",
       "      <td>1.0</td>\n",
       "      <td>0</td>\n",
       "      <td>434</td>\n",
       "      <td>920</td>\n",
       "      <td>GasA</td>\n",
       "      <td>4.0</td>\n",
       "      <td>Y</td>\n",
       "      <td>SBrkr</td>\n",
       "      <td>920</td>\n",
       "      <td>866</td>\n",
       "      <td>0</td>\n",
       "      <td>1786</td>\n",
       "      <td>1</td>\n",
       "      <td>0</td>\n",
       "      <td>2</td>\n",
       "      <td>1</td>\n",
       "      <td>3</td>\n",
       "      <td>1</td>\n",
       "      <td>3.0</td>\n",
       "      <td>6</td>\n",
       "      <td>7.0</td>\n",
       "      <td>1</td>\n",
       "      <td>3.0</td>\n",
       "      <td>Attchd</td>\n",
       "      <td>2001.0</td>\n",
       "      <td>2.0</td>\n",
       "      <td>2</td>\n",
       "      <td>608</td>\n",
       "      <td>3.0</td>\n",
       "      <td>3.0</td>\n",
       "      <td>Y</td>\n",
       "      <td>0</td>\n",
       "      <td>42</td>\n",
       "      <td>0</td>\n",
       "      <td>0</td>\n",
       "      <td>0</td>\n",
       "      <td>0</td>\n",
       "      <td>0.0</td>\n",
       "      <td>0.0</td>\n",
       "      <td>None</td>\n",
       "      <td>0</td>\n",
       "      <td>8</td>\n",
       "      <td>2</td>\n",
       "      <td>WD</td>\n",
       "      <td>Normal</td>\n",
       "      <td>223500</td>\n",
       "    </tr>\n",
       "    <tr>\n",
       "      <th>3</th>\n",
       "      <td>4</td>\n",
       "      <td>6</td>\n",
       "      <td>RL</td>\n",
       "      <td>60.0</td>\n",
       "      <td>9550</td>\n",
       "      <td>Pave</td>\n",
       "      <td>None</td>\n",
       "      <td>1.0</td>\n",
       "      <td>Lvl</td>\n",
       "      <td>Corner</td>\n",
       "      <td>Gtl</td>\n",
       "      <td>Crawfor</td>\n",
       "      <td>Norm</td>\n",
       "      <td>Norm</td>\n",
       "      <td>1Fam</td>\n",
       "      <td>2Story</td>\n",
       "      <td>7</td>\n",
       "      <td>4</td>\n",
       "      <td>1915</td>\n",
       "      <td>1970</td>\n",
       "      <td>Gable</td>\n",
       "      <td>CompShg</td>\n",
       "      <td>Wd Sdng</td>\n",
       "      <td>Wd Shng</td>\n",
       "      <td>None</td>\n",
       "      <td>0.0</td>\n",
       "      <td>2.0</td>\n",
       "      <td>TA</td>\n",
       "      <td>BrkTil</td>\n",
       "      <td>3.0</td>\n",
       "      <td>4.0</td>\n",
       "      <td>1.0</td>\n",
       "      <td>5.0</td>\n",
       "      <td>216</td>\n",
       "      <td>1.0</td>\n",
       "      <td>0</td>\n",
       "      <td>540</td>\n",
       "      <td>756</td>\n",
       "      <td>GasA</td>\n",
       "      <td>3.0</td>\n",
       "      <td>Y</td>\n",
       "      <td>SBrkr</td>\n",
       "      <td>961</td>\n",
       "      <td>756</td>\n",
       "      <td>0</td>\n",
       "      <td>1717</td>\n",
       "      <td>1</td>\n",
       "      <td>0</td>\n",
       "      <td>1</td>\n",
       "      <td>0</td>\n",
       "      <td>3</td>\n",
       "      <td>1</td>\n",
       "      <td>3.0</td>\n",
       "      <td>7</td>\n",
       "      <td>7.0</td>\n",
       "      <td>1</td>\n",
       "      <td>4.0</td>\n",
       "      <td>Detchd</td>\n",
       "      <td>1998.0</td>\n",
       "      <td>1.0</td>\n",
       "      <td>3</td>\n",
       "      <td>642</td>\n",
       "      <td>3.0</td>\n",
       "      <td>3.0</td>\n",
       "      <td>Y</td>\n",
       "      <td>0</td>\n",
       "      <td>35</td>\n",
       "      <td>272</td>\n",
       "      <td>0</td>\n",
       "      <td>0</td>\n",
       "      <td>0</td>\n",
       "      <td>0.0</td>\n",
       "      <td>0.0</td>\n",
       "      <td>None</td>\n",
       "      <td>0</td>\n",
       "      <td>1</td>\n",
       "      <td>0</td>\n",
       "      <td>WD</td>\n",
       "      <td>Abnorml</td>\n",
       "      <td>140000</td>\n",
       "    </tr>\n",
       "    <tr>\n",
       "      <th>4</th>\n",
       "      <td>5</td>\n",
       "      <td>5</td>\n",
       "      <td>RL</td>\n",
       "      <td>84.0</td>\n",
       "      <td>14260</td>\n",
       "      <td>Pave</td>\n",
       "      <td>None</td>\n",
       "      <td>1.0</td>\n",
       "      <td>Lvl</td>\n",
       "      <td>FR2</td>\n",
       "      <td>Gtl</td>\n",
       "      <td>NoRidge</td>\n",
       "      <td>Norm</td>\n",
       "      <td>Norm</td>\n",
       "      <td>1Fam</td>\n",
       "      <td>2Story</td>\n",
       "      <td>8</td>\n",
       "      <td>4</td>\n",
       "      <td>2000</td>\n",
       "      <td>2000</td>\n",
       "      <td>Gable</td>\n",
       "      <td>CompShg</td>\n",
       "      <td>VinylSd</td>\n",
       "      <td>VinylSd</td>\n",
       "      <td>BrkFace</td>\n",
       "      <td>350.0</td>\n",
       "      <td>3.0</td>\n",
       "      <td>TA</td>\n",
       "      <td>PConc</td>\n",
       "      <td>4.0</td>\n",
       "      <td>3.0</td>\n",
       "      <td>3.0</td>\n",
       "      <td>6.0</td>\n",
       "      <td>655</td>\n",
       "      <td>1.0</td>\n",
       "      <td>0</td>\n",
       "      <td>490</td>\n",
       "      <td>1145</td>\n",
       "      <td>GasA</td>\n",
       "      <td>4.0</td>\n",
       "      <td>Y</td>\n",
       "      <td>SBrkr</td>\n",
       "      <td>1145</td>\n",
       "      <td>1053</td>\n",
       "      <td>0</td>\n",
       "      <td>2198</td>\n",
       "      <td>1</td>\n",
       "      <td>0</td>\n",
       "      <td>2</td>\n",
       "      <td>1</td>\n",
       "      <td>4</td>\n",
       "      <td>1</td>\n",
       "      <td>3.0</td>\n",
       "      <td>9</td>\n",
       "      <td>7.0</td>\n",
       "      <td>1</td>\n",
       "      <td>3.0</td>\n",
       "      <td>Attchd</td>\n",
       "      <td>2000.0</td>\n",
       "      <td>2.0</td>\n",
       "      <td>3</td>\n",
       "      <td>836</td>\n",
       "      <td>3.0</td>\n",
       "      <td>3.0</td>\n",
       "      <td>Y</td>\n",
       "      <td>192</td>\n",
       "      <td>84</td>\n",
       "      <td>0</td>\n",
       "      <td>0</td>\n",
       "      <td>0</td>\n",
       "      <td>0</td>\n",
       "      <td>0.0</td>\n",
       "      <td>0.0</td>\n",
       "      <td>None</td>\n",
       "      <td>0</td>\n",
       "      <td>11</td>\n",
       "      <td>2</td>\n",
       "      <td>WD</td>\n",
       "      <td>Normal</td>\n",
       "      <td>250000</td>\n",
       "    </tr>\n",
       "  </tbody>\n",
       "</table>\n",
       "</div>"
      ],
      "text/plain": [
       "   Id  MSSubClass MSZoning  LotFrontage  LotArea Street Alley  LotShape  \\\n",
       "0   1           5       RL         65.0     8450   Pave  None       0.0   \n",
       "1   2           0       RL         80.0     9600   Pave  None       0.0   \n",
       "2   3           5       RL         68.0    11250   Pave  None       1.0   \n",
       "3   4           6       RL         60.0     9550   Pave  None       1.0   \n",
       "4   5           5       RL         84.0    14260   Pave  None       1.0   \n",
       "\n",
       "  LandContour LotConfig LandSlope Neighborhood Condition1 Condition2 BldgType  \\\n",
       "0         Lvl    Inside       Gtl      CollgCr       Norm       Norm     1Fam   \n",
       "1         Lvl       FR2       Gtl      Veenker      Feedr       Norm     1Fam   \n",
       "2         Lvl    Inside       Gtl      CollgCr       Norm       Norm     1Fam   \n",
       "3         Lvl    Corner       Gtl      Crawfor       Norm       Norm     1Fam   \n",
       "4         Lvl       FR2       Gtl      NoRidge       Norm       Norm     1Fam   \n",
       "\n",
       "  HouseStyle  OverallQual  OverallCond  YearBuilt  YearRemodAdd RoofStyle  \\\n",
       "0     2Story            7            4       2003          2003     Gable   \n",
       "1     1Story            6            7       1976          1976     Gable   \n",
       "2     2Story            7            4       2001          2002     Gable   \n",
       "3     2Story            7            4       1915          1970     Gable   \n",
       "4     2Story            8            4       2000          2000     Gable   \n",
       "\n",
       "  RoofMatl Exterior1st Exterior2nd MasVnrType  MasVnrArea  ExterQual  \\\n",
       "0  CompShg     VinylSd     VinylSd    BrkFace       196.0        3.0   \n",
       "1  CompShg     MetalSd     MetalSd       None         0.0        2.0   \n",
       "2  CompShg     VinylSd     VinylSd    BrkFace       162.0        3.0   \n",
       "3  CompShg     Wd Sdng     Wd Shng       None         0.0        2.0   \n",
       "4  CompShg     VinylSd     VinylSd    BrkFace       350.0        3.0   \n",
       "\n",
       "  ExterCond Foundation  BsmtQual  BsmtCond  BsmtExposure  BsmtFinType1  \\\n",
       "0        TA      PConc       4.0       3.0           1.0           6.0   \n",
       "1        TA     CBlock       4.0       3.0           4.0           5.0   \n",
       "2        TA      PConc       4.0       3.0           2.0           6.0   \n",
       "3        TA     BrkTil       3.0       4.0           1.0           5.0   \n",
       "4        TA      PConc       4.0       3.0           3.0           6.0   \n",
       "\n",
       "   BsmtFinSF1  BsmtFinType2  BsmtFinSF2  BsmtUnfSF  TotalBsmtSF Heating  \\\n",
       "0         706           1.0           0        150          856    GasA   \n",
       "1         978           1.0           0        284         1262    GasA   \n",
       "2         486           1.0           0        434          920    GasA   \n",
       "3         216           1.0           0        540          756    GasA   \n",
       "4         655           1.0           0        490         1145    GasA   \n",
       "\n",
       "   HeatingQC CentralAir Electrical  1stFlrSF  2ndFlrSF  LowQualFinSF  \\\n",
       "0        4.0          Y      SBrkr       856       854             0   \n",
       "1        4.0          Y      SBrkr      1262         0             0   \n",
       "2        4.0          Y      SBrkr       920       866             0   \n",
       "3        3.0          Y      SBrkr       961       756             0   \n",
       "4        4.0          Y      SBrkr      1145      1053             0   \n",
       "\n",
       "   GrLivArea  BsmtFullBath  BsmtHalfBath  FullBath  HalfBath  BedroomAbvGr  \\\n",
       "0       1710             1             0         2         1             3   \n",
       "1       1262             0             1         2         0             3   \n",
       "2       1786             1             0         2         1             3   \n",
       "3       1717             1             0         1         0             3   \n",
       "4       2198             1             0         2         1             4   \n",
       "\n",
       "   KitchenAbvGr  KitchenQual  TotRmsAbvGrd  Functional  Fireplaces  \\\n",
       "0             1          3.0             8         7.0           0   \n",
       "1             1          2.0             6         7.0           1   \n",
       "2             1          3.0             6         7.0           1   \n",
       "3             1          3.0             7         7.0           1   \n",
       "4             1          3.0             9         7.0           1   \n",
       "\n",
       "   FireplaceQu GarageType  GarageYrBlt  GarageFinish  GarageCars  GarageArea  \\\n",
       "0          0.0     Attchd       2003.0           2.0           2         548   \n",
       "1          3.0     Attchd       1976.0           2.0           2         460   \n",
       "2          3.0     Attchd       2001.0           2.0           2         608   \n",
       "3          4.0     Detchd       1998.0           1.0           3         642   \n",
       "4          3.0     Attchd       2000.0           2.0           3         836   \n",
       "\n",
       "   GarageQual  GarageCond PavedDrive  WoodDeckSF  OpenPorchSF  EnclosedPorch  \\\n",
       "0         3.0         3.0          Y           0           61              0   \n",
       "1         3.0         3.0          Y         298            0              0   \n",
       "2         3.0         3.0          Y           0           42              0   \n",
       "3         3.0         3.0          Y           0           35            272   \n",
       "4         3.0         3.0          Y         192           84              0   \n",
       "\n",
       "   3SsnPorch  ScreenPorch  PoolArea  PoolQC  Fence MiscFeature  MiscVal  \\\n",
       "0          0            0         0     0.0    0.0        None        0   \n",
       "1          0            0         0     0.0    0.0        None        0   \n",
       "2          0            0         0     0.0    0.0        None        0   \n",
       "3          0            0         0     0.0    0.0        None        0   \n",
       "4          0            0         0     0.0    0.0        None        0   \n",
       "\n",
       "   MoSold  YrSold SaleType SaleCondition  SalePrice  \n",
       "0       1       2       WD        Normal     208500  \n",
       "1       4       1       WD        Normal     181500  \n",
       "2       8       2       WD        Normal     223500  \n",
       "3       1       0       WD       Abnorml     140000  \n",
       "4      11       2       WD        Normal     250000  "
      ]
     },
     "execution_count": 27,
     "metadata": {},
     "output_type": "execute_result"
    }
   ],
   "source": [
    "train.head()"
   ]
  },
  {
   "cell_type": "markdown",
   "id": "f249d184",
   "metadata": {
    "papermill": {
     "duration": 0.028468,
     "end_time": "2022-08-17T19:09:43.950968",
     "exception": false,
     "start_time": "2022-08-17T19:09:43.922500",
     "status": "completed"
    },
    "tags": []
   },
   "source": [
    "## Outliers"
   ]
  },
  {
   "cell_type": "code",
   "execution_count": 28,
   "id": "a538170a",
   "metadata": {
    "execution": {
     "iopub.execute_input": "2022-08-17T19:09:44.013834Z",
     "iopub.status.busy": "2022-08-17T19:09:44.013331Z",
     "iopub.status.idle": "2022-08-17T19:09:44.021011Z",
     "shell.execute_reply": "2022-08-17T19:09:44.019926Z"
    },
    "papermill": {
     "duration": 0.041842,
     "end_time": "2022-08-17T19:09:44.023513",
     "exception": false,
     "start_time": "2022-08-17T19:09:43.981671",
     "status": "completed"
    },
    "tags": []
   },
   "outputs": [],
   "source": [
    "def compute_skew(df):\n",
    "    numeric_feats = df.dtypes[df.dtypes != 'object'].index\n",
    "\n",
    "    # Check the skew of all numerical features\n",
    "    skewed_feats = df[numeric_feats].apply(lambda x: skew(x)).sort_values(ascending=False)\n",
    "    print(\"\\nSkew in numerical features: \\n\")\n",
    "    skewness = pd.DataFrame({'Skew': skewed_feats})\n",
    "    return skewness"
   ]
  },
  {
   "cell_type": "code",
   "execution_count": 29,
   "id": "8e61a61a",
   "metadata": {
    "execution": {
     "iopub.execute_input": "2022-08-17T19:09:44.083003Z",
     "iopub.status.busy": "2022-08-17T19:09:44.081597Z",
     "iopub.status.idle": "2022-08-17T19:09:44.110269Z",
     "shell.execute_reply": "2022-08-17T19:09:44.108725Z"
    },
    "papermill": {
     "duration": 0.061579,
     "end_time": "2022-08-17T19:09:44.113002",
     "exception": false,
     "start_time": "2022-08-17T19:09:44.051423",
     "status": "completed"
    },
    "tags": []
   },
   "outputs": [
    {
     "name": "stdout",
     "output_type": "stream",
     "text": [
      "\n",
      "Skew in numerical features: \n",
      "\n"
     ]
    },
    {
     "data": {
      "text/html": [
       "<div>\n",
       "<style scoped>\n",
       "    .dataframe tbody tr th:only-of-type {\n",
       "        vertical-align: middle;\n",
       "    }\n",
       "\n",
       "    .dataframe tbody tr th {\n",
       "        vertical-align: top;\n",
       "    }\n",
       "\n",
       "    .dataframe thead th {\n",
       "        text-align: right;\n",
       "    }\n",
       "</style>\n",
       "<table border=\"1\" class=\"dataframe\">\n",
       "  <thead>\n",
       "    <tr style=\"text-align: right;\">\n",
       "      <th></th>\n",
       "      <th>Skew</th>\n",
       "    </tr>\n",
       "  </thead>\n",
       "  <tbody>\n",
       "    <tr>\n",
       "      <th>MiscVal</th>\n",
       "      <td>24.451640</td>\n",
       "    </tr>\n",
       "    <tr>\n",
       "      <th>PoolQC</th>\n",
       "      <td>16.834252</td>\n",
       "    </tr>\n",
       "    <tr>\n",
       "      <th>PoolArea</th>\n",
       "      <td>14.813135</td>\n",
       "    </tr>\n",
       "    <tr>\n",
       "      <th>LotArea</th>\n",
       "      <td>12.195142</td>\n",
       "    </tr>\n",
       "    <tr>\n",
       "      <th>3SsnPorch</th>\n",
       "      <td>10.293752</td>\n",
       "    </tr>\n",
       "    <tr>\n",
       "      <th>LowQualFinSF</th>\n",
       "      <td>9.002080</td>\n",
       "    </tr>\n",
       "    <tr>\n",
       "      <th>KitchenAbvGr</th>\n",
       "      <td>4.483784</td>\n",
       "    </tr>\n",
       "    <tr>\n",
       "      <th>BsmtFinSF2</th>\n",
       "      <td>4.250888</td>\n",
       "    </tr>\n",
       "    <tr>\n",
       "      <th>ScreenPorch</th>\n",
       "      <td>4.117977</td>\n",
       "    </tr>\n",
       "    <tr>\n",
       "      <th>BsmtHalfBath</th>\n",
       "      <td>4.099186</td>\n",
       "    </tr>\n",
       "  </tbody>\n",
       "</table>\n",
       "</div>"
      ],
      "text/plain": [
       "                   Skew\n",
       "MiscVal       24.451640\n",
       "PoolQC        16.834252\n",
       "PoolArea      14.813135\n",
       "LotArea       12.195142\n",
       "3SsnPorch     10.293752\n",
       "LowQualFinSF   9.002080\n",
       "KitchenAbvGr   4.483784\n",
       "BsmtFinSF2     4.250888\n",
       "ScreenPorch    4.117977\n",
       "BsmtHalfBath   4.099186"
      ]
     },
     "execution_count": 29,
     "metadata": {},
     "output_type": "execute_result"
    }
   ],
   "source": [
    "skewness = compute_skew(train)\n",
    "skewness.head(10)"
   ]
  },
  {
   "cell_type": "code",
   "execution_count": 30,
   "id": "d4c75899",
   "metadata": {
    "execution": {
     "iopub.execute_input": "2022-08-17T19:09:44.170811Z",
     "iopub.status.busy": "2022-08-17T19:09:44.170302Z",
     "iopub.status.idle": "2022-08-17T19:09:44.209085Z",
     "shell.execute_reply": "2022-08-17T19:09:44.206852Z"
    },
    "papermill": {
     "duration": 0.071699,
     "end_time": "2022-08-17T19:09:44.212280",
     "exception": false,
     "start_time": "2022-08-17T19:09:44.140581",
     "status": "completed"
    },
    "tags": []
   },
   "outputs": [
    {
     "name": "stdout",
     "output_type": "stream",
     "text": [
      "There are 33 skewed numerical features to Box Cox transform\n"
     ]
    }
   ],
   "source": [
    "skewness = skewness[abs(skewness.Skew) > 0.75]\n",
    "print(f\"There are {skewness.shape[0]} skewed numerical features to Box Cox transform\")\n",
    "\n",
    "skewed_features = skewness.index\n",
    "lam = 0.15\n",
    "for feat in skewed_features:\n",
    "    if feat != 'Id':\n",
    "        if feat == \"SalePrice\":\n",
    "            train[feat] = np.log1p(train[feat])\n",
    "        else:\n",
    "            train[feat] = boxcox1p(train[feat], lam)\n",
    "            test[feat] = boxcox1p(test[feat], lam)\n",
    "        "
   ]
  },
  {
   "cell_type": "markdown",
   "id": "df6fa26e",
   "metadata": {
    "papermill": {
     "duration": 0.029167,
     "end_time": "2022-08-17T19:09:44.271433",
     "exception": false,
     "start_time": "2022-08-17T19:09:44.242266",
     "status": "completed"
    },
    "tags": []
   },
   "source": [
    "### GrLivArea"
   ]
  },
  {
   "cell_type": "code",
   "execution_count": 31,
   "id": "fc204e3f",
   "metadata": {
    "execution": {
     "iopub.execute_input": "2022-08-17T19:09:44.331761Z",
     "iopub.status.busy": "2022-08-17T19:09:44.331263Z",
     "iopub.status.idle": "2022-08-17T19:09:44.655790Z",
     "shell.execute_reply": "2022-08-17T19:09:44.654327Z"
    },
    "papermill": {
     "duration": 0.358957,
     "end_time": "2022-08-17T19:09:44.659407",
     "exception": false,
     "start_time": "2022-08-17T19:09:44.300450",
     "status": "completed"
    },
    "tags": []
   },
   "outputs": [
    {
     "data": {
      "text/plain": [
       "<AxesSubplot:xlabel='GrLivArea', ylabel='SalePrice'>"
      ]
     },
     "execution_count": 31,
     "metadata": {},
     "output_type": "execute_result"
    },
    {
     "data": {
      "image/png": "[encoded data removed]",
      "text/plain": [
       "<Figure size 1080x432 with 1 Axes>"
      ]
     },
     "metadata": {},
     "output_type": "display_data"
    }
   ],
   "source": [
    "sns.scatterplot(data=train, x='GrLivArea', y='SalePrice')"
   ]
  },
  {
   "cell_type": "code",
   "execution_count": 32,
   "id": "5cc21489",
   "metadata": {
    "execution": {
     "iopub.execute_input": "2022-08-17T19:09:44.723037Z",
     "iopub.status.busy": "2022-08-17T19:09:44.721822Z",
     "iopub.status.idle": "2022-08-17T19:09:44.779096Z",
     "shell.execute_reply": "2022-08-17T19:09:44.778212Z"
    },
    "papermill": {
     "duration": 0.092009,
     "end_time": "2022-08-17T19:09:44.781649",
     "exception": false,
     "start_time": "2022-08-17T19:09:44.689640",
     "status": "completed"
    },
    "tags": []
   },
   "outputs": [
    {
     "data": {
      "text/html": [
       "<div>\n",
       "<style scoped>\n",
       "    .dataframe tbody tr th:only-of-type {\n",
       "        vertical-align: middle;\n",
       "    }\n",
       "\n",
       "    .dataframe tbody tr th {\n",
       "        vertical-align: top;\n",
       "    }\n",
       "\n",
       "    .dataframe thead th {\n",
       "        text-align: right;\n",
       "    }\n",
       "</style>\n",
       "<table border=\"1\" class=\"dataframe\">\n",
       "  <thead>\n",
       "    <tr style=\"text-align: right;\">\n",
       "      <th></th>\n",
       "      <th>Id</th>\n",
       "      <th>MSSubClass</th>\n",
       "      <th>MSZoning</th>\n",
       "      <th>LotFrontage</th>\n",
       "      <th>LotArea</th>\n",
       "      <th>Street</th>\n",
       "      <th>Alley</th>\n",
       "      <th>LotShape</th>\n",
       "      <th>LandContour</th>\n",
       "      <th>LotConfig</th>\n",
       "      <th>LandSlope</th>\n",
       "      <th>Neighborhood</th>\n",
       "      <th>Condition1</th>\n",
       "      <th>Condition2</th>\n",
       "      <th>BldgType</th>\n",
       "      <th>HouseStyle</th>\n",
       "      <th>OverallQual</th>\n",
       "      <th>OverallCond</th>\n",
       "      <th>YearBuilt</th>\n",
       "      <th>YearRemodAdd</th>\n",
       "      <th>RoofStyle</th>\n",
       "      <th>RoofMatl</th>\n",
       "      <th>Exterior1st</th>\n",
       "      <th>Exterior2nd</th>\n",
       "      <th>MasVnrType</th>\n",
       "      <th>MasVnrArea</th>\n",
       "      <th>ExterQual</th>\n",
       "      <th>ExterCond</th>\n",
       "      <th>Foundation</th>\n",
       "      <th>BsmtQual</th>\n",
       "      <th>BsmtCond</th>\n",
       "      <th>BsmtExposure</th>\n",
       "      <th>BsmtFinType1</th>\n",
       "      <th>BsmtFinSF1</th>\n",
       "      <th>BsmtFinType2</th>\n",
       "      <th>BsmtFinSF2</th>\n",
       "      <th>BsmtUnfSF</th>\n",
       "      <th>TotalBsmtSF</th>\n",
       "      <th>Heating</th>\n",
       "      <th>HeatingQC</th>\n",
       "      <th>CentralAir</th>\n",
       "      <th>Electrical</th>\n",
       "      <th>1stFlrSF</th>\n",
       "      <th>2ndFlrSF</th>\n",
       "      <th>LowQualFinSF</th>\n",
       "      <th>GrLivArea</th>\n",
       "      <th>BsmtFullBath</th>\n",
       "      <th>BsmtHalfBath</th>\n",
       "      <th>FullBath</th>\n",
       "      <th>HalfBath</th>\n",
       "      <th>BedroomAbvGr</th>\n",
       "      <th>KitchenAbvGr</th>\n",
       "      <th>KitchenQual</th>\n",
       "      <th>TotRmsAbvGrd</th>\n",
       "      <th>Functional</th>\n",
       "      <th>Fireplaces</th>\n",
       "      <th>FireplaceQu</th>\n",
       "      <th>GarageType</th>\n",
       "      <th>GarageYrBlt</th>\n",
       "      <th>GarageFinish</th>\n",
       "      <th>GarageCars</th>\n",
       "      <th>GarageArea</th>\n",
       "      <th>GarageQual</th>\n",
       "      <th>GarageCond</th>\n",
       "      <th>PavedDrive</th>\n",
       "      <th>WoodDeckSF</th>\n",
       "      <th>OpenPorchSF</th>\n",
       "      <th>EnclosedPorch</th>\n",
       "      <th>3SsnPorch</th>\n",
       "      <th>ScreenPorch</th>\n",
       "      <th>PoolArea</th>\n",
       "      <th>PoolQC</th>\n",
       "      <th>Fence</th>\n",
       "      <th>MiscFeature</th>\n",
       "      <th>MiscVal</th>\n",
       "      <th>MoSold</th>\n",
       "      <th>YrSold</th>\n",
       "      <th>SaleType</th>\n",
       "      <th>SaleCondition</th>\n",
       "      <th>SalePrice</th>\n",
       "    </tr>\n",
       "  </thead>\n",
       "  <tbody>\n",
       "    <tr>\n",
       "      <th>1298</th>\n",
       "      <td>1299</td>\n",
       "      <td>5</td>\n",
       "      <td>RL</td>\n",
       "      <td>9.125735</td>\n",
       "      <td>28.386046</td>\n",
       "      <td>Pave</td>\n",
       "      <td>None</td>\n",
       "      <td>1.540963</td>\n",
       "      <td>Bnk</td>\n",
       "      <td>Corner</td>\n",
       "      <td>Gtl</td>\n",
       "      <td>Edwards</td>\n",
       "      <td>Feedr</td>\n",
       "      <td>Norm</td>\n",
       "      <td>1Fam</td>\n",
       "      <td>2Story</td>\n",
       "      <td>10</td>\n",
       "      <td>4</td>\n",
       "      <td>2008</td>\n",
       "      <td>2008</td>\n",
       "      <td>Hip</td>\n",
       "      <td>ClyTile</td>\n",
       "      <td>Stucco</td>\n",
       "      <td>Stucco</td>\n",
       "      <td>Stone</td>\n",
       "      <td>11.493820</td>\n",
       "      <td>1.820334</td>\n",
       "      <td>TA</td>\n",
       "      <td>PConc</td>\n",
       "      <td>2.055642</td>\n",
       "      <td>1.540963</td>\n",
       "      <td>1.820334</td>\n",
       "      <td>6.0</td>\n",
       "      <td>17.69227</td>\n",
       "      <td>0.730463</td>\n",
       "      <td>0.0</td>\n",
       "      <td>10.094578</td>\n",
       "      <td>17.983825</td>\n",
       "      <td>GasA</td>\n",
       "      <td>4.0</td>\n",
       "      <td>Y</td>\n",
       "      <td>SBrkr</td>\n",
       "      <td>17.026675</td>\n",
       "      <td>11.981486</td>\n",
       "      <td>0.0</td>\n",
       "      <td>17.690976</td>\n",
       "      <td>2</td>\n",
       "      <td>0.0</td>\n",
       "      <td>2</td>\n",
       "      <td>1</td>\n",
       "      <td>3</td>\n",
       "      <td>0.730463</td>\n",
       "      <td>4.0</td>\n",
       "      <td>12</td>\n",
       "      <td>2.440268</td>\n",
       "      <td>3</td>\n",
       "      <td>4.0</td>\n",
       "      <td>Attchd</td>\n",
       "      <td>14.195323</td>\n",
       "      <td>3.0</td>\n",
       "      <td>2</td>\n",
       "      <td>1418</td>\n",
       "      <td>1.540963</td>\n",
       "      <td>1.540963</td>\n",
       "      <td>Y</td>\n",
       "      <td>8.253529</td>\n",
       "      <td>8.962610</td>\n",
       "      <td>0.0</td>\n",
       "      <td>0.0</td>\n",
       "      <td>0.0</td>\n",
       "      <td>10.169007</td>\n",
       "      <td>1.540963</td>\n",
       "      <td>0.0</td>\n",
       "      <td>None</td>\n",
       "      <td>0.0</td>\n",
       "      <td>0</td>\n",
       "      <td>2</td>\n",
       "      <td>New</td>\n",
       "      <td>Partial</td>\n",
       "      <td>11.982935</td>\n",
       "    </tr>\n",
       "    <tr>\n",
       "      <th>523</th>\n",
       "      <td>524</td>\n",
       "      <td>5</td>\n",
       "      <td>RL</td>\n",
       "      <td>7.184917</td>\n",
       "      <td>26.020123</td>\n",
       "      <td>Pave</td>\n",
       "      <td>None</td>\n",
       "      <td>0.730463</td>\n",
       "      <td>Bnk</td>\n",
       "      <td>Inside</td>\n",
       "      <td>Gtl</td>\n",
       "      <td>Edwards</td>\n",
       "      <td>PosN</td>\n",
       "      <td>PosN</td>\n",
       "      <td>1Fam</td>\n",
       "      <td>2Story</td>\n",
       "      <td>10</td>\n",
       "      <td>4</td>\n",
       "      <td>2007</td>\n",
       "      <td>2008</td>\n",
       "      <td>Hip</td>\n",
       "      <td>CompShg</td>\n",
       "      <td>CemntBd</td>\n",
       "      <td>CmentBd</td>\n",
       "      <td>Stone</td>\n",
       "      <td>11.375447</td>\n",
       "      <td>1.820334</td>\n",
       "      <td>TA</td>\n",
       "      <td>PConc</td>\n",
       "      <td>2.055642</td>\n",
       "      <td>1.540963</td>\n",
       "      <td>1.820334</td>\n",
       "      <td>6.0</td>\n",
       "      <td>14.56841</td>\n",
       "      <td>0.730463</td>\n",
       "      <td>0.0</td>\n",
       "      <td>11.762558</td>\n",
       "      <td>15.639628</td>\n",
       "      <td>GasA</td>\n",
       "      <td>4.0</td>\n",
       "      <td>Y</td>\n",
       "      <td>SBrkr</td>\n",
       "      <td>15.639628</td>\n",
       "      <td>13.377801</td>\n",
       "      <td>0.0</td>\n",
       "      <td>17.014541</td>\n",
       "      <td>1</td>\n",
       "      <td>0.0</td>\n",
       "      <td>3</td>\n",
       "      <td>1</td>\n",
       "      <td>3</td>\n",
       "      <td>0.730463</td>\n",
       "      <td>4.0</td>\n",
       "      <td>11</td>\n",
       "      <td>2.440268</td>\n",
       "      <td>1</td>\n",
       "      <td>4.0</td>\n",
       "      <td>BuiltIn</td>\n",
       "      <td>14.193765</td>\n",
       "      <td>3.0</td>\n",
       "      <td>3</td>\n",
       "      <td>884</td>\n",
       "      <td>1.540963</td>\n",
       "      <td>1.540963</td>\n",
       "      <td>Y</td>\n",
       "      <td>8.190318</td>\n",
       "      <td>9.752379</td>\n",
       "      <td>0.0</td>\n",
       "      <td>0.0</td>\n",
       "      <td>0.0</td>\n",
       "      <td>0.000000</td>\n",
       "      <td>0.000000</td>\n",
       "      <td>0.0</td>\n",
       "      <td>None</td>\n",
       "      <td>0.0</td>\n",
       "      <td>9</td>\n",
       "      <td>1</td>\n",
       "      <td>New</td>\n",
       "      <td>Partial</td>\n",
       "      <td>12.126764</td>\n",
       "    </tr>\n",
       "  </tbody>\n",
       "</table>\n",
       "</div>"
      ],
      "text/plain": [
       "        Id  MSSubClass MSZoning  LotFrontage    LotArea Street Alley  \\\n",
       "1298  1299           5       RL     9.125735  28.386046   Pave  None   \n",
       "523    524           5       RL     7.184917  26.020123   Pave  None   \n",
       "\n",
       "      LotShape LandContour LotConfig LandSlope Neighborhood Condition1  \\\n",
       "1298  1.540963         Bnk    Corner       Gtl      Edwards      Feedr   \n",
       "523   0.730463         Bnk    Inside       Gtl      Edwards       PosN   \n",
       "\n",
       "     Condition2 BldgType HouseStyle  OverallQual  OverallCond  YearBuilt  \\\n",
       "1298       Norm     1Fam     2Story           10            4       2008   \n",
       "523        PosN     1Fam     2Story           10            4       2007   \n",
       "\n",
       "      YearRemodAdd RoofStyle RoofMatl Exterior1st Exterior2nd MasVnrType  \\\n",
       "1298          2008       Hip  ClyTile      Stucco      Stucco      Stone   \n",
       "523           2008       Hip  CompShg     CemntBd     CmentBd      Stone   \n",
       "\n",
       "      MasVnrArea  ExterQual ExterCond Foundation  BsmtQual  BsmtCond  \\\n",
       "1298   11.493820   1.820334        TA      PConc  2.055642  1.540963   \n",
       "523    11.375447   1.820334        TA      PConc  2.055642  1.540963   \n",
       "\n",
       "      BsmtExposure  BsmtFinType1  BsmtFinSF1  BsmtFinType2  BsmtFinSF2  \\\n",
       "1298      1.820334           6.0    17.69227      0.730463         0.0   \n",
       "523       1.820334           6.0    14.56841      0.730463         0.0   \n",
       "\n",
       "      BsmtUnfSF  TotalBsmtSF Heating  HeatingQC CentralAir Electrical  \\\n",
       "1298  10.094578    17.983825    GasA        4.0          Y      SBrkr   \n",
       "523   11.762558    15.639628    GasA        4.0          Y      SBrkr   \n",
       "\n",
       "       1stFlrSF   2ndFlrSF  LowQualFinSF  GrLivArea  BsmtFullBath  \\\n",
       "1298  17.026675  11.981486           0.0  17.690976             2   \n",
       "523   15.639628  13.377801           0.0  17.014541             1   \n",
       "\n",
       "      BsmtHalfBath  FullBath  HalfBath  BedroomAbvGr  KitchenAbvGr  \\\n",
       "1298           0.0         2         1             3      0.730463   \n",
       "523            0.0         3         1             3      0.730463   \n",
       "\n",
       "      KitchenQual  TotRmsAbvGrd  Functional  Fireplaces  FireplaceQu  \\\n",
       "1298          4.0            12    2.440268           3          4.0   \n",
       "523           4.0            11    2.440268           1          4.0   \n",
       "\n",
       "     GarageType  GarageYrBlt  GarageFinish  GarageCars  GarageArea  \\\n",
       "1298     Attchd    14.195323           3.0           2        1418   \n",
       "523     BuiltIn    14.193765           3.0           3         884   \n",
       "\n",
       "      GarageQual  GarageCond PavedDrive  WoodDeckSF  OpenPorchSF  \\\n",
       "1298    1.540963    1.540963          Y    8.253529     8.962610   \n",
       "523     1.540963    1.540963          Y    8.190318     9.752379   \n",
       "\n",
       "      EnclosedPorch  3SsnPorch  ScreenPorch   PoolArea    PoolQC  Fence  \\\n",
       "1298            0.0        0.0          0.0  10.169007  1.540963    0.0   \n",
       "523             0.0        0.0          0.0   0.000000  0.000000    0.0   \n",
       "\n",
       "     MiscFeature  MiscVal  MoSold  YrSold SaleType SaleCondition  SalePrice  \n",
       "1298        None      0.0       0       2      New       Partial  11.982935  \n",
       "523         None      0.0       9       1      New       Partial  12.126764  "
      ]
     },
     "execution_count": 32,
     "metadata": {},
     "output_type": "execute_result"
    }
   ],
   "source": [
    "train.sort_values(by='GrLivArea', ascending=False)[:2]"
   ]
  },
  {
   "cell_type": "markdown",
   "id": "ae0a263c",
   "metadata": {
    "papermill": {
     "duration": 0.031031,
     "end_time": "2022-08-17T19:09:44.843515",
     "exception": false,
     "start_time": "2022-08-17T19:09:44.812484",
     "status": "completed"
    },
    "tags": []
   },
   "source": [
    "### TotalBsmtSF"
   ]
  },
  {
   "cell_type": "code",
   "execution_count": 33,
   "id": "6f74d51a",
   "metadata": {
    "execution": {
     "iopub.execute_input": "2022-08-17T19:09:44.909297Z",
     "iopub.status.busy": "2022-08-17T19:09:44.908545Z",
     "iopub.status.idle": "2022-08-17T19:09:45.216928Z",
     "shell.execute_reply": "2022-08-17T19:09:45.215522Z"
    },
    "papermill": {
     "duration": 0.344974,
     "end_time": "2022-08-17T19:09:45.219890",
     "exception": false,
     "start_time": "2022-08-17T19:09:44.874916",
     "status": "completed"
    },
    "tags": []
   },
   "outputs": [
    {
     "data": {
      "text/plain": [
       "<AxesSubplot:xlabel='TotalBsmtSF', ylabel='SalePrice'>"
      ]
     },
     "execution_count": 33,
     "metadata": {},
     "output_type": "execute_result"
    },
    {
     "data": {
      "image/png": "[encoded data removed]",
      "text/plain": [
       "<Figure size 1080x432 with 1 Axes>"
      ]
     },
     "metadata": {},
     "output_type": "display_data"
    }
   ],
   "source": [
    "sns.scatterplot(data=train, x='TotalBsmtSF', y='SalePrice')"
   ]
  },
  {
   "cell_type": "code",
   "execution_count": 34,
   "id": "0b355e43",
   "metadata": {
    "execution": {
     "iopub.execute_input": "2022-08-17T19:09:45.293071Z",
     "iopub.status.busy": "2022-08-17T19:09:45.292342Z",
     "iopub.status.idle": "2022-08-17T19:09:45.345189Z",
     "shell.execute_reply": "2022-08-17T19:09:45.344309Z"
    },
    "papermill": {
     "duration": 0.09158,
     "end_time": "2022-08-17T19:09:45.347845",
     "exception": false,
     "start_time": "2022-08-17T19:09:45.256265",
     "status": "completed"
    },
    "tags": []
   },
   "outputs": [
    {
     "data": {
      "text/html": [
       "<div>\n",
       "<style scoped>\n",
       "    .dataframe tbody tr th:only-of-type {\n",
       "        vertical-align: middle;\n",
       "    }\n",
       "\n",
       "    .dataframe tbody tr th {\n",
       "        vertical-align: top;\n",
       "    }\n",
       "\n",
       "    .dataframe thead th {\n",
       "        text-align: right;\n",
       "    }\n",
       "</style>\n",
       "<table border=\"1\" class=\"dataframe\">\n",
       "  <thead>\n",
       "    <tr style=\"text-align: right;\">\n",
       "      <th></th>\n",
       "      <th>Id</th>\n",
       "      <th>MSSubClass</th>\n",
       "      <th>MSZoning</th>\n",
       "      <th>LotFrontage</th>\n",
       "      <th>LotArea</th>\n",
       "      <th>Street</th>\n",
       "      <th>Alley</th>\n",
       "      <th>LotShape</th>\n",
       "      <th>LandContour</th>\n",
       "      <th>LotConfig</th>\n",
       "      <th>LandSlope</th>\n",
       "      <th>Neighborhood</th>\n",
       "      <th>Condition1</th>\n",
       "      <th>Condition2</th>\n",
       "      <th>BldgType</th>\n",
       "      <th>HouseStyle</th>\n",
       "      <th>OverallQual</th>\n",
       "      <th>OverallCond</th>\n",
       "      <th>YearBuilt</th>\n",
       "      <th>YearRemodAdd</th>\n",
       "      <th>RoofStyle</th>\n",
       "      <th>RoofMatl</th>\n",
       "      <th>Exterior1st</th>\n",
       "      <th>Exterior2nd</th>\n",
       "      <th>MasVnrType</th>\n",
       "      <th>MasVnrArea</th>\n",
       "      <th>ExterQual</th>\n",
       "      <th>ExterCond</th>\n",
       "      <th>Foundation</th>\n",
       "      <th>BsmtQual</th>\n",
       "      <th>BsmtCond</th>\n",
       "      <th>BsmtExposure</th>\n",
       "      <th>BsmtFinType1</th>\n",
       "      <th>BsmtFinSF1</th>\n",
       "      <th>BsmtFinType2</th>\n",
       "      <th>BsmtFinSF2</th>\n",
       "      <th>BsmtUnfSF</th>\n",
       "      <th>TotalBsmtSF</th>\n",
       "      <th>Heating</th>\n",
       "      <th>HeatingQC</th>\n",
       "      <th>CentralAir</th>\n",
       "      <th>Electrical</th>\n",
       "      <th>1stFlrSF</th>\n",
       "      <th>2ndFlrSF</th>\n",
       "      <th>LowQualFinSF</th>\n",
       "      <th>GrLivArea</th>\n",
       "      <th>BsmtFullBath</th>\n",
       "      <th>BsmtHalfBath</th>\n",
       "      <th>FullBath</th>\n",
       "      <th>HalfBath</th>\n",
       "      <th>BedroomAbvGr</th>\n",
       "      <th>KitchenAbvGr</th>\n",
       "      <th>KitchenQual</th>\n",
       "      <th>TotRmsAbvGrd</th>\n",
       "      <th>Functional</th>\n",
       "      <th>Fireplaces</th>\n",
       "      <th>FireplaceQu</th>\n",
       "      <th>GarageType</th>\n",
       "      <th>GarageYrBlt</th>\n",
       "      <th>GarageFinish</th>\n",
       "      <th>GarageCars</th>\n",
       "      <th>GarageArea</th>\n",
       "      <th>GarageQual</th>\n",
       "      <th>GarageCond</th>\n",
       "      <th>PavedDrive</th>\n",
       "      <th>WoodDeckSF</th>\n",
       "      <th>OpenPorchSF</th>\n",
       "      <th>EnclosedPorch</th>\n",
       "      <th>3SsnPorch</th>\n",
       "      <th>ScreenPorch</th>\n",
       "      <th>PoolArea</th>\n",
       "      <th>PoolQC</th>\n",
       "      <th>Fence</th>\n",
       "      <th>MiscFeature</th>\n",
       "      <th>MiscVal</th>\n",
       "      <th>MoSold</th>\n",
       "      <th>YrSold</th>\n",
       "      <th>SaleType</th>\n",
       "      <th>SaleCondition</th>\n",
       "      <th>SalePrice</th>\n",
       "    </tr>\n",
       "  </thead>\n",
       "  <tbody>\n",
       "    <tr>\n",
       "      <th>1298</th>\n",
       "      <td>1299</td>\n",
       "      <td>5</td>\n",
       "      <td>RL</td>\n",
       "      <td>9.125735</td>\n",
       "      <td>28.386046</td>\n",
       "      <td>Pave</td>\n",
       "      <td>None</td>\n",
       "      <td>1.540963</td>\n",
       "      <td>Bnk</td>\n",
       "      <td>Corner</td>\n",
       "      <td>Gtl</td>\n",
       "      <td>Edwards</td>\n",
       "      <td>Feedr</td>\n",
       "      <td>Norm</td>\n",
       "      <td>1Fam</td>\n",
       "      <td>2Story</td>\n",
       "      <td>10</td>\n",
       "      <td>4</td>\n",
       "      <td>2008</td>\n",
       "      <td>2008</td>\n",
       "      <td>Hip</td>\n",
       "      <td>ClyTile</td>\n",
       "      <td>Stucco</td>\n",
       "      <td>Stucco</td>\n",
       "      <td>Stone</td>\n",
       "      <td>11.49382</td>\n",
       "      <td>1.820334</td>\n",
       "      <td>TA</td>\n",
       "      <td>PConc</td>\n",
       "      <td>2.055642</td>\n",
       "      <td>1.540963</td>\n",
       "      <td>1.820334</td>\n",
       "      <td>6.0</td>\n",
       "      <td>17.69227</td>\n",
       "      <td>0.730463</td>\n",
       "      <td>0.0</td>\n",
       "      <td>10.094578</td>\n",
       "      <td>17.983825</td>\n",
       "      <td>GasA</td>\n",
       "      <td>4.0</td>\n",
       "      <td>Y</td>\n",
       "      <td>SBrkr</td>\n",
       "      <td>17.026675</td>\n",
       "      <td>11.981486</td>\n",
       "      <td>0.0</td>\n",
       "      <td>17.690976</td>\n",
       "      <td>2</td>\n",
       "      <td>0.0</td>\n",
       "      <td>2</td>\n",
       "      <td>1</td>\n",
       "      <td>3</td>\n",
       "      <td>0.730463</td>\n",
       "      <td>4.0</td>\n",
       "      <td>12</td>\n",
       "      <td>2.440268</td>\n",
       "      <td>3</td>\n",
       "      <td>4.0</td>\n",
       "      <td>Attchd</td>\n",
       "      <td>14.195323</td>\n",
       "      <td>3.0</td>\n",
       "      <td>2</td>\n",
       "      <td>1418</td>\n",
       "      <td>1.540963</td>\n",
       "      <td>1.540963</td>\n",
       "      <td>Y</td>\n",
       "      <td>8.253529</td>\n",
       "      <td>8.96261</td>\n",
       "      <td>0.0</td>\n",
       "      <td>0.0</td>\n",
       "      <td>0.0</td>\n",
       "      <td>10.169007</td>\n",
       "      <td>1.540963</td>\n",
       "      <td>0.0</td>\n",
       "      <td>None</td>\n",
       "      <td>0.0</td>\n",
       "      <td>0</td>\n",
       "      <td>2</td>\n",
       "      <td>New</td>\n",
       "      <td>Partial</td>\n",
       "      <td>11.982935</td>\n",
       "    </tr>\n",
       "  </tbody>\n",
       "</table>\n",
       "</div>"
      ],
      "text/plain": [
       "        Id  MSSubClass MSZoning  LotFrontage    LotArea Street Alley  \\\n",
       "1298  1299           5       RL     9.125735  28.386046   Pave  None   \n",
       "\n",
       "      LotShape LandContour LotConfig LandSlope Neighborhood Condition1  \\\n",
       "1298  1.540963         Bnk    Corner       Gtl      Edwards      Feedr   \n",
       "\n",
       "     Condition2 BldgType HouseStyle  OverallQual  OverallCond  YearBuilt  \\\n",
       "1298       Norm     1Fam     2Story           10            4       2008   \n",
       "\n",
       "      YearRemodAdd RoofStyle RoofMatl Exterior1st Exterior2nd MasVnrType  \\\n",
       "1298          2008       Hip  ClyTile      Stucco      Stucco      Stone   \n",
       "\n",
       "      MasVnrArea  ExterQual ExterCond Foundation  BsmtQual  BsmtCond  \\\n",
       "1298    11.49382   1.820334        TA      PConc  2.055642  1.540963   \n",
       "\n",
       "      BsmtExposure  BsmtFinType1  BsmtFinSF1  BsmtFinType2  BsmtFinSF2  \\\n",
       "1298      1.820334           6.0    17.69227      0.730463         0.0   \n",
       "\n",
       "      BsmtUnfSF  TotalBsmtSF Heating  HeatingQC CentralAir Electrical  \\\n",
       "1298  10.094578    17.983825    GasA        4.0          Y      SBrkr   \n",
       "\n",
       "       1stFlrSF   2ndFlrSF  LowQualFinSF  GrLivArea  BsmtFullBath  \\\n",
       "1298  17.026675  11.981486           0.0  17.690976             2   \n",
       "\n",
       "      BsmtHalfBath  FullBath  HalfBath  BedroomAbvGr  KitchenAbvGr  \\\n",
       "1298           0.0         2         1             3      0.730463   \n",
       "\n",
       "      KitchenQual  TotRmsAbvGrd  Functional  Fireplaces  FireplaceQu  \\\n",
       "1298          4.0            12    2.440268           3          4.0   \n",
       "\n",
       "     GarageType  GarageYrBlt  GarageFinish  GarageCars  GarageArea  \\\n",
       "1298     Attchd    14.195323           3.0           2        1418   \n",
       "\n",
       "      GarageQual  GarageCond PavedDrive  WoodDeckSF  OpenPorchSF  \\\n",
       "1298    1.540963    1.540963          Y    8.253529      8.96261   \n",
       "\n",
       "      EnclosedPorch  3SsnPorch  ScreenPorch   PoolArea    PoolQC  Fence  \\\n",
       "1298            0.0        0.0          0.0  10.169007  1.540963    0.0   \n",
       "\n",
       "     MiscFeature  MiscVal  MoSold  YrSold SaleType SaleCondition  SalePrice  \n",
       "1298        None      0.0       0       2      New       Partial  11.982935  "
      ]
     },
     "execution_count": 34,
     "metadata": {},
     "output_type": "execute_result"
    }
   ],
   "source": [
    "train.sort_values(by='TotalBsmtSF', ascending=False)[:1]"
   ]
  },
  {
   "cell_type": "code",
   "execution_count": 35,
   "id": "ab46314a",
   "metadata": {
    "execution": {
     "iopub.execute_input": "2022-08-17T19:09:45.415103Z",
     "iopub.status.busy": "2022-08-17T19:09:45.413743Z",
     "iopub.status.idle": "2022-08-17T19:09:45.427160Z",
     "shell.execute_reply": "2022-08-17T19:09:45.426126Z"
    },
    "papermill": {
     "duration": 0.050413,
     "end_time": "2022-08-17T19:09:45.430059",
     "exception": false,
     "start_time": "2022-08-17T19:09:45.379646",
     "status": "completed"
    },
    "tags": []
   },
   "outputs": [],
   "source": [
    "train.drop(index=train.sort_values(by='GrLivArea', ascending=False)[:2].index.values, inplace=True)"
   ]
  },
  {
   "cell_type": "code",
   "execution_count": 36,
   "id": "e80f95ca",
   "metadata": {
    "execution": {
     "iopub.execute_input": "2022-08-17T19:09:45.497017Z",
     "iopub.status.busy": "2022-08-17T19:09:45.496601Z",
     "iopub.status.idle": "2022-08-17T19:09:45.503484Z",
     "shell.execute_reply": "2022-08-17T19:09:45.502101Z"
    },
    "papermill": {
     "duration": 0.04406,
     "end_time": "2022-08-17T19:09:45.506075",
     "exception": false,
     "start_time": "2022-08-17T19:09:45.462015",
     "status": "completed"
    },
    "tags": []
   },
   "outputs": [
    {
     "name": "stdout",
     "output_type": "stream",
     "text": [
      "(1458, 80)\n",
      "(1459, 79)\n"
     ]
    }
   ],
   "source": [
    "print(train.shape)\n",
    "print(test.shape)"
   ]
  },
  {
   "cell_type": "code",
   "execution_count": 37,
   "id": "89ebbeda",
   "metadata": {
    "execution": {
     "iopub.execute_input": "2022-08-17T19:09:45.575143Z",
     "iopub.status.busy": "2022-08-17T19:09:45.574174Z",
     "iopub.status.idle": "2022-08-17T19:09:45.642638Z",
     "shell.execute_reply": "2022-08-17T19:09:45.641324Z"
    },
    "papermill": {
     "duration": 0.106926,
     "end_time": "2022-08-17T19:09:45.646478",
     "exception": false,
     "start_time": "2022-08-17T19:09:45.539552",
     "status": "completed"
    },
    "tags": []
   },
   "outputs": [
    {
     "name": "stdout",
     "output_type": "stream",
     "text": [
      "(1458, 232)\n",
      "(1459, 232)\n"
     ]
    }
   ],
   "source": [
    "ntrain = train.shape[0]\n",
    "\n",
    "y_train = train.loc[:, 'SalePrice']\n",
    "train.drop('SalePrice', axis=1, inplace=True)\n",
    "full_data = pd.concat((train, test))\n",
    "full_data = pd.get_dummies(full_data)\n",
    "train = full_data[:ntrain]\n",
    "test = full_data[ntrain:]\n",
    "\n",
    "print(train.shape)\n",
    "print(test.shape)"
   ]
  },
  {
   "cell_type": "code",
   "execution_count": 38,
   "id": "615b9a10",
   "metadata": {
    "execution": {
     "iopub.execute_input": "2022-08-17T19:09:45.716362Z",
     "iopub.status.busy": "2022-08-17T19:09:45.715429Z",
     "iopub.status.idle": "2022-08-17T19:09:45.725109Z",
     "shell.execute_reply": "2022-08-17T19:09:45.724115Z"
    },
    "papermill": {
     "duration": 0.046976,
     "end_time": "2022-08-17T19:09:45.727974",
     "exception": false,
     "start_time": "2022-08-17T19:09:45.680998",
     "status": "completed"
    },
    "tags": []
   },
   "outputs": [],
   "source": [
    "def explore_normality(feature):\n",
    "    mu = train[feature].mean()\n",
    "    sigma = train[feature].std()\n",
    "    x = np.linspace(mu - 4*sigma, mu + 4*sigma, 1000)\n",
    "    y = norm.pdf(x, mu, sigma)\n",
    "    norm_dist = pd.DataFrame({'x': x, 'y': y})\n",
    "\n",
    "    fig, axes = plt.subplots(1, 2)\n",
    "    sns.kdeplot(train[feature], ax=axes[0], label='Real dist')\n",
    "    sns.lineplot(data=norm_dist, x='x', y='y', ax=axes[0], label='Normal dist')\n",
    "    axes[0].legend()\n",
    "    _=stats.probplot(train[feature], plot=plt)"
   ]
  },
  {
   "cell_type": "markdown",
   "id": "7bb8611f",
   "metadata": {
    "papermill": {
     "duration": 0.03338,
     "end_time": "2022-08-17T19:09:45.796879",
     "exception": false,
     "start_time": "2022-08-17T19:09:45.763499",
     "status": "completed"
    },
    "tags": []
   },
   "source": [
    "# Modeling"
   ]
  },
  {
   "cell_type": "code",
   "execution_count": 39,
   "id": "15bcf2e5",
   "metadata": {
    "execution": {
     "iopub.execute_input": "2022-08-17T19:09:45.864539Z",
     "iopub.status.busy": "2022-08-17T19:09:45.863608Z",
     "iopub.status.idle": "2022-08-17T19:09:45.876901Z",
     "shell.execute_reply": "2022-08-17T19:09:45.875544Z"
    },
    "papermill": {
     "duration": 0.05098,
     "end_time": "2022-08-17T19:09:45.879908",
     "exception": false,
     "start_time": "2022-08-17T19:09:45.828928",
     "status": "completed"
    },
    "tags": []
   },
   "outputs": [],
   "source": [
    "X_train = train.drop(\"Id\", axis=1)\n",
    "X_test = test.drop(\"Id\", axis=1)"
   ]
  },
  {
   "cell_type": "code",
   "execution_count": 40,
   "id": "7cfedf54",
   "metadata": {
    "execution": {
     "iopub.execute_input": "2022-08-17T19:09:45.947498Z",
     "iopub.status.busy": "2022-08-17T19:09:45.946584Z",
     "iopub.status.idle": "2022-08-17T19:09:45.952337Z",
     "shell.execute_reply": "2022-08-17T19:09:45.951312Z"
    },
    "papermill": {
     "duration": 0.042639,
     "end_time": "2022-08-17T19:09:45.954993",
     "exception": false,
     "start_time": "2022-08-17T19:09:45.912354",
     "status": "completed"
    },
    "tags": []
   },
   "outputs": [],
   "source": [
    "GRID_SEARCH = False"
   ]
  },
  {
   "cell_type": "markdown",
   "id": "eea76fe2",
   "metadata": {
    "papermill": {
     "duration": 0.032964,
     "end_time": "2022-08-17T19:09:46.022747",
     "exception": false,
     "start_time": "2022-08-17T19:09:45.989783",
     "status": "completed"
    },
    "tags": []
   },
   "source": [
    "## Lasso Regression"
   ]
  },
  {
   "cell_type": "code",
   "execution_count": 41,
   "id": "c04a5ea2",
   "metadata": {
    "execution": {
     "iopub.execute_input": "2022-08-17T19:09:46.088497Z",
     "iopub.status.busy": "2022-08-17T19:09:46.088036Z",
     "iopub.status.idle": "2022-08-17T19:09:46.095672Z",
     "shell.execute_reply": "2022-08-17T19:09:46.094292Z"
    },
    "papermill": {
     "duration": 0.043711,
     "end_time": "2022-08-17T19:09:46.098342",
     "exception": false,
     "start_time": "2022-08-17T19:09:46.054631",
     "status": "completed"
    },
    "tags": []
   },
   "outputs": [],
   "source": [
    "if GRID_SEARCH:\n",
    "\n",
    "    lasso = make_pipeline(RobustScaler(), Lasso())\n",
    "\n",
    "    param_grid = {\n",
    "        'lasso__alpha': [0.0005, 0.005, 0.05, 0.5, 1],\n",
    "        'lasso__fit_intercept': [True, False]\n",
    "    }\n",
    "\n",
    "    gs = GridSearchCV(estimator=lasso, param_grid=param_grid, scoring='neg_root_mean_squared_error',\n",
    "                      n_jobs=-1, cv=5, refit=True)\n",
    "    gs.fit(X_train, y_train)\n",
    "    print(gs.best_params_)\n",
    "    print(-gs.best_score_)"
   ]
  },
  {
   "cell_type": "code",
   "execution_count": 42,
   "id": "ace0d655",
   "metadata": {
    "execution": {
     "iopub.execute_input": "2022-08-17T19:09:46.167609Z",
     "iopub.status.busy": "2022-08-17T19:09:46.166744Z",
     "iopub.status.idle": "2022-08-17T19:09:46.173649Z",
     "shell.execute_reply": "2022-08-17T19:09:46.172486Z"
    },
    "papermill": {
     "duration": 0.046082,
     "end_time": "2022-08-17T19:09:46.176688",
     "exception": false,
     "start_time": "2022-08-17T19:09:46.130606",
     "status": "completed"
    },
    "tags": []
   },
   "outputs": [],
   "source": [
    "lasso = make_pipeline(RobustScaler(), Lasso(alpha=0.005))"
   ]
  },
  {
   "cell_type": "markdown",
   "id": "995f0510",
   "metadata": {
    "papermill": {
     "duration": 0.032168,
     "end_time": "2022-08-17T19:09:46.242441",
     "exception": false,
     "start_time": "2022-08-17T19:09:46.210273",
     "status": "completed"
    },
    "tags": []
   },
   "source": [
    "## Elastic Net Regression"
   ]
  },
  {
   "cell_type": "code",
   "execution_count": 43,
   "id": "d1186fec",
   "metadata": {
    "execution": {
     "iopub.execute_input": "2022-08-17T19:09:46.340711Z",
     "iopub.status.busy": "2022-08-17T19:09:46.340277Z",
     "iopub.status.idle": "2022-08-17T19:09:46.348440Z",
     "shell.execute_reply": "2022-08-17T19:09:46.347221Z"
    },
    "papermill": {
     "duration": 0.077658,
     "end_time": "2022-08-17T19:09:46.351315",
     "exception": false,
     "start_time": "2022-08-17T19:09:46.273657",
     "status": "completed"
    },
    "tags": []
   },
   "outputs": [],
   "source": [
    "if GRID_SEARCH:\n",
    "    enet = make_pipeline(RobustScaler(), ElasticNet())\n",
    "\n",
    "    param_grid = {\n",
    "        'elasticnet__alpha': [0.0005, 0.005, 0.05, 0.5, 1],\n",
    "        'elasticnet__fit_intercept': [True, False],\n",
    "        'elasticnet__l1_ratio': np.arange(0.1, 1.1, 0.1)\n",
    "    }\n",
    "\n",
    "    gs = GridSearchCV(estimator=enet, param_grid=param_grid, scoring='neg_root_mean_squared_error',\n",
    "                      n_jobs=-1, cv=5, refit=True)\n",
    "    gs.fit(X_train, y_train)\n",
    "    print(gs.best_params_)\n",
    "    print(-gs.best_score_)"
   ]
  },
  {
   "cell_type": "code",
   "execution_count": 44,
   "id": "2c8ea689",
   "metadata": {
    "execution": {
     "iopub.execute_input": "2022-08-17T19:09:46.415168Z",
     "iopub.status.busy": "2022-08-17T19:09:46.414406Z",
     "iopub.status.idle": "2022-08-17T19:09:46.419969Z",
     "shell.execute_reply": "2022-08-17T19:09:46.419155Z"
    },
    "papermill": {
     "duration": 0.040369,
     "end_time": "2022-08-17T19:09:46.422216",
     "exception": false,
     "start_time": "2022-08-17T19:09:46.381847",
     "status": "completed"
    },
    "tags": []
   },
   "outputs": [],
   "source": [
    "enet = make_pipeline(RobustScaler(), ElasticNet(alpha=0.005, l1_ratio=0.5))"
   ]
  },
  {
   "cell_type": "markdown",
   "id": "b7a9c3f0",
   "metadata": {
    "papermill": {
     "duration": 0.031754,
     "end_time": "2022-08-17T19:09:46.484597",
     "exception": false,
     "start_time": "2022-08-17T19:09:46.452843",
     "status": "completed"
    },
    "tags": []
   },
   "source": [
    "## Kernel Ridge Regression"
   ]
  },
  {
   "cell_type": "code",
   "execution_count": 45,
   "id": "162066fe",
   "metadata": {
    "execution": {
     "iopub.execute_input": "2022-08-17T19:09:46.550139Z",
     "iopub.status.busy": "2022-08-17T19:09:46.549367Z",
     "iopub.status.idle": "2022-08-17T19:09:46.556630Z",
     "shell.execute_reply": "2022-08-17T19:09:46.555701Z"
    },
    "papermill": {
     "duration": 0.043153,
     "end_time": "2022-08-17T19:09:46.559143",
     "exception": false,
     "start_time": "2022-08-17T19:09:46.515990",
     "status": "completed"
    },
    "tags": []
   },
   "outputs": [],
   "source": [
    "if GRID_SEARCH:\n",
    "    ridge = KernelRidge()\n",
    "\n",
    "    param_grid = {\n",
    "        'alpha': np.arange(0.1, 1.1, 0.1),\n",
    "        'kernel': ['polynomial'],\n",
    "        'coef0': np.arange(0.5, 5.5, 0.5),\n",
    "        'degree': [2, 3]\n",
    "        \n",
    "    }\n",
    "\n",
    "    gs = GridSearchCV(estimator=ridge, param_grid=param_grid, scoring='neg_root_mean_squared_error',\n",
    "                      n_jobs=-1, cv=5, refit=True)\n",
    "    gs.fit(X_train, y_train)\n",
    "    print(gs.best_params_)\n",
    "    print(-gs.best_score_)"
   ]
  },
  {
   "cell_type": "code",
   "execution_count": 46,
   "id": "6db81f67",
   "metadata": {
    "execution": {
     "iopub.execute_input": "2022-08-17T19:09:46.622988Z",
     "iopub.status.busy": "2022-08-17T19:09:46.622505Z",
     "iopub.status.idle": "2022-08-17T19:09:46.628421Z",
     "shell.execute_reply": "2022-08-17T19:09:46.627459Z"
    },
    "papermill": {
     "duration": 0.040364,
     "end_time": "2022-08-17T19:09:46.630687",
     "exception": false,
     "start_time": "2022-08-17T19:09:46.590323",
     "status": "completed"
    },
    "tags": []
   },
   "outputs": [],
   "source": [
    "KRR = KernelRidge(alpha=0.9, coef0=3.0, degree=2, kernel='polynomial')"
   ]
  },
  {
   "cell_type": "markdown",
   "id": "3b502312",
   "metadata": {
    "papermill": {
     "duration": 0.030179,
     "end_time": "2022-08-17T19:09:46.692045",
     "exception": false,
     "start_time": "2022-08-17T19:09:46.661866",
     "status": "completed"
    },
    "tags": []
   },
   "source": [
    "## Gradient Boosting Regression"
   ]
  },
  {
   "cell_type": "code",
   "execution_count": 47,
   "id": "88623e02",
   "metadata": {
    "execution": {
     "iopub.execute_input": "2022-08-17T19:09:46.756213Z",
     "iopub.status.busy": "2022-08-17T19:09:46.755035Z",
     "iopub.status.idle": "2022-08-17T19:09:46.763136Z",
     "shell.execute_reply": "2022-08-17T19:09:46.762262Z"
    },
    "papermill": {
     "duration": 0.043064,
     "end_time": "2022-08-17T19:09:46.765496",
     "exception": false,
     "start_time": "2022-08-17T19:09:46.722432",
     "status": "completed"
    },
    "tags": []
   },
   "outputs": [],
   "source": [
    "if GRID_SEARCH:\n",
    "    gboost = GradientBoostingRegressor()\n",
    "\n",
    "    param_grid = {\n",
    "        'n_estimators': np.arange(1000, 6000, 1000),\n",
    "        'learning_rate': [0.0005, 0.005, 0.05, 0.5],\n",
    "        'max_depth': [3, 4, 5, 6, 7],\n",
    "        'max_features': ['sqrt', 'log2'],\n",
    "        'min_samples_leaf': [5, 10, 15, 20],\n",
    "        'min_samples_leaf': [5, 10, 15, 20],\n",
    "        'loss': ['squared_error', 'absolute_error', 'huber', 'quantile']\n",
    "        \n",
    "    }\n",
    "\n",
    "    gs = RandomizedSearchCV(estimator=gboost, param_distributions=param_grid, scoring='neg_root_mean_squared_error',\n",
    "                            n_jobs=-1, cv=5, refit=True, n_iter=50)\n",
    "    gs.fit(X_train, y_train)\n",
    "    print(gs.best_params_)\n",
    "    print(-gs.best_score_)"
   ]
  },
  {
   "cell_type": "code",
   "execution_count": 48,
   "id": "96cf7bbd",
   "metadata": {
    "execution": {
     "iopub.execute_input": "2022-08-17T19:09:46.829213Z",
     "iopub.status.busy": "2022-08-17T19:09:46.828361Z",
     "iopub.status.idle": "2022-08-17T19:09:46.834332Z",
     "shell.execute_reply": "2022-08-17T19:09:46.832727Z"
    },
    "papermill": {
     "duration": 0.04075,
     "end_time": "2022-08-17T19:09:46.836768",
     "exception": false,
     "start_time": "2022-08-17T19:09:46.796018",
     "status": "completed"
    },
    "tags": []
   },
   "outputs": [],
   "source": [
    "gboost = GradientBoostingRegressor(n_estimators=5000, min_samples_leaf=5, max_features='sqrt',\n",
    "                                   max_depth=3, loss='huber', learning_rate=0.005)"
   ]
  },
  {
   "cell_type": "markdown",
   "id": "4327bd8b",
   "metadata": {
    "papermill": {
     "duration": 0.030364,
     "end_time": "2022-08-17T19:09:46.898743",
     "exception": false,
     "start_time": "2022-08-17T19:09:46.868379",
     "status": "completed"
    },
    "tags": []
   },
   "source": [
    "## XGBoost"
   ]
  },
  {
   "cell_type": "code",
   "execution_count": 49,
   "id": "38ab0538",
   "metadata": {
    "execution": {
     "iopub.execute_input": "2022-08-17T19:09:46.963556Z",
     "iopub.status.busy": "2022-08-17T19:09:46.962691Z",
     "iopub.status.idle": "2022-08-17T19:09:46.971719Z",
     "shell.execute_reply": "2022-08-17T19:09:46.970626Z"
    },
    "papermill": {
     "duration": 0.04483,
     "end_time": "2022-08-17T19:09:46.974197",
     "exception": false,
     "start_time": "2022-08-17T19:09:46.929367",
     "status": "completed"
    },
    "scrolled": true,
    "tags": []
   },
   "outputs": [],
   "source": [
    "\n",
    "if GRID_SEARCH:\n",
    "    xgboost = xgb.XGBRegressor(verbosity=3)\n",
    "\n",
    "    param_grid = {\n",
    "        'n_estimators': np.arange(1000, 4000, 1000),\n",
    "        'learning_rate': [0.0005, 0.005, 0.05, 0.5],\n",
    "        'max_depth': [3, 4, 5],\n",
    "        'n_jobs': [-1],\n",
    "        'gamma': [0.005, 0.05],\n",
    "        'min_child_weight': [1.5, 2, 2.5],\n",
    "        'subsample': np.arange(0.5, 0.7, 0.1),\n",
    "        'reg_alpha': np.arange(0.1, 1, 0.1),\n",
    "        'reg_lambda': np.arange(0.1, 1, 0.1)\n",
    "        \n",
    "    }\n",
    "\n",
    "    gs = RandomizedSearchCV(estimator=xgboost, param_distributions=param_grid, scoring='neg_root_mean_squared_error',\n",
    "                            n_jobs=-1, cv=5, refit=True, n_iter=10, verbose=10)\n",
    "    gs.fit(X_train, y_train)\n",
    "    print(gs.best_params_)\n",
    "    print(-gs.best_score_)"
   ]
  },
  {
   "cell_type": "code",
   "execution_count": 50,
   "id": "9d154aa9",
   "metadata": {
    "execution": {
     "iopub.execute_input": "2022-08-17T19:09:47.039365Z",
     "iopub.status.busy": "2022-08-17T19:09:47.038482Z",
     "iopub.status.idle": "2022-08-17T19:09:47.044828Z",
     "shell.execute_reply": "2022-08-17T19:09:47.043797Z"
    },
    "papermill": {
     "duration": 0.041244,
     "end_time": "2022-08-17T19:09:47.047267",
     "exception": false,
     "start_time": "2022-08-17T19:09:47.006023",
     "status": "completed"
    },
    "tags": []
   },
   "outputs": [],
   "source": [
    "model_xgb = xgb.XGBRegressor(colsample_bytree=0.4603, gamma=0.0468, \n",
    "                             learning_rate=0.05, max_depth=3, \n",
    "                             min_child_weight=1.7817, n_estimators=2200,\n",
    "                             reg_alpha=0.4640, reg_lambda=0.8571,\n",
    "                             subsample=0.5213,\n",
    "                             random_state =7, n_jobs = -1)"
   ]
  },
  {
   "cell_type": "markdown",
   "id": "fee744eb",
   "metadata": {
    "papermill": {
     "duration": 0.030086,
     "end_time": "2022-08-17T19:09:47.107893",
     "exception": false,
     "start_time": "2022-08-17T19:09:47.077807",
     "status": "completed"
    },
    "tags": []
   },
   "source": [
    "## LightGBM "
   ]
  },
  {
   "cell_type": "code",
   "execution_count": 51,
   "id": "80c13e12",
   "metadata": {
    "execution": {
     "iopub.execute_input": "2022-08-17T19:09:47.172844Z",
     "iopub.status.busy": "2022-08-17T19:09:47.171896Z",
     "iopub.status.idle": "2022-08-17T19:09:47.180336Z",
     "shell.execute_reply": "2022-08-17T19:09:47.179338Z"
    },
    "papermill": {
     "duration": 0.044175,
     "end_time": "2022-08-17T19:09:47.182734",
     "exception": false,
     "start_time": "2022-08-17T19:09:47.138559",
     "status": "completed"
    },
    "scrolled": true,
    "tags": []
   },
   "outputs": [],
   "source": [
    "if GRID_SEARCH:\n",
    "    xgboost = lgb.LGBMRegressor(n_jobs=-1, objective='Regression')\n",
    "\n",
    "    param_grid = {\n",
    "        'n_estimators': np.arange(500, 4500, 1000),\n",
    "        'learning_rate': [0.0005, 0.005, 0.05, 0.5],\n",
    "        'reg_alpha': np.arange(0.1, 1, 0.1),\n",
    "        'reg_lambda': np.arange(0.1, 1, 0.1),\n",
    "        'num_leaves': [5, 10, 20, 30],\n",
    "        'max_depth': [-1, 5, 10, 15]\n",
    "    }\n",
    "\n",
    "    gs = RandomizedSearchCV(estimator=xgboost, param_distributions=param_grid, scoring='neg_root_mean_squared_error',\n",
    "                            n_jobs=-1, cv=5, refit=True, n_iter=50, verbose=10)\n",
    "    gs.fit(X_train, y_train)\n",
    "    print(gs.best_params_)\n",
    "    print(-gs.best_score_)"
   ]
  },
  {
   "cell_type": "code",
   "execution_count": 52,
   "id": "d3c3f560",
   "metadata": {
    "execution": {
     "iopub.execute_input": "2022-08-17T19:09:47.246487Z",
     "iopub.status.busy": "2022-08-17T19:09:47.246003Z",
     "iopub.status.idle": "2022-08-17T19:09:47.251670Z",
     "shell.execute_reply": "2022-08-17T19:09:47.250474Z"
    },
    "papermill": {
     "duration": 0.040554,
     "end_time": "2022-08-17T19:09:47.253972",
     "exception": false,
     "start_time": "2022-08-17T19:09:47.213418",
     "status": "completed"
    },
    "tags": []
   },
   "outputs": [],
   "source": [
    "model_lgb = lgb.LGBMRegressor(objective='regression',num_leaves=5,\n",
    "                              learning_rate=0.05, n_estimators=720)"
   ]
  },
  {
   "cell_type": "markdown",
   "id": "df7bf8f3",
   "metadata": {
    "papermill": {
     "duration": 0.030196,
     "end_time": "2022-08-17T19:09:47.314989",
     "exception": false,
     "start_time": "2022-08-17T19:09:47.284793",
     "status": "completed"
    },
    "tags": []
   },
   "source": [
    "## Models perfomance"
   ]
  },
  {
   "cell_type": "code",
   "execution_count": 53,
   "id": "0be02f96",
   "metadata": {
    "execution": {
     "iopub.execute_input": "2022-08-17T19:09:47.379266Z",
     "iopub.status.busy": "2022-08-17T19:09:47.378388Z",
     "iopub.status.idle": "2022-08-17T19:09:47.383951Z",
     "shell.execute_reply": "2022-08-17T19:09:47.383037Z"
    },
    "papermill": {
     "duration": 0.040811,
     "end_time": "2022-08-17T19:09:47.386449",
     "exception": false,
     "start_time": "2022-08-17T19:09:47.345638",
     "status": "completed"
    },
    "tags": []
   },
   "outputs": [],
   "source": [
    "def save_submission(preds, name):\n",
    "    output = pd.DataFrame({\"Id\": test.Id, \"SalePrice\": preds})\n",
    "    output.to_csv('Submission_' + name + '.csv', index=False)"
   ]
  },
  {
   "cell_type": "code",
   "execution_count": 54,
   "id": "0ff29601",
   "metadata": {
    "execution": {
     "iopub.execute_input": "2022-08-17T19:09:47.451358Z",
     "iopub.status.busy": "2022-08-17T19:09:47.450283Z",
     "iopub.status.idle": "2022-08-17T19:09:47.456886Z",
     "shell.execute_reply": "2022-08-17T19:09:47.455922Z"
    },
    "papermill": {
     "duration": 0.042208,
     "end_time": "2022-08-17T19:09:47.459339",
     "exception": false,
     "start_time": "2022-08-17T19:09:47.417131",
     "status": "completed"
    },
    "tags": []
   },
   "outputs": [],
   "source": [
    "#Validation function\n",
    "NFOLDS = 5\n",
    "\n",
    "def cross_val(model):\n",
    "    kf = KFold(NFOLDS, shuffle=True, random_state=42).get_n_splits(train)\n",
    "    rmse = np.sqrt(-cross_val_score(model, X_train.values, y_train.values, scoring=\"neg_mean_squared_error\", cv=kf))\n",
    "    return rmse.mean(), rmse.std()"
   ]
  },
  {
   "cell_type": "code",
   "execution_count": 55,
   "id": "e7064743",
   "metadata": {
    "execution": {
     "iopub.execute_input": "2022-08-17T19:09:47.524555Z",
     "iopub.status.busy": "2022-08-17T19:09:47.523722Z",
     "iopub.status.idle": "2022-08-17T19:13:26.052834Z",
     "shell.execute_reply": "2022-08-17T19:13:26.051801Z"
    },
    "papermill": {
     "duration": 218.596158,
     "end_time": "2022-08-17T19:13:26.086591",
     "exception": false,
     "start_time": "2022-08-17T19:09:47.490433",
     "status": "completed"
    },
    "scrolled": true,
    "tags": []
   },
   "outputs": [
    {
     "data": {
      "text/html": [
       "<div>\n",
       "<style scoped>\n",
       "    .dataframe tbody tr th:only-of-type {\n",
       "        vertical-align: middle;\n",
       "    }\n",
       "\n",
       "    .dataframe tbody tr th {\n",
       "        vertical-align: top;\n",
       "    }\n",
       "\n",
       "    .dataframe thead th {\n",
       "        text-align: right;\n",
       "    }\n",
       "</style>\n",
       "<table border=\"1\" class=\"dataframe\">\n",
       "  <thead>\n",
       "    <tr style=\"text-align: right;\">\n",
       "      <th></th>\n",
       "      <th>Lasso</th>\n",
       "      <th>ElasticNet</th>\n",
       "      <th>KernelRidge</th>\n",
       "      <th>GB</th>\n",
       "      <th>XGB</th>\n",
       "      <th>LGBM</th>\n",
       "    </tr>\n",
       "  </thead>\n",
       "  <tbody>\n",
       "    <tr>\n",
       "      <th>RMSE mean</th>\n",
       "      <td>0.125443</td>\n",
       "      <td>0.121134</td>\n",
       "      <td>0.141853</td>\n",
       "      <td>0.110243</td>\n",
       "      <td>0.115969</td>\n",
       "      <td>0.118264</td>\n",
       "    </tr>\n",
       "    <tr>\n",
       "      <th>RMSE std</th>\n",
       "      <td>0.006568</td>\n",
       "      <td>0.006779</td>\n",
       "      <td>0.008083</td>\n",
       "      <td>0.006297</td>\n",
       "      <td>0.007335</td>\n",
       "      <td>0.005094</td>\n",
       "    </tr>\n",
       "  </tbody>\n",
       "</table>\n",
       "</div>"
      ],
      "text/plain": [
       "              Lasso  ElasticNet  KernelRidge        GB       XGB      LGBM\n",
       "RMSE mean  0.125443    0.121134     0.141853  0.110243  0.115969  0.118264\n",
       "RMSE std   0.006568    0.006779     0.008083  0.006297  0.007335  0.005094"
      ]
     },
     "execution_count": 55,
     "metadata": {},
     "output_type": "execute_result"
    }
   ],
   "source": [
    "model_names = ['Lasso', 'ElasticNet', 'KernelRidge', 'GB', 'XGB', 'LGBM']\n",
    "cv_results = pd.DataFrame(index=[\"RMSE mean\", \"RMSE std\"])\n",
    "\n",
    "for i, model in enumerate([lasso, enet, KRR, gboost, model_xgb, model_lgb]):\n",
    "    cv_results[model_names[i]] = cross_val(model)\n",
    "    preds = np.expm1(model.fit(X_train, y_train).predict(X_test))\n",
    "    save_submission(preds, model_names[i])\n",
    "cv_results"
   ]
  },
  {
   "cell_type": "markdown",
   "id": "471ce48e",
   "metadata": {
    "papermill": {
     "duration": 0.032647,
     "end_time": "2022-08-17T19:13:26.150589",
     "exception": false,
     "start_time": "2022-08-17T19:13:26.117942",
     "status": "completed"
    },
    "tags": []
   },
   "source": [
    "## VotingRegressor"
   ]
  },
  {
   "cell_type": "code",
   "execution_count": 56,
   "id": "5dcb575e",
   "metadata": {
    "execution": {
     "iopub.execute_input": "2022-08-17T19:13:26.215687Z",
     "iopub.status.busy": "2022-08-17T19:13:26.214968Z",
     "iopub.status.idle": "2022-08-17T19:17:01.733295Z",
     "shell.execute_reply": "2022-08-17T19:17:01.732183Z"
    },
    "papermill": {
     "duration": 215.554523,
     "end_time": "2022-08-17T19:17:01.736536",
     "exception": false,
     "start_time": "2022-08-17T19:13:26.182013",
     "status": "completed"
    },
    "scrolled": true,
    "tags": []
   },
   "outputs": [],
   "source": [
    "model_names = ['KernelRidge', 'GB', 'XGB', 'LGBM']\n",
    "models = [KRR, gboost, model_xgb, model_lgb]\n",
    "voting_format = [(name, model) for name, model in zip(model_names, models)]\n",
    "voting = VotingRegressor(voting_format)\n",
    "\n",
    "cv_results['Voting'] = cross_val(voting)\n",
    "\n",
    "preds = np.expm1(voting.fit(X_train, y_train).predict(X_test))\n",
    "save_submission(preds, 'Voting')"
   ]
  },
  {
   "cell_type": "markdown",
   "id": "d4b414d5",
   "metadata": {
    "papermill": {
     "duration": 0.032885,
     "end_time": "2022-08-17T19:17:01.804366",
     "exception": false,
     "start_time": "2022-08-17T19:17:01.771481",
     "status": "completed"
    },
    "tags": []
   },
   "source": [
    "## Stacking Regressor"
   ]
  },
  {
   "cell_type": "code",
   "execution_count": 57,
   "id": "bafd2e61",
   "metadata": {
    "execution": {
     "iopub.execute_input": "2022-08-17T19:17:01.970341Z",
     "iopub.status.busy": "2022-08-17T19:17:01.969387Z",
     "iopub.status.idle": "2022-08-17T19:20:21.416665Z",
     "shell.execute_reply": "2022-08-17T19:20:21.415384Z"
    },
    "papermill": {
     "duration": 199.614492,
     "end_time": "2022-08-17T19:20:21.451661",
     "exception": false,
     "start_time": "2022-08-17T19:17:01.837169",
     "status": "completed"
    },
    "scrolled": true,
    "tags": []
   },
   "outputs": [
    {
     "data": {
      "text/plain": [
       "StackingRegressor(cv=5,\n",
       "                  estimators=[('Lasso',\n",
       "                               Pipeline(steps=[('robustscaler', RobustScaler()),\n",
       "                                               ('lasso', Lasso(alpha=0.005))])),\n",
       "                              ('ElasticNet',\n",
       "                               Pipeline(steps=[('robustscaler', RobustScaler()),\n",
       "                                               ('elasticnet',\n",
       "                                                ElasticNet(alpha=0.005))])),\n",
       "                              ('GB',\n",
       "                               GradientBoostingRegressor(learning_rate=0.005,\n",
       "                                                         loss='huber',\n",
       "                                                         max_features='sqrt',\n",
       "                                                         min_samples_leaf=5,\n",
       "                                                         n_estimators=5000)...\n",
       "                                            max_cat_to_onehot=4,\n",
       "                                            max_delta_step=0, max_depth=3,\n",
       "                                            max_leaves=0,\n",
       "                                            min_child_weight=1.7817,\n",
       "                                            missing=nan,\n",
       "                                            monotone_constraints='()',\n",
       "                                            n_estimators=2200, n_jobs=-1,\n",
       "                                            num_parallel_tree=1,\n",
       "                                            predictor='auto', random_state=7,\n",
       "                                            reg_alpha=0.464, reg_lambda=0.8571, ...)),\n",
       "                              ('LGBM',\n",
       "                               LGBMRegressor(learning_rate=0.05,\n",
       "                                             n_estimators=720, num_leaves=5,\n",
       "                                             objective='regression'))],\n",
       "                  n_jobs=-1)"
      ]
     },
     "execution_count": 57,
     "metadata": {},
     "output_type": "execute_result"
    }
   ],
   "source": [
    "model_names = ['Lasso', 'ElasticNet', 'GB', 'XGB', 'LGBM']\n",
    "models = [lasso, enet, gboost, model_xgb, model_lgb]\n",
    "stacking_format = [(name, model) for name, model in zip(model_names, models)]\n",
    "\n",
    "stack = StackingRegressor(estimators=stacking_format, cv=5, n_jobs=-1)\n",
    "stack.fit(X_train, y_train)"
   ]
  },
  {
   "cell_type": "code",
   "execution_count": 58,
   "id": "fadd77c0",
   "metadata": {
    "execution": {
     "iopub.execute_input": "2022-08-17T19:20:21.522596Z",
     "iopub.status.busy": "2022-08-17T19:20:21.521756Z",
     "iopub.status.idle": "2022-08-17T19:36:46.462115Z",
     "shell.execute_reply": "2022-08-17T19:36:46.460387Z"
    },
    "papermill": {
     "duration": 985.012011,
     "end_time": "2022-08-17T19:36:46.497685",
     "exception": false,
     "start_time": "2022-08-17T19:20:21.485674",
     "status": "completed"
    },
    "tags": []
   },
   "outputs": [
    {
     "data": {
      "text/html": [
       "<div>\n",
       "<style scoped>\n",
       "    .dataframe tbody tr th:only-of-type {\n",
       "        vertical-align: middle;\n",
       "    }\n",
       "\n",
       "    .dataframe tbody tr th {\n",
       "        vertical-align: top;\n",
       "    }\n",
       "\n",
       "    .dataframe thead th {\n",
       "        text-align: right;\n",
       "    }\n",
       "</style>\n",
       "<table border=\"1\" class=\"dataframe\">\n",
       "  <thead>\n",
       "    <tr style=\"text-align: right;\">\n",
       "      <th></th>\n",
       "      <th>Lasso</th>\n",
       "      <th>ElasticNet</th>\n",
       "      <th>KernelRidge</th>\n",
       "      <th>GB</th>\n",
       "      <th>XGB</th>\n",
       "      <th>LGBM</th>\n",
       "      <th>Voting</th>\n",
       "      <th>Stacking</th>\n",
       "    </tr>\n",
       "  </thead>\n",
       "  <tbody>\n",
       "    <tr>\n",
       "      <th>RMSE mean</th>\n",
       "      <td>0.125443</td>\n",
       "      <td>0.121134</td>\n",
       "      <td>0.141853</td>\n",
       "      <td>0.110243</td>\n",
       "      <td>0.115969</td>\n",
       "      <td>0.118264</td>\n",
       "      <td>0.111189</td>\n",
       "      <td>0.108405</td>\n",
       "    </tr>\n",
       "    <tr>\n",
       "      <th>RMSE std</th>\n",
       "      <td>0.006568</td>\n",
       "      <td>0.006779</td>\n",
       "      <td>0.008083</td>\n",
       "      <td>0.006297</td>\n",
       "      <td>0.007335</td>\n",
       "      <td>0.005094</td>\n",
       "      <td>0.005804</td>\n",
       "      <td>0.005594</td>\n",
       "    </tr>\n",
       "  </tbody>\n",
       "</table>\n",
       "</div>"
      ],
      "text/plain": [
       "              Lasso  ElasticNet  KernelRidge        GB       XGB      LGBM  \\\n",
       "RMSE mean  0.125443    0.121134     0.141853  0.110243  0.115969  0.118264   \n",
       "RMSE std   0.006568    0.006779     0.008083  0.006297  0.007335  0.005094   \n",
       "\n",
       "             Voting  Stacking  \n",
       "RMSE mean  0.111189  0.108405  \n",
       "RMSE std   0.005804  0.005594  "
      ]
     },
     "execution_count": 58,
     "metadata": {},
     "output_type": "execute_result"
    }
   ],
   "source": [
    "cv_results['Stacking'] = cross_val(stack)\n",
    "preds = np.expm1(stack.predict(X_test))\n",
    "save_submission(preds, 'Stacking')\n",
    "\n",
    "cv_results"
   ]
  },
  {
   "cell_type": "markdown",
   "id": "3104b916",
   "metadata": {
    "papermill": {
     "duration": 0.032839,
     "end_time": "2022-08-17T19:36:46.562720",
     "exception": false,
     "start_time": "2022-08-17T19:36:46.529881",
     "status": "completed"
    },
    "tags": []
   },
   "source": [
    "## Voting Weights"
   ]
  },
  {
   "cell_type": "code",
   "execution_count": 59,
   "id": "0097366d",
   "metadata": {
    "execution": {
     "iopub.execute_input": "2022-08-17T19:36:46.631640Z",
     "iopub.status.busy": "2022-08-17T19:36:46.631121Z",
     "iopub.status.idle": "2022-08-17T20:00:34.185231Z",
     "shell.execute_reply": "2022-08-17T20:00:34.183646Z"
    },
    "papermill": {
     "duration": 1427.592562,
     "end_time": "2022-08-17T20:00:34.188633",
     "exception": false,
     "start_time": "2022-08-17T19:36:46.596071",
     "status": "completed"
    },
    "tags": []
   },
   "outputs": [],
   "source": [
    "model_names = ['Stacking', 'GB', 'XGB', 'LGBM']\n",
    "models = [stack, gboost, model_xgb, model_lgb]\n",
    "voting_format = [(name, model) for name, model in zip(model_names, models)]\n",
    "voting_w = VotingRegressor(voting_format, weights=[0.5, 0.3, 0.1, 0.1])\n",
    "\n",
    "cv_results['VotingWeights'] = cross_val(voting_w)\n",
    "\n",
    "preds = np.expm1(voting_w.fit(X_train, y_train).predict(X_test))\n",
    "save_submission(preds, 'VotingWeights')"
   ]
  },
  {
   "cell_type": "code",
   "execution_count": 60,
   "id": "489613c3",
   "metadata": {
    "execution": {
     "iopub.execute_input": "2022-08-17T20:00:34.261476Z",
     "iopub.status.busy": "2022-08-17T20:00:34.261008Z",
     "iopub.status.idle": "2022-08-17T20:00:34.277364Z",
     "shell.execute_reply": "2022-08-17T20:00:34.276344Z"
    },
    "papermill": {
     "duration": 0.054883,
     "end_time": "2022-08-17T20:00:34.279609",
     "exception": false,
     "start_time": "2022-08-17T20:00:34.224726",
     "status": "completed"
    },
    "tags": []
   },
   "outputs": [
    {
     "data": {
      "text/html": [
       "<div>\n",
       "<style scoped>\n",
       "    .dataframe tbody tr th:only-of-type {\n",
       "        vertical-align: middle;\n",
       "    }\n",
       "\n",
       "    .dataframe tbody tr th {\n",
       "        vertical-align: top;\n",
       "    }\n",
       "\n",
       "    .dataframe thead th {\n",
       "        text-align: right;\n",
       "    }\n",
       "</style>\n",
       "<table border=\"1\" class=\"dataframe\">\n",
       "  <thead>\n",
       "    <tr style=\"text-align: right;\">\n",
       "      <th></th>\n",
       "      <th>Lasso</th>\n",
       "      <th>ElasticNet</th>\n",
       "      <th>KernelRidge</th>\n",
       "      <th>GB</th>\n",
       "      <th>XGB</th>\n",
       "      <th>LGBM</th>\n",
       "      <th>Voting</th>\n",
       "      <th>Stacking</th>\n",
       "      <th>VotingWeights</th>\n",
       "    </tr>\n",
       "  </thead>\n",
       "  <tbody>\n",
       "    <tr>\n",
       "      <th>RMSE mean</th>\n",
       "      <td>0.125443</td>\n",
       "      <td>0.121134</td>\n",
       "      <td>0.141853</td>\n",
       "      <td>0.110243</td>\n",
       "      <td>0.115969</td>\n",
       "      <td>0.118264</td>\n",
       "      <td>0.111189</td>\n",
       "      <td>0.108405</td>\n",
       "      <td>0.108822</td>\n",
       "    </tr>\n",
       "    <tr>\n",
       "      <th>RMSE std</th>\n",
       "      <td>0.006568</td>\n",
       "      <td>0.006779</td>\n",
       "      <td>0.008083</td>\n",
       "      <td>0.006297</td>\n",
       "      <td>0.007335</td>\n",
       "      <td>0.005094</td>\n",
       "      <td>0.005804</td>\n",
       "      <td>0.005594</td>\n",
       "      <td>0.006368</td>\n",
       "    </tr>\n",
       "  </tbody>\n",
       "</table>\n",
       "</div>"
      ],
      "text/plain": [
       "              Lasso  ElasticNet  KernelRidge        GB       XGB      LGBM  \\\n",
       "RMSE mean  0.125443    0.121134     0.141853  0.110243  0.115969  0.118264   \n",
       "RMSE std   0.006568    0.006779     0.008083  0.006297  0.007335  0.005094   \n",
       "\n",
       "             Voting  Stacking  VotingWeights  \n",
       "RMSE mean  0.111189  0.108405       0.108822  \n",
       "RMSE std   0.005804  0.005594       0.006368  "
      ]
     },
     "execution_count": 60,
     "metadata": {},
     "output_type": "execute_result"
    }
   ],
   "source": [
    "cv_results"
   ]
  }
 ],
 "metadata": {
  "kernelspec": {
   "display_name": "Python 3",
   "language": "python",
   "name": "python3"
  },
  "language_info": {
   "codemirror_mode": {
    "name": "ipython",
    "version": 3
   },
   "file_extension": ".py",
   "mimetype": "text/x-python",
   "name": "python",
   "nbconvert_exporter": "python",
   "pygments_lexer": "ipython3",
   "version": "3.7.12"
  },
  "papermill": {
   "default_parameters": {},
   "duration": 3080.213241,
   "end_time": "2022-08-17T20:00:36.943349",
   "environment_variables": {},
   "exception": null,
   "input_path": "__notebook__.ipynb",
   "output_path": "__notebook__.ipynb",
   "parameters": {},
   "start_time": "2022-08-17T19:09:16.730108",
   "version": "2.3.4"
  }
 },
 "nbformat": 4,
 "nbformat_minor": 5
}
